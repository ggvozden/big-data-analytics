{
 "cells": [
  {
   "cell_type": "markdown",
   "metadata": {},
   "source": [
    "# Introduction to Retrieval Augmented Generation (RAG) with LangChain"
   ]
  },
  {
   "cell_type": "markdown",
   "metadata": {},
   "source": [
    "This Jupyter Notebook provides a practical guide to understanding and implementing Retrieval Augmented Generation (RAG) using LangChain. We'll explore the core functionalities of RAG, vector databases, and provide examples of retrieval in action.\n",
    "\n",
    "## Introduction to RAG in LangChain\n",
    "Retrieval Augmented Generation (RAG) is a technique that enhances the capabilities of language models by integrating external data during the generation process. It allows language models to access and utilize information that was not included in their training data, thus enabling more accurate and relevant responses, especially for domain-specific or up-to-date information. In RAG, external data is retrieved and then passed to the LLM during the generation step.\n",
    "\n",
    "LangChain provides a comprehensive suite of tools for building RAG applications, ranging from simple to complex. This documentation section covers everything related to the retrieval step, including data fetching and processing.\n",
    "\n",
    "![Illustrative Diagram: Data Connection Process](images/retrieve.png)\n",
    "*Illustrative diagram showing the data connection process with steps: Source, Load, Transform, Embed, Store, and Retrieve.*\n",
    "\n",
    "## Document Loaders\n",
    "\n",
    "Document loaders in LangChain facilitate loading documents from a variety of sources. LangChain integrates with over 100 different document loaders and major providers like AirByte and Unstructured. It supports loading all types of documents (HTML, PDF, code) from diverse locations (private S3 buckets, public websites).\n",
    "\n",
    "## Text Splitting\n",
    "\n",
    "A crucial aspect of retrieval is fetching only the relevant parts of documents. This requires several transformation steps to prepare the documents for retrieval. LangChain includes several algorithms for splitting large documents into smaller chunks and is optimized for specific document types (code, markdown, etc).\n",
    "\n",
    "## Text Embedding Models\n",
    "\n",
    "Creating embeddings for documents is another vital part of the retrieval process. Embeddings capture the semantic meaning of text, enabling efficient searching for similar text pieces. LangChain offers integrations with over 25 different embedding providers and methods, from open-source to proprietary APIs. It provides a standardized interface for easy swapping between models.\n",
    "\n",
    "## Vector Stores\n",
    "\n",
    "With the increasing importance of embeddings, there is a need for databases that efficiently store and search these embeddings. LangChain integrates with over 50 different vector stores, ranging from open-source local databases to cloud-hosted proprietary ones. This flexibility allows for the selection of a database best suited to specific needs.\n",
    "\n",
    "## Retrievers\n",
    "\n",
    "After storing data in a database, the next step is retrieval. LangChain supports various retrieval algorithms, adding significant value in this area. LangChain's retrieval methods range from basic semantic search to more advanced algorithms:\n",
    "\n",
    "- **Parent Document Retriever**: Creates multiple embeddings per parent document, enabling retrieval of smaller chunks while returning larger context.\n",
    "- **Self Query Retriever**: Parses user questions to separate semantic content from metadata filters, allowing more targeted retrieval.\n",
    "- **Ensemble Retriever**: Facilitates document retrieval from multiple sources or using different algorithms.\n",
    "\n",
    "## Indexing\n",
    "\n",
    "LangChain's Indexing API streamlines data syncing from any source into a vector store. It helps to avoid duplication, unnecessary rewriting, and recomputation of embeddings, saving time, reducing costs, and improving vector search results.\n"
   ]
  },
  {
   "cell_type": "markdown",
   "metadata": {},
   "source": [
    "## Import necessary libraries"
   ]
  },
  {
   "cell_type": "code",
   "execution_count": 9,
   "metadata": {},
   "outputs": [],
   "source": [
    "import os\n",
    "import json\n",
    "import pandas as pd\n",
    "import numpy as np\n",
    "import re\n",
    "import os\n",
    "\n",
    "from langchain.document_loaders import PyMuPDFLoader, PyPDFLoader, PDFMinerLoader\n",
    "from langchain.text_splitter import RecursiveCharacterTextSplitter\n",
    "from langchain.embeddings import HuggingFaceEmbeddings\n",
    "from langchain.prompts import PromptTemplate\n",
    "from langchain.embeddings.openai import OpenAIEmbeddings\n",
    "from langchain.embeddings import HuggingFaceEmbeddings\n",
    "from langchain_community.embeddings import HuggingFaceHubEmbeddings\n",
    "from langchain.llms import OpenAI\n",
    "from langchain.retrievers import ContextualCompressionRetriever\n",
    "from langchain.retrievers.document_compressors import LLMChainExtractor\n",
    "from langchain.chains import RetrievalQA\n",
    "from langchain.text_splitter import RecursiveCharacterTextSplitter"
   ]
  },
  {
   "cell_type": "markdown",
   "metadata": {},
   "source": [
    "# 1. Document Loaders\n",
    "\n",
    "Document loaders are essential components in LangChain, enabling the loading of data from various sources into a structured format known as `Document`. A `Document` typically consists of text and its associated metadata, facilitating the processing and analysis of data from diverse sources. This introduction will cover the functionality of document loaders and their role in data processing within LangChain.\n",
    "\n",
    "## What are Document Loaders?\n",
    "\n",
    "Document loaders in LangChain are designed to import data from a variety of sources and convert them into `Document` objects. These objects are structured to include the text content along with relevant metadata, making them ideal for further processing in NLP pipelines, such as Retrieval Augmented Generation (RAG) or other language model applications.\n",
    "\n",
    "### Types of Document Loaders\n",
    "\n",
    "LangChain supports a range of document loaders, each tailored to handle specific types of data sources:\n",
    "\n",
    "1. **Text File Loader**: For loading plain text data from `.txt` files. This loader is useful for processing documents, books, or any other textual data stored in text file format.\n",
    "\n",
    "2. **Web Page Loader**: This loader is capable of fetching and extracting text content from web pages. It's particularly useful for scraping and processing data from the internet.\n",
    "\n",
    "3. **YouTube Transcript Loader**: A specialized loader for extracting transcripts from YouTube videos. This allows for the processing of spoken content in video format, turning it into text for analysis.\n",
    "\n",
    "## Using Document Loaders\n",
    "\n",
    "Document loaders in LangChain provide a simple and efficient way to load data into memory. They typically offer the following functionalities:\n",
    "\n",
    "### Standard Load Method\n",
    "\n",
    "The standard `load` method is used to directly load data from the source into memory. This method is straightforward and suitable for scenarios where immediate access to all data is required.\n",
    "\n",
    "Example usage:\n",
    "\n",
    "```python\n",
    "from langchain_community.document_loaders import TextLoader\n",
    "\n",
    "# Load a text file\n",
    "text_loader = TextLoader('path/to/textfile.txt')\n",
    "documents = text_loader.load()\n"
   ]
  },
  {
   "cell_type": "markdown",
   "metadata": {},
   "source": [
    "## Text loader"
   ]
  },
  {
   "cell_type": "code",
   "execution_count": 10,
   "metadata": {},
   "outputs": [],
   "source": [
    "from langchain_community.document_loaders import TextLoader\n",
    "\n",
    "loader = TextLoader(\"data/algebra_news.txt\")\n",
    "document=loader.load()"
   ]
  },
  {
   "cell_type": "code",
   "execution_count": 11,
   "metadata": {},
   "outputs": [
    {
     "name": "stdout",
     "output_type": "stream",
     "text": [
      "Algebra became University for its 25th birthday\n",
      "\n",
      "On its 25th birthday, Algebra completed the accreditation process and became a University - Zagreb, December 21, 2023\n",
      "\n",
      "Algebra University started three additional professional study programs in the current academic year 2023-2024, with a record number of over 2,000 enrolled students. Three new university studies will start at the beginning of the next academic year.\n",
      "\n",
      "Algebra, having received a permit and a positive accreditation recommendation from the Agency for Science and Higher Education and a final positive opinion, has formally become the first private university in Croatia to focus on technical and digital studies.\n",
      "\n",
      "The University of Zagreb carried the mentoring program for Algebra University through its component Faculty of Electrical Engineering and Computing.\n",
      "\n",
      "Algebra University's mission is to develop a dynamic and innovative learning environment that empowers students and attendees to be leaders in the development and application of digital technologies in various fields. With the establishment of the Algebra University, the Rector, associate professor, Ph.D. Mislav Balković also became a full member of the Croatian Rector's Conference. At the University constituent sitting, along with Rector Balković, the new vice-rectors were also appointed.\n",
      "\n",
      "The new Economic Council and University Senate were also formed at the constituent sitting held on the new Algebra campus in Zagreb. The function of the new Economic Council will be to encourage high-quality cooperation between the University and the economy, adapting educational programs to the needs of the labour market and future jobs.\n",
      "\n",
      "Marijana Bačić, member of the Management Board and COO Business for HT business users, was elected president of the Economic Council. Members of the Economic Council are: HT, Ericsson Nikola Tesla, airt, APIS IT, 404 agency, Infobip, Atos, SPAN, NovaTV, RTL, HURA, Imago, Bruketa Žinić and Grey, Franck, Podravka, Jamnica, PBZ, Kofein agency, Marvin agency, Nanobit, Pine Studio, Good Game Global, AKD, Hrvatska pošta, Oraclum, Croatian Employers' Association, Večernji list, St. Catherine Specialty Hospital, but also colleagues from the Design study at the Faculty of Architecture and Computing study at the Faculty of Electrical Engineering and Computing, both as a part of the University of Zagreb.\n",
      "\n",
      "In addition to the new university studies, Algebra University plans to further develop its professional studies through membership in the European Association of Institutions in Higher Education - EURASHE.\n",
      "\n",
      "\n",
      "Gaming and esports experts at Algebra\n",
      "\n",
      "Gaming and esports industries have become an integral part of the culture of younger populations in recent years. Not long ago, playing video games was a hobby that gradually turned into a lucrative business and a successful career. The esports ecosystem includes not only professional esports players but also various stakeholders such as game development studios, video game publishers, and many other professions that may not seem directly related to the industry but are of immense importance.\n",
      "\n",
      "Various experts from the fields of marketing, IT industry, management, and many other professions take their place within esports, and their knowledge and multidisciplinary experiences are crucial for realizing the full potential of the industry. Some of them are coming Zagreb in early December to Algebra University as part of the Beyond Esports conference. They will share their stories and educate the public about the potential, importance, and role that esports plays in the development of modern society.\n",
      "\n",
      "Beyond Esports is the second conference organized by Good Game Global, a well-known Croatian agency that offers a wide range of services related to the organization of esports competitions, live stream production, digital marketing, and consulting activities related to the development of the industry. The main goals of the conference are to define, empower, bring closer, and educate visitors about the main values and potential of esports. Through interesting panels and one-day activities, the conference will host experts from some of the most influential global companies such as Blast, Meta, G2 Esports, Samsung, as well as domestic and regional giants like Sofascore, Superbet, Span, Outfit7, Happening, Croatian Telecom, Croatian Esports Federation, Croatian Olympic Committee, and GNK Dinamo. Through the perspective of each participant in this quite large and complex system, conference attendees will be able to firsthand learn about what an ordinary day looks like for a professional esports player, team, competition organizer, and how famous global and regional brands find their place and communicate their values through the esports filter.\n",
      "\n",
      "The conference will take place at the Algebra campus on December 8, 2023. Tickets are on sale and can be found on Entrio.hr, and more detailed information, as well as the schedule and a list of all speakers, can be found on the official website - Beyond Esports conference. Secure your tickets, peek behind the scenes of professional gaming and the esports industry, and enjoy the stories of well-known world esports experts!\"\n",
      "\n",
      "\n",
      "Algebra’s winners of the A1 Student eChallenge League\n",
      "\n",
      "The 11th edition of the most prestigious regional A1 Adria League has ended.\n",
      "\n",
      "Last weekend in the finals to remember, the winners of three games - FIFA23, CS: GO and Brawl Stars - were crowned.\n",
      "\n",
      "It was the most exciting finals so far of the Reboot Games Weekend powered by A1, and apart from the finalists of the well-known A1 Adria League, Algebra students also took their win at the Reboot Games Weekend powered by A1!\n",
      "\n",
      "Algebra e-Sport team, Neo Čikić, Matej Galić, Marin Bakmaz, Renato Petričević, and Fran Kukovičić with their coach Valentino Slavec won first place in the A1 Student eChallenge league: CS: GO, and Tin Škrgatić is the winner of the A1 Student eChallenge league: FIFA 23. Congratulations to our winners!\n",
      "\n",
      "The new format of the gaming competition, intended exclusively for students, was created in collaboration with A1 Croatia and the four most prominent technical faculties in Croatia - Algebra University College, the Faculty of Electrical Engineering and Computing, the Faculty of Science and Zagreb University of Applied Sciences with a total prize fund of 1530 euros.\n",
      "\n",
      "In addition to great fun, the idea of the competition was to encourage young people to develop their careers in the video game world.\n",
      "\n",
      "Algebra University College is also leading the path of joining the gaming industry with its first professional bachelor study programme in game development!\n",
      "\n"
     ]
    }
   ],
   "source": [
    "print(document[0].page_content)"
   ]
  },
  {
   "cell_type": "code",
   "execution_count": 12,
   "metadata": {},
   "outputs": [
    {
     "name": "stdout",
     "output_type": "stream",
     "text": [
      "--------------------------------------------------\n",
      "Algebra became University for its 25th birthday\n",
      "\n",
      "\n",
      "On its 25th birthday, Algebra completed the accreditation process and became a University - Zagreb, December 21, 2023\n",
      "\n",
      "\n",
      "Algebra University started three additional professional study programs in the current academic year 2023-2024, with a record number of over 2,000 enrolled students. Three new university studies will start at the beginning of the next academic year.\n",
      "\n",
      "\n",
      "Algebra, having received a permit and a positive accreditation recommendation from the Agency for Science and Higher Education and a final positive opinion, has formally become the first private university in Croatia to focus on technical and digital studies.\n",
      "\n",
      "\n",
      "The University of Zagreb carried the mentoring program for Algebra University through its component Faculty of Electrical Engineering and Computing.\n",
      "\n",
      "\n",
      "Algebra University's mission is to develop a dynamic and innovative learning environment that empowers students and attendees to be leaders in the development and application of digital technologies in various fields. With the establishment of the Algebra University, the Rector, associate professor, Ph.D. Mislav Balković also became a full member of the Croatian Rector's Conference. At the University constituent sitting, along with Rector Balković, the new vice-rectors were also appointed.\n",
      "\n",
      "\n",
      "The new Economic Council and University Senate were also formed at the constituent sitting held on the new Algebra campus in Zagreb. The function of the new Economic Council will be to encourage high-quality cooperation between the University and the economy, adapting educational programs to the needs of the labour market and future jobs.\n",
      "\n",
      "\n",
      "Marijana Bačić, member of the Management Board and COO Business for HT business users, was elected president of the Economic Council. Members of the Economic Council are: HT, Ericsson Nikola Tesla, airt, APIS IT, 404 agency, Infobip, Atos, SPAN, NovaTV, RTL, HURA, Imago, Bruketa Žinić and Grey, Franck, Podravka, Jamnica, PBZ, Kofein agency, Marvin agency, Nanobit, Pine Studio, Good Game Global, AKD, Hrvatska pošta, Oraclum, Croatian Employers' Association, Večernji list, St. Catherine Specialty Hospital, but also colleagues from the Design study at the Faculty of Architecture and Computing study at the Faculty of Electrical Engineering and Computing, both as a part of the University of Zagreb.\n",
      "\n",
      "\n",
      "In addition to the new university studies, Algebra University plans to further develop its professional studies through membership in the European Association of Institutions in Higher Education - EURASHE.\n",
      "\n",
      "\n",
      "\n",
      "Gaming and esports experts at Algebra\n",
      "\n",
      "\n",
      "Gaming and esports industries have become an integral part of the culture of younger populations in recent years. Not long ago, playing video games was a hobby that gradually turned into a lucrative business and a successful career. The esports ecosystem includes not only professional esports players but also various stakeholders such as game development studios, video game publishers, and many other professions that may not seem directly related to the industry but are of immense importance.\n",
      "\n",
      "\n",
      "Various experts from the fields of marketing, IT industry, management, and many other professions take their place within esports, and their knowledge and multidisciplinary experiences are crucial for realizing the full potential of the industry. Some of them are coming Zagreb in early December to Algebra University as part of the Beyond Esports conference. They will share their stories and educate the public about the potential, importance, and role that esports plays in the development of modern society.\n",
      "\n",
      "\n",
      "Beyond Esports is the second conference organized by Good Game Global, a well-known Croatian agency that offers a wide range of services related to the organization of esports competitions, live stream production, digital marketing, and consulting activities related to the development of the industry. The main goals of the conference are to define, empower, bring closer, and educate visitors about the main values and potential of esports. Through interesting panels and one-day activities, the conference will host experts from some of the most influential global companies such as Blast, Meta, G2 Esports, Samsung, as well as domestic and regional giants like Sofascore, Superbet, Span, Outfit7, Happening, Croatian Telecom, Croatian Esports Federation, Croatian Olympic Committee, and GNK Dinamo. Through the perspective of each participant in this quite large and complex system, conference attendees will be able to firsthand learn about what an ordinary day looks like for a professional esports player, team, competition organizer, and how famous global and regional brands find their place and communicate their values through the esports filter.\n",
      "\n",
      "\n",
      "The conference will take place at the Algebra campus on December 8, 2023. Tickets are on sale and can be found on Entrio.hr, and more detailed information, as well as the schedule and a list of all speakers, can be found on the official website - Beyond Esports conference. Secure your tickets, peek behind the scenes of professional gaming and the esports industry, and enjoy the stories of well-known world esports experts!\"\n",
      "\n",
      "\n",
      "\n",
      "Algebra’s winners of the A1 Student eChallenge League\n",
      "\n",
      "\n",
      "The 11th edition of the most prestigious regional A1 Adria League has ended.\n",
      "\n",
      "\n",
      "Last weekend in the finals to remember, the winners of three games - FIFA23, CS: GO and Brawl Stars - were crowned.\n",
      "\n",
      "\n",
      "It was the most exciting finals so far of the Reboot Games Weekend powered by A1, and apart from the finalists of the well-known A1 Adria League, Algebra students also took their win at the Reboot Games Weekend powered by A1!\n",
      "\n",
      "\n",
      "Algebra e-Sport team, Neo Čikić, Matej Galić, Marin Bakmaz, Renato Petričević, and Fran Kukovičić with their coach Valentino Slavec won first place in the A1 Student eChallenge league: CS: GO, and Tin Škrgatić is the winner of the A1 Student eChallenge league: FIFA 23. Congratulations to our winners!\n",
      "\n",
      "\n",
      "The new format of the gaming competition, intended exclusively for students, was created in collaboration with A1 Croatia and the four most prominent technical faculties in Croatia - Algebra University College, the Faculty of Electrical Engineering and Computing, the Faculty of Science and Zagreb University of Applied Sciences with a total prize fund of 1530 euros.\n",
      "\n",
      "\n",
      "In addition to great fun, the idea of the competition was to encourage young people to develop their careers in the video game world.\n",
      "\n",
      "\n",
      "Algebra University College is also leading the path of joining the gaming industry with its first professional bachelor study programme in game development!\n",
      "\n",
      "\n",
      "\n"
     ]
    }
   ],
   "source": [
    "# Custom function to format and print the content of each document\n",
    "def format_and_print_content(docs):\n",
    "    for doc in docs:\n",
    "        # Splitting the content into paragraphs\n",
    "        paragraphs = doc.page_content.split('\\n\\n')\n",
    "\n",
    "        # Printing each paragraph with a line space for readability\n",
    "        print(\"-\" * 50)  # Separator for each document\n",
    "        for paragraph in paragraphs:\n",
    "            print(paragraph)\n",
    "            print(\"\\n\")  # Adding a space after each paragraph\n",
    "\n",
    "# Format and print the content of the documents\n",
    "format_and_print_content(document)"
   ]
  },
  {
   "cell_type": "markdown",
   "metadata": {},
   "source": [
    "## CSV loader"
   ]
  },
  {
   "cell_type": "code",
   "execution_count": 13,
   "metadata": {},
   "outputs": [
    {
     "ename": "RuntimeError",
     "evalue": "Error loading data/mlb_teams_2012.csv",
     "output_type": "error",
     "traceback": [
      "\u001b[1;31m---------------------------------------------------------------------------\u001b[0m",
      "\u001b[1;31mFileNotFoundError\u001b[0m                         Traceback (most recent call last)",
      "File \u001b[1;32mc:\\Users\\ggvozden\\Anaconda3\\envs\\bigdata\\Lib\\site-packages\\langchain_community\\document_loaders\\csv_loader.py:69\u001b[0m, in \u001b[0;36mCSVLoader.load\u001b[1;34m(self)\u001b[0m\n\u001b[0;32m     68\u001b[0m \u001b[38;5;28;01mtry\u001b[39;00m:\n\u001b[1;32m---> 69\u001b[0m     \u001b[38;5;28;01mwith\u001b[39;00m \u001b[38;5;28;43mopen\u001b[39;49m\u001b[43m(\u001b[49m\u001b[38;5;28;43mself\u001b[39;49m\u001b[38;5;241;43m.\u001b[39;49m\u001b[43mfile_path\u001b[49m\u001b[43m,\u001b[49m\u001b[43m \u001b[49m\u001b[43mnewline\u001b[49m\u001b[38;5;241;43m=\u001b[39;49m\u001b[38;5;124;43m\"\u001b[39;49m\u001b[38;5;124;43m\"\u001b[39;49m\u001b[43m,\u001b[49m\u001b[43m \u001b[49m\u001b[43mencoding\u001b[49m\u001b[38;5;241;43m=\u001b[39;49m\u001b[38;5;28;43mself\u001b[39;49m\u001b[38;5;241;43m.\u001b[39;49m\u001b[43mencoding\u001b[49m\u001b[43m)\u001b[49m \u001b[38;5;28;01mas\u001b[39;00m csvfile:\n\u001b[0;32m     70\u001b[0m         docs \u001b[38;5;241m=\u001b[39m \u001b[38;5;28mself\u001b[39m\u001b[38;5;241m.\u001b[39m__read_file(csvfile)\n",
      "\u001b[1;31mFileNotFoundError\u001b[0m: [Errno 2] No such file or directory: 'data/mlb_teams_2012.csv'",
      "\nThe above exception was the direct cause of the following exception:\n",
      "\u001b[1;31mRuntimeError\u001b[0m                              Traceback (most recent call last)",
      "Cell \u001b[1;32mIn[13], line 5\u001b[0m\n\u001b[0;32m      1\u001b[0m \u001b[38;5;28;01mfrom\u001b[39;00m \u001b[38;5;21;01mlangchain_community\u001b[39;00m\u001b[38;5;21;01m.\u001b[39;00m\u001b[38;5;21;01mdocument_loaders\u001b[39;00m\u001b[38;5;21;01m.\u001b[39;00m\u001b[38;5;21;01mcsv_loader\u001b[39;00m \u001b[38;5;28;01mimport\u001b[39;00m CSVLoader\n\u001b[0;32m      4\u001b[0m loader \u001b[38;5;241m=\u001b[39m CSVLoader(file_path\u001b[38;5;241m=\u001b[39m\u001b[38;5;124m'\u001b[39m\u001b[38;5;124mdata/mlb_teams_2012.csv\u001b[39m\u001b[38;5;124m'\u001b[39m)\n\u001b[1;32m----> 5\u001b[0m data \u001b[38;5;241m=\u001b[39m \u001b[43mloader\u001b[49m\u001b[38;5;241;43m.\u001b[39;49m\u001b[43mload\u001b[49m\u001b[43m(\u001b[49m\u001b[43m)\u001b[49m\n",
      "File \u001b[1;32mc:\\Users\\ggvozden\\Anaconda3\\envs\\bigdata\\Lib\\site-packages\\langchain_community\\document_loaders\\csv_loader.py:86\u001b[0m, in \u001b[0;36mCSVLoader.load\u001b[1;34m(self)\u001b[0m\n\u001b[0;32m     84\u001b[0m         \u001b[38;5;28;01mraise\u001b[39;00m \u001b[38;5;167;01mRuntimeError\u001b[39;00m(\u001b[38;5;124mf\u001b[39m\u001b[38;5;124m\"\u001b[39m\u001b[38;5;124mError loading \u001b[39m\u001b[38;5;132;01m{\u001b[39;00m\u001b[38;5;28mself\u001b[39m\u001b[38;5;241m.\u001b[39mfile_path\u001b[38;5;132;01m}\u001b[39;00m\u001b[38;5;124m\"\u001b[39m) \u001b[38;5;28;01mfrom\u001b[39;00m \u001b[38;5;21;01me\u001b[39;00m\n\u001b[0;32m     85\u001b[0m \u001b[38;5;28;01mexcept\u001b[39;00m \u001b[38;5;167;01mException\u001b[39;00m \u001b[38;5;28;01mas\u001b[39;00m e:\n\u001b[1;32m---> 86\u001b[0m     \u001b[38;5;28;01mraise\u001b[39;00m \u001b[38;5;167;01mRuntimeError\u001b[39;00m(\u001b[38;5;124mf\u001b[39m\u001b[38;5;124m\"\u001b[39m\u001b[38;5;124mError loading \u001b[39m\u001b[38;5;132;01m{\u001b[39;00m\u001b[38;5;28mself\u001b[39m\u001b[38;5;241m.\u001b[39mfile_path\u001b[38;5;132;01m}\u001b[39;00m\u001b[38;5;124m\"\u001b[39m) \u001b[38;5;28;01mfrom\u001b[39;00m \u001b[38;5;21;01me\u001b[39;00m\n\u001b[0;32m     88\u001b[0m \u001b[38;5;28;01mreturn\u001b[39;00m docs\n",
      "\u001b[1;31mRuntimeError\u001b[0m: Error loading data/mlb_teams_2012.csv"
     ]
    }
   ],
   "source": [
    "from langchain_community.document_loaders.csv_loader import CSVLoader\n",
    "\n",
    "\n",
    "loader = CSVLoader(file_path='data/mlb_teams_2012.csv')\n",
    "data = loader.load()"
   ]
  },
  {
   "cell_type": "markdown",
   "metadata": {},
   "source": [
    "## PDF loader"
   ]
  },
  {
   "cell_type": "code",
   "execution_count": null,
   "metadata": {},
   "outputs": [],
   "source": [
    "from langchain_community.document_loaders import PyPDFLoader\n",
    "\n",
    "loader = PyPDFLoader(\"data/student_guide.pdf\")\n",
    "documents = loader.load_and_split()"
   ]
  },
  {
   "cell_type": "code",
   "execution_count": null,
   "metadata": {},
   "outputs": [
    {
     "name": "stdout",
     "output_type": "stream",
     "text": [
      "[Document(page_content='T: 00385 1 2222 182\\nE: student@algebra.hr\\nW: www.algebra.university\\nSTUDENT \\nGUIDE   \\n2023/2024', metadata={'source': 'data/student_guide.pdf', 'page': 0}), Document(page_content='INTRODUCTION  2\\nTABLE OF CONTENTS 3\\nAbout Algebra University College  4\\nCampus orientation 6\\nPlan of Algebra University College premises  8\\nCode of conduct  10\\nStudy structure  14\\nAcademic year 2023/2024 calendar  15\\nWhat do I need to know as a student of \\nAlgebra University College?  16\\nInfoeduka – the digital student service or \\ndigital notice board 16\\nStudent status  17\\nWhat are the conditions for enrolment in a \\nhigher year of study? 17\\nWhat is the semester status?  18\\nWhat is X-ica and its purpose? 18\\nECTS Credits and Learning Outcomes 19\\nWhat are ECTS credits? 19\\nWhat are learning outcomes? 19\\nClasses organisation and attendance  20\\nWhy is it important to attend classes? 20\\nWhat are additional classes? 20\\nEXAMINATIONS  21\\nHow to pass an exam?  21\\nWhat are mid-term exams and how are they \\norganised?  21\\nExamination periods  22\\nHow to register and cancel mid-term exams \\nand exams?  22\\nWhen has a student failed an exam?  23\\nHow many times can an exam be taken?  24\\nWhat is the additional fourth exam \\nregistration?  24\\nHow long do I have to pass a course after \\nenrolment?  24\\nHow and when can I take certificate exams? 24WHAT IF…. 25\\n…I want to improve a learning outcome? 25\\n…I cheat on an exam? 25\\n…I fail to pass an oral exam or refuse a \\ngrade?  26\\n…I have passed most of the learning outcomes \\n– can I take the oral exam? 26\\n…I am repeating a course for which I have \\nobtained a signature during the previous \\nyear?  26\\n…I do not qualify for a signature? 26\\n...I can’t attend the exam I registered for? 27\\n…I am repeating a year? 27\\n…I want to change my sub-specialisation or \\nstudy programme? 27\\n…I want to borrow a library book? 27\\n…I lose a library book? 28\\nStudy support 28\\nStudent Office 28\\nCareer Center  29\\nVice Dean for Students 29\\nMentoring program 29\\nGo global 29 \\nInternational Summer School  30\\nABC BootCamps summer programmes  30\\nOther information  31\\nSports and leisure 31\\nStudent representatives and Student \\nOmbudsman  31\\nStudent Council  31\\nStudent Coordination  31\\nHow can students affect the quality of \\nstudies?  31\\nComplaints and appeals  32\\nInnovation Lab  32\\nParking 32\\nMedical care 33\\nBoosting and maintaining mental health 33Dear students, \\nat the start of a new academic year, allow me to wish you a warm welcome to \\nAlgebra University College and to present to you our study programmes. I believe \\nthat, by choosing one of these programmes, with our help, you are stepping \\ninto a better, digital future. \\nThe present has brought us many challenges, but they have once again showed \\nus that even in such dire situations, the human spirit and togetherness can \\nguide us on the path ahead. We will do everything in our power to provide you \\nwith the highest quality education. In addition, bearing all this in mind, we invite \\nyou to get in touch with us should you encounter any difficulties or challenges \\nduring your studies. \\nBringing together education and economy is our guiding principle in creating \\nstudy programmes adjusted to the existing and future market demands. Our \\ntrack record and hundreds of alumni employed at leading global and Croatian \\ncompanies are proof that we have been successful in this endeavour. Our college \\noffers professional study programmes, which means they also encompass \\nthe practical application of knowledge. This year, we are especially proud to \\nintroduce two new professional bachelor programmes: in Game Development \\nand Multimedia Production, which will allow you to work on developing innovations, \\nconnect with experts in the field, as well as acquire new, broader knowledge in \\ndifferent areas.\\nLikewise, according to the new Act on Higher Education and Scientific Activity, \\nas of this academic year, secondary school graduates who have not passed \\nnational matriculation exams will not be able to enrol in level 6 studies, even \\nby taking an entrance exam. Therefore, this year Algebra University College is \\nlaunching a level 5 study programme, the only one of its kind in Croatia – the', metadata={'source': 'data/student_guide.pdf', 'page': 1}), Document(page_content='by taking an entrance exam. Therefore, this year Algebra University College is \\nlaunching a level 5 study programme, the only one of its kind in Croatia – the \\nProfessional Short-Cycle Programme in Internet Marketing. Its programme is \\ndesigned so that all secondary school pupils who have not passed the national \\nmatriculation exams have the possibility of further education, which includes \\npupils of three-year and four-year vocational schools and gymnasiums.\\nBy combining knowledge needed on the modern labour market with practical, \\nhands-on skills, we create highly employable experts of the future. Another \\nconfirmation of these skills is the international IT certification, carefully \\nintegrated into the curricula of most of our study programmes, which offers \\nall our graduates in computer engineering, multimedia and digital marketing a \\ncompetitive edge in their respective fields. For those who wish to expand their \\nknowledge through formal education after completing their graduate studies, \\nwe offer the possibility of easy access and enrolment in doctoral studies at \\npartner universities. A college degree is valuable when it is backed by knowledge \\nand the ability to apply this knowledge in different working environments. That \\nis why we strive to achieve the highest quality in both learning and business \\nprocesses – a fact confirmed by the Agency for Science and Higher Education, \\nwhich has awarded us the certificate of quality that positions us as currently \\nthe highest-ranking professional study programme in Croatia.   \\nI believe that you have made a wise decision in choosing Algebra University \\nCollege, because it does matter which career path you choose and where you \\nwill build your career. \\nAllow us, therefore, to usher you into the digital future.\\nAssist.Prof. Mislav Balković, PhD  \\nDean of Algebra University CollegeINTRODUCTIONTABLE OF CONTENTS\\n2\\n3', metadata={'source': 'data/student_guide.pdf', 'page': 1}), Document(page_content='Algebra offers its Data Science students a \\nHybrid Graduate Programme including MIT’s \\nMicroMasters. Students who complete their \\nstudies at the integrated programme will \\nreceive a diploma from Algebra University \\nCollege along with the MITx MicroMasters \\ncredential in statistics and data science, while \\nstudents who already acquired this certificate \\nwill have a portion of their credits recognised.\\nAlgebra University College currently employs \\nover 100 teachers and associate lecturers \\ncoming from the academic and business sector \\nand, according to the quality evaluation results \\nobtained through regular re-accreditation \\nconducted by the National Agency for Science \\nand Higher Education in 2018, represents one \\nof the best study programmes in the Republic \\nof Croatia.About Algebra \\nUniversity College\\nAlgebra University College is a part of Algebra Education Group, a leading private educational \\norganization which has been present on the Croatian market for more than 25 years. \\nThe goal of the founders was to create a top quality professional higher education institution \\nthat was, along with its program, staff and teaching material, ready to meet the demands of \\nemployers and the labor market. The accreditation issued by the National Agency for Science \\nand Higher Education, the results of the re-accreditation in 2012, the quality assurance \\nsystem evaluation performed by Flemish-Dutch accreditation agency NVAO and the status \\n“Approved by FER” (FER – Faculty of Electrical Engineering and Computing) supported the fact \\nthat these wishes were not ungrounded and confirmed the high level of Algebra University \\nCollege curriculum.\\nThe University College carries out:\\nPROFESSIONAL SHORT-CYCLE STUDY PROGRAMME IN INTERNET MARKETING\\nSEVEN PROFESSIONAL BACHELOR STUDY PROGRAMMES/SPECIALISATIONS :\\n• Professional Bachelor Study Programme in Applied Computer Engineering – \\nSoftware Engineering\\n• Professional Bachelor Study Programme in Applied Computer Engineering – System \\nEngineering\\n• Professional Bachelor Study Programme – Game Development\\n• Professional Bachelor Study Programme – Multimedia Production\\n• Professional Bachelor Study Programme – Digital Marketing \\n• Professional Bachelor Study Programme in Market Communications Design – Design\\n• Professional Bachelor Study Programme in Market Communications Design – 3D \\nDesign\\nEIGHT PROFESSIONAL MASTER STUDY PROGRAMMES/ SPECIALISATIONS:\\n• Professional Master Study Programme in Applied Computer Engineering – Software \\nEngineering\\n• Professional Master Study Programme in Applied Computer Engineering – System \\nEngineering\\n• Professional Master Study Programme in Applied Computer Engineering – Data \\nScience\\n• Professional Master Study Programme in Applied Computer Engineering – Game \\nDevelopment\\n• Joint Master Study Programme in Computer Science – Internet of Things and \\nArtificial Intelligence, with EPITECH, France\\n• Professional Master Study Programme – Digital Marketing\\n• Professional Master Study Programme – Creative Market Communications \\nManagement \\n• e-Leadership MBA\\nThe curricula of all study programmes are fully compliant with the ECTS credit system (Bologna \\nDeclaration) and are part of the official system of higher education in Croatia, for which the \\nUniversity College received several accreditations from the Ministry of Science, Education \\nand Sports (first temporary accreditation received in June 2008, permanent accreditation \\nin 2010, as well as Professional Master study programmes in June 2012, accreditations for \\nboth study programmes in digital marketing in January 2015, and accreditation for the \\ne-Leadership study programme in April 2016).\\nAlgebra University College signed a partnership agreement with Goldsmiths, University of \\nLondon in January 2022. Through this partnership, Algebra University College offers the next \\ngeneration of its students the possibility to study in English at Professional Bachelor Study', metadata={'source': 'data/student_guide.pdf', 'page': 2}), Document(page_content='London in January 2022. Through this partnership, Algebra University College offers the next \\ngeneration of its students the possibility to study in English at Professional Bachelor Study \\nProgrammes and Professional Master Study Programmes in the fields of computing, design \\nand management, validated by Goldsmiths, University of London. Students who complete \\none of these validated programmes will receive a dual degree from Algebra University College \\nand Goldsmiths, University of London. 7\\n81\\n1600\\n140Professional Bachelor \\nStudy programmes/\\nspecialisations\\nhigher \\neducation \\nstudents\\nlecturers \\nand teaching \\nassociatesProfessional Master \\nStudy programmes/\\nspecialisationsProfessional \\nshort-cycle study \\nprogramme\\n4\\n5', metadata={'source': 'data/student_guide.pdf', 'page': 2}), Document(page_content='Right to subsidized meals \\nThe conditions for having the right to subsidised meals are prescribed by \\nthe Ordinance on the conditions and manner of exercising the right to \\ncover student meal costs. These regulations are available on the official \\nwebsite of the Ministry of Science, Education and Sports. Detailed \\ninformation is available on this link\\nhttps://gov.hr/hr/subvensionirana-prehrana/1066 . \\nLevel \\nof \\nsubsidyTo whom are they awarded Basis for awarding rights \\n0 • Part-time students\\n• Students who work while studying\\n• PhD students \\n• Non-EU citizens (who have not been \\nawarded a scholarship by Ministry of \\nScience and Education)\\n1 • Full-time students with place of \\nresidence in the county where the \\nstudy programme is conducted• Regulated enrollment in the current \\nacademic year\\n2 • Full-time students with place of \\nresidence\\n• outside the county where the study \\nprogramme is  conducted\\n• Students covered by special \\ndecisions of the Ministry of Science \\nand Education\\n• Foreign nationals taking part in \\ninternational exchange programmes \\nErasmus and CEEPUS• ID card\\n• Registered mobility of foreign \\nstudents by the higher education \\ninstitution\\n2,5 • Full-time students housed in a \\ndormitory that does not provide \\nmeal services\\n• Students with an extremely low \\nsocial status based on the approval \\nof the Ministry of Science and \\nEducation\\n• Top athletes with place of residence \\noutside the place of study• Confirmation of accommodation in \\na dormitory issued by the Student \\nCentre\\n• Confirmation from the Ministry \\nof Science and Education \\nabout extremely poor financial \\ncircumstances sent to the Centre \\nfor subsidy authorisation (CAP)\\n• Decision on the status of athlete \\nissued by the Croatian Olympic \\nCommittee (category I - III) and ID \\ncardCampus \\norientation\\nTeaching takes place in the auditoriums, classrooms and cabinets \\nequipped with the necessary equipment for all fields of study. University \\nCollege premises are fully accessible to persons with disabilities.\\nAuditoriums and lecture halls are named after great Croatian and world \\ninnovators and pioneers of technological progress (Nikola Tesla, Ruđer \\nBošković, Faust Vrančić, Eduard Slavoljub Penkala, Steve Jobs, Ivan Picelj, \\nIvan Lupis, Slavko Krajcar, Ada Lovelace, Ivan Vučetić, Galileo Galilei), \\nwhile the classrooms are marked by a combination of letters indicating \\nfloor and cardinal number (A1, A2..., C1, C2,...).\\nFor all information, enrolments, application submission, student status \\nand other student issues, the Student Office is at your disposal. It is \\nlocated on the ground floor of the building.\\nA library with reading room and Slavko Krajcar Innovation Lab are \\navailable to students on the A level of the building. There are several \\nspacious lounge areas for socialising, refreshment and relaxing \\nbetween classes, an area with machines for hot and cold beverages \\nand “snack” machines available on the A level and the get-together \\nlounge Družiona on the F level. Družiona is accessible with the X-ica \\ncard, and the space is intended for socialising, eating and drinking. \\nAll areas are accessible during campus working hours. Nearby, at the \\nFaculty of Textile Technology (Prilaz baruna Filipovića 28a), the Student \\nCentre restaurant is open weekdays from 8:00 a.m. to 2:30 p.m. where, \\nin addition to the usual offer, a menu (hot meal with side dishes) is also \\navailable. The restaurant is only 500 meters from our campus, so be \\nsure to visit it.\\n6', metadata={'source': 'data/student_guide.pdf', 'page': 3}), Document(page_content='Plan of Algebra University \\nCollege premises\\n9\\nLecture room\\nSteve JobsA3\\nLecture room\\nIvan LupisInnovation lab\\nSlavko KrajcarA7\\nLecture room \\nIvan PiceljA9\\nArt Studio\\nSlava RaškajA4\\nArt Studio\\nIvan MažuranićA5\\nLecture roomA6 A8\\nLecture roomA11\\nOn Air StudioA12\\nA/V\\nProduction\\nStudioA10\\nLibrary\\nData centar \\nNimbusOn line room A1  \\nCollaboration \\nrooomA2\\n1\\n2\\n34\\n5\\n67\\n8\\n910 1314\\n11\\n12\\nLecture room\\nNikola TeslaB3 Lecture room\\nFaust VrančićB4 B5 Admission \\nOffice\\nfor Lifelong \\nLearningAdmission \\nOffice\\nfor Higher \\nEducationStudent \\nofficeMultimedia\\nand\\nDigital Arts\\nDepartmentStudent \\nSupport\\nOfficeOperating \\nSystems\\nDepartment\\nCybersecurity\\nDepartmentEconomics\\nDepartmentComputer\\nNetworks\\nDepartment\\nSoftware\\nEngineering\\nDepartmente-Leadership\\nDepartmentGeneral\\nSubjects\\nDepartmentMeeting\\nroom\\nB6\\nMeeting\\nroomLecture room\\nMarija BrautB2\\nExibition HallB1\\nENTRANCE\\nLecture Room\\nIvan VučetićLecture RoomC4 C5\\nLecture RoomC3\\nLecture RoomC2\\nLecture RoomC1\\nLecture RoomC10\\nLecture Room\\nRuđer BoškovićC10Lecture Room\\n3D productionC6\\nTest CenterTeachers \\nSupport \\nOffice\\nInternational \\nOfficeCareer \\nCenterC7\\nTest \\nCenterC8 C9\\nMeeting Room\\nLecture Room\\nEduard S. PenkalaD4\\nLecture RoomD5\\nLecture RoomD6\\nLecture RoomD7\\nLecture RoomD8\\nLecture RoomD9\\nLecture RoomD3\\nLecture RoomD2\\nLecture RoomD1\\nLecture RoomD12\\nLecture RoomD11\\nLecture RoomD10\\nLecture Room\\nAda LovelaceE3 Teacher\\nAssembly E1\\nMeeting\\nRoomE2\\nLecture Room\\nGalileo GalileiF4\\nLecture Room\\nDušan VukotićF10Staff RoomF5\\nLecture RoomF3\\nLecture RoomF2\\nLecture RoomF1\\nLecture RoomF9Lecture RoomF6C floor F floorB floor E floorA floor D floor\\n8\\n9', metadata={'source': 'data/student_guide.pdf', 'page': 4}), Document(page_content='The building of the University College is open from 7:30 a.m. \\nto 10:00 p.m. on weekdays and from 7:30 a.m. to 9:00 p.m. on \\nSaturdays. \\nThe campus is closed on Sundays.Pursuant to Article 28 of the Algebra University College Statute, in accordance \\nwith the Code of Ethics of Algebra University College and the Book of \\nRegulations on Disciplinary and Material Responsibility of students, teaching \\nand non-teaching staff of Algebra University College, on 9 February 2018, the \\nDean of Algebra University College introduced the\\nCODE OF CONDUCT FOR STUDENTS OF \\nALGEBRA UNIVERSITY COLLEGE\\nStudents, lecturers, associates and employees of Algebra University \\nCollege need to work together to create an optimal environment and \\nconditions for the realisation of honourable academic work.\\nThe Code is primarily based on the desire of students and teachers \\nto avoid and eliminate unacceptable behaviour and to establish a \\nrelationship based on mutual respect.\\nStudents’ duties are:\\n→ To preserve the reputation and dignity of Algebra University \\nCollege, its students, lecturers and associates;\\n→ To attend lectures, workshops and other forms of teaching without \\ntardiness.\\n→ To regularly perform and independently organise duties (finances, \\nregistering and cancelling exams, number of examinations, \\nattendance at lectures and workshops, etc.)\\n→ Respect the office hours;\\n→ To attend sessions of the Academic Council and other committees \\nthey are members of;\\n→ To be polite and fair towards lecturers, associates and other \\nAlgebra University College employees and students;\\n→ If there are special rules of conduct and residence in some faculty \\nareas of Algebra University College (e.g. the reading room, lecture \\nrooms, lecture halls and other), you must adhere to them;\\n→ To preserve the property and the environment of Algebra University \\nCollege. Code of conduct\\nStudents’ rights are:\\nDefined in accordance with regulations such as the Constitution of the \\nRepublic of Croatia, Act on Scientific Activity and Higher Education, \\nStatute of Algebra University College, Book of Regulations on Study \\nProgrammes and Studying, and in particular: \\n→ Equal and inalienable rights regardless of race, nationality, religion, \\ngender, political and other beliefs and views, social status and all \\nother differences; \\n→ The freedom of expression in accordance with the legal decisions \\nand the moral principles of the academic citizen;\\n→ The freedom of non-political association;\\n→ Democratically elected representatives with the right to vote in the \\nAlgebra University College Council;\\n→ Giving opinions on issues pertaining to students’ rights and \\nobligations through student representatives;\\n→ The availability of Algebra University College Statute and other \\nacts related to students and their rights at Algebra University \\nCollege;\\n→ Fair treatment by Algebra University College, and, in this regard, an \\nappeal in case of violation of this right;\\n→ Attending lectures, workshops, seminars and other teaching \\nmethods;\\n→ Participation in scientific and professional activities;\\n→ Assistance and counselling by the coordinator of the Career \\nCentre with regard to the study process;\\n→ Submitting appeals on the decision or procedure to the competent \\nauthority;\\n→ Reward for work, achievement and contribution to the affirmation \\nof Algebra University College;\\n→ Participation in extracurricular activities: cultural, sports, \\nprofessional conferences and seminars etc.\\n10\\n11', metadata={'source': 'data/student_guide.pdf', 'page': 5}), Document(page_content='Due to the protection of personal information, all students are \\nrequired to use a verified student e-mail address from the Algebra \\nUniversity College domain in official communication with teachers \\nand/or associates and/or staff of Algebra University College. The \\nstudents will receive their designated e-mail address upon enrolling \\nin their studies. E-mails sent by students from other e-mail \\naddresses to teachers and/or associates and/or staff of Algebra \\nUniversity College will not be taken into account.Unacceptable behaviour is considered to be:\\n→ Impolite and incorrect attitude towards teachers, and other \\nAlgebra University College employees or students;\\n→ Being late or leaving any form of teaching and disregarding other \\nstudy obligations;\\n→ Disturbing any form of teaching;\\n→ Creating noise or disturbance of order and peace;\\n→ Dressing inappropriately with regard to generally accepted rules \\nfor the given occasion;\\n→ Using aids during examinations and other tests, except where \\nexplicitly permitted, and accepting and providing assistance on \\nexams and other tests;\\n→ Presenting someone else’s work as your own;\\n→ Misrepresentation, attending tests on behalf of another person;\\n→ Counterfeiting documents related to studying and exercising \\nstudent rights;\\n→ Violation of copyright and intellectual property rights;\\n→ Unauthorized access to computer system resources and other \\nentities connected to Algebra University College via the Internet;\\n→ Causing material injury and divestment of assets of Algebra \\nUniversity College;\\n→ Acts that deliberately or out of recklessness harm the environment \\nof Algebra University College;\\n→ Coming to any form of teaching under the influence of alcohol or \\nnarcotic drugs;\\n→ All other acts that are in opposition to the moral norms accepted \\nin society and acts legally defined as misdemeanours and criminal \\noffenses. In case of doubt about the violation of this code, a disciplinary procedure \\nagainst the student is initiated in accordance with Book of Regulations \\non Disciplinary and Material Responsibility of students, teaching and \\nnon-teaching staff. This Code shall enter into force on the date of its \\nadoption and shall be published on Algebra University College website. \\nZagreb, 9 February 2017\\nClass: 602-04/18-01/10\\nFile no.: 251-321-18-01-07\\nRevision: 0\\nDate: -\\nPages: 3\\nWritten by: Mislav Balković, PhD\\nApproved Board of Trustees\\nDean of\\nAlgebra University College\\nAssist.Prof. Mislav Balković, PhD\\n12\\n13', metadata={'source': 'data/student_guide.pdf', 'page': 6}), Document(page_content='The best path to success is to gradually pass courses through \\nmid-term exams. Take advantage of this opportunity and don’t \\nleave everything for the end of the semester! Course lecturers and \\nassociates will provide you with further instructions about mid-term \\nexams.\\nAlgebra University College reserves the right to change the student calendar. \\nThe current calendar is available at: \\nhttps://www.algebra.hr/visoko-uciliste/wp-content/uploads/sites/2/2023/07/\\nKalendar-nastave-2023-2024.pdfStudy structureAcademic year \\n2023/2024 calendar\\nWeek Mon Tue Wed Thu Fri Sat Sun Week Mon Tue Wed Thu Fri Sat Sun Week Mon Tue Wed Thu Fri Sat Sun\\nP 1 5 30 31 1 2 3 4 5 M1 1 2 3\\n1 2 3 4 5 6 7 8 6 6 7 8 9 10 11 12 9 4 5 6 7 8 9 10 October 02, 2023\\n2 9 10 11 12 13 14 15 7 13 14 15 16 17 18 19 10 11 12 13 14 15 16 17 Start of the winter semester\\n3 16 17 18 19 20 21 22 8 20 21 22 23 24 25 26 11 18 19 20 21 22 23 24\\n4 23 24 25 26 27 28 29 M1 27 28 29 30 P 25 26 27 28 29 30 31 November 27, 2023 - December 2, 2023\\nMidterm exams\\nWeek Mon Tue Wed Thu Fri Sat Sun Week Mon Tue Wed Thu Fri Sat Sun Week Mon Tue Wed Thu Fri Sat Sun December 24, 2023 - January 01, 2024\\n12 1 2 3 4 5 6 7 M2+I1 1 2 3 4 1 1 2 3 Christmas holidays\\n13 8 9 10 11 12 13 14 I4 (S) 5 6 7 8 9 10 11 2 4 5 6 7 8 9 10\\n14 15 16 17 18 19 20 21 I2 12 13 14 15 16 17 18 3 11 12 13 14 15 16 17 January 29, 2024 - February 17, 2024\\n15 22 23 24 25 26 27 28 O-P 19 20 21 22 23 24 25 4 18 19 20 21 22 23 24 Final exams of the winter semester\\nM2+I1 29 30 31 1 26 27 28 29 5 25 26 27 28 29 30 31\\nFebrury 26, 2024\\nStart of the summer semester\\nWeek Mon Tue Wed Thu Fri Sat Sun Week Mon Tue Wed Thu Fri Sat Sun Week Mon Tue Wed Thu Fri Sat Sun\\n6 1 2 3 4 5 6 7 9 1 2 3 4 5 13 1 2 April 22, 2024 - April 27, 2024\\n7 8 9 10 11 12 13 14 10 6 7 8 9 10 11 12 14 3 4 5 6 7 8 9 Midterm exams\\n8 15 16 17 18 19 20 21 11 13 14 15 16 17 18 19 15 10 11 12 13 14 15 16\\nM1 22 23 24 25 26 27 28 12 20 21 22 23 24 25 26 M2+I1 17 18 19 20 21 22 23 June 17, 2024 - July 8, 2024\\n9 29 30 13 27 28 29 30 31 I3 (W) 24 25 26 27 28 29 30 Final exams of the summer semester\\nSeptember 2, 2024 - September 14, 2024\\nWeek Mon Tue Wed Thu Fri Sat Sun Week Mon Tue Wed Thu Fri Sat Sun Week Mon Tue Wed Thu Fri Sat Sun Exam retake terms\\nI2 1 2 3 4 5 6 7 P 1 2 3 4 P 1\\nO-P 8 9 10 11 12 13 14 P 5 6 7 8 9 10 11 I 2 3 4 5 6 7 8\\nP 15 16 17 18 19 20 21 P 12 13 14 15 16 17 18 I 9 10 11 12 13 14 15\\nP 22 23 24 25 26 27 28 P 19 20 21 22 23 24 25 O-P 16 17 18 19 20 21 22\\nP 29 30 31 P 26 27 28 29 30 31 P 23 24 25 26 27 28 29\\nteaching examinations some oral examinations/non working days non working days bank holidayJANUARY 2024 FEBRUARY 2024 MARCH 2024ACADEMIC CALENDAR 2023./2024.\\nOCTOBER 2023 NOVEMBER 2023 DECEMBER 2023\\nAPRIL 2024 MAY 2024 JUNE 2024\\nJULY 2024 AUGUST 2024 SEPTEMBER 2024\\nThe academic year consists of two semesters. The so-called winter \\nsemester starts at the end of September or beginning of October, while \\nthe summer semester starts after the winter examination period in February. \\nEach semester consists of 15 weeks of classes and a total of 4 weeks of \\nexamination periods. After the eighth week of classes, the first mid-term \\nexams are held for one week. The fifteenth week of classes will be followed by \\nthe second mid-term examination period and make-up examination periods.\\nThe fall examination period awaits you before the end of the study year and \\nwill take place over two weeks. More information on mid-term exams and \\nexamination schedules can be found below.\\nAccurate information about classroom weeks, mid-term exams and examination \\nweeks, as well as public holidays and closed days can be found in the student \\ncalendar.Market Communication\\nDesignDesign 3D designCreative Market\\nCommunications ManagementCreative Market\\nCommunications\\nManagementData\\nScienceJoint stud y\\nprogra mme  in\\nComputer Science\\nIoT & A I\\nMaster study p rogramm e in\\nApplied Com puter Engin eering\\n(120 ECTS)Joint stud y\\nprogra mme  in\\nComputer Science\\nIoT & A I', metadata={'source': 'data/student_guide.pdf', 'page': 7}), Document(page_content='ScienceJoint stud y\\nprogra mme  in\\nComputer Science\\nIoT & A I\\nMaster study p rogramm e in\\nApplied Com puter Engin eering\\n(120 ECTS)Joint stud y\\nprogra mme  in\\nComputer Science\\nIoT & A I\\n(120 ECTS)COMPUTE R SCIENCE ECONOMY ARTS\\n2 semestar\\n1 semestarCommon courses + one course specific\\nfor each study / profile\\nCommon courses \\nBachelor study - \\nBachelor study - Master study Master studyMaster study\\nBachelor study - \\nBachelor study - Study programme: Study programme: Study programme: \\nStudy programme: \\n14\\n15', metadata={'source': 'data/student_guide.pdf', 'page': 7}), Document(page_content='It’s safe to say: If it isn’t on Infoeduka, it didn’t happen!If you are enrolling in a higher year of study and simultaneously \\nrepeating courses of the previous year, such enrolment may result \\nin overlapping of schedules of lectures or practicums. If you are, \\nat your request, simultaneously enrolling in courses from different \\nstudy years, you are considered to have been informed about this \\npossibility.What do I need to \\nknow as a student \\nof Algebra University \\nCollege?\\nInfoeduka – the digital student service or digital notice board\\nDigital student service Infoeduka is a digital notice board with all available \\ninformation, personalised schedule, teaching materials, information about the \\nnumber of points per subject and learning outcomes, payment information, \\nvarious notifications about changes, news, and more.\\nInfoeduka enables you to have all the information you need in one place \\nand access it from any location. It also makes it easier to study, reducing \\nadministration, and improving the organisation of the study process.\\nYou can use Infoeduka to track information and perform most of your study \\nactivities:\\n •Keep track of important information regarding studying\\n •Follow the personalised lecture schedule \\n •Keep track of your classroom attendance \\n •Access the repository of teaching materials\\n •Track financial obligations\\n •Register and cancel your exams\\n •Review exam grades\\n •Review class calendar and exams schedule\\n •Enrol and validate a semester or year\\n •Review number of earned credits within a course\\n •Access e-learning contents\\n •Access on-line services (forum, webmail)\\n •Access e-library \\n •Submit requests to receive certificatee\\n •Control and adjust receiving notifications about \\nevents relevant to for your studies\\n •Register your graduation thesisStudent status\\nStudent status is acquired through enrolment in the University College and is \\nterminated upon completion of the study programme, disenrollment from the \\nUniversity College or discontinuation of studies for other reasons.\\nWhat are the conditions for enrolment in a higher year of study?\\nThe conditions for enrolment in a higher year of study are the same for both \\nfull-time and part-time students.\\nIn order to enrol in the second year of study, students are required to pass \\nall first-year courses. Exceptionally, students may, at their request, enrol in \\nthe second year of study if they have passed sufficient first-year courses to \\nacquire a total of at least 40 ECTS credits.\\nIn order to enrol in the third year of study, students are required to pass all \\nof their first-year and second-year courses. Exceptionally, students may, at \\ntheir request, enrol in the third year of study if they have passed all of their \\nfirst-year courses and sufficient second-year courses to acquire a total of at \\nleast 40 ECTS credits.\\nIn order to enrol in the final year of study, students are required to pass all \\ncourses, or, exceptionally, they can enrol if they have passed sufficient third-\\nyear courses to acquire a total of at least 40 ECTS credits and all of their first \\nand second year courses.\\nAcquired ECTS credits are reviewed in September.\\nNumber of ECTS credits acquired determines the year of study you will be \\nable to enrol and fulfilment of conditions for enrolment in a higher year or re-\\nenrolment of the previous year of study.\\nAll courses that have not been passed in the period of 12 months since their \\nenrolment, must be re-enrolled.You can sign in to Infoeduka with access information you received when enrolling \\non the following link: https://student.racunarstvo.hr/pretinac/ . \\nThe Infoeduka link can also be found on the left side of our every web page.\\n16\\n17', metadata={'source': 'data/student_guide.pdf', 'page': 8}), Document(page_content='For each course, the course Head defines between 2 and 5 sets \\nof learning outcomes. In order to pass the course, it is necessary \\nto pass each learning outcome, that is, earn at least 50% of \\npossible points predicted for that learning outcome. This means \\nthat you have also passed that set of learning outcomes.If you have not passed all courses of the previous year and are \\ntransferring them to the next academic year, please keep in \\nmind the following: it is better to pass all courses of the winter \\nsemester and transfer summer semester courses, since the \\nsummer semester courses can still be passed in February (12 \\nmonths after their enrolment). If you succeed to pass courses \\nof the summer semester during this period (until February of the \\nfollowing year), you do not need to re-enrol them and pay for their \\nenrolment.\\nWhat is the semester status?\\nIn order to enroll in each semester, you are required to complete and submit the \\nEnrolment Form, which defines all enrolled courses and status of the enrolled \\nsemester, through the Infoeduka system. A semester can be enrolled in the \\nfollowing statuses:\\n •Enrolled – if you are enrolling in the semester (year) for the first time;\\n •Re-enrolled – if you have not acquired enough ECTS credits \\nduring the previous year in order to enrol in the higher year \\nof study, you must re-enrol in the same semester (year).  \\nSuspension of obligations is possible during military service, pregnancy and up \\nto one year of age of the child, prolonged illness and in similar justified cases. \\nDuring that time, the rights and obligations are suspended, and in that period \\nthe student does not have the right to subsidized housing costs in student \\ndormitories, the right to cover food costs, transportation costs or the right \\nto state scholarships. Moreover, in the opinion of the Ministry, if the student \\nis not able to perform his/her study obligations for justified reasons, then he/\\nshe cannot perform student work via student work contracts. In the year in \\nwhich the suspension of study obligations is enrolled, students are suspended \\nfrom all rights of the student status, except for the right to health insurance). \\nStudents enrol in higher semesters twice during the academic year – in \\nSeptember and in February.\\nIn addition, a request for disenrollment from the study program must be \\nsubmitted through the Enrollment Form tool within the Infoeduka system.\\nSpecifically defined learning outcomes and methods for verifying their \\nadoption for each course may be found in the Instructions for attending \\nand passing the course. The instructions are published in the repository of \\nteaching materials for each course separately.What are learning outcomes?\\nLearning outcomes are statements that specify what a student is expected \\nto know, understand and be able to do upon successful completion of the \\nlearning process. The learning outcomes are thematically grouped into sets \\nof learning outcomes.\\nWhat is X-ica and its purpose?\\nThe student identification card or the popular X-ica is an identification document \\nthat attests student status (the student matriculation book is no longer required \\nas the document attesting student status at Croatian institutions, including \\nAlgebra University College). The student ID card is active from October of the \\ncurrent year until October of the following year, except in case of termination \\nof student status.\\nIf you are an EU student with full-time student status, you have the right to \\nsubsidised meals, and if you own a European Health Insurance Card (EHIC), you \\nhave the right to free health insurance. All full-6time students (EU and non-EU) \\nhave subsidised transportation (ZET, bus, etc.) and a variety of benefits, such as \\ndiscounts for theatre tickets, etc. Furthermore, all full-time students have the \\nright to apply for accommodation in a student residence, but keep in mind that \\nit is difficult to get a place in said accommodation. Part-time students do not', metadata={'source': 'data/student_guide.pdf', 'page': 9}), Document(page_content='right to apply for accommodation in a student residence, but keep in mind that \\nit is difficult to get a place in said accommodation. Part-time students do not \\nhave the right to said state subsidies.ECTS Credits and \\nLearning Outcomes\\nAs previously mentioned, the curricula of all study programmes are fully \\nconsistent with the ECTS credit system (Bologna Declaration) and each course \\nis defined through learning outcomes. \\nWhat are ECTS credits?\\nECTS credits (European Credit Transfer System) are related to the Bologna \\nsystem of study and indicate the study load expected of students during the \\nexecution of all obligations related to a particular course. They are defined by \\nthe expected number of hours that a student will spend learning, practicing \\nand preparing papers and seminars in order to pass a given course. One ECTS \\ncredit indicates 25 to 30 hours of work. Each course requires a certain number \\nof ECTS credits.\\nIf you successfully complete all requirements and pass all exams, you will acquire \\n30 ECTS credits during one semester, and 60 ECTS credits during one year. \\nThe Professional Bachelor Study Programme with the duration of three years \\nequates to 180 ECTS credits, while a Professional Master Study Programme with \\nthe duration of two years equates to 120 ECTS credits.\\n18\\n19', metadata={'source': 'data/student_guide.pdf', 'page': 9}), Document(page_content='Students who do not meet minimum attendance requirements or \\nfail to fulfil any of the other obligations defined by the document \\n“Instructions for attending and taking courses” document, \\ncannot obtain a digital signature from their lecturer, and are \\ntherefore not allowed to take the exam and pass the course. If \\nthat happens, students have to re-enrol the same course.\\nAll lectures can be accessed via the video conference system, as \\nwell as some practicums, which the lecturer deems sensible to \\nshare via video.\\nIf you receive a notification saying that you have been referred \\nto additional classes, use them as an additional form of \\ngratuitous practice and a chance to catch up with the materials \\nmissed during regular classes! This will increase your chances of \\npassing the course.Make an effort to prepare homework, pass short tests and \\nfulfil other tasks since these few points can prove helpful if you \\nare a few points “short” of the required minimum for passing a \\nparticular learning outcome!\\nClasses will not be held during mid-term exams.Classes are organised in accordance with the Decision on the Class Calendar, \\nupon which a detailed class schedule is based. The schedule is always available \\nthrough the Infoeduka digital student service system. The schedule is also \\navailable in the mobile version of Infoeduka.\\nWhy is it important to attend classes?\\nAttending lectures and practicums is mandatory and it is a prerequisite for \\nobtaining the lecturer’s signature. Without the signature you are not allowed \\nto take exams and automatically “fail” that class. \\nStudents are obligated to attend in person at least 50% of lectures and at \\nleast 60% of practicums or teaching seminar as part of each course.\\n •If teaching is performed in an integrated manner (e.g. modular MBA \\nprogramme), class attendance of at least 60% is mandatory.\\nAdditional classes are free for students and represent study support.Instructions for accessing a video conference are announced within the \\nInfoeduka system notifications.\\nVideo conference viewing of classes is not recorded as class attendance and \\nonly serves to help students in situations when they are unable to attend in \\nthe classroom.\\nWhat are additional classes?\\nAdditional classes are a form of assistance to students who, for whatever \\nreason, do not manage to pass the learning outcomes as planned or have \\ndifficulties with mastering teaching materials (due to lower prior knowledge, \\nabsence from classes due to a long illness or other reasons). Additional classes \\nare generally organised (based on the results of previous generations) for more \\ndifficult courses that include specific theoretical or practical tasks.Examinations\\nThe final goal of the educational process is to prepare students for particular \\njobs. The training is realised through the acquisition of knowledge and skills \\ndefined by learning outcomes. A passed examination is proof that the student \\nhas mastered all stipulated learning outcomes and has thus acquired certain \\nknowledge and skills.\\nHow to pass an exam?\\nThe learning outcomes of each course are evaluated through various methods \\nand each evaluation method is accompanied by a certain number of points, \\nwhile each course carries a maximum of 100 points.\\nThe points are rounded up to two decimal spaces (these are not ECTS credits).\\nThe points are acquired through several methods used for the evaluation of \\nlearning outcomes: first mid-term exam, second mid-term exam, short tests, \\nhomework, oral exam, while some courses may include seminar papers, school \\nassignments, projects, practical work, workshops, etc. They are defined for \\neach individual course and each course head will indicate the required student \\nobligations during the introductory lecture.Classes organisation \\nand attendance\\nWhat are mid-term exams and how are they organised?\\nMid-term exams allow you to pass courses in step-by-step instalments. During', metadata={'source': 'data/student_guide.pdf', 'page': 10}), Document(page_content='and attendance\\nWhat are mid-term exams and how are they organised?\\nMid-term exams allow you to pass courses in step-by-step instalments. During \\na semester, two mid-term exams will be organised for each course.\\nEach mid-term exam covers several learning outcomes and at the start of \\nclasses, the teacher will clearly define the exact learning outcomes covered \\nby each mid-term exam. In addition, it will be evident from the examination \\nmaterials which questions and tasks refer to a particular outcome.\\nFirst mid-term exams will be organised after the eighth week of classes, over \\nthe course of one week.\\nThey encompass learning outcomes covered during these eight weeks of \\nclasses.\\nSecond mid-term exams will be organised after the end of the semester and \\nactually represent the beginning of the winter and summer examination periods. \\nThe second mid-term exam will cover tasks related to learning outcomes \\naddressed during the second half of the semester (after the first mid-term \\nexam), after which you can retake all earlier learning outcomes you did not \\nmanage to pass or want to improve. Registration for the second mid-term \\nexam counts as a first exam registration.\\n20\\n21', metadata={'source': 'data/student_guide.pdf', 'page': 10}), Document(page_content='Examination schedules (date, time and halls) are announced \\nwithin the Infoeduka system. Keep track of examination periods \\nand register for exams on time!\\nA student has passed an exam if they have simultaneously \\npassed all learning outcomes (obtained a minimum of 50% of \\npossible points for each outcome) and have achieved a minimum \\nof 50.01 points for a particular course.All relevant information about the exams can be found in the \\ndocument Decision on the rules for conducting exams at Algebra \\nUniversity College, published on the website in the section \\n“About us” – “Documents”. Read this document in order to \\nadequately prepare for the exams.\\nA student has the right to reject a grade and retake the whole \\nor a section of the exam in order to increase the number of \\npoints and the final grade. However, rejection of a grade will be \\nconsidered as an unsatisfactory grade and it is not possible to \\n“restore” the rejected grade.When has a student failed an exam?\\nIt is considered that a student has failed an exam if:\\n •they failed to pass any part of the exam,\\n •they registered for an exam, but did not attend the \\nwritten or oral exam during an examination period, in \\naccordance with the announced exam schedule,\\n •they refused to accept the grade offered by the lecturer at the \\ntime of the oral exam or during the registration of grades.Examination periods \\nDuring the academic year, you will have three examination periods:\\nWinter examination period:\\n •organized after the end of the winter semester (in February)\\n •2 examination periods will be organised for courses of the winter \\nsemester and 1 examination period for courses of the summer semester\\nSummer examination period:\\n •organized after the end of the summer semester (in June and July)\\n •2 examination periods will be organized for courses of the summer \\nsemester and 1 examination period for courses of the winter semester\\nAutumn examination period:\\n •organized after the summer holidays (in September)\\n •1 examination period will be organized for courses of the winter \\nsemester and 1 examination period for courses of the summer semester\\nAfter the successful completion of all learning outcomes through short tests, \\nhomework, seminar papers and oral exams (you should acquire a minimum of \\n50% of possible points for each learning outcome), you may access the oral \\nexam (if an oral exam is scheduled as a part of the course). If you successfully \\npass the oral exam and acquire a minimum of 50.01 points, the teacher will \\ndetermine the final grade of the course and the course will be considered as \\npassed. The grade and the associated number of ECTS credits are entered in \\nthe Infoeduka system.present it in the event of technical difficulties. Students who did not register \\nfor the exam on time cannot take the exam, nor can their results be admitted. \\nIf the student did not cancel their exam registration on time and did not take \\nthe exam, or was prevented from passing the exam, they may submit a written \\nrequest to cancel the exam registration in case of exceptional circumstances \\ndefined by the Decision on categories of acceptable and unacceptable \\ncircumstances.\\nHow to register and cancel mid-term exams and exams?\\nStudents are required to register for exams no later than 3 (three) days before \\nthe scheduled exam (three days prior, until 11:59 midnight) and cancel an exam \\nregistration by the cancelation deadline defined in Infoeduca for each exam \\nterm separately. Exceptionally, due to the demanding organisation of final \\npractical exam scheduling, students may register for the final practical exam \\nno later than 7 (seven) days before the exam date and cancel their registration \\nby the cancelation deadline defined in Infoeduka.\\nWhen registering for an exam or cancelling a registration, students automatically \\nreceive confirmation of this activity. Keep this confirmation so that you may In case of overdue payments, it is not possible to register or take exams. Since', metadata={'source': 'data/student_guide.pdf', 'page': 11}), Document(page_content='receive confirmation of this activity. Keep this confirmation so that you may In case of overdue payments, it is not possible to register or take exams. Since \\nthe payments are registered only after being received in the University College \\naccount, students who registered the exam but were in the meantime denied \\naccess to the exam due to unfulfilled financial commitments, may access the \\nexam if they fulfilled their payment obligations in the meantime. \\nIn that case, the student has to personally inform the Student Office and \\nbring the payment receipt, after which the student will be issued permission \\nto take the exam. The student is obligated to show that permission to the \\nexam supervisor. \\nIMPORTANT:\\n •This possibility may only be used by students who registered their exam \\non time\\n •The permission may only be received during the working hours of the \\nStudent Office\\n •The payment confirmation has to be brought to the Student Office in \\nperson by the student \\n •Payment confirmations sent via e-mail will not be taken into account.\\n22\\n23', metadata={'source': 'data/student_guide.pdf', 'page': 11}), Document(page_content='Most students do not need additional exam attempts. With \\nconsistent effort and study, you can pass a course without any \\nproblems through the mid-term exam and three exam takes!If you are improving some of the learning outcomes you already \\npassed, Infoeduka records the points from that re-take, \\nregardless of whether you did better or worse than the first \\ntime. This means that during the re-take of the already passed \\nlearning outcome, it is also possible to fail.What is the additional fourth exam registration?\\nIf a period of 12 months from the date of enrolment has not expired, students \\nwho have failed to pass an exam three times can register for one exclusive \\nadditional examination in order to pass the course in question. The price of \\nthe first three regular examinations is included in the tuition fee, while the \\nadditional exam registration is charged in accordance with the fee stipulated \\nby the current Decision on Tuition Fees. The prerequisites for additional exam \\nregistrations are equal to those for regular exam sittings and the exam is taken \\nunder the same conditions. A student, who does not pass the additional exam, \\nmust re-enrol and pay tuition for the course in question.\\nHow long do I have to pass a course after enrolment?\\nEach enrolled course is valid for 12 months after the date of enrolment and \\nduring this period you are expected to fulfil all requirements related to the \\ncourse and pass all learning outcomes that enable you to pass the course. If \\nyou do not manage to pass the exam within 12 months, you will need to re-enrol \\nand repeat the course. This will require not only an additional investment of \\ntime but will also be an additional financial burden.\\nHow and when can I take certificate exams?\\nCertificate exams included in the tuition fee are not mandatory and free \\ncertificate exams are available only to students who meet all precertification \\nrequirements as prescribed. This usually refers to passing exams in related \\ncourses or obtaining a certain number of credits within the certificate exam \\npreparation system.\\nIn case the student fails to pass a certificate exam, the University College will \\nprovide an opportunity for re-evaluation through a second exam upon payment \\nof costs determined by the price list issued by the certification institution \\nresponsible for the test procedure.…I want to improve a learning outcome?\\nIf you have succeeded in passing one (or more) learning outcomes on your first \\nmid-term exam and you are not content with the number of points earned, you \\ncan improve on these results. You can increase your points in the second mid-\\nterm exam and the next examination period.Certificate exams can be taken within exam terms according to a pre-\\nannounced schedule but are not connected to the exams held at the end of \\neach course.\\nCertificate exams cannot replace exams conducted at the end of the course. \\nStudents generally take certificate exams in a particular field only after \\nsuccessfully passing the exam / exams related to the respective certificate \\nexam. The right to take certificate exams included in the tuition fee is valid \\nfor a maximum of 12 months after the expiry of student rights, in case these \\nexpire on the basis of successful completion of studies, or after the date of \\ndisenrollment or of cessation of student rights in case these rights cease on \\nany other basis.\\nWhat if…If you have registered for an exam and decided not to take the \\nexam, make sure to cancel the exam on time because the exam \\nwill otherwise be considered as taken and failed! This way you \\nwould be losing one exam sitting.How many times can an exam be taken?\\nEach exam can be taken up to four times through three regular exam sittings \\nand an additional fourth attempt. Registration of the second mid-term exam \\nis considered as the first exam sitting (pre-examination period).\\nBelieve in yourself, your abilities and your own potential! Algebra', metadata={'source': 'data/student_guide.pdf', 'page': 12}), Document(page_content='is considered as the first exam sitting (pre-examination period).\\nBelieve in yourself, your abilities and your own potential! Algebra \\nUniversity College promotes academic integrity. …I cheat on an exam?\\nStudents are expected to participate in classes, write homework, take mid-\\nterm exams, final exams, etc. Each of these activities must be done individually \\n(unless otherwise specified).\\nCopying from another student is considered a minor disciplinary offense and \\nmeasures will be applied in accordance with Article 8 of the Book of Regulations \\non Disciplinary and Material Responsibility. Measures are usually taken against \\nboth students involved, the one who was copying and the one who was copied \\nfrom.\\nIn case copying reoccurs after a disciplinary measure has already been imposed \\nin accordance with Article 8 of the Book of Regulations on Disciplinary and \\nMaterial Responsibility, it will be considered a serious disciplinary offense and \\nmeasures will be applied as stipulated in Article 7 of the aforementioned Book \\nof Regulations.\\n24\\n25', metadata={'source': 'data/student_guide.pdf', 'page': 12}), Document(page_content='If you are repeating the second year and have not passed a course of \\nthe first year, you cannot enrol in courses of the third year!!\\nAlthough this may seem like a nice break, it is not recommended to avoid \\nclasses during re-enrolment (even if you have obtained the signature). \\nIf you were not able to pass the course after attending lectures and \\npracticums, it will definitely be more difficult to pass the course without \\nclass attendance. Students are therefore recommended to attend the \\nclasses once again!In case you are enrolled in courses from two different study years in the same academic \\nyear (e.g. you are repeating a portion of the courses from the second year and have \\nenrolled several courses from the third year), it is possible that will be some overlap in \\nthe schedule of the lectures or practicums, as well as exam dates. If you decide to do \\nthis, i.e., enrol in courses from different study years, upon submitting your enrolment \\nform, you must confirm that you accept such a possibility and that you are aware this \\nmay lead to challenges in organising your time and obligations in a particular course. \\nIn this situation, the University College is not obligated to ensure that the courses you \\ntake do not overlap, but we will be happy to make adjustments, if there is opportunity \\nto do so.\\n…I want to change my sub-specialisation or study programme?\\nIf you want to change your sub-specialisation, or your study programme, it is best to \\ndo it as early as possible, in the first year of undergraduate studies, because that way \\nwill have to make up the smallest difference of courses. You may request a change \\nof the study programme at the start of the academic year (in September), while you \\nmay also request a change of sub-specialisation when registering for a new semester \\n(in September or February). All of your requests should be submitted via the Infoeduka \\nsystem using the Enrolment Form tool.\\n…I want to borrow a library book?\\nIf you want to borrow a book from the library, you can do so via the Infoeduka system, \\nusing the Library tool. You will select an area and/or enter a key word from the title or \\nauthor’s name, and a list of books will appear in the drop-down menu. After that, you \\ncan choose the book you want to borrow and click on the check button to see if it is \\navailable. If available, it will say ‘available’ next to the title of the book. You can order \\nthe book by clicking on the order button and once you do, you will see that the order …I fail to pass an oral exam or \\nrefuse a grade?\\nIf the student obtains an  \\nunsatisfactory grade based on \\nknowledge demonstrated in the oral \\nexam or refuses the grade offered \\nby the teacher, the student can re-\\nregister for the exam during one of \\nthe following exam terms and retake \\nthe oral exam (if satisfied with the \\npoints obtained for each learning \\noutcome during the course).…I have passed most of the \\nlearning outcomes – can I take \\nthe oral exam?\\nThe oral exam can be taken only \\nafter all outcomes have been \\nmarked as “green”, that is, after you \\nhave achieved a minimum of 50% of \\npossible points – all outcomes need \\nto be passed.\\n…I am repeating a year?\\nIf you do not acquire enough credits for enrolment in a higher year of study (a minimum \\nof 40 ECTS), you must re-enrol that same year. When repeating a year, you must re-\\nenrol all the courses of the previous year that have not been passed and pay a tuition \\nfee in the amount corresponding to the number of re-enrolled courses. Also, if you \\nhave earned between 25 and 39 ECTS points, you may, at your own request, enrol in a \\nmaximum of six (three in each semester) courses from the higher year, in addition to \\nthe courses you need to re-take.…I am repeating a course for which I have obtained a signature \\nduring the previous year?\\nIf you are retaking a course and have obtained a signature during the previous \\nyear, you can request the acknowledgement of a previously obtained signature.', metadata={'source': 'data/student_guide.pdf', 'page': 13}), Document(page_content='during the previous year?\\nIf you are retaking a course and have obtained a signature during the previous \\nyear, you can request the acknowledgement of a previously obtained signature. \\nThe acknowledgement of a signature must be requested when submitting the \\ndigital enrolment form through the Enrolment Form tool in the Infoeduka system \\n(this is possible if you have previously qualified for a signature in this course \\nand have not registered for the exam four times).\\nRegardless of the acknowledged signature, a student has the right to attend \\nclasses of the re-enrolled course, but is not required to achieve mandatory \\nattendance. Nevertheless, they are obliged to pass the course in a manner \\nstipulated during the year of re-enrolment (with possible changes in learning \\noutcomes, grading, etc.). The acknowledgement of a signature does not \\ntransfer points from previous years nor is the student exempted from paying \\nthe course tuition fee.... I can’t attend the exam I registered for?\\nWe understand that you may find yourself in circumstances that temporarily make it \\nimpossible to study (attend classes, respect deadlines for submission of work, or take \\nexams), such as illness or an otherwise unforeseen event that is outside your control. If \\nthese circumstances are in accordance with the circumstances defined in the Decision \\non Acceptable and Unacceptable Exceptional Circumstances (link: https://www.algebra.\\nhr/visoko-uciliste/wp-content/uploads/sites/2/2022/07/Odluka-okolnosti_27.04.22.\\npdf) you have the right to submit a written request for approval of the signature, \\ncancellation of the exam registration or extension of the deadline for submission of \\nwork. If the circumstances in which you find yourself are not in accordance with the \\ndefined acceptable circumstances, the request will not be granted.\\n…I do not qualify for a \\nsignature?\\nIf you do not fulfil the requirements \\nfor obtaining the signature, you will \\nautomatically need to re-enrol in \\nthe course because you will not be \\nable to take the exam. The same \\ncourse must be re-enrolled in the \\nfollowing academic year, which, in \\naddition to re-enrolment, entails \\npaying new tuition, satisfying the \\nminimum attendance requirement, \\nand prolonging your study time.\\n26\\n27', metadata={'source': 'data/student_guide.pdf', 'page': 13}), Document(page_content='Mentoring program\\nWe are aware that coming to a new environment and facing various new \\nobligations can be demanding and somewhat confusing, and we want to make \\nit as easy as possible for you to start your academic education.\\nThis is precisely why we have designed a mentoring programme for those of \\nyou who are starting your academic journey, to accompany you throughout \\nthe first year of your studies, alongside your mentors.\\nTake advantage of the opportunities provided by the mentoring \\nprogramme, because it is designed precisely to help you better cope \\nwith the responsibilities that await you during your studies. At the \\nmeetings with the mentors, you can get answers to questions related \\nto your studies, and the mentors will be happy to share with you their \\nexperiences gained during the many years of working with students. \\nIn addition to mentoring meetings, in cooperation with experts from \\nvarious fields, we organise workshops that can help you better manage \\nyour time, adopt new learning techniques, overcome exam jitters, and \\nmore. Don’t miss the opportunity to participate in this programme.was sent on the screen. When the Student Office receives the order and prepares \\nthe book, you will receive a notification to pick up the book. If the book is currently \\nunavailable, it will say ‘unavailable’ next to the title of the book.\\nAll the information about borrowing and returning books and the use of the college \\nreading room are available in the Regulations on the use of the library and the \\ncollege reading room, which may be found on our website in the section “About us” \\n– “Documents”.\\nAlgebra University College students have the opportunity to spend part of their \\nstudies at a foreign partner higher education institution within the Erasmus+ \\nprogramme, bilateral exchange programmes and shorter mobility programmes \\n(International Summer School programmes and BIP).\\nStudy visits  can last from 3 to 12 months. A mobility plan will be defined for each \\nstudent in agreement with the head of the study programme before using a \\nmobility. The mobility plan lists the courses that will be acknowledged by the \\nhome institution following the return from mobility, as well as any additional \\nstudent obligations. Courses that are not acknowledged will be recognised in \\nthe Diploma Supplement.\\nTraineeships  can last from 2 to 12 months. Thanks to student traineeships \\nabroad, you will be able to adapt more easily to specific labour market \\nrequirements in different countries, develop specific skills and better \\nunderstand the economic and social differences in various countries.\\nBlended intensive programmes (BIP) are short, intensive programmes that use \\ninnovative ways of learning and teaching, including the use of more flexible \\nmobility formats that combine physical mobility with a virtual segment. \\nThe duration of the physical segment is between 5 and 30 days, and upon \\nsuccessful completion of the programme, the student is awarded 3 to 6 ECTS \\ncredits (depending on the programme specifications).…I lose a library book?\\nIf you lose a library book, the University College will charge you for the amount \\nneeded in order to purchase a new copy and you will be issued an invoice stating \\nthe purchase value of the book.\\nIn addition, you can borrow books from the National and University Library (NSK) \\nthat also provides an additional space for studying. More information is available \\nat: www.nsk.hr/en/ . Books can also be borrowed from the Zagreb City Libraries (KGZ). \\nThe current membership fee is 7,00 EUR and enables you to borrow books from any \\nlibrary in the network (there are close to 40). More information is available at: www.\\nkgz.hr/en/about-us/zagreb-city-libraries-today/523 . Check out NSK and KGZ websites \\nfor information on exact membership fees.\\nDuring the whole study programme at Algebra University College, please feel free \\nto contact any of the professional services provided to support our students and', metadata={'source': 'data/student_guide.pdf', 'page': 14}), Document(page_content='During the whole study programme at Algebra University College, please feel free \\nto contact any of the professional services provided to support our students and \\ntheir studying process.\\nStudent Office\\nThe Student Office is a service that is primarily focused on helping students to \\nstudy successfully and have the best possible student experience. The Student \\nOffice enables students to resolve any doubts and cross barriers they might en -\\ncounter during their studies by assisting them to stay on the path when they need \\nguidance and strategic support. In addition, the Student Office encourages stu -\\ndents to develop a personal sense of their obligations, as well as rights. Some of \\nthe tasks performed by the Student Office:\\n •validating forms for enrolment in a higher semester/year of study\\n •preparing preliminary invoices\\n •lending and re-entering books and manuals of Algebra University \\nCollege library and organising the distribution of compulsory \\nliterature for each course (before the start of each semester)\\n •conducting the organisation of the examination process (examination \\nperiods, records of exam registrations and cancellations, exam lists)\\n •keeping student records (student files, registry book, \\nstudent identification cards, statistical data, certificates, \\nrequests and decisions, scholarships, transcripts)\\n •conducting the termination of the study process (based on \\ndisenrollment, successful completion of study programme)\\n •organising student graduation ceremonies. \\nRegarding the above mentioned, the Student Office can be contacted at:  \\nstudentska.referada@algebra.hr .Career Center\\nThe Career Centre provides you with all the necessary information on various \\ntraineeship possibilities and our partner companies on the labour market with \\nwhom we have established different types of cooperation. The Career Centre \\ncan be contacted at: centar.karijera@algebra.hr .\\nVice Dean for Students\\nThe Vice Dean for Students keeps track of your needs on a regular basis and \\nparticipates in the creation of processes that contribute to your student \\nexperience. The Vice Dean maintains regular communication with students \\nand observes your academic development and needs. Make sure to follow \\nInfoeduka, your računarstvo email address and Ms Teams notifications for all \\ninformation about events and activities organised for the purpose of elevating \\nyour student experience. \\nStudy support\\nGo global\\n28\\n29', metadata={'source': 'data/student_guide.pdf', 'page': 14}), Document(page_content='Student representatives and Student Ombudsman\\nThe student representatives are elected by the students of each study year and \\nrepresent the interests of students within the Academic Council, Committee \\nfor Quality Assurance and other bodies. The student representatives are your \\nspokespersons, so make sure to contact them with your problems, questions, \\ncritiques and suggestions. Information on student representatives can be found \\nat:  www.algebra.hr/visoko-uciliste/en/campus/student-representatives/ .\\nThe students are also represented by the Student Ombudsman who is responsible \\nfor protection and promotion of student rights.\\n Student Council\\nThe Student Council gathers all students interested in establishing and deepening \\ncommunication between students as well as between various organisations that \\nconnect students from different colleges, such as organised sports competitions, \\ntravelling and other activities. One of the most important goals of the Student \\nCouncil is enlivening  student life outside of the formal framework of lectures \\nand auditory exercises. Members of the Student Council are happy to assist \\nall interested students with coursework as teaching aids, and with the help of \\nteaching assistants. More information on the Student Council may be found at:  \\nwww.algebra.hr/visoko-uciliste/en/campus/student-council/ .  https://www.algebra.hr/visoko-uciliste/en/for-students/\\ninternational-cooperation/  \\n \\nInternational Office: \\ninternational-office@algebra.university \\nerasmus@algebra.hr \\nStudent Coordination\\nThe Student Coordination is a body that enables more students to engage in \\ndiscussions related to study programmes and studying. Each year it has one \\nrepresentative for every study programme and every specialisation, with student \\nrepresentatives, lecturers, heads of study programmes, heads of departments, \\nmembers of the Dean’s Office and non-teaching staff meeting approximately twice \\na semester to discuss topics relevant to study programmes and studying. Our goal is \\nto join forces in discussing possible improvements to study programmes or relevant \\nstudent issues. Student Coordinators are selected at the beginning of the academic \\nyear at the call for proposals of the Vice Dean for Students.\\nHow can students affect the quality of studies?\\nStudents can and should affect the quality of studies with their suggestions. All \\nsuggestions are welcomed and will be considered.\\nDuring the course of the study programme, you will participate in surveys regarding \\nyour satisfaction with the study programme and organisation of classes and you will \\nbe able to make suggestions regarding any improvements. Surveys are conducted \\ntwice during a semester, consist of 5 units, while access data for taking a survey is \\npublished within the Infoeduka system.Sports and leisure\\nIt is a well-known and scientifically proven fact that regular and appropriate physical \\nactivity improves human health. Insufficient physical activity and reduced stimulus \\nto the locomotor system are negatively reflected on the normal functioning of all \\norgans. Physical inactivity is the fourth leading risk factor for mortality in the world, \\nwhile physically active persons have significantly reduced risks various diseases \\n(World Health Organization, 2017).\\nOur sports manager, Tin Petračić is responsible for organising, implementing and \\nrunning our sports recreational programmes, and you can contact him at: sport@\\nalgebra.hr .Other information\\nIn 2023, we launched a new joint study programme in Computer Science – \\nInternet of Things and Artificial Intelligence in collaboration with EPITECH \\nfrom France. Students can experience studying in Zagreb and Paris while \\nearning dual degrees.\\nFor more information, visit our official website:\\nwww.algebra.hr/visoko-uciliste/en/studij/graduate-professional-program/iot-\\nand-ai/\\nInternational Summer School\\nAlgebra is organising the International Summer School for the 8th year running,', metadata={'source': 'data/student_guide.pdf', 'page': 15}), Document(page_content='www.algebra.hr/visoko-uciliste/en/studij/graduate-professional-program/iot-\\nand-ai/\\nInternational Summer School\\nAlgebra is organising the International Summer School for the 8th year running, \\nwith the aim of introducing students to the quality of our study programs. Our \\nInternational Summer School programmes are anything but boring! Students \\nhave the opportunity to meet outstanding and ambitious colleagues from \\naround the world. We’ll take you to some of the world-famous places in Croatia, \\nhelp you explore the rich historical and cultural heritage of our country and give \\nyou the chance to have an unforgettable time at various events and festivals \\nin Zagreb and many other interesting locations. Our teaching programmes \\nin various fields of digital technologies are created to be both creative and \\napplicable and suitable for groups of foreign and domestic students with \\ndifferent study backgrounds. Furthermore, students can also attend the \\nsummer schools of our partner institutions in countries such as China, Canada, \\nor South Korea. For more information about the International Summer School, \\nvisit www.algebra.hr/international-school/ , and for more information on all \\ninternational student opportunities, contact the International Office at: \\ninternational-office@algebra.university .\\nABC BootCamps summer programmes\\nIn addition to the International Summer School in Croatia, Algebra University \\nCollege organises ABC BootCamps summer programmes in various globally \\nknown destinations. This opportunity is open to all students and young \\nentrepreneurs who wish to turn their ideas into reality, meet success-driven \\nindividuals from different sides of the world, and acquire up-to-date knowledge \\nand skills in the fields of business, innovation, and technology.\\nInteractive lectures led by US and Canadian professors, along with inspiring \\nguest speakers from different industries and visits to renowned companies, \\nimmerse participants in the modern business world. This experience nurtures \\ninnovative thinking and broadens networks.\\nPrevious ABC BootCamps summer programmes have taken place in vibrant \\nToronto (Canada) and the innovative Silicon Valley (California) as well as in \\nMunich (Germany). Information about planned destinations for the current \\nyear is available on our website: www.abcbootcamps.com. For any additional \\ninformation and special benefits for Algebra students, reach out to the \\nInternational Office. Embark on your ABC adventure this summer!\\n30\\n31', metadata={'source': 'data/student_guide.pdf', 'page': 15}), Document(page_content='Suggestions and comments are regularly recorded through feedback forms or \\nstudent representative meetings and may be submitted in writing at any time using \\nthe e-mail box provided for comments and suggestions at: letusknow@algebra.hr ,\\nor in person to Student Office staff.\\nComplaints and appeals\\nAll complaints submitted in good faith will be considered fairly and any student who \\ninitiates this procedure will not be put in a disadvantaged position for having done so. It \\nis expected that most issues can be resolved in a friendly and informal way. Therefore, \\nwe recommend that you first try to resolve any complaint or appeal informally with the \\nperson whose work or lack of action is the object of your complaint or appeal. \\nIf the complaint or appeal is not resolved in a satisfactory manner, a formal complaint \\nor appeal may be submitted using the email boxes provided for this purpose. \\nComplaints are sent to: complaints@algebra.hr .\\nAppeals are sent to: appeals@algebra.hr .\\nBoth may be submitted in writing to the staff of the Student Office. In order for the \\ncase to be properly examined, students should be specific in describing the cause and \\nnature of their complaint or appeal.\\nMore detailed instructions are available at: \\nwww.algebra.hr/visoko-uciliste/wp-content/uploads/sites/2/2022/07/Politika-i-postupci-\\nprigovora-i-zalbi_eng-_27.4.2022.pdf .\\nImportant: Students must leave the building and the student \\npremises no later than 10:00 p.m. on weekdays and 9:00 p.m. on \\nSaturdays. The campus is closed on Sundays. The surveys are mandatory and important because their results allow \\nus to analyse the quality of the study programme and introduce \\nimprovements!\\nIf you feel that you cannot overcome the difficulties you are facing on \\nyour own, be sure to seek professional helpMedical care\\nBoosting and maintaining mental health\\nAccording to the World Health Organization, mental health is the state of well-being \\nin which an individual realises their potential, is able to cope with the stress of daily \\nlife, work productively and fruitfully, and contribute to their community. By focusing our \\nattention and activities on caring for our own mental health, we work to maintain balance, \\npreserve our mental health and quality of life. Everyone can take steps to strengthen and \\npreserve their mental health. There are numerous free options available to us, including \\nthe following:\\n •Manual for self-help and empowerment of students “Radim na sebi”, published \\nby the Croatian Institute of Public Health, available on the link: https://\\nstampar.hr/sites/default/files/2021-06/prirucnik_radim_na_sebi.pdf .\\n •Advice for students are offered on this link: https://mentalnozdravlje.zagreb.\\nhr/savjeti-strucnjaka/briga-za-mentalno-zdravlje-savjeti-za-studente/ .\\n •The link https://mentalnozdravlje.zagreb.hr/vjezbe-i-podrska/  offers \\nadvice and exercises for dealing with certain difficulties. \\n •Little School for Freshmen appears at: https://www.czm.\\nhr/blog/za-studente/mala-skola-za-brucose .\\n •Tips for adapting to student life https://www.czm.hr/blog/\\nza-studente/prilagodba-na-studentski-zivot . \\nFor a self- evaluation of your mental health, use the following questionnaires:  \\n •The association Kako si? questionnaire is available on the link: https://\\nmentalnozdravlje.zagreb.hr/saznaj-kako-si-ispuni-upitnik-dass-21/  \\n •The questionnaire for self-assessment of mental health difficulties \\npublished by the Office for Psychological Support and Mental Health \\nProtection of the University of Zagreb is available here: https://\\nmentalno-zdravlje.info/measures/measures_psih-2020_index.php  \\nThe school doctor can also help you in case of difficulties related to learning as well as \\npossible problems caused by changes and adaptation to college life. For students of \\nAlgebra University College, the office of dr. Matea Bračić at the designated school clinic \\n‘Medveščak’ is located at Laginjina Street 16.', metadata={'source': 'data/student_guide.pdf', 'page': 16}), Document(page_content='Algebra University College, the office of dr. Matea Bračić at the designated school clinic \\n‘Medveščak’ is located at Laginjina Street 16.\\nOther instances you can contact during your studies in Zagreb can be found on these links: \\nhttps://mentalnozdravlje.zagreb.hr/ustanove/.n , or https://www.vef.unizg.hr/studij/urkaps/\\npopis-ustanova-za-pruzanje-psiholoske-pomoci/  or https://www.psiholoskapomoc.hr/\\nportfolio/ , containing the contacts for psychological support providers from all of Croatia.\\nYou can keep track of Infoeduca notifications, where we will inform you about initiatives, \\nworkshops and events related to strengthening and maintaining mental health.\\nSources:\\n •Mental health - important notions, https://www.unicef .\\norg/croatia/mentalno-zdravlje-vazni-pojmovi \\n •What is mental health, https://mentalnozdravlje.\\nzagreb.hr/sto-je-mentalno-zdravlje/  \\n •Office for Psychological Support and Mental Health \\nProtection of the University of Zagreb \\n •Andrija Stampar Teaching Institute of Public Health\\n •Project “Centre for Mental Health Protection” – Zagreb Health Clinic  \\nStudents from EU Member states must hold an European Health Insurance Card. Students \\nfrom countries outside the EU must hold a valid health insurance policy.Innovation Lab\\nStudent areas\\nStudents have the premises of the college Reading Room (library), Slavko Krajcar \\nInnovation Lab and Družiona at their disposal.\\n •The college reading room is located on the A level and is available \\nfor studying and working, while students may also use it to examine \\nspecialised literature. During your stay at the library, please do not \\ndisturb the work of other users, speak loudly, bring in food or drinks, \\nuse mobile phones, and do preserve the library materials.\\n •The Slavko Krajcar Innovation lab is located on the A level and \\ncontains equipment, mostly computers and programmes used in the \\nclassroom. Students may use the equipment during campus working \\nhours, and it is also possible to work on team projects at the Lab.\\n •The social area Družiona is located on the F level and is \\ndesigned for socialising, eating and drinking.\\nThe student areas are accessible using the student ID X-ica.\\nParking\\nParking is possible in the garage within the building. Parking is payable by SMS or using \\nthe “ParkWallet Premium” mobile application. There are parking areas in the vicinity \\nof the building, which are charged according to the Zagreb parking zone 3 tariff.\\n32\\n33', metadata={'source': 'data/student_guide.pdf', 'page': 16}), Document(page_content='A: Gradišćanska 24, \\n    10000 Zagreb, Croatia\\nT: 00385 1 2222 182\\nFax: 00385 1 2222 183\\nE: student@algebra.hr\\nW: www.algebra.university', metadata={'source': 'data/student_guide.pdf', 'page': 17})]\n"
     ]
    }
   ],
   "source": [
    "print(documents)"
   ]
  },
  {
   "cell_type": "code",
   "execution_count": null,
   "metadata": {},
   "outputs": [
    {
     "name": "stdout",
     "output_type": "stream",
     "text": [
      "INTRODUCTION  2\n",
      "TABLE OF CONTENTS 3\n",
      "About Algebra University College  4\n",
      "Campus orientation 6\n",
      "Plan of Algebra University College premises  8\n",
      "Code of conduct  10\n",
      "Study structure  14\n",
      "Academic year 2023/2024 calendar  15\n",
      "What do I need to know as a student of \n",
      "Algebra University College?  16\n",
      "Infoeduka – the digital student service or \n",
      "digital notice board 16\n",
      "Student status  17\n",
      "What are the conditions for enrolment in a \n",
      "higher year of study? 17\n",
      "What is the semester status?  18\n",
      "What is X-ica and its purpose? 18\n",
      "ECTS Credits and Learning Outcomes 19\n",
      "What are ECTS credits? 19\n",
      "What are learning outcomes? 19\n",
      "Classes organisation and attendance  20\n",
      "Why is it important to attend classes? 20\n",
      "What are additional classes? 20\n",
      "EXAMINATIONS  21\n",
      "How to pass an exam?  21\n",
      "What are mid-term exams and how are they \n",
      "organised?  21\n",
      "Examination periods  22\n",
      "How to register and cancel mid-term exams \n",
      "and exams?  22\n",
      "When has a student failed an exam?  23\n",
      "How many times can an exam be taken?  24\n",
      "What is the additional fourth exam \n",
      "registration?  24\n",
      "How long do I have to pass a course after \n",
      "enrolment?  24\n",
      "How and when can I take certificate exams? 24WHAT IF…. 25\n",
      "…I want to improve a learning outcome? 25\n",
      "…I cheat on an exam? 25\n",
      "…I fail to pass an oral exam or refuse a \n",
      "grade?  26\n",
      "…I have passed most of the learning outcomes \n",
      "– can I take the oral exam? 26\n",
      "…I am repeating a course for which I have \n",
      "obtained a signature during the previous \n",
      "year?  26\n",
      "…I do not qualify for a signature? 26\n",
      "...I can’t attend the exam I registered for? 27\n",
      "…I am repeating a year? 27\n",
      "…I want to change my sub-specialisation or \n",
      "study programme? 27\n",
      "…I want to borrow a library book? 27\n",
      "…I lose a library book? 28\n",
      "Study support 28\n",
      "Student Office 28\n",
      "Career Center  29\n",
      "Vice Dean for Students 29\n",
      "Mentoring program 29\n",
      "Go global 29 \n",
      "International Summer School  30\n",
      "ABC BootCamps summer programmes  30\n",
      "Other information  31\n",
      "Sports and leisure 31\n",
      "Student representatives and Student \n",
      "Ombudsman  31\n",
      "Student Council  31\n",
      "Student Coordination  31\n",
      "How can students affect the quality of \n",
      "studies?  31\n",
      "Complaints and appeals  32\n",
      "Innovation Lab  32\n",
      "Parking 32\n",
      "Medical care 33\n",
      "Boosting and maintaining mental health 33Dear students, \n",
      "at the start of a new academic year, allow me to wish you a warm welcome to \n",
      "Algebra University College and to present to you our study programmes. I believe \n",
      "that, by choosing one of these programmes, with our help, you are stepping \n",
      "into a better, digital future. \n",
      "The present has brought us many challenges, but they have once again showed \n",
      "us that even in such dire situations, the human spirit and togetherness can \n",
      "guide us on the path ahead. We will do everything in our power to provide you \n",
      "with the highest quality education. In addition, bearing all this in mind, we invite \n",
      "you to get in touch with us should you encounter any difficulties or challenges \n",
      "during your studies. \n",
      "Bringing together education and economy is our guiding principle in creating \n",
      "study programmes adjusted to the existing and future market demands. Our \n",
      "track record and hundreds of alumni employed at leading global and Croatian \n",
      "companies are proof that we have been successful in this endeavour. Our college \n",
      "offers professional study programmes, which means they also encompass \n",
      "the practical application of knowledge. This year, we are especially proud to \n",
      "introduce two new professional bachelor programmes: in Game Development \n",
      "and Multimedia Production, which will allow you to work on developing innovations, \n",
      "connect with experts in the field, as well as acquire new, broader knowledge in \n",
      "different areas.\n",
      "Likewise, according to the new Act on Higher Education and Scientific Activity, \n",
      "as of this academic year, secondary school graduates who have not passed \n",
      "national matriculation exams will not be able to enrol in level 6 studies, even \n",
      "by taking an entrance exam. Therefore, this year Algebra University College is \n",
      "launching a level 5 study programme, the only one of its kind in Croatia – the\n"
     ]
    }
   ],
   "source": [
    "print(documents[1].page_content)"
   ]
  },
  {
   "cell_type": "markdown",
   "metadata": {},
   "source": [
    "## Word doc loader"
   ]
  },
  {
   "cell_type": "code",
   "execution_count": 14,
   "metadata": {},
   "outputs": [],
   "source": [
    "from langchain.document_loaders import Docx2txtLoader\n",
    "loader = Docx2txtLoader(\"data/docker.docx\")\n",
    "documents = loader.load()"
   ]
  },
  {
   "cell_type": "code",
   "execution_count": 15,
   "metadata": {},
   "outputs": [
    {
     "name": "stdout",
     "output_type": "stream",
     "text": [
      "Install Docker Desktop on Windows\n",
      "\n",
      "This page contains the download URL, information about system requirements, and instructions on how to install Docker Desktop for Windows.\n",
      "\n",
      "Docker Desktop for Windows\n",
      "\n",
      "For checksums, see Release notes\n",
      "\n",
      "Docker Desktop terms\n",
      "\n",
      "Commercial use of Docker Desktop in larger enterprises (more than 250 employees OR more than $10 million USD in annual revenue) requires a paid subscription.\n",
      "\n",
      "System requirements\n",
      "\n",
      "WSL 2 backend Hyper-V backend and Windows containers\n",
      "\n",
      "\n",
      "\n",
      "WSL version 1.1.3.0 or later.\n",
      "\n",
      "Windows 11 64-bit: Home or Pro version 21H2 or higher, or Enterprise or Education version 21H2 or higher.\n",
      "\n",
      "Windows 10 64-bit:\n",
      "\n",
      "We recommend Home or Pro 22H2 (build 19045) or higher, or Enterprise or Education 22H2 (build 19045) or higher.\n",
      "\n",
      "Minimum required is Home or Pro 21H2 (build 19044) or higher, or Enterprise or Education 21H2 (build 19044) or higher.\n",
      "\n",
      "Turn on the WSL 2 feature on Windows. For detailed instructions, refer to the Microsoft documentation.\n",
      "\n",
      "The following hardware prerequisites are required to successfully run WSL 2 on Windows 10 or Windows 11:\n",
      "\n",
      "64-bit processor with Second Level Address Translation (SLAT)\n",
      "\n",
      "4GB system RAM\n",
      "\n",
      "Enable hardware virtualization in BIOS. For more information, see Virtualization.\n",
      "\n",
      "Important\n",
      "\n",
      "To run Windows containers, you need Windows 10 or Windows 11 Professional or Enterprise edition. Windows Home or Education editions only allow you to run Linux containers.\n",
      "\n",
      "Note\n",
      "\n",
      "Docker only supports Docker Desktop on Windows for those versions of Windows that are still within Microsoft’s servicing timeline.\n",
      "\n",
      "Should I use Hyper-V or WSL?\n",
      "\n",
      "Docker Desktop's functionality remains consistent on both WSL and Hyper-V, without a preference for either architecture. Hyper-V and WSL have their own advantages and disadvantages, depending on your specific set up and your planned use case.\n",
      "\n",
      "\n",
      "\n",
      "Containers and images created with Docker Desktop are shared between all user accounts on machines where it is installed. This is because all Windows accounts use the same VM to build and run containers. Note that it is not possible to share containers and images between user accounts when using the Docker Desktop WSL 2 backend.\n",
      "\n",
      "Running Docker Desktop inside a VMware ESXi or Azure VM is supported for Docker Business customers. It requires enabling nested virtualization on the hypervisor first. For more information, see Running Docker Desktop in a VM or VDI environment.\n",
      "\n",
      "About Windows containersexpand_more\n",
      "\n",
      "Install Docker Desktop on Windows\n",
      "\n",
      "Install interactively Install from the command line\n",
      "\n",
      "\n",
      "\n",
      "Download the installer using the download button at the top of the page, or from the release notes.\n",
      "\n",
      "Double-click Docker Desktop Installer.exe to run the installer.\n",
      "\n",
      "When prompted, ensure the Use WSL 2 instead of Hyper-V option on the Configuration page is selected or not depending on your choice of backend.\n",
      "\n",
      "If your system only supports one of the two options, you will not be able to select which backend to use.\n",
      "\n",
      "Follow the instructions on the installation wizard to authorize the installer and proceed with the install.\n",
      "\n",
      "When the installation is successful, select Close to complete the installation process.\n",
      "\n",
      "If your admin account is different to your user account, you must add the user to the docker-users group:\n",
      "\n",
      "Run Computer Management as an administrator.\n",
      "\n",
      "Navigate to Local Users and Groups > Groups > docker-users.\n",
      "\n",
      "Right-click to add the user to the group.\n",
      "\n",
      "Sign out and sign back in for the changes to take effect.\n",
      "\n",
      "\n",
      "\n",
      "Start Docker Desktop\n",
      "\n",
      "Docker Desktop does not start automatically after installation. To start Docker Desktop:\n",
      "\n",
      "Search for Docker, and select Docker Desktop in the search results.\n",
      "\n",
      "\n",
      "\n",
      "The Docker menu (  ) displays the Docker Subscription Service Agreement.\n",
      "\n",
      "Here’s a summary of the key points:\n",
      "\n",
      "Docker Desktop is free for small businesses (fewer than 250 employees AND less than $10 million in annual revenue), personal use, education, and non-commercial open source projects.\n",
      "\n",
      "Otherwise, it requires a paid subscription for professional use.\n",
      "\n",
      "Paid subscriptions are also required for government entities.\n",
      "\n",
      "The Docker Pro, Team, and Business subscriptions include commercial use of Docker Desktop.\n",
      "\n",
      "Select Accept to continue. Docker Desktop starts after you accept the terms.\n",
      "\n",
      "Note that Docker Desktop won't run if you do not agree to the terms. You can choose to accept the terms at a later date by opening Docker Desktop.\n",
      "\n",
      "For more information, see Docker Desktop Subscription Service Agreement. We recommend that you also read the FAQs.\n",
      "\n",
      "Where to go next\n",
      "\n",
      "Get started with Docker.\n",
      "\n",
      "Explore Docker Desktop and all its features.\n",
      "\n",
      "Troubleshooting describes common problems, workarounds, and how to get support.\n",
      "\n",
      "FAQs provide answers to frequently asked questions.\n",
      "\n",
      "Release notes lists component updates, new features, and improvements associated with Docker Desktop releases.\n",
      "\n",
      "Back up and restore data provides instructions on backing up and restoring data related to Docker.\n"
     ]
    }
   ],
   "source": [
    "print(documents[0].page_content)"
   ]
  },
  {
   "cell_type": "markdown",
   "metadata": {},
   "source": [
    "## Chek/filter files in data folder "
   ]
  },
  {
   "cell_type": "code",
   "execution_count": 16,
   "metadata": {},
   "outputs": [
    {
     "data": {
      "text/plain": [
       "['data/call_admission_20_21.pdf', 'data/student_guide.pdf']"
      ]
     },
     "execution_count": 16,
     "metadata": {},
     "output_type": "execute_result"
    }
   ],
   "source": [
    "# list only pdf file paths in data folder\n",
    "pdf_file_paths = [os.path.join('data/', f) for f in os.listdir('data/') if f.endswith('.pdf')]\n",
    "pdf_file_paths"
   ]
  },
  {
   "cell_type": "code",
   "execution_count": 17,
   "metadata": {},
   "outputs": [
    {
     "name": "stdout",
     "output_type": "stream",
     "text": [
      "['call_admission_20_21.pdf', 'student_guide.pdf']\n"
     ]
    }
   ],
   "source": [
    "# list only pdf files in \"../data/ foler\n",
    "pdf_files = os.listdir(\"data/\")\n",
    "pdf_files = [f for f in pdf_files if f.endswith(\".pdf\")]\n",
    "print(pdf_files)\n"
   ]
  },
  {
   "cell_type": "code",
   "execution_count": 18,
   "metadata": {},
   "outputs": [
    {
     "name": "stdout",
     "output_type": "stream",
     "text": [
      "['docker.docx']\n"
     ]
    }
   ],
   "source": [
    "# list only docx files in \"../data/ foler\n",
    "doc_files = os.listdir(\"data/\")\n",
    "doc_files = [f for f in doc_files if f.endswith(\".docx\")]\n",
    "print(doc_files)"
   ]
  },
  {
   "cell_type": "code",
   "execution_count": 19,
   "metadata": {},
   "outputs": [
    {
     "name": "stdout",
     "output_type": "stream",
     "text": [
      "['ATTVSP_2023_Lecture_Multimodal_Data_Intelligence.pptx']\n"
     ]
    }
   ],
   "source": [
    "# list only pptx files in \"../data/ foler\n",
    "ppt_files = os.listdir(\"data/\")\n",
    "ppt_files = [f for f in ppt_files if f.endswith(\".pptx\")]\n",
    "print(ppt_files)"
   ]
  },
  {
   "cell_type": "markdown",
   "metadata": {},
   "source": [
    "# 2. Text Splitters in LangChain\n",
    "\n",
    "After loading documents, it's often necessary to transform them to better suit specific applications. A common transformation is splitting a long document into smaller chunks that fit within the context window of your model. LangChain provides a variety of built-in document transformers for splitting, combining, filtering, and manipulating documents.\n",
    "\n",
    "## The Necessity of Text Splitting\n",
    "\n",
    "Handling long text pieces requires splitting them into manageable chunks. While this might seem straightforward, there's considerable complexity involved. The goal is to keep semantically related text together, and what constitutes 'semantically related' can vary depending on the type of text.\n",
    "\n",
    "### How Text Splitters Work:\n",
    "\n",
    "1. **Split Text**: Break the text into small, semantically meaningful units (often sentences).\n",
    "2. **Combine Chunks**: Aggregate these small chunks into larger ones until reaching a certain size limit (determined by a specific function).\n",
    "3. **Create Overlapping Chunks**: Once the size limit is reached, the chunk becomes a separate piece of text, and a new chunk begins, with some overlap to maintain context.\n",
    "\n",
    "### Customization Axes:\n",
    "\n",
    "- **Text Splitting Method**: How the text is initially divided into smaller units.\n",
    "- **Chunk Size Measurement**: How the size of the chunks is determined.\n",
    "\n",
    "## Types of Text Splitters in LangChain\n",
    "\n",
    "LangChain includes various text splitters, each with unique characteristics. Here's an overview:\n",
    "\n",
    "| Name | Splits On | Adds Metadata | Description |\n",
    "|------|-----------|---------------|-------------|\n",
    "| Recursive | User-defined characters | No | Recursively splits text, aiming to keep related pieces together. Recommended for initial text splitting. |\n",
    "| HTML | HTML characters | Yes | Splits based on HTML characters, adding metadata about chunk origins. |\n",
    "| Markdown | Markdown characters | Yes | Splits based on Markdown characters, adding metadata about chunk origins. |\n",
    "| Code | Language-specific characters | No | Splits text based on coding language syntax. Supports 15 languages. |\n",
    "| Token | Tokens | No | Splits text based on tokens. Offers different methods for measuring tokens. |\n",
    "| Character | User-defined character | No | Splits text based on a specified character. A simpler method. |\n",
    "| [Experimental] Semantic Chunker | Sentences | No | Initially splits on sentences, then combines adjacent ones if semantically similar. Developed by Greg Kamradt. |\n",
    "\n",
    "## Evaluating Text Splitters\n",
    "\n",
    "To assess text splitters, you can use the Chunkviz utility by Greg Kamradt. Chunkviz visualizes text splitting and aids in fine-tuning the splitting parameters.\n",
    "\n",
    "## Other Document Transformations\n",
    "\n",
    "Text splitting is just one transformation type for document preparation. LangChain integrates with third-party tools for additional document transformations. Head to the Integrations section for more details on these tools.\n"
   ]
  },
  {
   "cell_type": "markdown",
   "metadata": {},
   "source": [
    "# Recursive Character Text Splitter in LangChain\n",
    "\n",
    "When dealing with large documents, it's often necessary to split the text into smaller, more manageable chunks. LangChain's `RecursiveCharacterTextSplitter` is an ideal tool for this task, especially for generic text. It recursively splits text based on a list of characters, with the goal of keeping semantically related pieces of text together.\n",
    "\n",
    "## How It Works\n",
    "\n",
    "- **How Text Is Split**: The text is split based on a list of characters. The default list is `[\"\\n\\n\", \"\\n\", \" \", \"\"]`.\n",
    "- **Chunk Size Measurement**: The size of each chunk is measured by the number of characters.\n",
    "\n",
    "## Example: Splitting a Document\n",
    "\n",
    "First, we'll read a long document and then use the `RecursiveCharacterTextSplitter` to split it into smaller chunks.\n"
   ]
  },
  {
   "cell_type": "markdown",
   "metadata": {},
   "source": [
    "## RecursiveCharacterTextSplitter"
   ]
  },
  {
   "cell_type": "code",
   "execution_count": 20,
   "metadata": {},
   "outputs": [
    {
     "name": "stdout",
     "output_type": "stream",
     "text": [
      "0.Chunk has length 166 and the chunk content is: Algebra became University for its 25th birthday\n",
      "\n",
      "On its 25th birthday, Algebra completed the accreditation process and became a University - Zagreb, December 21, 2023\n",
      "1.Chunk has length 199 and the chunk content is: Algebra University started three additional professional study programs in the current academic year 2023-2024, with a record number of over 2,000 enrolled students. Three new university studies will\n",
      "2.Chunk has length 62 and the chunk content is: studies will start at the beginning of the next academic year.\n",
      "3.Chunk has length 194 and the chunk content is: Algebra, having received a permit and a positive accreditation recommendation from the Agency for Science and Higher Education and a final positive opinion, has formally become the first private\n",
      "4.Chunk has length 82 and the chunk content is: the first private university in Croatia to focus on technical and digital studies.\n",
      "5.Chunk has length 148 and the chunk content is: The University of Zagreb carried the mentoring program for Algebra University through its component Faculty of Electrical Engineering and Computing.\n",
      "6.Chunk has length 198 and the chunk content is: Algebra University's mission is to develop a dynamic and innovative learning environment that empowers students and attendees to be leaders in the development and application of digital technologies\n",
      "7.Chunk has length 199 and the chunk content is: technologies in various fields. With the establishment of the Algebra University, the Rector, associate professor, Ph.D. Mislav Balković also became a full member of the Croatian Rector's Conference.\n",
      "8.Chunk has length 120 and the chunk content is: Conference. At the University constituent sitting, along with Rector Balković, the new vice-rectors were also appointed.\n",
      "9.Chunk has length 194 and the chunk content is: The new Economic Council and University Senate were also formed at the constituent sitting held on the new Algebra campus in Zagreb. The function of the new Economic Council will be to encourage\n",
      "10.Chunk has length 161 and the chunk content is: be to encourage high-quality cooperation between the University and the economy, adapting educational programs to the needs of the labour market and future jobs.\n",
      "11.Chunk has length 197 and the chunk content is: Marijana Bačić, member of the Management Board and COO Business for HT business users, was elected president of the Economic Council. Members of the Economic Council are: HT, Ericsson Nikola Tesla,\n",
      "12.Chunk has length 195 and the chunk content is: Nikola Tesla, airt, APIS IT, 404 agency, Infobip, Atos, SPAN, NovaTV, RTL, HURA, Imago, Bruketa Žinić and Grey, Franck, Podravka, Jamnica, PBZ, Kofein agency, Marvin agency, Nanobit, Pine Studio,\n",
      "13.Chunk has length 199 and the chunk content is: Pine Studio, Good Game Global, AKD, Hrvatska pošta, Oraclum, Croatian Employers' Association, Večernji list, St. Catherine Specialty Hospital, but also colleagues from the Design study at the Faculty\n",
      "14.Chunk has length 150 and the chunk content is: at the Faculty of Architecture and Computing study at the Faculty of Electrical Engineering and Computing, both as a part of the University of Zagreb.\n",
      "15.Chunk has length 196 and the chunk content is: In addition to the new university studies, Algebra University plans to further develop its professional studies through membership in the European Association of Institutions in Higher Education -\n",
      "16.Chunk has length 27 and the chunk content is: Higher Education - EURASHE.\n",
      "17.Chunk has length 37 and the chunk content is: Gaming and esports experts at Algebra\n",
      "18.Chunk has length 198 and the chunk content is: Gaming and esports industries have become an integral part of the culture of younger populations in recent years. Not long ago, playing video games was a hobby that gradually turned into a lucrative\n",
      "19.Chunk has length 194 and the chunk content is: into a lucrative business and a successful career. The esports ecosystem includes not only professional esports players but also various stakeholders such as game development studios, video game\n",
      "20.Chunk has length 140 and the chunk content is: studios, video game publishers, and many other professions that may not seem directly related to the industry but are of immense importance.\n",
      "21.Chunk has length 196 and the chunk content is: Various experts from the fields of marketing, IT industry, management, and many other professions take their place within esports, and their knowledge and multidisciplinary experiences are crucial\n",
      "22.Chunk has length 196 and the chunk content is: are crucial for realizing the full potential of the industry. Some of them are coming Zagreb in early December to Algebra University as part of the Beyond Esports conference. They will share their\n",
      "23.Chunk has length 146 and the chunk content is: will share their stories and educate the public about the potential, importance, and role that esports plays in the development of modern society.\n",
      "24.Chunk has length 194 and the chunk content is: Beyond Esports is the second conference organized by Good Game Global, a well-known Croatian agency that offers a wide range of services related to the organization of esports competitions, live\n",
      "25.Chunk has length 197 and the chunk content is: competitions, live stream production, digital marketing, and consulting activities related to the development of the industry. The main goals of the conference are to define, empower, bring closer,\n",
      "26.Chunk has length 188 and the chunk content is: bring closer, and educate visitors about the main values and potential of esports. Through interesting panels and one-day activities, the conference will host experts from some of the most\n",
      "27.Chunk has length 197 and the chunk content is: some of the most influential global companies such as Blast, Meta, G2 Esports, Samsung, as well as domestic and regional giants like Sofascore, Superbet, Span, Outfit7, Happening, Croatian Telecom,\n",
      "28.Chunk has length 195 and the chunk content is: Croatian Telecom, Croatian Esports Federation, Croatian Olympic Committee, and GNK Dinamo. Through the perspective of each participant in this quite large and complex system, conference attendees\n",
      "29.Chunk has length 196 and the chunk content is: attendees will be able to firsthand learn about what an ordinary day looks like for a professional esports player, team, competition organizer, and how famous global and regional brands find their\n",
      "30.Chunk has length 80 and the chunk content is: brands find their place and communicate their values through the esports filter.\n",
      "31.Chunk has length 197 and the chunk content is: The conference will take place at the Algebra campus on December 8, 2023. Tickets are on sale and can be found on Entrio.hr, and more detailed information, as well as the schedule and a list of all\n",
      "32.Chunk has length 196 and the chunk content is: and a list of all speakers, can be found on the official website - Beyond Esports conference. Secure your tickets, peek behind the scenes of professional gaming and the esports industry, and enjoy\n",
      "33.Chunk has length 69 and the chunk content is: industry, and enjoy the stories of well-known world esports experts!\"\n",
      "34.Chunk has length 131 and the chunk content is: Algebra’s winners of the A1 Student eChallenge League\n",
      "\n",
      "The 11th edition of the most prestigious regional A1 Adria League has ended.\n",
      "35.Chunk has length 115 and the chunk content is: Last weekend in the finals to remember, the winners of three games - FIFA23, CS: GO and Brawl Stars - were crowned.\n",
      "36.Chunk has length 196 and the chunk content is: It was the most exciting finals so far of the Reboot Games Weekend powered by A1, and apart from the finalists of the well-known A1 Adria League, Algebra students also took their win at the Reboot\n",
      "37.Chunk has length 46 and the chunk content is: win at the Reboot Games Weekend powered by A1!\n",
      "38.Chunk has length 196 and the chunk content is: Algebra e-Sport team, Neo Čikić, Matej Galić, Marin Bakmaz, Renato Petričević, and Fran Kukovičić with their coach Valentino Slavec won first place in the A1 Student eChallenge league: CS: GO, and\n",
      "39.Chunk has length 124 and the chunk content is: league: CS: GO, and Tin Škrgatić is the winner of the A1 Student eChallenge league: FIFA 23. Congratulations to our winners!\n",
      "40.Chunk has length 190 and the chunk content is: The new format of the gaming competition, intended exclusively for students, was created in collaboration with A1 Croatia and the four most prominent technical faculties in Croatia - Algebra\n",
      "41.Chunk has length 194 and the chunk content is: Croatia - Algebra University College, the Faculty of Electrical Engineering and Computing, the Faculty of Science and Zagreb University of Applied Sciences with a total prize fund of 1530 euros.\n",
      "42.Chunk has length 133 and the chunk content is: In addition to great fun, the idea of the competition was to encourage young people to develop their careers in the video game world.\n",
      "43.Chunk has length 156 and the chunk content is: Algebra University College is also leading the path of joining the gaming industry with its first professional bachelor study programme in game development!\n"
     ]
    }
   ],
   "source": [
    "# Read the document\n",
    "with open(\"data/algebra_news.txt\") as f:\n",
    "    algebra = f.read()\n",
    "\n",
    "from langchain.text_splitter import RecursiveCharacterTextSplitter\n",
    "\n",
    "# Initialize the text splitter\n",
    "text_splitter = RecursiveCharacterTextSplitter(\n",
    "    chunk_size=200,  # Set a small chunk size for demonstration\n",
    "    chunk_overlap=20,\n",
    "    length_function=len,\n",
    "    is_separator_regex=False,\n",
    ")\n",
    "\n",
    "# Create documents from the text\n",
    "texts = text_splitter.create_documents([algebra])\n",
    "\n",
    "for i, text in enumerate(texts):\n",
    "    # Access the page_content attribute for length calculation\n",
    "    chunk_length = len(text.page_content)\n",
    "    print(f\"{i}.Chunk has length {chunk_length} and the chunk content is: {text.page_content}\")\n"
   ]
  },
  {
   "cell_type": "markdown",
   "metadata": {},
   "source": [
    "## CharacterTextSplitter"
   ]
  },
  {
   "cell_type": "code",
   "execution_count": 21,
   "metadata": {},
   "outputs": [
    {
     "name": "stderr",
     "output_type": "stream",
     "text": [
      "Created a chunk of size 249, which is longer than the specified 200\n",
      "Created a chunk of size 259, which is longer than the specified 200\n",
      "Created a chunk of size 494, which is longer than the specified 200\n",
      "Created a chunk of size 340, which is longer than the specified 200\n",
      "Created a chunk of size 702, which is longer than the specified 200\n",
      "Created a chunk of size 205, which is longer than the specified 200\n",
      "Created a chunk of size 497, which is longer than the specified 200\n",
      "Created a chunk of size 511, which is longer than the specified 200\n",
      "Created a chunk of size 1157, which is longer than the specified 200\n",
      "Created a chunk of size 426, which is longer than the specified 200\n",
      "Created a chunk of size 225, which is longer than the specified 200\n",
      "Created a chunk of size 301, which is longer than the specified 200\n",
      "Created a chunk of size 367, which is longer than the specified 200\n"
     ]
    },
    {
     "name": "stdout",
     "output_type": "stream",
     "text": [
      "0.Chunk has length 166 and the chunk content is: Algebra became University for its 25th birthday\n",
      "\n",
      "On its 25th birthday, Algebra completed the accreditation process and became a University - Zagreb, December 21, 2023\n",
      "1.Chunk has length 249 and the chunk content is: Algebra University started three additional professional study programs in the current academic year 2023-2024, with a record number of over 2,000 enrolled students. Three new university studies will start at the beginning of the next academic year.\n",
      "2.Chunk has length 259 and the chunk content is: Algebra, having received a permit and a positive accreditation recommendation from the Agency for Science and Higher Education and a final positive opinion, has formally become the first private university in Croatia to focus on technical and digital studies.\n",
      "3.Chunk has length 148 and the chunk content is: The University of Zagreb carried the mentoring program for Algebra University through its component Faculty of Electrical Engineering and Computing.\n",
      "4.Chunk has length 494 and the chunk content is: Algebra University's mission is to develop a dynamic and innovative learning environment that empowers students and attendees to be leaders in the development and application of digital technologies in various fields. With the establishment of the Algebra University, the Rector, associate professor, Ph.D. Mislav Balković also became a full member of the Croatian Rector's Conference. At the University constituent sitting, along with Rector Balković, the new vice-rectors were also appointed.\n",
      "5.Chunk has length 340 and the chunk content is: The new Economic Council and University Senate were also formed at the constituent sitting held on the new Algebra campus in Zagreb. The function of the new Economic Council will be to encourage high-quality cooperation between the University and the economy, adapting educational programs to the needs of the labour market and future jobs.\n",
      "6.Chunk has length 702 and the chunk content is: Marijana Bačić, member of the Management Board and COO Business for HT business users, was elected president of the Economic Council. Members of the Economic Council are: HT, Ericsson Nikola Tesla, airt, APIS IT, 404 agency, Infobip, Atos, SPAN, NovaTV, RTL, HURA, Imago, Bruketa Žinić and Grey, Franck, Podravka, Jamnica, PBZ, Kofein agency, Marvin agency, Nanobit, Pine Studio, Good Game Global, AKD, Hrvatska pošta, Oraclum, Croatian Employers' Association, Večernji list, St. Catherine Specialty Hospital, but also colleagues from the Design study at the Faculty of Architecture and Computing study at the Faculty of Electrical Engineering and Computing, both as a part of the University of Zagreb.\n",
      "7.Chunk has length 205 and the chunk content is: In addition to the new university studies, Algebra University plans to further develop its professional studies through membership in the European Association of Institutions in Higher Education - EURASHE.\n",
      "8.Chunk has length 37 and the chunk content is: Gaming and esports experts at Algebra\n",
      "9.Chunk has length 497 and the chunk content is: Gaming and esports industries have become an integral part of the culture of younger populations in recent years. Not long ago, playing video games was a hobby that gradually turned into a lucrative business and a successful career. The esports ecosystem includes not only professional esports players but also various stakeholders such as game development studios, video game publishers, and many other professions that may not seem directly related to the industry but are of immense importance.\n",
      "10.Chunk has length 511 and the chunk content is: Various experts from the fields of marketing, IT industry, management, and many other professions take their place within esports, and their knowledge and multidisciplinary experiences are crucial for realizing the full potential of the industry. Some of them are coming Zagreb in early December to Algebra University as part of the Beyond Esports conference. They will share their stories and educate the public about the potential, importance, and role that esports plays in the development of modern society.\n",
      "11.Chunk has length 1157 and the chunk content is: Beyond Esports is the second conference organized by Good Game Global, a well-known Croatian agency that offers a wide range of services related to the organization of esports competitions, live stream production, digital marketing, and consulting activities related to the development of the industry. The main goals of the conference are to define, empower, bring closer, and educate visitors about the main values and potential of esports. Through interesting panels and one-day activities, the conference will host experts from some of the most influential global companies such as Blast, Meta, G2 Esports, Samsung, as well as domestic and regional giants like Sofascore, Superbet, Span, Outfit7, Happening, Croatian Telecom, Croatian Esports Federation, Croatian Olympic Committee, and GNK Dinamo. Through the perspective of each participant in this quite large and complex system, conference attendees will be able to firsthand learn about what an ordinary day looks like for a professional esports player, team, competition organizer, and how famous global and regional brands find their place and communicate their values through the esports filter.\n",
      "12.Chunk has length 426 and the chunk content is: The conference will take place at the Algebra campus on December 8, 2023. Tickets are on sale and can be found on Entrio.hr, and more detailed information, as well as the schedule and a list of all speakers, can be found on the official website - Beyond Esports conference. Secure your tickets, peek behind the scenes of professional gaming and the esports industry, and enjoy the stories of well-known world esports experts!\"\n",
      "13.Chunk has length 131 and the chunk content is: Algebra’s winners of the A1 Student eChallenge League\n",
      "\n",
      "The 11th edition of the most prestigious regional A1 Adria League has ended.\n",
      "14.Chunk has length 115 and the chunk content is: Last weekend in the finals to remember, the winners of three games - FIFA23, CS: GO and Brawl Stars - were crowned.\n",
      "15.Chunk has length 225 and the chunk content is: It was the most exciting finals so far of the Reboot Games Weekend powered by A1, and apart from the finalists of the well-known A1 Adria League, Algebra students also took their win at the Reboot Games Weekend powered by A1!\n",
      "16.Chunk has length 301 and the chunk content is: Algebra e-Sport team, Neo Čikić, Matej Galić, Marin Bakmaz, Renato Petričević, and Fran Kukovičić with their coach Valentino Slavec won first place in the A1 Student eChallenge league: CS: GO, and Tin Škrgatić is the winner of the A1 Student eChallenge league: FIFA 23. Congratulations to our winners!\n",
      "17.Chunk has length 367 and the chunk content is: The new format of the gaming competition, intended exclusively for students, was created in collaboration with A1 Croatia and the four most prominent technical faculties in Croatia - Algebra University College, the Faculty of Electrical Engineering and Computing, the Faculty of Science and Zagreb University of Applied Sciences with a total prize fund of 1530 euros.\n",
      "18.Chunk has length 133 and the chunk content is: In addition to great fun, the idea of the competition was to encourage young people to develop their careers in the video game world.\n",
      "19.Chunk has length 156 and the chunk content is: Algebra University College is also leading the path of joining the gaming industry with its first professional bachelor study programme in game development!\n"
     ]
    }
   ],
   "source": [
    "# Read the document\n",
    "with open(\"data/algebra_news.txt\") as f:\n",
    "    algebra = f.read()\n",
    "\n",
    "from langchain.text_splitter import CharacterTextSplitter\n",
    "\n",
    "# Initialize the text splitter\n",
    "text_splitter = CharacterTextSplitter(\n",
    "    # separator=\"\\n\\n\",\n",
    "    chunk_size=200,  # Set a small chunk size for demonstration\n",
    "    chunk_overlap=20,\n",
    "    length_function=len,\n",
    "    is_separator_regex=False,\n",
    ")\n",
    "\n",
    "# Create documents from the text\n",
    "texts = text_splitter.create_documents([algebra])\n",
    "\n",
    "for i, text in enumerate(texts):\n",
    "    # Access the page_content attribute for length calculation\n",
    "    chunk_length = len(text.page_content)\n",
    "    print(f\"{i}.Chunk has length {chunk_length} and the chunk content is: {text.page_content}\")\n"
   ]
  },
  {
   "cell_type": "markdown",
   "metadata": {},
   "source": [
    "## Semantic Chunking"
   ]
  },
  {
   "cell_type": "code",
   "execution_count": 22,
   "metadata": {},
   "outputs": [],
   "source": [
    "# !pip install --quiet langchain_experimental\n",
    "# !pip install --upgrade --quiet  langchain sentence_transformers\n",
    "# Hugging Face Inference API\n",
    "# We can also access embedding models via the Hugging Face Inference API, which does not require us to install sentence_transformers and download models locally\n",
    "# https://python.langchain.com/docs/integrations/text_embedding/huggingfacehub"
   ]
  },
  {
   "cell_type": "code",
   "execution_count": 23,
   "metadata": {},
   "outputs": [
    {
     "name": "stdout",
     "output_type": "stream",
     "text": [
      "Requirement already satisfied: huggingface_hub in c:\\users\\ggvozden\\anaconda3\\envs\\bigdata\\lib\\site-packages (0.20.2)\n",
      "Requirement already satisfied: filelock in c:\\users\\ggvozden\\anaconda3\\envs\\bigdata\\lib\\site-packages (from huggingface_hub) (3.13.1)\n",
      "Requirement already satisfied: fsspec>=2023.5.0 in c:\\users\\ggvozden\\anaconda3\\envs\\bigdata\\lib\\site-packages (from huggingface_hub) (2023.10.0)\n",
      "Requirement already satisfied: requests in c:\\users\\ggvozden\\anaconda3\\envs\\bigdata\\lib\\site-packages (from huggingface_hub) (2.31.0)\n",
      "Requirement already satisfied: tqdm>=4.42.1 in c:\\users\\ggvozden\\anaconda3\\envs\\bigdata\\lib\\site-packages (from huggingface_hub) (4.66.1)\n",
      "Requirement already satisfied: pyyaml>=5.1 in c:\\users\\ggvozden\\anaconda3\\envs\\bigdata\\lib\\site-packages (from huggingface_hub) (6.0.1)\n",
      "Requirement already satisfied: typing-extensions>=3.7.4.3 in c:\\users\\ggvozden\\anaconda3\\envs\\bigdata\\lib\\site-packages (from huggingface_hub) (4.9.0)\n",
      "Requirement already satisfied: packaging>=20.9 in c:\\users\\ggvozden\\anaconda3\\envs\\bigdata\\lib\\site-packages (from huggingface_hub) (23.2)\n",
      "Requirement already satisfied: colorama in c:\\users\\ggvozden\\anaconda3\\envs\\bigdata\\lib\\site-packages (from tqdm>=4.42.1->huggingface_hub) (0.4.6)\n",
      "Requirement already satisfied: charset-normalizer<4,>=2 in c:\\users\\ggvozden\\anaconda3\\envs\\bigdata\\lib\\site-packages (from requests->huggingface_hub) (3.3.2)\n",
      "Requirement already satisfied: idna<4,>=2.5 in c:\\users\\ggvozden\\anaconda3\\envs\\bigdata\\lib\\site-packages (from requests->huggingface_hub) (3.6)\n",
      "Requirement already satisfied: urllib3<3,>=1.21.1 in c:\\users\\ggvozden\\anaconda3\\envs\\bigdata\\lib\\site-packages (from requests->huggingface_hub) (2.1.0)\n",
      "Requirement already satisfied: certifi>=2017.4.17 in c:\\users\\ggvozden\\anaconda3\\envs\\bigdata\\lib\\site-packages (from requests->huggingface_hub) (2023.11.17)\n"
     ]
    }
   ],
   "source": [
    "!pip install huggingface_hub"
   ]
  },
  {
   "cell_type": "code",
   "execution_count": 24,
   "metadata": {},
   "outputs": [
    {
     "data": {
      "text/plain": [
       "[-0.04895181208848953, -0.03986206278204918, -0.021562788635492325]"
      ]
     },
     "execution_count": 24,
     "metadata": {},
     "output_type": "execute_result"
    }
   ],
   "source": [
    "from langchain_community.embeddings import HuggingFaceHubEmbeddings\n",
    "embeddings = HuggingFaceHubEmbeddings()\n",
    "text = \"This is a test document.\"\n",
    "query_result = embeddings.embed_query(text)\n",
    "query_result[:3]"
   ]
  },
  {
   "cell_type": "code",
   "execution_count": 25,
   "metadata": {},
   "outputs": [],
   "source": [
    "# Read the document\n",
    "with open(\"data/algebra_news.txt\") as f:\n",
    "    algebra = f.read()\n",
    "\n",
    "from langchain_experimental.text_splitter import SemanticChunker\n",
    "from langchain_openai.embeddings import OpenAIEmbeddings\n",
    "from langchain_community.embeddings import HuggingFaceEmbeddings\n",
    "\n",
    "# Initialize the text splitter\n",
    "text_splitter = SemanticChunker(HuggingFaceEmbeddings())"
   ]
  },
  {
   "cell_type": "code",
   "execution_count": 26,
   "metadata": {},
   "outputs": [
    {
     "name": "stdout",
     "output_type": "stream",
     "text": [
      "0.Chunk has length 1133 and the chunk content is: Algebra became University for its 25th birthday\n",
      "\n",
      "On its 25th birthday, Algebra completed the accreditation process and became a University - Zagreb, December 21, 2023\n",
      "\n",
      "Algebra University started three additional professional study programs in the current academic year 2023-2024, with a record number of over 2,000 enrolled students. Three new university studies will start at the beginning of the next academic year. Algebra, having received a permit and a positive accreditation recommendation from the Agency for Science and Higher Education and a final positive opinion, has formally become the first private university in Croatia to focus on technical and digital studies. The University of Zagreb carried the mentoring program for Algebra University through its component Faculty of Electrical Engineering and Computing. Algebra University's mission is to develop a dynamic and innovative learning environment that empowers students and attendees to be leaders in the development and application of digital technologies in various fields. With the establishment of the Algebra University, the Rector, associate professor, Ph.D.\n",
      "1.Chunk has length 1709 and the chunk content is: Mislav Balković also became a full member of the Croatian Rector's Conference. At the University constituent sitting, along with Rector Balković, the new vice-rectors were also appointed. The new Economic Council and University Senate were also formed at the constituent sitting held on the new Algebra campus in Zagreb. The function of the new Economic Council will be to encourage high-quality cooperation between the University and the economy, adapting educational programs to the needs of the labour market and future jobs. Marijana Bačić, member of the Management Board and COO Business for HT business users, was elected president of the Economic Council. Members of the Economic Council are: HT, Ericsson Nikola Tesla, airt, APIS IT, 404 agency, Infobip, Atos, SPAN, NovaTV, RTL, HURA, Imago, Bruketa Žinić and Grey, Franck, Podravka, Jamnica, PBZ, Kofein agency, Marvin agency, Nanobit, Pine Studio, Good Game Global, AKD, Hrvatska pošta, Oraclum, Croatian Employers' Association, Večernji list, St. Catherine Specialty Hospital, but also colleagues from the Design study at the Faculty of Architecture and Computing study at the Faculty of Electrical Engineering and Computing, both as a part of the University of Zagreb. In addition to the new university studies, Algebra University plans to further develop its professional studies through membership in the European Association of Institutions in Higher Education - EURASHE. Gaming and esports experts at Algebra\n",
      "\n",
      "Gaming and esports industries have become an integral part of the culture of younger populations in recent years. Not long ago, playing video games was a hobby that gradually turned into a lucrative business and a successful career.\n",
      "2.Chunk has length 3799 and the chunk content is: The esports ecosystem includes not only professional esports players but also various stakeholders such as game development studios, video game publishers, and many other professions that may not seem directly related to the industry but are of immense importance. Various experts from the fields of marketing, IT industry, management, and many other professions take their place within esports, and their knowledge and multidisciplinary experiences are crucial for realizing the full potential of the industry. Some of them are coming Zagreb in early December to Algebra University as part of the Beyond Esports conference. They will share their stories and educate the public about the potential, importance, and role that esports plays in the development of modern society. Beyond Esports is the second conference organized by Good Game Global, a well-known Croatian agency that offers a wide range of services related to the organization of esports competitions, live stream production, digital marketing, and consulting activities related to the development of the industry. The main goals of the conference are to define, empower, bring closer, and educate visitors about the main values and potential of esports. Through interesting panels and one-day activities, the conference will host experts from some of the most influential global companies such as Blast, Meta, G2 Esports, Samsung, as well as domestic and regional giants like Sofascore, Superbet, Span, Outfit7, Happening, Croatian Telecom, Croatian Esports Federation, Croatian Olympic Committee, and GNK Dinamo. Through the perspective of each participant in this quite large and complex system, conference attendees will be able to firsthand learn about what an ordinary day looks like for a professional esports player, team, competition organizer, and how famous global and regional brands find their place and communicate their values through the esports filter. The conference will take place at the Algebra campus on December 8, 2023. Tickets are on sale and can be found on Entrio.hr, and more detailed information, as well as the schedule and a list of all speakers, can be found on the official website - Beyond Esports conference. Secure your tickets, peek behind the scenes of professional gaming and the esports industry, and enjoy the stories of well-known world esports experts!\"\n",
      "\n",
      "\n",
      "Algebra’s winners of the A1 Student eChallenge League\n",
      "\n",
      "The 11th edition of the most prestigious regional A1 Adria League has ended. Last weekend in the finals to remember, the winners of three games - FIFA23, CS: GO and Brawl Stars - were crowned. It was the most exciting finals so far of the Reboot Games Weekend powered by A1, and apart from the finalists of the well-known A1 Adria League, Algebra students also took their win at the Reboot Games Weekend powered by A1! Algebra e-Sport team, Neo Čikić, Matej Galić, Marin Bakmaz, Renato Petričević, and Fran Kukovičić with their coach Valentino Slavec won first place in the A1 Student eChallenge league: CS: GO, and Tin Škrgatić is the winner of the A1 Student eChallenge league: FIFA 23. Congratulations to our winners! The new format of the gaming competition, intended exclusively for students, was created in collaboration with A1 Croatia and the four most prominent technical faculties in Croatia - Algebra University College, the Faculty of Electrical Engineering and Computing, the Faculty of Science and Zagreb University of Applied Sciences with a total prize fund of 1530 euros. In addition to great fun, the idea of the competition was to encourage young people to develop their careers in the video game world. Algebra University College is also leading the path of joining the gaming industry with its first professional bachelor study programme in game development! \n"
     ]
    }
   ],
   "source": [
    "# Create documents from the text\n",
    "documents = text_splitter.create_documents([algebra])\n",
    "\n",
    "for i, doc in enumerate(documents):\n",
    "    # Access the page_content attribute for length calculation\n",
    "    chunk_length = len(doc.page_content)\n",
    "    print(f\"{i}.Chunk has length {chunk_length} and the chunk content is: {doc.page_content}\")\n"
   ]
  },
  {
   "cell_type": "code",
   "execution_count": 27,
   "metadata": {},
   "outputs": [
    {
     "name": "stdout",
     "output_type": "stream",
     "text": [
      "Algebra became University for its 25th birthday\n",
      "\n",
      "On its 25th birthday, Algebra completed the accreditation process and became a University - Zagreb, December 21, 2023\n",
      "\n",
      "Algebra University started three additional professional study programs in the current academic year 2023-2024, with a record number of over 2,000 enrolled students. Three new university studies will start at the beginning of the next academic year. Algebra, having received a permit and a positive accreditation recommendation from the Agency for Science and Higher Education and a final positive opinion, has formally become the first private university in Croatia to focus on technical and digital studies. The University of Zagreb carried the mentoring program for Algebra University through its component Faculty of Electrical Engineering and Computing. Algebra University's mission is to develop a dynamic and innovative learning environment that empowers students and attendees to be leaders in the development and application of digital technologies in various fields. With the establishment of the Algebra University, the Rector, associate professor, Ph.D.\n"
     ]
    }
   ],
   "source": [
    "print(documents[0].page_content)"
   ]
  },
  {
   "cell_type": "markdown",
   "metadata": {},
   "source": [
    "# Tasks"
   ]
  },
  {
   "cell_type": "markdown",
   "metadata": {},
   "source": [
    "### Task 1: Exploring Document Loaders\n",
    "**Objective**: Familiarize with various document loaders in LangChain.\n",
    "\n",
    "**Task**:\n",
    "- Write a script to load different types of documents (e.g., plain text, pdfs) using appropriate document loaders.\n",
    "- For each type, load a sample document and display its content and metadata.\n",
    "\n",
    "### Task 2: Implementing Custom Text Splitter\n",
    "**Objective**: Understand and implement custom text splitting logic.\n",
    "\n",
    "**Task**:\n",
    "- Create a text splitter that splits documents.\n",
    "- Test this splitter on a sample document and analyze the output.\n",
    "\n",
    "### Task 3: Recursive Character Text Splitting\n",
    "**Objective**: Dive deeper into the RecursiveCharacterTextSplitter.\n",
    "\n",
    "**Task**:\n",
    "- Use the RecursiveCharacterTextSplitter to split a lengthy document into smaller chunks.\n",
    "- Experiment with different chunk sizes and overlaps.\n",
    "- Visualize the splitting impact by printing the first few chunks of the split document.\n",
    "\n",
    "### Task 4: Text Splitting and Chunk Analysis\n",
    "**Objective**: Analyze the effectiveness of different text splitters.\n",
    "\n",
    "**Task**:\n",
    "- Use at least two different types of text splitters (e.g., Semantic Chunker and Token Splitter) on the same document.\n",
    "- Compare the outputs in terms of chunk coherence and relevance.\n",
    "- Discuss the pros and cons of each splitter type based on your observations."
   ]
  },
  {
   "cell_type": "markdown",
   "metadata": {},
   "source": [
    "# 3. Exploring Vector Databases"
   ]
  },
  {
   "cell_type": "markdown",
   "metadata": {},
   "source": [
    "Vector stores and vector databases play a pivotal role in the efficient storage and retrieval of unstructured data, particularly in the context of Retrieval Augmented Generation (RAG). In LangChain, these components are crucial for embedding and searching over data at scale. This introduction will provide an overview of vector stores their functionality, and how they can be integrated and used in LangChain.\n",
    "\n",
    "![vectorstores](images/vectorstore.png)\n",
    "\n",
    "**Understanding Vector Stores**\n",
    "\n",
    "Vector stores are specialized databases designed to handle vector embeddings of data. These embeddings represent unstructured data, such as text, in a format that can be efficiently searched and compared. The typical workflow involves embedding the data and storing these vectors, followed by embedding queries at runtime to find the 'most similar' vectors in the store. This process is fundamental in applications like semantic search, where the goal is to retrieve information that is contextually relevant to a given query.\n",
    "\n",
    "**Process Overview**\n",
    "* Load Source Data: Initially, raw data is loaded, which can be any unstructured format like text documents.\n",
    "* Query Vector Store: At runtime, queries are embedded and sent to the vector store.\n",
    "* Retrieve 'Most Similar' Results: The vector store returns the data that is closest in embedding space to the query vector.\n",
    "\n",
    "**Getting Started with Vector Stores in LangChain**\n",
    "\n",
    "To effectively use vector stores in LangChain, it is advisable to have a good understanding of text embedding models, as they play a crucial role in creating the vectors stored in these databases.\n",
    "\n",
    "**Popular Vector Store Options in LangChain**\n",
    "LangChain supports various vector store options, including:\n",
    "\n",
    "* Chroma: A local machine-based vector database.\n",
    "* FAISS: Facebook AI Similarity Search, suitable for large-scale similarity search.\n",
    "* Lance: Another efficient option for vector storage and retrieval.\n",
    "\n",
    "![Vectorstores](images/vdbs.webp)"
   ]
  },
  {
   "cell_type": "markdown",
   "metadata": {},
   "source": [
    "## Create vectordatabase - FAISS"
   ]
  },
  {
   "cell_type": "code",
   "execution_count": 28,
   "metadata": {},
   "outputs": [],
   "source": [
    "import os\n",
    "import getpass\n",
    "\n",
    "os.environ['OPENAI_API_KEY'] = getpass.getpass('OpenAI API Key:')"
   ]
  },
  {
   "cell_type": "code",
   "execution_count": 30,
   "metadata": {},
   "outputs": [],
   "source": [
    "# !pip install faiss-cpu"
   ]
  },
  {
   "cell_type": "code",
   "execution_count": 31,
   "metadata": {},
   "outputs": [
    {
     "name": "stderr",
     "output_type": "stream",
     "text": [
      "Created a chunk of size 702, which is longer than the specified 500\n",
      "Created a chunk of size 511, which is longer than the specified 500\n",
      "Created a chunk of size 1157, which is longer than the specified 500\n"
     ]
    }
   ],
   "source": [
    "from langchain_community.document_loaders import TextLoader\n",
    "from langchain_openai import OpenAIEmbeddings\n",
    "from langchain.text_splitter import CharacterTextSplitter\n",
    "from langchain_community.vectorstores import FAISS\n",
    "\n",
    "# Load the document, split it into chunks, embed each chunk and load it into the vector store.\n",
    "raw_documents = TextLoader('data/algebra_news.txt').load()\n",
    "text_splitter = CharacterTextSplitter(chunk_size=500, chunk_overlap=0)\n",
    "documents = text_splitter.split_documents(raw_documents)\n",
    "db = FAISS.from_documents(documents, OpenAIEmbeddings())"
   ]
  },
  {
   "cell_type": "markdown",
   "metadata": {},
   "source": [
    "### Similarity search - openai embeddings\n"
   ]
  },
  {
   "cell_type": "code",
   "execution_count": 40,
   "metadata": {},
   "outputs": [
    {
     "name": "stdout",
     "output_type": "stream",
     "text": [
      "Algebra became University for its 25th birthday\n",
      "\n",
      "On its 25th birthday, Algebra completed the accreditation process and became a University - Zagreb, December 21, 2023\n",
      "\n",
      "Algebra University started three additional professional study programs in the current academic year 2023-2024, with a record number of over 2,000 enrolled students. Three new university studies will start at the beginning of the next academic year.\n"
     ]
    }
   ],
   "source": [
    "query = \"When did Algebra become university?\"\n",
    "docs = db.similarity_search(query)\n",
    "print(docs[0].page_content)"
   ]
  },
  {
   "cell_type": "markdown",
   "metadata": {},
   "source": [
    "### Similarity search - openai embeddings"
   ]
  },
  {
   "cell_type": "code",
   "execution_count": 41,
   "metadata": {},
   "outputs": [
    {
     "name": "stderr",
     "output_type": "stream",
     "text": [
      "Created a chunk of size 702, which is longer than the specified 500\n",
      "Created a chunk of size 511, which is longer than the specified 500\n",
      "Created a chunk of size 1157, which is longer than the specified 500\n"
     ]
    }
   ],
   "source": [
    "from langchain_community.document_loaders import TextLoader\n",
    "from langchain_community.embeddings import HuggingFaceHubEmbeddings\n",
    "from langchain.text_splitter import CharacterTextSplitter\n",
    "from langchain_community.vectorstores import FAISS\n",
    "\n",
    "# Load the document, split it into chunks, embed each chunk and load it into the vector store.\n",
    "raw_documents = TextLoader('data/algebra_news.txt').load()\n",
    "text_splitter = CharacterTextSplitter(chunk_size=500, chunk_overlap=0)\n",
    "documents = text_splitter.split_documents(raw_documents)\n",
    "db = FAISS.from_documents(documents, HuggingFaceEmbeddings())"
   ]
  },
  {
   "cell_type": "markdown",
   "metadata": {},
   "source": [
    "### Similarity search\n"
   ]
  },
  {
   "cell_type": "code",
   "execution_count": 42,
   "metadata": {},
   "outputs": [
    {
     "name": "stdout",
     "output_type": "stream",
     "text": [
      "Algebra became University for its 25th birthday\n",
      "\n",
      "On its 25th birthday, Algebra completed the accreditation process and became a University - Zagreb, December 21, 2023\n",
      "\n",
      "Algebra University started three additional professional study programs in the current academic year 2023-2024, with a record number of over 2,000 enrolled students. Three new university studies will start at the beginning of the next academic year.\n"
     ]
    }
   ],
   "source": [
    "query = \"When did Algebra become university?\"\n",
    "docs = db.similarity_search(query)\n",
    "print(docs[0].page_content)"
   ]
  },
  {
   "cell_type": "markdown",
   "metadata": {},
   "source": [
    "## Create vector database - Chroma\n"
   ]
  },
  {
   "cell_type": "code",
   "execution_count": 58,
   "metadata": {},
   "outputs": [],
   "source": [
    "# !pip install chromadb"
   ]
  },
  {
   "cell_type": "code",
   "execution_count": 59,
   "metadata": {},
   "outputs": [],
   "source": [
    "# Import\n",
    "from langchain.text_splitter import CharacterTextSplitter\n",
    "from langchain_community.document_loaders import TextLoader\n",
    "from langchain_community.embeddings.sentence_transformer import (\n",
    "    SentenceTransformerEmbeddings,\n",
    ")\n",
    "from langchain_community.embeddings import HuggingFaceHubEmbeddings\n",
    "from langchain_community.vectorstores import Chroma"
   ]
  },
  {
   "cell_type": "code",
   "execution_count": 60,
   "metadata": {},
   "outputs": [
    {
     "name": "stderr",
     "output_type": "stream",
     "text": [
      "Created a chunk of size 702, which is longer than the specified 500\n",
      "Created a chunk of size 511, which is longer than the specified 500\n",
      "Created a chunk of size 1157, which is longer than the specified 500\n"
     ]
    }
   ],
   "source": [
    "# load the document and split it into chunks\n",
    "loader = TextLoader(\"data/algebra_news.txt\")\n",
    "documents = loader.load()\n",
    "\n",
    "# split it into chunks\n",
    "text_splitter = CharacterTextSplitter(chunk_size=500, chunk_overlap=30)\n",
    "docs = text_splitter.split_documents(documents)\n",
    "\n",
    "# create the open-source embedding function\n",
    "# embedding_function = SentenceTransformerEmbeddings(model_name=\"all-MiniLM-L6-v2\")\n",
    "\n",
    "from langchain_community.embeddings import HuggingFaceHubEmbeddings\n",
    "embedding_function = HuggingFaceHubEmbeddings()\n",
    "\n",
    "# load it into Chroma\n",
    "db = Chroma.from_documents(docs, embedding_function)"
   ]
  },
  {
   "cell_type": "markdown",
   "metadata": {},
   "source": [
    "### Similarity search - openai embeddings\n"
   ]
  },
  {
   "cell_type": "code",
   "execution_count": 61,
   "metadata": {},
   "outputs": [
    {
     "name": "stdout",
     "output_type": "stream",
     "text": [
      "Algebra became University for its 25th birthday\n",
      "\n",
      "On its 25th birthday, Algebra completed the accreditation process and became a University - Zagreb, December 21, 2023\n",
      "\n",
      "Algebra University started three additional professional study programs in the current academic year 2023-2024, with a record number of over 2,000 enrolled students. Three new university studies will start at the beginning of the next academic year.\n"
     ]
    }
   ],
   "source": [
    "query = \"When did Algebra become university?\"\n",
    "docs = db.similarity_search(query)\n",
    "print(docs[0].page_content)"
   ]
  },
  {
   "cell_type": "markdown",
   "metadata": {},
   "source": [
    "## Basic Example: Saving Data to Disk with Chroma\n",
    "\n",
    "Building upon the previous example, if you aim to save the processed data to disk, you can do so by initializing the Chroma client and specifying the directory for data storage.\n",
    "\n",
    "### Steps to Save Data with Chroma:\n",
    "\n",
    "1. **Initialize Chroma Client**: Create an instance of the Chroma client.\n",
    "2. **Set Save Directory**: Pass the path of the directory where you want the data to be saved as a parameter to the Chroma client.\n",
    "\n",
    "### Caution:\n",
    "- Chroma attempts to automatically save data to disk, but this process may encounter issues if multiple in-memory clients are operating simultaneously.\n",
    "- **Best Practice**: To avoid data conflicts, ensure that only one client is active per directory path at any given time. This practice helps in maintaining data integrity and prevents overwriting or data loss.\n",
    "\n",
    "By following these steps and precautions, you can efficiently save your processed data to disk using Chroma, ensuring data persistence and reliability.\n"
   ]
  },
  {
   "cell_type": "code",
   "execution_count": 63,
   "metadata": {},
   "outputs": [
    {
     "name": "stdout",
     "output_type": "stream",
     "text": [
      "Algebra became University for its 25th birthday\n",
      "\n",
      "On its 25th birthday, Algebra completed the accreditation process and became a University - Zagreb, December 21, 2023\n",
      "\n",
      "Algebra University started three additional professional study programs in the current academic year 2023-2024, with a record number of over 2,000 enrolled students. Three new university studies will start at the beginning of the next academic year.\n",
      "Algebra became University for its 25th birthday\n",
      "\n",
      "On its 25th birthday, Algebra completed the accreditation process and became a University - Zagreb, December 21, 2023\n",
      "\n",
      "Algebra University started three additional professional study programs in the current academic year 2023-2024, with a record number of over 2,000 enrolled students. Three new university studies will start at the beginning of the next academic year.\n"
     ]
    }
   ],
   "source": [
    "# save to disk\n",
    "db2 = Chroma.from_documents(docs, embedding_function, persist_directory=\"vectorstores/chroma_db\")\n",
    "docs = db2.similarity_search(query)\n",
    "print(docs[0].page_content)\n",
    "\n",
    "# load from disk\n",
    "db3 = Chroma(persist_directory=\"vectorstores/chroma_db\", embedding_function=embedding_function)\n",
    "docs = db3.similarity_search(query)\n",
    "print(docs[0].page_content)"
   ]
  },
  {
   "cell_type": "markdown",
   "metadata": {},
   "source": [
    "# 4. RAG"
   ]
  },
  {
   "cell_type": "markdown",
   "metadata": {},
   "source": [
    "Create Chroma db vectorstore with HuggingFace embeddings"
   ]
  },
  {
   "cell_type": "code",
   "execution_count": 64,
   "metadata": {},
   "outputs": [],
   "source": [
    "# pdf file path\n",
    "pdf_file_path = \"data/student_guide.pdf\""
   ]
  },
  {
   "cell_type": "code",
   "execution_count": 65,
   "metadata": {},
   "outputs": [],
   "source": [
    "loader = PyPDFLoader(pdf_file_path)"
   ]
  },
  {
   "cell_type": "code",
   "execution_count": 66,
   "metadata": {},
   "outputs": [
    {
     "data": {
      "text/plain": [
       "[Document(page_content='T: 00385 1 2222 182\\nE: student@algebra.hr\\nW: www.algebra.university\\nSTUDENT \\nGUIDE   \\n2023/2024', metadata={'source': 'data/student_guide.pdf', 'page': 0}),\n",
       " Document(page_content='INTRODUCTION  2\\nTABLE OF CONTENTS 3\\nAbout Algebra University College  4\\nCampus orientation 6\\nPlan of Algebra University College premises  8\\nCode of conduct  10\\nStudy structure  14\\nAcademic year 2023/2024 calendar  15\\nWhat do I need to know as a student of \\nAlgebra University College?  16\\nInfoeduka – the digital student service or \\ndigital notice board 16\\nStudent status  17\\nWhat are the conditions for enrolment in a \\nhigher year of study? 17\\nWhat is the semester status?  18\\nWhat is X-ica and its purpose? 18\\nECTS Credits and Learning Outcomes 19\\nWhat are ECTS credits? 19\\nWhat are learning outcomes? 19\\nClasses organisation and attendance  20\\nWhy is it important to attend classes? 20\\nWhat are additional classes? 20\\nEXAMINATIONS  21\\nHow to pass an exam?  21\\nWhat are mid-term exams and how are they \\norganised?  21\\nExamination periods  22\\nHow to register and cancel mid-term exams \\nand exams?  22\\nWhen has a student failed an exam?  23\\nHow many times can an exam be taken?  24\\nWhat is the additional fourth exam \\nregistration?  24\\nHow long do I have to pass a course after \\nenrolment?  24\\nHow and when can I take certificate exams? 24WHAT IF…. 25\\n…I want to improve a learning outcome? 25\\n…I cheat on an exam? 25\\n…I fail to pass an oral exam or refuse a \\ngrade?  26\\n…I have passed most of the learning outcomes \\n– can I take the oral exam? 26\\n…I am repeating a course for which I have \\nobtained a signature during the previous \\nyear?  26\\n…I do not qualify for a signature? 26\\n...I can’t attend the exam I registered for? 27\\n…I am repeating a year? 27\\n…I want to change my sub-specialisation or \\nstudy programme? 27\\n…I want to borrow a library book? 27\\n…I lose a library book? 28\\nStudy support 28\\nStudent Office 28\\nCareer Center  29\\nVice Dean for Students 29\\nMentoring program 29\\nGo global 29 \\nInternational Summer School  30\\nABC BootCamps summer programmes  30\\nOther information  31\\nSports and leisure 31\\nStudent representatives and Student \\nOmbudsman  31\\nStudent Council  31\\nStudent Coordination  31\\nHow can students affect the quality of \\nstudies?  31\\nComplaints and appeals  32\\nInnovation Lab  32\\nParking 32\\nMedical care 33\\nBoosting and maintaining mental health 33Dear students, \\nat the start of a new academic year, allow me to wish you a warm welcome to \\nAlgebra University College and to present to you our study programmes. I believe \\nthat, by choosing one of these programmes, with our help, you are stepping \\ninto a better, digital future. \\nThe present has brought us many challenges, but they have once again showed \\nus that even in such dire situations, the human spirit and togetherness can \\nguide us on the path ahead. We will do everything in our power to provide you \\nwith the highest quality education. In addition, bearing all this in mind, we invite \\nyou to get in touch with us should you encounter any difficulties or challenges \\nduring your studies. \\nBringing together education and economy is our guiding principle in creating \\nstudy programmes adjusted to the existing and future market demands. Our \\ntrack record and hundreds of alumni employed at leading global and Croatian \\ncompanies are proof that we have been successful in this endeavour. Our college \\noffers professional study programmes, which means they also encompass \\nthe practical application of knowledge. This year, we are especially proud to \\nintroduce two new professional bachelor programmes: in Game Development \\nand Multimedia Production, which will allow you to work on developing innovations, \\nconnect with experts in the field, as well as acquire new, broader knowledge in \\ndifferent areas.\\nLikewise, according to the new Act on Higher Education and Scientific Activity, \\nas of this academic year, secondary school graduates who have not passed \\nnational matriculation exams will not be able to enrol in level 6 studies, even \\nby taking an entrance exam. Therefore, this year Algebra University College is \\nlaunching a level 5 study programme, the only one of its kind in Croatia – the \\nProfessional Short-Cycle Programme in Internet Marketing. Its programme is \\ndesigned so that all secondary school pupils who have not passed the national \\nmatriculation exams have the possibility of further education, which includes \\npupils of three-year and four-year vocational schools and gymnasiums.\\nBy combining knowledge needed on the modern labour market with practical, \\nhands-on skills, we create highly employable experts of the future. Another \\nconfirmation of these skills is the international IT certification, carefully \\nintegrated into the curricula of most of our study programmes, which offers \\nall our graduates in computer engineering, multimedia and digital marketing a \\ncompetitive edge in their respective fields. For those who wish to expand their \\nknowledge through formal education after completing their graduate studies, \\nwe offer the possibility of easy access and enrolment in doctoral studies at \\npartner universities. A college degree is valuable when it is backed by knowledge \\nand the ability to apply this knowledge in different working environments. That \\nis why we strive to achieve the highest quality in both learning and business \\nprocesses – a fact confirmed by the Agency for Science and Higher Education, \\nwhich has awarded us the certificate of quality that positions us as currently \\nthe highest-ranking professional study programme in Croatia.   \\nI believe that you have made a wise decision in choosing Algebra University \\nCollege, because it does matter which career path you choose and where you \\nwill build your career. \\nAllow us, therefore, to usher you into the digital future.\\nAssist.Prof. Mislav Balković, PhD  \\nDean of Algebra University CollegeINTRODUCTIONTABLE OF CONTENTS\\n2\\n3', metadata={'source': 'data/student_guide.pdf', 'page': 1}),\n",
       " Document(page_content='Algebra offers its Data Science students a \\nHybrid Graduate Programme including MIT’s \\nMicroMasters. Students who complete their \\nstudies at the integrated programme will \\nreceive a diploma from Algebra University \\nCollege along with the MITx MicroMasters \\ncredential in statistics and data science, while \\nstudents who already acquired this certificate \\nwill have a portion of their credits recognised.\\nAlgebra University College currently employs \\nover 100 teachers and associate lecturers \\ncoming from the academic and business sector \\nand, according to the quality evaluation results \\nobtained through regular re-accreditation \\nconducted by the National Agency for Science \\nand Higher Education in 2018, represents one \\nof the best study programmes in the Republic \\nof Croatia.About Algebra \\nUniversity College\\nAlgebra University College is a part of Algebra Education Group, a leading private educational \\norganization which has been present on the Croatian market for more than 25 years. \\nThe goal of the founders was to create a top quality professional higher education institution \\nthat was, along with its program, staff and teaching material, ready to meet the demands of \\nemployers and the labor market. The accreditation issued by the National Agency for Science \\nand Higher Education, the results of the re-accreditation in 2012, the quality assurance \\nsystem evaluation performed by Flemish-Dutch accreditation agency NVAO and the status \\n“Approved by FER” (FER – Faculty of Electrical Engineering and Computing) supported the fact \\nthat these wishes were not ungrounded and confirmed the high level of Algebra University \\nCollege curriculum.\\nThe University College carries out:\\nPROFESSIONAL SHORT-CYCLE STUDY PROGRAMME IN INTERNET MARKETING\\nSEVEN PROFESSIONAL BACHELOR STUDY PROGRAMMES/SPECIALISATIONS :\\n• Professional Bachelor Study Programme in Applied Computer Engineering – \\nSoftware Engineering\\n• Professional Bachelor Study Programme in Applied Computer Engineering – System \\nEngineering\\n• Professional Bachelor Study Programme – Game Development\\n• Professional Bachelor Study Programme – Multimedia Production\\n• Professional Bachelor Study Programme – Digital Marketing \\n• Professional Bachelor Study Programme in Market Communications Design – Design\\n• Professional Bachelor Study Programme in Market Communications Design – 3D \\nDesign\\nEIGHT PROFESSIONAL MASTER STUDY PROGRAMMES/ SPECIALISATIONS:\\n• Professional Master Study Programme in Applied Computer Engineering – Software \\nEngineering\\n• Professional Master Study Programme in Applied Computer Engineering – System \\nEngineering\\n• Professional Master Study Programme in Applied Computer Engineering – Data \\nScience\\n• Professional Master Study Programme in Applied Computer Engineering – Game \\nDevelopment\\n• Joint Master Study Programme in Computer Science – Internet of Things and \\nArtificial Intelligence, with EPITECH, France\\n• Professional Master Study Programme – Digital Marketing\\n• Professional Master Study Programme – Creative Market Communications \\nManagement \\n• e-Leadership MBA\\nThe curricula of all study programmes are fully compliant with the ECTS credit system (Bologna \\nDeclaration) and are part of the official system of higher education in Croatia, for which the \\nUniversity College received several accreditations from the Ministry of Science, Education \\nand Sports (first temporary accreditation received in June 2008, permanent accreditation \\nin 2010, as well as Professional Master study programmes in June 2012, accreditations for \\nboth study programmes in digital marketing in January 2015, and accreditation for the \\ne-Leadership study programme in April 2016).\\nAlgebra University College signed a partnership agreement with Goldsmiths, University of \\nLondon in January 2022. Through this partnership, Algebra University College offers the next \\ngeneration of its students the possibility to study in English at Professional Bachelor Study \\nProgrammes and Professional Master Study Programmes in the fields of computing, design \\nand management, validated by Goldsmiths, University of London. Students who complete \\none of these validated programmes will receive a dual degree from Algebra University College \\nand Goldsmiths, University of London. 7\\n81\\n1600\\n140Professional Bachelor \\nStudy programmes/\\nspecialisations\\nhigher \\neducation \\nstudents\\nlecturers \\nand teaching \\nassociatesProfessional Master \\nStudy programmes/\\nspecialisationsProfessional \\nshort-cycle study \\nprogramme\\n4\\n5', metadata={'source': 'data/student_guide.pdf', 'page': 2}),\n",
       " Document(page_content='Right to subsidized meals \\nThe conditions for having the right to subsidised meals are prescribed by \\nthe Ordinance on the conditions and manner of exercising the right to \\ncover student meal costs. These regulations are available on the official \\nwebsite of the Ministry of Science, Education and Sports. Detailed \\ninformation is available on this link\\nhttps://gov.hr/hr/subvensionirana-prehrana/1066 . \\nLevel \\nof \\nsubsidyTo whom are they awarded Basis for awarding rights \\n0 • Part-time students\\n• Students who work while studying\\n• PhD students \\n• Non-EU citizens (who have not been \\nawarded a scholarship by Ministry of \\nScience and Education)\\n1 • Full-time students with place of \\nresidence in the county where the \\nstudy programme is conducted• Regulated enrollment in the current \\nacademic year\\n2 • Full-time students with place of \\nresidence\\n• outside the county where the study \\nprogramme is  conducted\\n• Students covered by special \\ndecisions of the Ministry of Science \\nand Education\\n• Foreign nationals taking part in \\ninternational exchange programmes \\nErasmus and CEEPUS• ID card\\n• Registered mobility of foreign \\nstudents by the higher education \\ninstitution\\n2,5 • Full-time students housed in a \\ndormitory that does not provide \\nmeal services\\n• Students with an extremely low \\nsocial status based on the approval \\nof the Ministry of Science and \\nEducation\\n• Top athletes with place of residence \\noutside the place of study• Confirmation of accommodation in \\na dormitory issued by the Student \\nCentre\\n• Confirmation from the Ministry \\nof Science and Education \\nabout extremely poor financial \\ncircumstances sent to the Centre \\nfor subsidy authorisation (CAP)\\n• Decision on the status of athlete \\nissued by the Croatian Olympic \\nCommittee (category I - III) and ID \\ncardCampus \\norientation\\nTeaching takes place in the auditoriums, classrooms and cabinets \\nequipped with the necessary equipment for all fields of study. University \\nCollege premises are fully accessible to persons with disabilities.\\nAuditoriums and lecture halls are named after great Croatian and world \\ninnovators and pioneers of technological progress (Nikola Tesla, Ruđer \\nBošković, Faust Vrančić, Eduard Slavoljub Penkala, Steve Jobs, Ivan Picelj, \\nIvan Lupis, Slavko Krajcar, Ada Lovelace, Ivan Vučetić, Galileo Galilei), \\nwhile the classrooms are marked by a combination of letters indicating \\nfloor and cardinal number (A1, A2..., C1, C2,...).\\nFor all information, enrolments, application submission, student status \\nand other student issues, the Student Office is at your disposal. It is \\nlocated on the ground floor of the building.\\nA library with reading room and Slavko Krajcar Innovation Lab are \\navailable to students on the A level of the building. There are several \\nspacious lounge areas for socialising, refreshment and relaxing \\nbetween classes, an area with machines for hot and cold beverages \\nand “snack” machines available on the A level and the get-together \\nlounge Družiona on the F level. Družiona is accessible with the X-ica \\ncard, and the space is intended for socialising, eating and drinking. \\nAll areas are accessible during campus working hours. Nearby, at the \\nFaculty of Textile Technology (Prilaz baruna Filipovića 28a), the Student \\nCentre restaurant is open weekdays from 8:00 a.m. to 2:30 p.m. where, \\nin addition to the usual offer, a menu (hot meal with side dishes) is also \\navailable. The restaurant is only 500 meters from our campus, so be \\nsure to visit it.\\n6', metadata={'source': 'data/student_guide.pdf', 'page': 3}),\n",
       " Document(page_content='Plan of Algebra University \\nCollege premises\\n9\\nLecture room\\nSteve JobsA3\\nLecture room\\nIvan LupisInnovation lab\\nSlavko KrajcarA7\\nLecture room \\nIvan PiceljA9\\nArt Studio\\nSlava RaškajA4\\nArt Studio\\nIvan MažuranićA5\\nLecture roomA6 A8\\nLecture roomA11\\nOn Air StudioA12\\nA/V\\nProduction\\nStudioA10\\nLibrary\\nData centar \\nNimbusOn line room A1  \\nCollaboration \\nrooomA2\\n1\\n2\\n34\\n5\\n67\\n8\\n910 1314\\n11\\n12\\nLecture room\\nNikola TeslaB3 Lecture room\\nFaust VrančićB4 B5 Admission \\nOffice\\nfor Lifelong \\nLearningAdmission \\nOffice\\nfor Higher \\nEducationStudent \\nofficeMultimedia\\nand\\nDigital Arts\\nDepartmentStudent \\nSupport\\nOfficeOperating \\nSystems\\nDepartment\\nCybersecurity\\nDepartmentEconomics\\nDepartmentComputer\\nNetworks\\nDepartment\\nSoftware\\nEngineering\\nDepartmente-Leadership\\nDepartmentGeneral\\nSubjects\\nDepartmentMeeting\\nroom\\nB6\\nMeeting\\nroomLecture room\\nMarija BrautB2\\nExibition HallB1\\nENTRANCE\\nLecture Room\\nIvan VučetićLecture RoomC4 C5\\nLecture RoomC3\\nLecture RoomC2\\nLecture RoomC1\\nLecture RoomC10\\nLecture Room\\nRuđer BoškovićC10Lecture Room\\n3D productionC6\\nTest CenterTeachers \\nSupport \\nOffice\\nInternational \\nOfficeCareer \\nCenterC7\\nTest \\nCenterC8 C9\\nMeeting Room\\nLecture Room\\nEduard S. PenkalaD4\\nLecture RoomD5\\nLecture RoomD6\\nLecture RoomD7\\nLecture RoomD8\\nLecture RoomD9\\nLecture RoomD3\\nLecture RoomD2\\nLecture RoomD1\\nLecture RoomD12\\nLecture RoomD11\\nLecture RoomD10\\nLecture Room\\nAda LovelaceE3 Teacher\\nAssembly E1\\nMeeting\\nRoomE2\\nLecture Room\\nGalileo GalileiF4\\nLecture Room\\nDušan VukotićF10Staff RoomF5\\nLecture RoomF3\\nLecture RoomF2\\nLecture RoomF1\\nLecture RoomF9Lecture RoomF6C floor F floorB floor E floorA floor D floor\\n8\\n9', metadata={'source': 'data/student_guide.pdf', 'page': 4}),\n",
       " Document(page_content='The building of the University College is open from 7:30 a.m. \\nto 10:00 p.m. on weekdays and from 7:30 a.m. to 9:00 p.m. on \\nSaturdays. \\nThe campus is closed on Sundays.Pursuant to Article 28 of the Algebra University College Statute, in accordance \\nwith the Code of Ethics of Algebra University College and the Book of \\nRegulations on Disciplinary and Material Responsibility of students, teaching \\nand non-teaching staff of Algebra University College, on 9 February 2018, the \\nDean of Algebra University College introduced the\\nCODE OF CONDUCT FOR STUDENTS OF \\nALGEBRA UNIVERSITY COLLEGE\\nStudents, lecturers, associates and employees of Algebra University \\nCollege need to work together to create an optimal environment and \\nconditions for the realisation of honourable academic work.\\nThe Code is primarily based on the desire of students and teachers \\nto avoid and eliminate unacceptable behaviour and to establish a \\nrelationship based on mutual respect.\\nStudents’ duties are:\\n→ To preserve the reputation and dignity of Algebra University \\nCollege, its students, lecturers and associates;\\n→ To attend lectures, workshops and other forms of teaching without \\ntardiness.\\n→ To regularly perform and independently organise duties (finances, \\nregistering and cancelling exams, number of examinations, \\nattendance at lectures and workshops, etc.)\\n→ Respect the office hours;\\n→ To attend sessions of the Academic Council and other committees \\nthey are members of;\\n→ To be polite and fair towards lecturers, associates and other \\nAlgebra University College employees and students;\\n→ If there are special rules of conduct and residence in some faculty \\nareas of Algebra University College (e.g. the reading room, lecture \\nrooms, lecture halls and other), you must adhere to them;\\n→ To preserve the property and the environment of Algebra University \\nCollege. Code of conduct\\nStudents’ rights are:\\nDefined in accordance with regulations such as the Constitution of the \\nRepublic of Croatia, Act on Scientific Activity and Higher Education, \\nStatute of Algebra University College, Book of Regulations on Study \\nProgrammes and Studying, and in particular: \\n→ Equal and inalienable rights regardless of race, nationality, religion, \\ngender, political and other beliefs and views, social status and all \\nother differences; \\n→ The freedom of expression in accordance with the legal decisions \\nand the moral principles of the academic citizen;\\n→ The freedom of non-political association;\\n→ Democratically elected representatives with the right to vote in the \\nAlgebra University College Council;\\n→ Giving opinions on issues pertaining to students’ rights and \\nobligations through student representatives;\\n→ The availability of Algebra University College Statute and other \\nacts related to students and their rights at Algebra University \\nCollege;\\n→ Fair treatment by Algebra University College, and, in this regard, an \\nappeal in case of violation of this right;\\n→ Attending lectures, workshops, seminars and other teaching \\nmethods;\\n→ Participation in scientific and professional activities;\\n→ Assistance and counselling by the coordinator of the Career \\nCentre with regard to the study process;\\n→ Submitting appeals on the decision or procedure to the competent \\nauthority;\\n→ Reward for work, achievement and contribution to the affirmation \\nof Algebra University College;\\n→ Participation in extracurricular activities: cultural, sports, \\nprofessional conferences and seminars etc.\\n10\\n11', metadata={'source': 'data/student_guide.pdf', 'page': 5}),\n",
       " Document(page_content='Due to the protection of personal information, all students are \\nrequired to use a verified student e-mail address from the Algebra \\nUniversity College domain in official communication with teachers \\nand/or associates and/or staff of Algebra University College. The \\nstudents will receive their designated e-mail address upon enrolling \\nin their studies. E-mails sent by students from other e-mail \\naddresses to teachers and/or associates and/or staff of Algebra \\nUniversity College will not be taken into account.Unacceptable behaviour is considered to be:\\n→ Impolite and incorrect attitude towards teachers, and other \\nAlgebra University College employees or students;\\n→ Being late or leaving any form of teaching and disregarding other \\nstudy obligations;\\n→ Disturbing any form of teaching;\\n→ Creating noise or disturbance of order and peace;\\n→ Dressing inappropriately with regard to generally accepted rules \\nfor the given occasion;\\n→ Using aids during examinations and other tests, except where \\nexplicitly permitted, and accepting and providing assistance on \\nexams and other tests;\\n→ Presenting someone else’s work as your own;\\n→ Misrepresentation, attending tests on behalf of another person;\\n→ Counterfeiting documents related to studying and exercising \\nstudent rights;\\n→ Violation of copyright and intellectual property rights;\\n→ Unauthorized access to computer system resources and other \\nentities connected to Algebra University College via the Internet;\\n→ Causing material injury and divestment of assets of Algebra \\nUniversity College;\\n→ Acts that deliberately or out of recklessness harm the environment \\nof Algebra University College;\\n→ Coming to any form of teaching under the influence of alcohol or \\nnarcotic drugs;\\n→ All other acts that are in opposition to the moral norms accepted \\nin society and acts legally defined as misdemeanours and criminal \\noffenses. In case of doubt about the violation of this code, a disciplinary procedure \\nagainst the student is initiated in accordance with Book of Regulations \\non Disciplinary and Material Responsibility of students, teaching and \\nnon-teaching staff. This Code shall enter into force on the date of its \\nadoption and shall be published on Algebra University College website. \\nZagreb, 9 February 2017\\nClass: 602-04/18-01/10\\nFile no.: 251-321-18-01-07\\nRevision: 0\\nDate: -\\nPages: 3\\nWritten by: Mislav Balković, PhD\\nApproved Board of Trustees\\nDean of\\nAlgebra University College\\nAssist.Prof. Mislav Balković, PhD\\n12\\n13', metadata={'source': 'data/student_guide.pdf', 'page': 6}),\n",
       " Document(page_content='The best path to success is to gradually pass courses through \\nmid-term exams. Take advantage of this opportunity and don’t \\nleave everything for the end of the semester! Course lecturers and \\nassociates will provide you with further instructions about mid-term \\nexams.\\nAlgebra University College reserves the right to change the student calendar. \\nThe current calendar is available at: \\nhttps://www.algebra.hr/visoko-uciliste/wp-content/uploads/sites/2/2023/07/\\nKalendar-nastave-2023-2024.pdfStudy structureAcademic year \\n2023/2024 calendar\\nWeek Mon Tue Wed Thu Fri Sat Sun Week Mon Tue Wed Thu Fri Sat Sun Week Mon Tue Wed Thu Fri Sat Sun\\nP 1 5 30 31 1 2 3 4 5 M1 1 2 3\\n1 2 3 4 5 6 7 8 6 6 7 8 9 10 11 12 9 4 5 6 7 8 9 10 October 02, 2023\\n2 9 10 11 12 13 14 15 7 13 14 15 16 17 18 19 10 11 12 13 14 15 16 17 Start of the winter semester\\n3 16 17 18 19 20 21 22 8 20 21 22 23 24 25 26 11 18 19 20 21 22 23 24\\n4 23 24 25 26 27 28 29 M1 27 28 29 30 P 25 26 27 28 29 30 31 November 27, 2023 - December 2, 2023\\nMidterm exams\\nWeek Mon Tue Wed Thu Fri Sat Sun Week Mon Tue Wed Thu Fri Sat Sun Week Mon Tue Wed Thu Fri Sat Sun December 24, 2023 - January 01, 2024\\n12 1 2 3 4 5 6 7 M2+I1 1 2 3 4 1 1 2 3 Christmas holidays\\n13 8 9 10 11 12 13 14 I4 (S) 5 6 7 8 9 10 11 2 4 5 6 7 8 9 10\\n14 15 16 17 18 19 20 21 I2 12 13 14 15 16 17 18 3 11 12 13 14 15 16 17 January 29, 2024 - February 17, 2024\\n15 22 23 24 25 26 27 28 O-P 19 20 21 22 23 24 25 4 18 19 20 21 22 23 24 Final exams of the winter semester\\nM2+I1 29 30 31 1 26 27 28 29 5 25 26 27 28 29 30 31\\nFebrury 26, 2024\\nStart of the summer semester\\nWeek Mon Tue Wed Thu Fri Sat Sun Week Mon Tue Wed Thu Fri Sat Sun Week Mon Tue Wed Thu Fri Sat Sun\\n6 1 2 3 4 5 6 7 9 1 2 3 4 5 13 1 2 April 22, 2024 - April 27, 2024\\n7 8 9 10 11 12 13 14 10 6 7 8 9 10 11 12 14 3 4 5 6 7 8 9 Midterm exams\\n8 15 16 17 18 19 20 21 11 13 14 15 16 17 18 19 15 10 11 12 13 14 15 16\\nM1 22 23 24 25 26 27 28 12 20 21 22 23 24 25 26 M2+I1 17 18 19 20 21 22 23 June 17, 2024 - July 8, 2024\\n9 29 30 13 27 28 29 30 31 I3 (W) 24 25 26 27 28 29 30 Final exams of the summer semester\\nSeptember 2, 2024 - September 14, 2024\\nWeek Mon Tue Wed Thu Fri Sat Sun Week Mon Tue Wed Thu Fri Sat Sun Week Mon Tue Wed Thu Fri Sat Sun Exam retake terms\\nI2 1 2 3 4 5 6 7 P 1 2 3 4 P 1\\nO-P 8 9 10 11 12 13 14 P 5 6 7 8 9 10 11 I 2 3 4 5 6 7 8\\nP 15 16 17 18 19 20 21 P 12 13 14 15 16 17 18 I 9 10 11 12 13 14 15\\nP 22 23 24 25 26 27 28 P 19 20 21 22 23 24 25 O-P 16 17 18 19 20 21 22\\nP 29 30 31 P 26 27 28 29 30 31 P 23 24 25 26 27 28 29\\nteaching examinations some oral examinations/non working days non working days bank holidayJANUARY 2024 FEBRUARY 2024 MARCH 2024ACADEMIC CALENDAR 2023./2024.\\nOCTOBER 2023 NOVEMBER 2023 DECEMBER 2023\\nAPRIL 2024 MAY 2024 JUNE 2024\\nJULY 2024 AUGUST 2024 SEPTEMBER 2024\\nThe academic year consists of two semesters. The so-called winter \\nsemester starts at the end of September or beginning of October, while \\nthe summer semester starts after the winter examination period in February. \\nEach semester consists of 15 weeks of classes and a total of 4 weeks of \\nexamination periods. After the eighth week of classes, the first mid-term \\nexams are held for one week. The fifteenth week of classes will be followed by \\nthe second mid-term examination period and make-up examination periods.\\nThe fall examination period awaits you before the end of the study year and \\nwill take place over two weeks. More information on mid-term exams and \\nexamination schedules can be found below.\\nAccurate information about classroom weeks, mid-term exams and examination \\nweeks, as well as public holidays and closed days can be found in the student \\ncalendar.Market Communication\\nDesignDesign 3D designCreative Market\\nCommunications ManagementCreative Market\\nCommunications\\nManagementData\\nScienceJoint stud y\\nprogra mme  in\\nComputer Science\\nIoT & A I\\nMaster study p rogramm e in\\nApplied Com puter Engin eering\\n(120 ECTS)Joint stud y\\nprogra mme  in\\nComputer Science\\nIoT & A I\\n(120 ECTS)COMPUTE R SCIENCE ECONOMY ARTS\\n2 semestar\\n1 semestarCommon courses + one course specific\\nfor each study / profile\\nCommon courses \\nBachelor study - \\nBachelor study - Master study Master studyMaster study\\nBachelor study - \\nBachelor study - Study programme: Study programme: Study programme: \\nStudy programme: \\n14\\n15', metadata={'source': 'data/student_guide.pdf', 'page': 7}),\n",
       " Document(page_content='It’s safe to say: If it isn’t on Infoeduka, it didn’t happen!If you are enrolling in a higher year of study and simultaneously \\nrepeating courses of the previous year, such enrolment may result \\nin overlapping of schedules of lectures or practicums. If you are, \\nat your request, simultaneously enrolling in courses from different \\nstudy years, you are considered to have been informed about this \\npossibility.What do I need to \\nknow as a student \\nof Algebra University \\nCollege?\\nInfoeduka – the digital student service or digital notice board\\nDigital student service Infoeduka is a digital notice board with all available \\ninformation, personalised schedule, teaching materials, information about the \\nnumber of points per subject and learning outcomes, payment information, \\nvarious notifications about changes, news, and more.\\nInfoeduka enables you to have all the information you need in one place \\nand access it from any location. It also makes it easier to study, reducing \\nadministration, and improving the organisation of the study process.\\nYou can use Infoeduka to track information and perform most of your study \\nactivities:\\n •Keep track of important information regarding studying\\n •Follow the personalised lecture schedule \\n •Keep track of your classroom attendance \\n •Access the repository of teaching materials\\n •Track financial obligations\\n •Register and cancel your exams\\n •Review exam grades\\n •Review class calendar and exams schedule\\n •Enrol and validate a semester or year\\n •Review number of earned credits within a course\\n •Access e-learning contents\\n •Access on-line services (forum, webmail)\\n •Access e-library \\n •Submit requests to receive certificatee\\n •Control and adjust receiving notifications about \\nevents relevant to for your studies\\n •Register your graduation thesisStudent status\\nStudent status is acquired through enrolment in the University College and is \\nterminated upon completion of the study programme, disenrollment from the \\nUniversity College or discontinuation of studies for other reasons.\\nWhat are the conditions for enrolment in a higher year of study?\\nThe conditions for enrolment in a higher year of study are the same for both \\nfull-time and part-time students.\\nIn order to enrol in the second year of study, students are required to pass \\nall first-year courses. Exceptionally, students may, at their request, enrol in \\nthe second year of study if they have passed sufficient first-year courses to \\nacquire a total of at least 40 ECTS credits.\\nIn order to enrol in the third year of study, students are required to pass all \\nof their first-year and second-year courses. Exceptionally, students may, at \\ntheir request, enrol in the third year of study if they have passed all of their \\nfirst-year courses and sufficient second-year courses to acquire a total of at \\nleast 40 ECTS credits.\\nIn order to enrol in the final year of study, students are required to pass all \\ncourses, or, exceptionally, they can enrol if they have passed sufficient third-\\nyear courses to acquire a total of at least 40 ECTS credits and all of their first \\nand second year courses.\\nAcquired ECTS credits are reviewed in September.\\nNumber of ECTS credits acquired determines the year of study you will be \\nable to enrol and fulfilment of conditions for enrolment in a higher year or re-\\nenrolment of the previous year of study.\\nAll courses that have not been passed in the period of 12 months since their \\nenrolment, must be re-enrolled.You can sign in to Infoeduka with access information you received when enrolling \\non the following link: https://student.racunarstvo.hr/pretinac/ . \\nThe Infoeduka link can also be found on the left side of our every web page.\\n16\\n17', metadata={'source': 'data/student_guide.pdf', 'page': 8}),\n",
       " Document(page_content='For each course, the course Head defines between 2 and 5 sets \\nof learning outcomes. In order to pass the course, it is necessary \\nto pass each learning outcome, that is, earn at least 50% of \\npossible points predicted for that learning outcome. This means \\nthat you have also passed that set of learning outcomes.If you have not passed all courses of the previous year and are \\ntransferring them to the next academic year, please keep in \\nmind the following: it is better to pass all courses of the winter \\nsemester and transfer summer semester courses, since the \\nsummer semester courses can still be passed in February (12 \\nmonths after their enrolment). If you succeed to pass courses \\nof the summer semester during this period (until February of the \\nfollowing year), you do not need to re-enrol them and pay for their \\nenrolment.\\nWhat is the semester status?\\nIn order to enroll in each semester, you are required to complete and submit the \\nEnrolment Form, which defines all enrolled courses and status of the enrolled \\nsemester, through the Infoeduka system. A semester can be enrolled in the \\nfollowing statuses:\\n •Enrolled – if you are enrolling in the semester (year) for the first time;\\n •Re-enrolled – if you have not acquired enough ECTS credits \\nduring the previous year in order to enrol in the higher year \\nof study, you must re-enrol in the same semester (year).  \\nSuspension of obligations is possible during military service, pregnancy and up \\nto one year of age of the child, prolonged illness and in similar justified cases. \\nDuring that time, the rights and obligations are suspended, and in that period \\nthe student does not have the right to subsidized housing costs in student \\ndormitories, the right to cover food costs, transportation costs or the right \\nto state scholarships. Moreover, in the opinion of the Ministry, if the student \\nis not able to perform his/her study obligations for justified reasons, then he/\\nshe cannot perform student work via student work contracts. In the year in \\nwhich the suspension of study obligations is enrolled, students are suspended \\nfrom all rights of the student status, except for the right to health insurance). \\nStudents enrol in higher semesters twice during the academic year – in \\nSeptember and in February.\\nIn addition, a request for disenrollment from the study program must be \\nsubmitted through the Enrollment Form tool within the Infoeduka system.\\nSpecifically defined learning outcomes and methods for verifying their \\nadoption for each course may be found in the Instructions for attending \\nand passing the course. The instructions are published in the repository of \\nteaching materials for each course separately.What are learning outcomes?\\nLearning outcomes are statements that specify what a student is expected \\nto know, understand and be able to do upon successful completion of the \\nlearning process. The learning outcomes are thematically grouped into sets \\nof learning outcomes.\\nWhat is X-ica and its purpose?\\nThe student identification card or the popular X-ica is an identification document \\nthat attests student status (the student matriculation book is no longer required \\nas the document attesting student status at Croatian institutions, including \\nAlgebra University College). The student ID card is active from October of the \\ncurrent year until October of the following year, except in case of termination \\nof student status.\\nIf you are an EU student with full-time student status, you have the right to \\nsubsidised meals, and if you own a European Health Insurance Card (EHIC), you \\nhave the right to free health insurance. All full-6time students (EU and non-EU) \\nhave subsidised transportation (ZET, bus, etc.) and a variety of benefits, such as \\ndiscounts for theatre tickets, etc. Furthermore, all full-time students have the \\nright to apply for accommodation in a student residence, but keep in mind that \\nit is difficult to get a place in said accommodation. Part-time students do not \\nhave the right to said state subsidies.ECTS Credits and \\nLearning Outcomes\\nAs previously mentioned, the curricula of all study programmes are fully \\nconsistent with the ECTS credit system (Bologna Declaration) and each course \\nis defined through learning outcomes. \\nWhat are ECTS credits?\\nECTS credits (European Credit Transfer System) are related to the Bologna \\nsystem of study and indicate the study load expected of students during the \\nexecution of all obligations related to a particular course. They are defined by \\nthe expected number of hours that a student will spend learning, practicing \\nand preparing papers and seminars in order to pass a given course. One ECTS \\ncredit indicates 25 to 30 hours of work. Each course requires a certain number \\nof ECTS credits.\\nIf you successfully complete all requirements and pass all exams, you will acquire \\n30 ECTS credits during one semester, and 60 ECTS credits during one year. \\nThe Professional Bachelor Study Programme with the duration of three years \\nequates to 180 ECTS credits, while a Professional Master Study Programme with \\nthe duration of two years equates to 120 ECTS credits.\\n18\\n19', metadata={'source': 'data/student_guide.pdf', 'page': 9}),\n",
       " Document(page_content='Students who do not meet minimum attendance requirements or \\nfail to fulfil any of the other obligations defined by the document \\n“Instructions for attending and taking courses” document, \\ncannot obtain a digital signature from their lecturer, and are \\ntherefore not allowed to take the exam and pass the course. If \\nthat happens, students have to re-enrol the same course.\\nAll lectures can be accessed via the video conference system, as \\nwell as some practicums, which the lecturer deems sensible to \\nshare via video.\\nIf you receive a notification saying that you have been referred \\nto additional classes, use them as an additional form of \\ngratuitous practice and a chance to catch up with the materials \\nmissed during regular classes! This will increase your chances of \\npassing the course.Make an effort to prepare homework, pass short tests and \\nfulfil other tasks since these few points can prove helpful if you \\nare a few points “short” of the required minimum for passing a \\nparticular learning outcome!\\nClasses will not be held during mid-term exams.Classes are organised in accordance with the Decision on the Class Calendar, \\nupon which a detailed class schedule is based. The schedule is always available \\nthrough the Infoeduka digital student service system. The schedule is also \\navailable in the mobile version of Infoeduka.\\nWhy is it important to attend classes?\\nAttending lectures and practicums is mandatory and it is a prerequisite for \\nobtaining the lecturer’s signature. Without the signature you are not allowed \\nto take exams and automatically “fail” that class. \\nStudents are obligated to attend in person at least 50% of lectures and at \\nleast 60% of practicums or teaching seminar as part of each course.\\n •If teaching is performed in an integrated manner (e.g. modular MBA \\nprogramme), class attendance of at least 60% is mandatory.\\nAdditional classes are free for students and represent study support.Instructions for accessing a video conference are announced within the \\nInfoeduka system notifications.\\nVideo conference viewing of classes is not recorded as class attendance and \\nonly serves to help students in situations when they are unable to attend in \\nthe classroom.\\nWhat are additional classes?\\nAdditional classes are a form of assistance to students who, for whatever \\nreason, do not manage to pass the learning outcomes as planned or have \\ndifficulties with mastering teaching materials (due to lower prior knowledge, \\nabsence from classes due to a long illness or other reasons). Additional classes \\nare generally organised (based on the results of previous generations) for more \\ndifficult courses that include specific theoretical or practical tasks.Examinations\\nThe final goal of the educational process is to prepare students for particular \\njobs. The training is realised through the acquisition of knowledge and skills \\ndefined by learning outcomes. A passed examination is proof that the student \\nhas mastered all stipulated learning outcomes and has thus acquired certain \\nknowledge and skills.\\nHow to pass an exam?\\nThe learning outcomes of each course are evaluated through various methods \\nand each evaluation method is accompanied by a certain number of points, \\nwhile each course carries a maximum of 100 points.\\nThe points are rounded up to two decimal spaces (these are not ECTS credits).\\nThe points are acquired through several methods used for the evaluation of \\nlearning outcomes: first mid-term exam, second mid-term exam, short tests, \\nhomework, oral exam, while some courses may include seminar papers, school \\nassignments, projects, practical work, workshops, etc. They are defined for \\neach individual course and each course head will indicate the required student \\nobligations during the introductory lecture.Classes organisation \\nand attendance\\nWhat are mid-term exams and how are they organised?\\nMid-term exams allow you to pass courses in step-by-step instalments. During \\na semester, two mid-term exams will be organised for each course.\\nEach mid-term exam covers several learning outcomes and at the start of \\nclasses, the teacher will clearly define the exact learning outcomes covered \\nby each mid-term exam. In addition, it will be evident from the examination \\nmaterials which questions and tasks refer to a particular outcome.\\nFirst mid-term exams will be organised after the eighth week of classes, over \\nthe course of one week.\\nThey encompass learning outcomes covered during these eight weeks of \\nclasses.\\nSecond mid-term exams will be organised after the end of the semester and \\nactually represent the beginning of the winter and summer examination periods. \\nThe second mid-term exam will cover tasks related to learning outcomes \\naddressed during the second half of the semester (after the first mid-term \\nexam), after which you can retake all earlier learning outcomes you did not \\nmanage to pass or want to improve. Registration for the second mid-term \\nexam counts as a first exam registration.\\n20\\n21', metadata={'source': 'data/student_guide.pdf', 'page': 10}),\n",
       " Document(page_content='Examination schedules (date, time and halls) are announced \\nwithin the Infoeduka system. Keep track of examination periods \\nand register for exams on time!\\nA student has passed an exam if they have simultaneously \\npassed all learning outcomes (obtained a minimum of 50% of \\npossible points for each outcome) and have achieved a minimum \\nof 50.01 points for a particular course.All relevant information about the exams can be found in the \\ndocument Decision on the rules for conducting exams at Algebra \\nUniversity College, published on the website in the section \\n“About us” – “Documents”. Read this document in order to \\nadequately prepare for the exams.\\nA student has the right to reject a grade and retake the whole \\nor a section of the exam in order to increase the number of \\npoints and the final grade. However, rejection of a grade will be \\nconsidered as an unsatisfactory grade and it is not possible to \\n“restore” the rejected grade.When has a student failed an exam?\\nIt is considered that a student has failed an exam if:\\n •they failed to pass any part of the exam,\\n •they registered for an exam, but did not attend the \\nwritten or oral exam during an examination period, in \\naccordance with the announced exam schedule,\\n •they refused to accept the grade offered by the lecturer at the \\ntime of the oral exam or during the registration of grades.Examination periods \\nDuring the academic year, you will have three examination periods:\\nWinter examination period:\\n •organized after the end of the winter semester (in February)\\n •2 examination periods will be organised for courses of the winter \\nsemester and 1 examination period for courses of the summer semester\\nSummer examination period:\\n •organized after the end of the summer semester (in June and July)\\n •2 examination periods will be organized for courses of the summer \\nsemester and 1 examination period for courses of the winter semester\\nAutumn examination period:\\n •organized after the summer holidays (in September)\\n •1 examination period will be organized for courses of the winter \\nsemester and 1 examination period for courses of the summer semester\\nAfter the successful completion of all learning outcomes through short tests, \\nhomework, seminar papers and oral exams (you should acquire a minimum of \\n50% of possible points for each learning outcome), you may access the oral \\nexam (if an oral exam is scheduled as a part of the course). If you successfully \\npass the oral exam and acquire a minimum of 50.01 points, the teacher will \\ndetermine the final grade of the course and the course will be considered as \\npassed. The grade and the associated number of ECTS credits are entered in \\nthe Infoeduka system.present it in the event of technical difficulties. Students who did not register \\nfor the exam on time cannot take the exam, nor can their results be admitted. \\nIf the student did not cancel their exam registration on time and did not take \\nthe exam, or was prevented from passing the exam, they may submit a written \\nrequest to cancel the exam registration in case of exceptional circumstances \\ndefined by the Decision on categories of acceptable and unacceptable \\ncircumstances.\\nHow to register and cancel mid-term exams and exams?\\nStudents are required to register for exams no later than 3 (three) days before \\nthe scheduled exam (three days prior, until 11:59 midnight) and cancel an exam \\nregistration by the cancelation deadline defined in Infoeduca for each exam \\nterm separately. Exceptionally, due to the demanding organisation of final \\npractical exam scheduling, students may register for the final practical exam \\nno later than 7 (seven) days before the exam date and cancel their registration \\nby the cancelation deadline defined in Infoeduka.\\nWhen registering for an exam or cancelling a registration, students automatically \\nreceive confirmation of this activity. Keep this confirmation so that you may In case of overdue payments, it is not possible to register or take exams. Since \\nthe payments are registered only after being received in the University College \\naccount, students who registered the exam but were in the meantime denied \\naccess to the exam due to unfulfilled financial commitments, may access the \\nexam if they fulfilled their payment obligations in the meantime. \\nIn that case, the student has to personally inform the Student Office and \\nbring the payment receipt, after which the student will be issued permission \\nto take the exam. The student is obligated to show that permission to the \\nexam supervisor. \\nIMPORTANT:\\n •This possibility may only be used by students who registered their exam \\non time\\n •The permission may only be received during the working hours of the \\nStudent Office\\n •The payment confirmation has to be brought to the Student Office in \\nperson by the student \\n •Payment confirmations sent via e-mail will not be taken into account.\\n22\\n23', metadata={'source': 'data/student_guide.pdf', 'page': 11}),\n",
       " Document(page_content='Most students do not need additional exam attempts. With \\nconsistent effort and study, you can pass a course without any \\nproblems through the mid-term exam and three exam takes!If you are improving some of the learning outcomes you already \\npassed, Infoeduka records the points from that re-take, \\nregardless of whether you did better or worse than the first \\ntime. This means that during the re-take of the already passed \\nlearning outcome, it is also possible to fail.What is the additional fourth exam registration?\\nIf a period of 12 months from the date of enrolment has not expired, students \\nwho have failed to pass an exam three times can register for one exclusive \\nadditional examination in order to pass the course in question. The price of \\nthe first three regular examinations is included in the tuition fee, while the \\nadditional exam registration is charged in accordance with the fee stipulated \\nby the current Decision on Tuition Fees. The prerequisites for additional exam \\nregistrations are equal to those for regular exam sittings and the exam is taken \\nunder the same conditions. A student, who does not pass the additional exam, \\nmust re-enrol and pay tuition for the course in question.\\nHow long do I have to pass a course after enrolment?\\nEach enrolled course is valid for 12 months after the date of enrolment and \\nduring this period you are expected to fulfil all requirements related to the \\ncourse and pass all learning outcomes that enable you to pass the course. If \\nyou do not manage to pass the exam within 12 months, you will need to re-enrol \\nand repeat the course. This will require not only an additional investment of \\ntime but will also be an additional financial burden.\\nHow and when can I take certificate exams?\\nCertificate exams included in the tuition fee are not mandatory and free \\ncertificate exams are available only to students who meet all precertification \\nrequirements as prescribed. This usually refers to passing exams in related \\ncourses or obtaining a certain number of credits within the certificate exam \\npreparation system.\\nIn case the student fails to pass a certificate exam, the University College will \\nprovide an opportunity for re-evaluation through a second exam upon payment \\nof costs determined by the price list issued by the certification institution \\nresponsible for the test procedure.…I want to improve a learning outcome?\\nIf you have succeeded in passing one (or more) learning outcomes on your first \\nmid-term exam and you are not content with the number of points earned, you \\ncan improve on these results. You can increase your points in the second mid-\\nterm exam and the next examination period.Certificate exams can be taken within exam terms according to a pre-\\nannounced schedule but are not connected to the exams held at the end of \\neach course.\\nCertificate exams cannot replace exams conducted at the end of the course. \\nStudents generally take certificate exams in a particular field only after \\nsuccessfully passing the exam / exams related to the respective certificate \\nexam. The right to take certificate exams included in the tuition fee is valid \\nfor a maximum of 12 months after the expiry of student rights, in case these \\nexpire on the basis of successful completion of studies, or after the date of \\ndisenrollment or of cessation of student rights in case these rights cease on \\nany other basis.\\nWhat if…If you have registered for an exam and decided not to take the \\nexam, make sure to cancel the exam on time because the exam \\nwill otherwise be considered as taken and failed! This way you \\nwould be losing one exam sitting.How many times can an exam be taken?\\nEach exam can be taken up to four times through three regular exam sittings \\nand an additional fourth attempt. Registration of the second mid-term exam \\nis considered as the first exam sitting (pre-examination period).\\nBelieve in yourself, your abilities and your own potential! Algebra \\nUniversity College promotes academic integrity. …I cheat on an exam?\\nStudents are expected to participate in classes, write homework, take mid-\\nterm exams, final exams, etc. Each of these activities must be done individually \\n(unless otherwise specified).\\nCopying from another student is considered a minor disciplinary offense and \\nmeasures will be applied in accordance with Article 8 of the Book of Regulations \\non Disciplinary and Material Responsibility. Measures are usually taken against \\nboth students involved, the one who was copying and the one who was copied \\nfrom.\\nIn case copying reoccurs after a disciplinary measure has already been imposed \\nin accordance with Article 8 of the Book of Regulations on Disciplinary and \\nMaterial Responsibility, it will be considered a serious disciplinary offense and \\nmeasures will be applied as stipulated in Article 7 of the aforementioned Book \\nof Regulations.\\n24\\n25', metadata={'source': 'data/student_guide.pdf', 'page': 12}),\n",
       " Document(page_content='If you are repeating the second year and have not passed a course of \\nthe first year, you cannot enrol in courses of the third year!!\\nAlthough this may seem like a nice break, it is not recommended to avoid \\nclasses during re-enrolment (even if you have obtained the signature). \\nIf you were not able to pass the course after attending lectures and \\npracticums, it will definitely be more difficult to pass the course without \\nclass attendance. Students are therefore recommended to attend the \\nclasses once again!In case you are enrolled in courses from two different study years in the same academic \\nyear (e.g. you are repeating a portion of the courses from the second year and have \\nenrolled several courses from the third year), it is possible that will be some overlap in \\nthe schedule of the lectures or practicums, as well as exam dates. If you decide to do \\nthis, i.e., enrol in courses from different study years, upon submitting your enrolment \\nform, you must confirm that you accept such a possibility and that you are aware this \\nmay lead to challenges in organising your time and obligations in a particular course. \\nIn this situation, the University College is not obligated to ensure that the courses you \\ntake do not overlap, but we will be happy to make adjustments, if there is opportunity \\nto do so.\\n…I want to change my sub-specialisation or study programme?\\nIf you want to change your sub-specialisation, or your study programme, it is best to \\ndo it as early as possible, in the first year of undergraduate studies, because that way \\nwill have to make up the smallest difference of courses. You may request a change \\nof the study programme at the start of the academic year (in September), while you \\nmay also request a change of sub-specialisation when registering for a new semester \\n(in September or February). All of your requests should be submitted via the Infoeduka \\nsystem using the Enrolment Form tool.\\n…I want to borrow a library book?\\nIf you want to borrow a book from the library, you can do so via the Infoeduka system, \\nusing the Library tool. You will select an area and/or enter a key word from the title or \\nauthor’s name, and a list of books will appear in the drop-down menu. After that, you \\ncan choose the book you want to borrow and click on the check button to see if it is \\navailable. If available, it will say ‘available’ next to the title of the book. You can order \\nthe book by clicking on the order button and once you do, you will see that the order …I fail to pass an oral exam or \\nrefuse a grade?\\nIf the student obtains an  \\nunsatisfactory grade based on \\nknowledge demonstrated in the oral \\nexam or refuses the grade offered \\nby the teacher, the student can re-\\nregister for the exam during one of \\nthe following exam terms and retake \\nthe oral exam (if satisfied with the \\npoints obtained for each learning \\noutcome during the course).…I have passed most of the \\nlearning outcomes – can I take \\nthe oral exam?\\nThe oral exam can be taken only \\nafter all outcomes have been \\nmarked as “green”, that is, after you \\nhave achieved a minimum of 50% of \\npossible points – all outcomes need \\nto be passed.\\n…I am repeating a year?\\nIf you do not acquire enough credits for enrolment in a higher year of study (a minimum \\nof 40 ECTS), you must re-enrol that same year. When repeating a year, you must re-\\nenrol all the courses of the previous year that have not been passed and pay a tuition \\nfee in the amount corresponding to the number of re-enrolled courses. Also, if you \\nhave earned between 25 and 39 ECTS points, you may, at your own request, enrol in a \\nmaximum of six (three in each semester) courses from the higher year, in addition to \\nthe courses you need to re-take.…I am repeating a course for which I have obtained a signature \\nduring the previous year?\\nIf you are retaking a course and have obtained a signature during the previous \\nyear, you can request the acknowledgement of a previously obtained signature. \\nThe acknowledgement of a signature must be requested when submitting the \\ndigital enrolment form through the Enrolment Form tool in the Infoeduka system \\n(this is possible if you have previously qualified for a signature in this course \\nand have not registered for the exam four times).\\nRegardless of the acknowledged signature, a student has the right to attend \\nclasses of the re-enrolled course, but is not required to achieve mandatory \\nattendance. Nevertheless, they are obliged to pass the course in a manner \\nstipulated during the year of re-enrolment (with possible changes in learning \\noutcomes, grading, etc.). The acknowledgement of a signature does not \\ntransfer points from previous years nor is the student exempted from paying \\nthe course tuition fee.... I can’t attend the exam I registered for?\\nWe understand that you may find yourself in circumstances that temporarily make it \\nimpossible to study (attend classes, respect deadlines for submission of work, or take \\nexams), such as illness or an otherwise unforeseen event that is outside your control. If \\nthese circumstances are in accordance with the circumstances defined in the Decision \\non Acceptable and Unacceptable Exceptional Circumstances (link: https://www.algebra.\\nhr/visoko-uciliste/wp-content/uploads/sites/2/2022/07/Odluka-okolnosti_27.04.22.\\npdf) you have the right to submit a written request for approval of the signature, \\ncancellation of the exam registration or extension of the deadline for submission of \\nwork. If the circumstances in which you find yourself are not in accordance with the \\ndefined acceptable circumstances, the request will not be granted.\\n…I do not qualify for a \\nsignature?\\nIf you do not fulfil the requirements \\nfor obtaining the signature, you will \\nautomatically need to re-enrol in \\nthe course because you will not be \\nable to take the exam. The same \\ncourse must be re-enrolled in the \\nfollowing academic year, which, in \\naddition to re-enrolment, entails \\npaying new tuition, satisfying the \\nminimum attendance requirement, \\nand prolonging your study time.\\n26\\n27', metadata={'source': 'data/student_guide.pdf', 'page': 13}),\n",
       " Document(page_content='Mentoring program\\nWe are aware that coming to a new environment and facing various new \\nobligations can be demanding and somewhat confusing, and we want to make \\nit as easy as possible for you to start your academic education.\\nThis is precisely why we have designed a mentoring programme for those of \\nyou who are starting your academic journey, to accompany you throughout \\nthe first year of your studies, alongside your mentors.\\nTake advantage of the opportunities provided by the mentoring \\nprogramme, because it is designed precisely to help you better cope \\nwith the responsibilities that await you during your studies. At the \\nmeetings with the mentors, you can get answers to questions related \\nto your studies, and the mentors will be happy to share with you their \\nexperiences gained during the many years of working with students. \\nIn addition to mentoring meetings, in cooperation with experts from \\nvarious fields, we organise workshops that can help you better manage \\nyour time, adopt new learning techniques, overcome exam jitters, and \\nmore. Don’t miss the opportunity to participate in this programme.was sent on the screen. When the Student Office receives the order and prepares \\nthe book, you will receive a notification to pick up the book. If the book is currently \\nunavailable, it will say ‘unavailable’ next to the title of the book.\\nAll the information about borrowing and returning books and the use of the college \\nreading room are available in the Regulations on the use of the library and the \\ncollege reading room, which may be found on our website in the section “About us” \\n– “Documents”.\\nAlgebra University College students have the opportunity to spend part of their \\nstudies at a foreign partner higher education institution within the Erasmus+ \\nprogramme, bilateral exchange programmes and shorter mobility programmes \\n(International Summer School programmes and BIP).\\nStudy visits  can last from 3 to 12 months. A mobility plan will be defined for each \\nstudent in agreement with the head of the study programme before using a \\nmobility. The mobility plan lists the courses that will be acknowledged by the \\nhome institution following the return from mobility, as well as any additional \\nstudent obligations. Courses that are not acknowledged will be recognised in \\nthe Diploma Supplement.\\nTraineeships  can last from 2 to 12 months. Thanks to student traineeships \\nabroad, you will be able to adapt more easily to specific labour market \\nrequirements in different countries, develop specific skills and better \\nunderstand the economic and social differences in various countries.\\nBlended intensive programmes (BIP) are short, intensive programmes that use \\ninnovative ways of learning and teaching, including the use of more flexible \\nmobility formats that combine physical mobility with a virtual segment. \\nThe duration of the physical segment is between 5 and 30 days, and upon \\nsuccessful completion of the programme, the student is awarded 3 to 6 ECTS \\ncredits (depending on the programme specifications).…I lose a library book?\\nIf you lose a library book, the University College will charge you for the amount \\nneeded in order to purchase a new copy and you will be issued an invoice stating \\nthe purchase value of the book.\\nIn addition, you can borrow books from the National and University Library (NSK) \\nthat also provides an additional space for studying. More information is available \\nat: www.nsk.hr/en/ . Books can also be borrowed from the Zagreb City Libraries (KGZ). \\nThe current membership fee is 7,00 EUR and enables you to borrow books from any \\nlibrary in the network (there are close to 40). More information is available at: www.\\nkgz.hr/en/about-us/zagreb-city-libraries-today/523 . Check out NSK and KGZ websites \\nfor information on exact membership fees.\\nDuring the whole study programme at Algebra University College, please feel free \\nto contact any of the professional services provided to support our students and \\ntheir studying process.\\nStudent Office\\nThe Student Office is a service that is primarily focused on helping students to \\nstudy successfully and have the best possible student experience. The Student \\nOffice enables students to resolve any doubts and cross barriers they might en -\\ncounter during their studies by assisting them to stay on the path when they need \\nguidance and strategic support. In addition, the Student Office encourages stu -\\ndents to develop a personal sense of their obligations, as well as rights. Some of \\nthe tasks performed by the Student Office:\\n •validating forms for enrolment in a higher semester/year of study\\n •preparing preliminary invoices\\n •lending and re-entering books and manuals of Algebra University \\nCollege library and organising the distribution of compulsory \\nliterature for each course (before the start of each semester)\\n •conducting the organisation of the examination process (examination \\nperiods, records of exam registrations and cancellations, exam lists)\\n •keeping student records (student files, registry book, \\nstudent identification cards, statistical data, certificates, \\nrequests and decisions, scholarships, transcripts)\\n •conducting the termination of the study process (based on \\ndisenrollment, successful completion of study programme)\\n •organising student graduation ceremonies. \\nRegarding the above mentioned, the Student Office can be contacted at:  \\nstudentska.referada@algebra.hr .Career Center\\nThe Career Centre provides you with all the necessary information on various \\ntraineeship possibilities and our partner companies on the labour market with \\nwhom we have established different types of cooperation. The Career Centre \\ncan be contacted at: centar.karijera@algebra.hr .\\nVice Dean for Students\\nThe Vice Dean for Students keeps track of your needs on a regular basis and \\nparticipates in the creation of processes that contribute to your student \\nexperience. The Vice Dean maintains regular communication with students \\nand observes your academic development and needs. Make sure to follow \\nInfoeduka, your računarstvo email address and Ms Teams notifications for all \\ninformation about events and activities organised for the purpose of elevating \\nyour student experience. \\nStudy support\\nGo global\\n28\\n29', metadata={'source': 'data/student_guide.pdf', 'page': 14}),\n",
       " Document(page_content='Student representatives and Student Ombudsman\\nThe student representatives are elected by the students of each study year and \\nrepresent the interests of students within the Academic Council, Committee \\nfor Quality Assurance and other bodies. The student representatives are your \\nspokespersons, so make sure to contact them with your problems, questions, \\ncritiques and suggestions. Information on student representatives can be found \\nat:  www.algebra.hr/visoko-uciliste/en/campus/student-representatives/ .\\nThe students are also represented by the Student Ombudsman who is responsible \\nfor protection and promotion of student rights.\\n Student Council\\nThe Student Council gathers all students interested in establishing and deepening \\ncommunication between students as well as between various organisations that \\nconnect students from different colleges, such as organised sports competitions, \\ntravelling and other activities. One of the most important goals of the Student \\nCouncil is enlivening  student life outside of the formal framework of lectures \\nand auditory exercises. Members of the Student Council are happy to assist \\nall interested students with coursework as teaching aids, and with the help of \\nteaching assistants. More information on the Student Council may be found at:  \\nwww.algebra.hr/visoko-uciliste/en/campus/student-council/ .  https://www.algebra.hr/visoko-uciliste/en/for-students/\\ninternational-cooperation/  \\n \\nInternational Office: \\ninternational-office@algebra.university \\nerasmus@algebra.hr \\nStudent Coordination\\nThe Student Coordination is a body that enables more students to engage in \\ndiscussions related to study programmes and studying. Each year it has one \\nrepresentative for every study programme and every specialisation, with student \\nrepresentatives, lecturers, heads of study programmes, heads of departments, \\nmembers of the Dean’s Office and non-teaching staff meeting approximately twice \\na semester to discuss topics relevant to study programmes and studying. Our goal is \\nto join forces in discussing possible improvements to study programmes or relevant \\nstudent issues. Student Coordinators are selected at the beginning of the academic \\nyear at the call for proposals of the Vice Dean for Students.\\nHow can students affect the quality of studies?\\nStudents can and should affect the quality of studies with their suggestions. All \\nsuggestions are welcomed and will be considered.\\nDuring the course of the study programme, you will participate in surveys regarding \\nyour satisfaction with the study programme and organisation of classes and you will \\nbe able to make suggestions regarding any improvements. Surveys are conducted \\ntwice during a semester, consist of 5 units, while access data for taking a survey is \\npublished within the Infoeduka system.Sports and leisure\\nIt is a well-known and scientifically proven fact that regular and appropriate physical \\nactivity improves human health. Insufficient physical activity and reduced stimulus \\nto the locomotor system are negatively reflected on the normal functioning of all \\norgans. Physical inactivity is the fourth leading risk factor for mortality in the world, \\nwhile physically active persons have significantly reduced risks various diseases \\n(World Health Organization, 2017).\\nOur sports manager, Tin Petračić is responsible for organising, implementing and \\nrunning our sports recreational programmes, and you can contact him at: sport@\\nalgebra.hr .Other information\\nIn 2023, we launched a new joint study programme in Computer Science – \\nInternet of Things and Artificial Intelligence in collaboration with EPITECH \\nfrom France. Students can experience studying in Zagreb and Paris while \\nearning dual degrees.\\nFor more information, visit our official website:\\nwww.algebra.hr/visoko-uciliste/en/studij/graduate-professional-program/iot-\\nand-ai/\\nInternational Summer School\\nAlgebra is organising the International Summer School for the 8th year running, \\nwith the aim of introducing students to the quality of our study programs. Our \\nInternational Summer School programmes are anything but boring! Students \\nhave the opportunity to meet outstanding and ambitious colleagues from \\naround the world. We’ll take you to some of the world-famous places in Croatia, \\nhelp you explore the rich historical and cultural heritage of our country and give \\nyou the chance to have an unforgettable time at various events and festivals \\nin Zagreb and many other interesting locations. Our teaching programmes \\nin various fields of digital technologies are created to be both creative and \\napplicable and suitable for groups of foreign and domestic students with \\ndifferent study backgrounds. Furthermore, students can also attend the \\nsummer schools of our partner institutions in countries such as China, Canada, \\nor South Korea. For more information about the International Summer School, \\nvisit www.algebra.hr/international-school/ , and for more information on all \\ninternational student opportunities, contact the International Office at: \\ninternational-office@algebra.university .\\nABC BootCamps summer programmes\\nIn addition to the International Summer School in Croatia, Algebra University \\nCollege organises ABC BootCamps summer programmes in various globally \\nknown destinations. This opportunity is open to all students and young \\nentrepreneurs who wish to turn their ideas into reality, meet success-driven \\nindividuals from different sides of the world, and acquire up-to-date knowledge \\nand skills in the fields of business, innovation, and technology.\\nInteractive lectures led by US and Canadian professors, along with inspiring \\nguest speakers from different industries and visits to renowned companies, \\nimmerse participants in the modern business world. This experience nurtures \\ninnovative thinking and broadens networks.\\nPrevious ABC BootCamps summer programmes have taken place in vibrant \\nToronto (Canada) and the innovative Silicon Valley (California) as well as in \\nMunich (Germany). Information about planned destinations for the current \\nyear is available on our website: www.abcbootcamps.com. For any additional \\ninformation and special benefits for Algebra students, reach out to the \\nInternational Office. Embark on your ABC adventure this summer!\\n30\\n31', metadata={'source': 'data/student_guide.pdf', 'page': 15}),\n",
       " Document(page_content='Suggestions and comments are regularly recorded through feedback forms or \\nstudent representative meetings and may be submitted in writing at any time using \\nthe e-mail box provided for comments and suggestions at: letusknow@algebra.hr ,\\nor in person to Student Office staff.\\nComplaints and appeals\\nAll complaints submitted in good faith will be considered fairly and any student who \\ninitiates this procedure will not be put in a disadvantaged position for having done so. It \\nis expected that most issues can be resolved in a friendly and informal way. Therefore, \\nwe recommend that you first try to resolve any complaint or appeal informally with the \\nperson whose work or lack of action is the object of your complaint or appeal. \\nIf the complaint or appeal is not resolved in a satisfactory manner, a formal complaint \\nor appeal may be submitted using the email boxes provided for this purpose. \\nComplaints are sent to: complaints@algebra.hr .\\nAppeals are sent to: appeals@algebra.hr .\\nBoth may be submitted in writing to the staff of the Student Office. In order for the \\ncase to be properly examined, students should be specific in describing the cause and \\nnature of their complaint or appeal.\\nMore detailed instructions are available at: \\nwww.algebra.hr/visoko-uciliste/wp-content/uploads/sites/2/2022/07/Politika-i-postupci-\\nprigovora-i-zalbi_eng-_27.4.2022.pdf .\\nImportant: Students must leave the building and the student \\npremises no later than 10:00 p.m. on weekdays and 9:00 p.m. on \\nSaturdays. The campus is closed on Sundays. The surveys are mandatory and important because their results allow \\nus to analyse the quality of the study programme and introduce \\nimprovements!\\nIf you feel that you cannot overcome the difficulties you are facing on \\nyour own, be sure to seek professional helpMedical care\\nBoosting and maintaining mental health\\nAccording to the World Health Organization, mental health is the state of well-being \\nin which an individual realises their potential, is able to cope with the stress of daily \\nlife, work productively and fruitfully, and contribute to their community. By focusing our \\nattention and activities on caring for our own mental health, we work to maintain balance, \\npreserve our mental health and quality of life. Everyone can take steps to strengthen and \\npreserve their mental health. There are numerous free options available to us, including \\nthe following:\\n •Manual for self-help and empowerment of students “Radim na sebi”, published \\nby the Croatian Institute of Public Health, available on the link: https://\\nstampar.hr/sites/default/files/2021-06/prirucnik_radim_na_sebi.pdf .\\n •Advice for students are offered on this link: https://mentalnozdravlje.zagreb.\\nhr/savjeti-strucnjaka/briga-za-mentalno-zdravlje-savjeti-za-studente/ .\\n •The link https://mentalnozdravlje.zagreb.hr/vjezbe-i-podrska/  offers \\nadvice and exercises for dealing with certain difficulties. \\n •Little School for Freshmen appears at: https://www.czm.\\nhr/blog/za-studente/mala-skola-za-brucose .\\n •Tips for adapting to student life https://www.czm.hr/blog/\\nza-studente/prilagodba-na-studentski-zivot . \\nFor a self- evaluation of your mental health, use the following questionnaires:  \\n •The association Kako si? questionnaire is available on the link: https://\\nmentalnozdravlje.zagreb.hr/saznaj-kako-si-ispuni-upitnik-dass-21/  \\n •The questionnaire for self-assessment of mental health difficulties \\npublished by the Office for Psychological Support and Mental Health \\nProtection of the University of Zagreb is available here: https://\\nmentalno-zdravlje.info/measures/measures_psih-2020_index.php  \\nThe school doctor can also help you in case of difficulties related to learning as well as \\npossible problems caused by changes and adaptation to college life. For students of \\nAlgebra University College, the office of dr. Matea Bračić at the designated school clinic \\n‘Medveščak’ is located at Laginjina Street 16.\\nOther instances you can contact during your studies in Zagreb can be found on these links: \\nhttps://mentalnozdravlje.zagreb.hr/ustanove/.n , or https://www.vef.unizg.hr/studij/urkaps/\\npopis-ustanova-za-pruzanje-psiholoske-pomoci/  or https://www.psiholoskapomoc.hr/\\nportfolio/ , containing the contacts for psychological support providers from all of Croatia.\\nYou can keep track of Infoeduca notifications, where we will inform you about initiatives, \\nworkshops and events related to strengthening and maintaining mental health.\\nSources:\\n •Mental health - important notions, https://www.unicef .\\norg/croatia/mentalno-zdravlje-vazni-pojmovi \\n •What is mental health, https://mentalnozdravlje.\\nzagreb.hr/sto-je-mentalno-zdravlje/  \\n •Office for Psychological Support and Mental Health \\nProtection of the University of Zagreb \\n •Andrija Stampar Teaching Institute of Public Health\\n •Project “Centre for Mental Health Protection” – Zagreb Health Clinic  \\nStudents from EU Member states must hold an European Health Insurance Card. Students \\nfrom countries outside the EU must hold a valid health insurance policy.Innovation Lab\\nStudent areas\\nStudents have the premises of the college Reading Room (library), Slavko Krajcar \\nInnovation Lab and Družiona at their disposal.\\n •The college reading room is located on the A level and is available \\nfor studying and working, while students may also use it to examine \\nspecialised literature. During your stay at the library, please do not \\ndisturb the work of other users, speak loudly, bring in food or drinks, \\nuse mobile phones, and do preserve the library materials.\\n •The Slavko Krajcar Innovation lab is located on the A level and \\ncontains equipment, mostly computers and programmes used in the \\nclassroom. Students may use the equipment during campus working \\nhours, and it is also possible to work on team projects at the Lab.\\n •The social area Družiona is located on the F level and is \\ndesigned for socialising, eating and drinking.\\nThe student areas are accessible using the student ID X-ica.\\nParking\\nParking is possible in the garage within the building. Parking is payable by SMS or using \\nthe “ParkWallet Premium” mobile application. There are parking areas in the vicinity \\nof the building, which are charged according to the Zagreb parking zone 3 tariff.\\n32\\n33', metadata={'source': 'data/student_guide.pdf', 'page': 16}),\n",
       " Document(page_content='A: Gradišćanska 24, \\n    10000 Zagreb, Croatia\\nT: 00385 1 2222 182\\nFax: 00385 1 2222 183\\nE: student@algebra.hr\\nW: www.algebra.university\\n', metadata={'source': 'data/student_guide.pdf', 'page': 17})]"
      ]
     },
     "execution_count": 66,
     "metadata": {},
     "output_type": "execute_result"
    }
   ],
   "source": [
    "loader.load()"
   ]
  },
  {
   "cell_type": "code",
   "execution_count": 67,
   "metadata": {},
   "outputs": [
    {
     "name": "stdout",
     "output_type": "stream",
     "text": [
      "[Document(page_content='T: 00385 1 2222 182\\nE: student@algebra.hr\\nW: www.algebra.university\\nSTUDENT \\nGUIDE   \\n2023/2024', metadata={'source': 'data/student_guide.pdf', 'page': 0}), Document(page_content='INTRODUCTION  2\\nTABLE OF CONTENTS 3\\nAbout Algebra University College  4\\nCampus orientation 6\\nPlan of Algebra University College premises  8\\nCode of conduct  10\\nStudy structure  14\\nAcademic year 2023/2024 calendar  15\\nWhat do I need to know as a student of \\nAlgebra University College?  16\\nInfoeduka – the digital student service or \\ndigital notice board 16\\nStudent status  17\\nWhat are the conditions for enrolment in a \\nhigher year of study? 17\\nWhat is the semester status?  18\\nWhat is X-ica and its purpose? 18\\nECTS Credits and Learning Outcomes 19\\nWhat are ECTS credits? 19\\nWhat are learning outcomes? 19\\nClasses organisation and attendance  20\\nWhy is it important to attend classes? 20\\nWhat are additional classes? 20\\nEXAMINATIONS  21\\nHow to pass an exam?  21\\nWhat are mid-term exams and how are they \\norganised?  21\\nExamination periods  22\\nHow to register and cancel mid-term exams \\nand exams?  22\\nWhen has a student failed an exam?  23\\nHow many times can an exam be taken?  24\\nWhat is the additional fourth exam \\nregistration?  24\\nHow long do I have to pass a course after \\nenrolment?  24\\nHow and when can I take certificate exams? 24WHAT IF…. 25\\n…I want to improve a learning outcome? 25\\n…I cheat on an exam? 25\\n…I fail to pass an oral exam or refuse a \\ngrade?  26\\n…I have passed most of the learning outcomes \\n– can I take the oral exam? 26\\n…I am repeating a course for which I have \\nobtained a signature during the previous \\nyear?  26\\n…I do not qualify for a signature? 26\\n...I can’t attend the exam I registered for? 27\\n…I am repeating a year? 27\\n…I want to change my sub-specialisation or \\nstudy programme? 27\\n…I want to borrow a library book? 27\\n…I lose a library book? 28\\nStudy support 28\\nStudent Office 28\\nCareer Center  29\\nVice Dean for Students 29\\nMentoring program 29\\nGo global 29 \\nInternational Summer School  30\\nABC BootCamps summer programmes  30\\nOther information  31\\nSports and leisure 31\\nStudent representatives and Student \\nOmbudsman  31\\nStudent Council  31\\nStudent Coordination  31\\nHow can students affect the quality of \\nstudies?  31\\nComplaints and appeals  32\\nInnovation Lab  32\\nParking 32\\nMedical care 33\\nBoosting and maintaining mental health 33Dear students, \\nat the start of a new academic year, allow me to wish you a warm welcome to \\nAlgebra University College and to present to you our study programmes. I believe \\nthat, by choosing one of these programmes, with our help, you are stepping \\ninto a better, digital future. \\nThe present has brought us many challenges, but they have once again showed \\nus that even in such dire situations, the human spirit and togetherness can \\nguide us on the path ahead. We will do everything in our power to provide you \\nwith the highest quality education. In addition, bearing all this in mind, we invite \\nyou to get in touch with us should you encounter any difficulties or challenges \\nduring your studies. \\nBringing together education and economy is our guiding principle in creating \\nstudy programmes adjusted to the existing and future market demands. Our \\ntrack record and hundreds of alumni employed at leading global and Croatian \\ncompanies are proof that we have been successful in this endeavour. Our college \\noffers professional study programmes, which means they also encompass \\nthe practical application of knowledge. This year, we are especially proud to \\nintroduce two new professional bachelor programmes: in Game Development \\nand Multimedia Production, which will allow you to work on developing innovations, \\nconnect with experts in the field, as well as acquire new, broader knowledge in \\ndifferent areas.\\nLikewise, according to the new Act on Higher Education and Scientific Activity, \\nas of this academic year, secondary school graduates who have not passed \\nnational matriculation exams will not be able to enrol in level 6 studies, even \\nby taking an entrance exam. Therefore, this year Algebra University College is \\nlaunching a level 5 study programme, the only one of its kind in Croatia – the \\nProfessional Short-Cycle Programme in Internet Marketing. Its programme is \\ndesigned so that all secondary school pupils who have not passed the national \\nmatriculation exams have the possibility of further education, which includes \\npupils of three-year and four-year vocational schools and gymnasiums.\\nBy combining knowledge needed on the modern labour market with practical, \\nhands-on skills, we create highly employable experts of the future. Another \\nconfirmation of these skills is the international IT certification, carefully \\nintegrated into the curricula of most of our study programmes, which offers \\nall our graduates in computer engineering, multimedia and digital marketing a \\ncompetitive edge in their respective fields. For those who wish to expand their \\nknowledge through formal education after completing their graduate studies, \\nwe offer the possibility of easy access and enrolment in doctoral studies at \\npartner universities. A college degree is valuable when it is backed by knowledge \\nand the ability to apply this knowledge in different working environments. That \\nis why we strive to achieve the highest quality in both learning and business \\nprocesses – a fact confirmed by the Agency for Science and Higher Education, \\nwhich has awarded us the certificate of quality that positions us as currently \\nthe highest-ranking professional study programme in Croatia.   \\nI believe that you have made a wise decision in choosing Algebra University \\nCollege, because it does matter which career path you choose and where you \\nwill build your career. \\nAllow us, therefore, to usher you into the digital future.\\nAssist.Prof. Mislav Balković, PhD  \\nDean of Algebra University CollegeINTRODUCTIONTABLE OF CONTENTS\\n2\\n3', metadata={'source': 'data/student_guide.pdf', 'page': 1}), Document(page_content='Algebra offers its Data Science students a \\nHybrid Graduate Programme including MIT’s \\nMicroMasters. Students who complete their \\nstudies at the integrated programme will \\nreceive a diploma from Algebra University \\nCollege along with the MITx MicroMasters \\ncredential in statistics and data science, while \\nstudents who already acquired this certificate \\nwill have a portion of their credits recognised.\\nAlgebra University College currently employs \\nover 100 teachers and associate lecturers \\ncoming from the academic and business sector \\nand, according to the quality evaluation results \\nobtained through regular re-accreditation \\nconducted by the National Agency for Science \\nand Higher Education in 2018, represents one \\nof the best study programmes in the Republic \\nof Croatia.About Algebra \\nUniversity College\\nAlgebra University College is a part of Algebra Education Group, a leading private educational \\norganization which has been present on the Croatian market for more than 25 years. \\nThe goal of the founders was to create a top quality professional higher education institution \\nthat was, along with its program, staff and teaching material, ready to meet the demands of \\nemployers and the labor market. The accreditation issued by the National Agency for Science \\nand Higher Education, the results of the re-accreditation in 2012, the quality assurance \\nsystem evaluation performed by Flemish-Dutch accreditation agency NVAO and the status \\n“Approved by FER” (FER – Faculty of Electrical Engineering and Computing) supported the fact \\nthat these wishes were not ungrounded and confirmed the high level of Algebra University \\nCollege curriculum.\\nThe University College carries out:\\nPROFESSIONAL SHORT-CYCLE STUDY PROGRAMME IN INTERNET MARKETING\\nSEVEN PROFESSIONAL BACHELOR STUDY PROGRAMMES/SPECIALISATIONS :\\n• Professional Bachelor Study Programme in Applied Computer Engineering – \\nSoftware Engineering\\n• Professional Bachelor Study Programme in Applied Computer Engineering – System \\nEngineering\\n• Professional Bachelor Study Programme – Game Development\\n• Professional Bachelor Study Programme – Multimedia Production\\n• Professional Bachelor Study Programme – Digital Marketing \\n• Professional Bachelor Study Programme in Market Communications Design – Design\\n• Professional Bachelor Study Programme in Market Communications Design – 3D \\nDesign\\nEIGHT PROFESSIONAL MASTER STUDY PROGRAMMES/ SPECIALISATIONS:\\n• Professional Master Study Programme in Applied Computer Engineering – Software \\nEngineering\\n• Professional Master Study Programme in Applied Computer Engineering – System \\nEngineering\\n• Professional Master Study Programme in Applied Computer Engineering – Data \\nScience\\n• Professional Master Study Programme in Applied Computer Engineering – Game \\nDevelopment\\n• Joint Master Study Programme in Computer Science – Internet of Things and \\nArtificial Intelligence, with EPITECH, France\\n• Professional Master Study Programme – Digital Marketing\\n• Professional Master Study Programme – Creative Market Communications \\nManagement \\n• e-Leadership MBA\\nThe curricula of all study programmes are fully compliant with the ECTS credit system (Bologna \\nDeclaration) and are part of the official system of higher education in Croatia, for which the \\nUniversity College received several accreditations from the Ministry of Science, Education \\nand Sports (first temporary accreditation received in June 2008, permanent accreditation \\nin 2010, as well as Professional Master study programmes in June 2012, accreditations for \\nboth study programmes in digital marketing in January 2015, and accreditation for the \\ne-Leadership study programme in April 2016).\\nAlgebra University College signed a partnership agreement with Goldsmiths, University of \\nLondon in January 2022. Through this partnership, Algebra University College offers the next \\ngeneration of its students the possibility to study in English at Professional Bachelor Study \\nProgrammes and Professional Master Study Programmes in the fields of computing, design \\nand management, validated by Goldsmiths, University of London. Students who complete \\none of these validated programmes will receive a dual degree from Algebra University College \\nand Goldsmiths, University of London. 7\\n81\\n1600\\n140Professional Bachelor \\nStudy programmes/\\nspecialisations\\nhigher \\neducation \\nstudents\\nlecturers \\nand teaching \\nassociatesProfessional Master \\nStudy programmes/\\nspecialisationsProfessional \\nshort-cycle study \\nprogramme\\n4\\n5', metadata={'source': 'data/student_guide.pdf', 'page': 2}), Document(page_content='Right to subsidized meals \\nThe conditions for having the right to subsidised meals are prescribed by \\nthe Ordinance on the conditions and manner of exercising the right to \\ncover student meal costs. These regulations are available on the official \\nwebsite of the Ministry of Science, Education and Sports. Detailed \\ninformation is available on this link\\nhttps://gov.hr/hr/subvensionirana-prehrana/1066 . \\nLevel \\nof \\nsubsidyTo whom are they awarded Basis for awarding rights \\n0 • Part-time students\\n• Students who work while studying\\n• PhD students \\n• Non-EU citizens (who have not been \\nawarded a scholarship by Ministry of \\nScience and Education)\\n1 • Full-time students with place of \\nresidence in the county where the \\nstudy programme is conducted• Regulated enrollment in the current \\nacademic year\\n2 • Full-time students with place of \\nresidence\\n• outside the county where the study \\nprogramme is  conducted\\n• Students covered by special \\ndecisions of the Ministry of Science \\nand Education\\n• Foreign nationals taking part in \\ninternational exchange programmes \\nErasmus and CEEPUS• ID card\\n• Registered mobility of foreign \\nstudents by the higher education \\ninstitution\\n2,5 • Full-time students housed in a \\ndormitory that does not provide \\nmeal services\\n• Students with an extremely low \\nsocial status based on the approval \\nof the Ministry of Science and \\nEducation\\n• Top athletes with place of residence \\noutside the place of study• Confirmation of accommodation in \\na dormitory issued by the Student \\nCentre\\n• Confirmation from the Ministry \\nof Science and Education \\nabout extremely poor financial \\ncircumstances sent to the Centre \\nfor subsidy authorisation (CAP)\\n• Decision on the status of athlete \\nissued by the Croatian Olympic \\nCommittee (category I - III) and ID \\ncardCampus \\norientation\\nTeaching takes place in the auditoriums, classrooms and cabinets \\nequipped with the necessary equipment for all fields of study. University \\nCollege premises are fully accessible to persons with disabilities.\\nAuditoriums and lecture halls are named after great Croatian and world \\ninnovators and pioneers of technological progress (Nikola Tesla, Ruđer \\nBošković, Faust Vrančić, Eduard Slavoljub Penkala, Steve Jobs, Ivan Picelj, \\nIvan Lupis, Slavko Krajcar, Ada Lovelace, Ivan Vučetić, Galileo Galilei), \\nwhile the classrooms are marked by a combination of letters indicating \\nfloor and cardinal number (A1, A2..., C1, C2,...).\\nFor all information, enrolments, application submission, student status \\nand other student issues, the Student Office is at your disposal. It is \\nlocated on the ground floor of the building.\\nA library with reading room and Slavko Krajcar Innovation Lab are \\navailable to students on the A level of the building. There are several \\nspacious lounge areas for socialising, refreshment and relaxing \\nbetween classes, an area with machines for hot and cold beverages \\nand “snack” machines available on the A level and the get-together \\nlounge Družiona on the F level. Družiona is accessible with the X-ica \\ncard, and the space is intended for socialising, eating and drinking. \\nAll areas are accessible during campus working hours. Nearby, at the \\nFaculty of Textile Technology (Prilaz baruna Filipovića 28a), the Student \\nCentre restaurant is open weekdays from 8:00 a.m. to 2:30 p.m. where, \\nin addition to the usual offer, a menu (hot meal with side dishes) is also \\navailable. The restaurant is only 500 meters from our campus, so be \\nsure to visit it.\\n6', metadata={'source': 'data/student_guide.pdf', 'page': 3}), Document(page_content='Plan of Algebra University \\nCollege premises\\n9\\nLecture room\\nSteve JobsA3\\nLecture room\\nIvan LupisInnovation lab\\nSlavko KrajcarA7\\nLecture room \\nIvan PiceljA9\\nArt Studio\\nSlava RaškajA4\\nArt Studio\\nIvan MažuranićA5\\nLecture roomA6 A8\\nLecture roomA11\\nOn Air StudioA12\\nA/V\\nProduction\\nStudioA10\\nLibrary\\nData centar \\nNimbusOn line room A1  \\nCollaboration \\nrooomA2\\n1\\n2\\n34\\n5\\n67\\n8\\n910 1314\\n11\\n12\\nLecture room\\nNikola TeslaB3 Lecture room\\nFaust VrančićB4 B5 Admission \\nOffice\\nfor Lifelong \\nLearningAdmission \\nOffice\\nfor Higher \\nEducationStudent \\nofficeMultimedia\\nand\\nDigital Arts\\nDepartmentStudent \\nSupport\\nOfficeOperating \\nSystems\\nDepartment\\nCybersecurity\\nDepartmentEconomics\\nDepartmentComputer\\nNetworks\\nDepartment\\nSoftware\\nEngineering\\nDepartmente-Leadership\\nDepartmentGeneral\\nSubjects\\nDepartmentMeeting\\nroom\\nB6\\nMeeting\\nroomLecture room\\nMarija BrautB2\\nExibition HallB1\\nENTRANCE\\nLecture Room\\nIvan VučetićLecture RoomC4 C5\\nLecture RoomC3\\nLecture RoomC2\\nLecture RoomC1\\nLecture RoomC10\\nLecture Room\\nRuđer BoškovićC10Lecture Room\\n3D productionC6\\nTest CenterTeachers \\nSupport \\nOffice\\nInternational \\nOfficeCareer \\nCenterC7\\nTest \\nCenterC8 C9\\nMeeting Room\\nLecture Room\\nEduard S. PenkalaD4\\nLecture RoomD5\\nLecture RoomD6\\nLecture RoomD7\\nLecture RoomD8\\nLecture RoomD9\\nLecture RoomD3\\nLecture RoomD2\\nLecture RoomD1\\nLecture RoomD12\\nLecture RoomD11\\nLecture RoomD10\\nLecture Room\\nAda LovelaceE3 Teacher\\nAssembly E1\\nMeeting\\nRoomE2\\nLecture Room\\nGalileo GalileiF4\\nLecture Room\\nDušan VukotićF10Staff RoomF5\\nLecture RoomF3\\nLecture RoomF2\\nLecture RoomF1\\nLecture RoomF9Lecture RoomF6C floor F floorB floor E floorA floor D floor\\n8\\n9', metadata={'source': 'data/student_guide.pdf', 'page': 4}), Document(page_content='The building of the University College is open from 7:30 a.m. \\nto 10:00 p.m. on weekdays and from 7:30 a.m. to 9:00 p.m. on \\nSaturdays. \\nThe campus is closed on Sundays.Pursuant to Article 28 of the Algebra University College Statute, in accordance \\nwith the Code of Ethics of Algebra University College and the Book of \\nRegulations on Disciplinary and Material Responsibility of students, teaching \\nand non-teaching staff of Algebra University College, on 9 February 2018, the \\nDean of Algebra University College introduced the\\nCODE OF CONDUCT FOR STUDENTS OF \\nALGEBRA UNIVERSITY COLLEGE\\nStudents, lecturers, associates and employees of Algebra University \\nCollege need to work together to create an optimal environment and \\nconditions for the realisation of honourable academic work.\\nThe Code is primarily based on the desire of students and teachers \\nto avoid and eliminate unacceptable behaviour and to establish a \\nrelationship based on mutual respect.\\nStudents’ duties are:\\n→ To preserve the reputation and dignity of Algebra University \\nCollege, its students, lecturers and associates;\\n→ To attend lectures, workshops and other forms of teaching without \\ntardiness.\\n→ To regularly perform and independently organise duties (finances, \\nregistering and cancelling exams, number of examinations, \\nattendance at lectures and workshops, etc.)\\n→ Respect the office hours;\\n→ To attend sessions of the Academic Council and other committees \\nthey are members of;\\n→ To be polite and fair towards lecturers, associates and other \\nAlgebra University College employees and students;\\n→ If there are special rules of conduct and residence in some faculty \\nareas of Algebra University College (e.g. the reading room, lecture \\nrooms, lecture halls and other), you must adhere to them;\\n→ To preserve the property and the environment of Algebra University \\nCollege. Code of conduct\\nStudents’ rights are:\\nDefined in accordance with regulations such as the Constitution of the \\nRepublic of Croatia, Act on Scientific Activity and Higher Education, \\nStatute of Algebra University College, Book of Regulations on Study \\nProgrammes and Studying, and in particular: \\n→ Equal and inalienable rights regardless of race, nationality, religion, \\ngender, political and other beliefs and views, social status and all \\nother differences; \\n→ The freedom of expression in accordance with the legal decisions \\nand the moral principles of the academic citizen;\\n→ The freedom of non-political association;\\n→ Democratically elected representatives with the right to vote in the \\nAlgebra University College Council;\\n→ Giving opinions on issues pertaining to students’ rights and \\nobligations through student representatives;\\n→ The availability of Algebra University College Statute and other \\nacts related to students and their rights at Algebra University \\nCollege;\\n→ Fair treatment by Algebra University College, and, in this regard, an \\nappeal in case of violation of this right;\\n→ Attending lectures, workshops, seminars and other teaching \\nmethods;\\n→ Participation in scientific and professional activities;\\n→ Assistance and counselling by the coordinator of the Career \\nCentre with regard to the study process;\\n→ Submitting appeals on the decision or procedure to the competent \\nauthority;\\n→ Reward for work, achievement and contribution to the affirmation \\nof Algebra University College;\\n→ Participation in extracurricular activities: cultural, sports, \\nprofessional conferences and seminars etc.\\n10\\n11', metadata={'source': 'data/student_guide.pdf', 'page': 5}), Document(page_content='Due to the protection of personal information, all students are \\nrequired to use a verified student e-mail address from the Algebra \\nUniversity College domain in official communication with teachers \\nand/or associates and/or staff of Algebra University College. The \\nstudents will receive their designated e-mail address upon enrolling \\nin their studies. E-mails sent by students from other e-mail \\naddresses to teachers and/or associates and/or staff of Algebra \\nUniversity College will not be taken into account.Unacceptable behaviour is considered to be:\\n→ Impolite and incorrect attitude towards teachers, and other \\nAlgebra University College employees or students;\\n→ Being late or leaving any form of teaching and disregarding other \\nstudy obligations;\\n→ Disturbing any form of teaching;\\n→ Creating noise or disturbance of order and peace;\\n→ Dressing inappropriately with regard to generally accepted rules \\nfor the given occasion;\\n→ Using aids during examinations and other tests, except where \\nexplicitly permitted, and accepting and providing assistance on \\nexams and other tests;\\n→ Presenting someone else’s work as your own;\\n→ Misrepresentation, attending tests on behalf of another person;\\n→ Counterfeiting documents related to studying and exercising \\nstudent rights;\\n→ Violation of copyright and intellectual property rights;\\n→ Unauthorized access to computer system resources and other \\nentities connected to Algebra University College via the Internet;\\n→ Causing material injury and divestment of assets of Algebra \\nUniversity College;\\n→ Acts that deliberately or out of recklessness harm the environment \\nof Algebra University College;\\n→ Coming to any form of teaching under the influence of alcohol or \\nnarcotic drugs;\\n→ All other acts that are in opposition to the moral norms accepted \\nin society and acts legally defined as misdemeanours and criminal \\noffenses. In case of doubt about the violation of this code, a disciplinary procedure \\nagainst the student is initiated in accordance with Book of Regulations \\non Disciplinary and Material Responsibility of students, teaching and \\nnon-teaching staff. This Code shall enter into force on the date of its \\nadoption and shall be published on Algebra University College website. \\nZagreb, 9 February 2017\\nClass: 602-04/18-01/10\\nFile no.: 251-321-18-01-07\\nRevision: 0\\nDate: -\\nPages: 3\\nWritten by: Mislav Balković, PhD\\nApproved Board of Trustees\\nDean of\\nAlgebra University College\\nAssist.Prof. Mislav Balković, PhD\\n12\\n13', metadata={'source': 'data/student_guide.pdf', 'page': 6}), Document(page_content='The best path to success is to gradually pass courses through \\nmid-term exams. Take advantage of this opportunity and don’t \\nleave everything for the end of the semester! Course lecturers and \\nassociates will provide you with further instructions about mid-term \\nexams.\\nAlgebra University College reserves the right to change the student calendar. \\nThe current calendar is available at: \\nhttps://www.algebra.hr/visoko-uciliste/wp-content/uploads/sites/2/2023/07/\\nKalendar-nastave-2023-2024.pdfStudy structureAcademic year \\n2023/2024 calendar\\nWeek Mon Tue Wed Thu Fri Sat Sun Week Mon Tue Wed Thu Fri Sat Sun Week Mon Tue Wed Thu Fri Sat Sun\\nP 1 5 30 31 1 2 3 4 5 M1 1 2 3\\n1 2 3 4 5 6 7 8 6 6 7 8 9 10 11 12 9 4 5 6 7 8 9 10 October 02, 2023\\n2 9 10 11 12 13 14 15 7 13 14 15 16 17 18 19 10 11 12 13 14 15 16 17 Start of the winter semester\\n3 16 17 18 19 20 21 22 8 20 21 22 23 24 25 26 11 18 19 20 21 22 23 24\\n4 23 24 25 26 27 28 29 M1 27 28 29 30 P 25 26 27 28 29 30 31 November 27, 2023 - December 2, 2023\\nMidterm exams\\nWeek Mon Tue Wed Thu Fri Sat Sun Week Mon Tue Wed Thu Fri Sat Sun Week Mon Tue Wed Thu Fri Sat Sun December 24, 2023 - January 01, 2024\\n12 1 2 3 4 5 6 7 M2+I1 1 2 3 4 1 1 2 3 Christmas holidays\\n13 8 9 10 11 12 13 14 I4 (S) 5 6 7 8 9 10 11 2 4 5 6 7 8 9 10\\n14 15 16 17 18 19 20 21 I2 12 13 14 15 16 17 18 3 11 12 13 14 15 16 17 January 29, 2024 - February 17, 2024\\n15 22 23 24 25 26 27 28 O-P 19 20 21 22 23 24 25 4 18 19 20 21 22 23 24 Final exams of the winter semester\\nM2+I1 29 30 31 1 26 27 28 29 5 25 26 27 28 29 30 31\\nFebrury 26, 2024\\nStart of the summer semester\\nWeek Mon Tue Wed Thu Fri Sat Sun Week Mon Tue Wed Thu Fri Sat Sun Week Mon Tue Wed Thu Fri Sat Sun\\n6 1 2 3 4 5 6 7 9 1 2 3 4 5 13 1 2 April 22, 2024 - April 27, 2024\\n7 8 9 10 11 12 13 14 10 6 7 8 9 10 11 12 14 3 4 5 6 7 8 9 Midterm exams\\n8 15 16 17 18 19 20 21 11 13 14 15 16 17 18 19 15 10 11 12 13 14 15 16\\nM1 22 23 24 25 26 27 28 12 20 21 22 23 24 25 26 M2+I1 17 18 19 20 21 22 23 June 17, 2024 - July 8, 2024\\n9 29 30 13 27 28 29 30 31 I3 (W) 24 25 26 27 28 29 30 Final exams of the summer semester\\nSeptember 2, 2024 - September 14, 2024\\nWeek Mon Tue Wed Thu Fri Sat Sun Week Mon Tue Wed Thu Fri Sat Sun Week Mon Tue Wed Thu Fri Sat Sun Exam retake terms\\nI2 1 2 3 4 5 6 7 P 1 2 3 4 P 1\\nO-P 8 9 10 11 12 13 14 P 5 6 7 8 9 10 11 I 2 3 4 5 6 7 8\\nP 15 16 17 18 19 20 21 P 12 13 14 15 16 17 18 I 9 10 11 12 13 14 15\\nP 22 23 24 25 26 27 28 P 19 20 21 22 23 24 25 O-P 16 17 18 19 20 21 22\\nP 29 30 31 P 26 27 28 29 30 31 P 23 24 25 26 27 28 29\\nteaching examinations some oral examinations/non working days non working days bank holidayJANUARY 2024 FEBRUARY 2024 MARCH 2024ACADEMIC CALENDAR 2023./2024.\\nOCTOBER 2023 NOVEMBER 2023 DECEMBER 2023\\nAPRIL 2024 MAY 2024 JUNE 2024\\nJULY 2024 AUGUST 2024 SEPTEMBER 2024\\nThe academic year consists of two semesters. The so-called winter \\nsemester starts at the end of September or beginning of October, while \\nthe summer semester starts after the winter examination period in February. \\nEach semester consists of 15 weeks of classes and a total of 4 weeks of \\nexamination periods. After the eighth week of classes, the first mid-term \\nexams are held for one week. The fifteenth week of classes will be followed by \\nthe second mid-term examination period and make-up examination periods.\\nThe fall examination period awaits you before the end of the study year and \\nwill take place over two weeks. More information on mid-term exams and \\nexamination schedules can be found below.\\nAccurate information about classroom weeks, mid-term exams and examination \\nweeks, as well as public holidays and closed days can be found in the student \\ncalendar.Market Communication\\nDesignDesign 3D designCreative Market\\nCommunications ManagementCreative Market\\nCommunications\\nManagementData\\nScienceJoint stud y\\nprogra mme  in\\nComputer Science\\nIoT & A I\\nMaster study p rogramm e in\\nApplied Com puter Engin eering\\n(120 ECTS)Joint stud y\\nprogra mme  in\\nComputer Science\\nIoT & A I\\n(120 ECTS)COMPUTE R SCIENCE ECONOMY ARTS\\n2 semestar\\n1 semestarCommon courses + one course specific\\nfor each study / profile\\nCommon courses \\nBachelor study - \\nBachelor study - Master study Master studyMaster study\\nBachelor study - \\nBachelor study - Study programme: Study programme: Study programme: \\nStudy programme: \\n14\\n15', metadata={'source': 'data/student_guide.pdf', 'page': 7}), Document(page_content='It’s safe to say: If it isn’t on Infoeduka, it didn’t happen!If you are enrolling in a higher year of study and simultaneously \\nrepeating courses of the previous year, such enrolment may result \\nin overlapping of schedules of lectures or practicums. If you are, \\nat your request, simultaneously enrolling in courses from different \\nstudy years, you are considered to have been informed about this \\npossibility.What do I need to \\nknow as a student \\nof Algebra University \\nCollege?\\nInfoeduka – the digital student service or digital notice board\\nDigital student service Infoeduka is a digital notice board with all available \\ninformation, personalised schedule, teaching materials, information about the \\nnumber of points per subject and learning outcomes, payment information, \\nvarious notifications about changes, news, and more.\\nInfoeduka enables you to have all the information you need in one place \\nand access it from any location. It also makes it easier to study, reducing \\nadministration, and improving the organisation of the study process.\\nYou can use Infoeduka to track information and perform most of your study \\nactivities:\\n •Keep track of important information regarding studying\\n •Follow the personalised lecture schedule \\n •Keep track of your classroom attendance \\n •Access the repository of teaching materials\\n •Track financial obligations\\n •Register and cancel your exams\\n •Review exam grades\\n •Review class calendar and exams schedule\\n •Enrol and validate a semester or year\\n •Review number of earned credits within a course\\n •Access e-learning contents\\n •Access on-line services (forum, webmail)\\n •Access e-library \\n •Submit requests to receive certificatee\\n •Control and adjust receiving notifications about \\nevents relevant to for your studies\\n •Register your graduation thesisStudent status\\nStudent status is acquired through enrolment in the University College and is \\nterminated upon completion of the study programme, disenrollment from the \\nUniversity College or discontinuation of studies for other reasons.\\nWhat are the conditions for enrolment in a higher year of study?\\nThe conditions for enrolment in a higher year of study are the same for both \\nfull-time and part-time students.\\nIn order to enrol in the second year of study, students are required to pass \\nall first-year courses. Exceptionally, students may, at their request, enrol in \\nthe second year of study if they have passed sufficient first-year courses to \\nacquire a total of at least 40 ECTS credits.\\nIn order to enrol in the third year of study, students are required to pass all \\nof their first-year and second-year courses. Exceptionally, students may, at \\ntheir request, enrol in the third year of study if they have passed all of their \\nfirst-year courses and sufficient second-year courses to acquire a total of at \\nleast 40 ECTS credits.\\nIn order to enrol in the final year of study, students are required to pass all \\ncourses, or, exceptionally, they can enrol if they have passed sufficient third-\\nyear courses to acquire a total of at least 40 ECTS credits and all of their first \\nand second year courses.\\nAcquired ECTS credits are reviewed in September.\\nNumber of ECTS credits acquired determines the year of study you will be \\nable to enrol and fulfilment of conditions for enrolment in a higher year or re-\\nenrolment of the previous year of study.\\nAll courses that have not been passed in the period of 12 months since their \\nenrolment, must be re-enrolled.You can sign in to Infoeduka with access information you received when enrolling \\non the following link: https://student.racunarstvo.hr/pretinac/ . \\nThe Infoeduka link can also be found on the left side of our every web page.\\n16\\n17', metadata={'source': 'data/student_guide.pdf', 'page': 8}), Document(page_content='For each course, the course Head defines between 2 and 5 sets \\nof learning outcomes. In order to pass the course, it is necessary \\nto pass each learning outcome, that is, earn at least 50% of \\npossible points predicted for that learning outcome. This means \\nthat you have also passed that set of learning outcomes.If you have not passed all courses of the previous year and are \\ntransferring them to the next academic year, please keep in \\nmind the following: it is better to pass all courses of the winter \\nsemester and transfer summer semester courses, since the \\nsummer semester courses can still be passed in February (12 \\nmonths after their enrolment). If you succeed to pass courses \\nof the summer semester during this period (until February of the \\nfollowing year), you do not need to re-enrol them and pay for their \\nenrolment.\\nWhat is the semester status?\\nIn order to enroll in each semester, you are required to complete and submit the \\nEnrolment Form, which defines all enrolled courses and status of the enrolled \\nsemester, through the Infoeduka system. A semester can be enrolled in the \\nfollowing statuses:\\n •Enrolled – if you are enrolling in the semester (year) for the first time;\\n •Re-enrolled – if you have not acquired enough ECTS credits \\nduring the previous year in order to enrol in the higher year \\nof study, you must re-enrol in the same semester (year).  \\nSuspension of obligations is possible during military service, pregnancy and up \\nto one year of age of the child, prolonged illness and in similar justified cases. \\nDuring that time, the rights and obligations are suspended, and in that period \\nthe student does not have the right to subsidized housing costs in student \\ndormitories, the right to cover food costs, transportation costs or the right \\nto state scholarships. Moreover, in the opinion of the Ministry, if the student \\nis not able to perform his/her study obligations for justified reasons, then he/\\nshe cannot perform student work via student work contracts. In the year in \\nwhich the suspension of study obligations is enrolled, students are suspended \\nfrom all rights of the student status, except for the right to health insurance). \\nStudents enrol in higher semesters twice during the academic year – in \\nSeptember and in February.\\nIn addition, a request for disenrollment from the study program must be \\nsubmitted through the Enrollment Form tool within the Infoeduka system.\\nSpecifically defined learning outcomes and methods for verifying their \\nadoption for each course may be found in the Instructions for attending \\nand passing the course. The instructions are published in the repository of \\nteaching materials for each course separately.What are learning outcomes?\\nLearning outcomes are statements that specify what a student is expected \\nto know, understand and be able to do upon successful completion of the \\nlearning process. The learning outcomes are thematically grouped into sets \\nof learning outcomes.\\nWhat is X-ica and its purpose?\\nThe student identification card or the popular X-ica is an identification document \\nthat attests student status (the student matriculation book is no longer required \\nas the document attesting student status at Croatian institutions, including \\nAlgebra University College). The student ID card is active from October of the \\ncurrent year until October of the following year, except in case of termination \\nof student status.\\nIf you are an EU student with full-time student status, you have the right to \\nsubsidised meals, and if you own a European Health Insurance Card (EHIC), you \\nhave the right to free health insurance. All full-6time students (EU and non-EU) \\nhave subsidised transportation (ZET, bus, etc.) and a variety of benefits, such as \\ndiscounts for theatre tickets, etc. Furthermore, all full-time students have the \\nright to apply for accommodation in a student residence, but keep in mind that \\nit is difficult to get a place in said accommodation. Part-time students do not \\nhave the right to said state subsidies.ECTS Credits and \\nLearning Outcomes\\nAs previously mentioned, the curricula of all study programmes are fully \\nconsistent with the ECTS credit system (Bologna Declaration) and each course \\nis defined through learning outcomes. \\nWhat are ECTS credits?\\nECTS credits (European Credit Transfer System) are related to the Bologna \\nsystem of study and indicate the study load expected of students during the \\nexecution of all obligations related to a particular course. They are defined by \\nthe expected number of hours that a student will spend learning, practicing \\nand preparing papers and seminars in order to pass a given course. One ECTS \\ncredit indicates 25 to 30 hours of work. Each course requires a certain number \\nof ECTS credits.\\nIf you successfully complete all requirements and pass all exams, you will acquire \\n30 ECTS credits during one semester, and 60 ECTS credits during one year. \\nThe Professional Bachelor Study Programme with the duration of three years \\nequates to 180 ECTS credits, while a Professional Master Study Programme with \\nthe duration of two years equates to 120 ECTS credits.\\n18\\n19', metadata={'source': 'data/student_guide.pdf', 'page': 9}), Document(page_content='Students who do not meet minimum attendance requirements or \\nfail to fulfil any of the other obligations defined by the document \\n“Instructions for attending and taking courses” document, \\ncannot obtain a digital signature from their lecturer, and are \\ntherefore not allowed to take the exam and pass the course. If \\nthat happens, students have to re-enrol the same course.\\nAll lectures can be accessed via the video conference system, as \\nwell as some practicums, which the lecturer deems sensible to \\nshare via video.\\nIf you receive a notification saying that you have been referred \\nto additional classes, use them as an additional form of \\ngratuitous practice and a chance to catch up with the materials \\nmissed during regular classes! This will increase your chances of \\npassing the course.Make an effort to prepare homework, pass short tests and \\nfulfil other tasks since these few points can prove helpful if you \\nare a few points “short” of the required minimum for passing a \\nparticular learning outcome!\\nClasses will not be held during mid-term exams.Classes are organised in accordance with the Decision on the Class Calendar, \\nupon which a detailed class schedule is based. The schedule is always available \\nthrough the Infoeduka digital student service system. The schedule is also \\navailable in the mobile version of Infoeduka.\\nWhy is it important to attend classes?\\nAttending lectures and practicums is mandatory and it is a prerequisite for \\nobtaining the lecturer’s signature. Without the signature you are not allowed \\nto take exams and automatically “fail” that class. \\nStudents are obligated to attend in person at least 50% of lectures and at \\nleast 60% of practicums or teaching seminar as part of each course.\\n •If teaching is performed in an integrated manner (e.g. modular MBA \\nprogramme), class attendance of at least 60% is mandatory.\\nAdditional classes are free for students and represent study support.Instructions for accessing a video conference are announced within the \\nInfoeduka system notifications.\\nVideo conference viewing of classes is not recorded as class attendance and \\nonly serves to help students in situations when they are unable to attend in \\nthe classroom.\\nWhat are additional classes?\\nAdditional classes are a form of assistance to students who, for whatever \\nreason, do not manage to pass the learning outcomes as planned or have \\ndifficulties with mastering teaching materials (due to lower prior knowledge, \\nabsence from classes due to a long illness or other reasons). Additional classes \\nare generally organised (based on the results of previous generations) for more \\ndifficult courses that include specific theoretical or practical tasks.Examinations\\nThe final goal of the educational process is to prepare students for particular \\njobs. The training is realised through the acquisition of knowledge and skills \\ndefined by learning outcomes. A passed examination is proof that the student \\nhas mastered all stipulated learning outcomes and has thus acquired certain \\nknowledge and skills.\\nHow to pass an exam?\\nThe learning outcomes of each course are evaluated through various methods \\nand each evaluation method is accompanied by a certain number of points, \\nwhile each course carries a maximum of 100 points.\\nThe points are rounded up to two decimal spaces (these are not ECTS credits).\\nThe points are acquired through several methods used for the evaluation of \\nlearning outcomes: first mid-term exam, second mid-term exam, short tests, \\nhomework, oral exam, while some courses may include seminar papers, school \\nassignments, projects, practical work, workshops, etc. They are defined for \\neach individual course and each course head will indicate the required student \\nobligations during the introductory lecture.Classes organisation \\nand attendance\\nWhat are mid-term exams and how are they organised?\\nMid-term exams allow you to pass courses in step-by-step instalments. During \\na semester, two mid-term exams will be organised for each course.\\nEach mid-term exam covers several learning outcomes and at the start of \\nclasses, the teacher will clearly define the exact learning outcomes covered \\nby each mid-term exam. In addition, it will be evident from the examination \\nmaterials which questions and tasks refer to a particular outcome.\\nFirst mid-term exams will be organised after the eighth week of classes, over \\nthe course of one week.\\nThey encompass learning outcomes covered during these eight weeks of \\nclasses.\\nSecond mid-term exams will be organised after the end of the semester and \\nactually represent the beginning of the winter and summer examination periods. \\nThe second mid-term exam will cover tasks related to learning outcomes \\naddressed during the second half of the semester (after the first mid-term \\nexam), after which you can retake all earlier learning outcomes you did not \\nmanage to pass or want to improve. Registration for the second mid-term \\nexam counts as a first exam registration.\\n20\\n21', metadata={'source': 'data/student_guide.pdf', 'page': 10}), Document(page_content='Examination schedules (date, time and halls) are announced \\nwithin the Infoeduka system. Keep track of examination periods \\nand register for exams on time!\\nA student has passed an exam if they have simultaneously \\npassed all learning outcomes (obtained a minimum of 50% of \\npossible points for each outcome) and have achieved a minimum \\nof 50.01 points for a particular course.All relevant information about the exams can be found in the \\ndocument Decision on the rules for conducting exams at Algebra \\nUniversity College, published on the website in the section \\n“About us” – “Documents”. Read this document in order to \\nadequately prepare for the exams.\\nA student has the right to reject a grade and retake the whole \\nor a section of the exam in order to increase the number of \\npoints and the final grade. However, rejection of a grade will be \\nconsidered as an unsatisfactory grade and it is not possible to \\n“restore” the rejected grade.When has a student failed an exam?\\nIt is considered that a student has failed an exam if:\\n •they failed to pass any part of the exam,\\n •they registered for an exam, but did not attend the \\nwritten or oral exam during an examination period, in \\naccordance with the announced exam schedule,\\n •they refused to accept the grade offered by the lecturer at the \\ntime of the oral exam or during the registration of grades.Examination periods \\nDuring the academic year, you will have three examination periods:\\nWinter examination period:\\n •organized after the end of the winter semester (in February)\\n •2 examination periods will be organised for courses of the winter \\nsemester and 1 examination period for courses of the summer semester\\nSummer examination period:\\n •organized after the end of the summer semester (in June and July)\\n •2 examination periods will be organized for courses of the summer \\nsemester and 1 examination period for courses of the winter semester\\nAutumn examination period:\\n •organized after the summer holidays (in September)\\n •1 examination period will be organized for courses of the winter \\nsemester and 1 examination period for courses of the summer semester\\nAfter the successful completion of all learning outcomes through short tests, \\nhomework, seminar papers and oral exams (you should acquire a minimum of \\n50% of possible points for each learning outcome), you may access the oral \\nexam (if an oral exam is scheduled as a part of the course). If you successfully \\npass the oral exam and acquire a minimum of 50.01 points, the teacher will \\ndetermine the final grade of the course and the course will be considered as \\npassed. The grade and the associated number of ECTS credits are entered in \\nthe Infoeduka system.present it in the event of technical difficulties. Students who did not register \\nfor the exam on time cannot take the exam, nor can their results be admitted. \\nIf the student did not cancel their exam registration on time and did not take \\nthe exam, or was prevented from passing the exam, they may submit a written \\nrequest to cancel the exam registration in case of exceptional circumstances \\ndefined by the Decision on categories of acceptable and unacceptable \\ncircumstances.\\nHow to register and cancel mid-term exams and exams?\\nStudents are required to register for exams no later than 3 (three) days before \\nthe scheduled exam (three days prior, until 11:59 midnight) and cancel an exam \\nregistration by the cancelation deadline defined in Infoeduca for each exam \\nterm separately. Exceptionally, due to the demanding organisation of final \\npractical exam scheduling, students may register for the final practical exam \\nno later than 7 (seven) days before the exam date and cancel their registration \\nby the cancelation deadline defined in Infoeduka.\\nWhen registering for an exam or cancelling a registration, students automatically \\nreceive confirmation of this activity. Keep this confirmation so that you may In case of overdue payments, it is not possible to register or take exams. Since \\nthe payments are registered only after being received in the University College \\naccount, students who registered the exam but were in the meantime denied \\naccess to the exam due to unfulfilled financial commitments, may access the \\nexam if they fulfilled their payment obligations in the meantime. \\nIn that case, the student has to personally inform the Student Office and \\nbring the payment receipt, after which the student will be issued permission \\nto take the exam. The student is obligated to show that permission to the \\nexam supervisor. \\nIMPORTANT:\\n •This possibility may only be used by students who registered their exam \\non time\\n •The permission may only be received during the working hours of the \\nStudent Office\\n •The payment confirmation has to be brought to the Student Office in \\nperson by the student \\n •Payment confirmations sent via e-mail will not be taken into account.\\n22\\n23', metadata={'source': 'data/student_guide.pdf', 'page': 11}), Document(page_content='Most students do not need additional exam attempts. With \\nconsistent effort and study, you can pass a course without any \\nproblems through the mid-term exam and three exam takes!If you are improving some of the learning outcomes you already \\npassed, Infoeduka records the points from that re-take, \\nregardless of whether you did better or worse than the first \\ntime. This means that during the re-take of the already passed \\nlearning outcome, it is also possible to fail.What is the additional fourth exam registration?\\nIf a period of 12 months from the date of enrolment has not expired, students \\nwho have failed to pass an exam three times can register for one exclusive \\nadditional examination in order to pass the course in question. The price of \\nthe first three regular examinations is included in the tuition fee, while the \\nadditional exam registration is charged in accordance with the fee stipulated \\nby the current Decision on Tuition Fees. The prerequisites for additional exam \\nregistrations are equal to those for regular exam sittings and the exam is taken \\nunder the same conditions. A student, who does not pass the additional exam, \\nmust re-enrol and pay tuition for the course in question.\\nHow long do I have to pass a course after enrolment?\\nEach enrolled course is valid for 12 months after the date of enrolment and \\nduring this period you are expected to fulfil all requirements related to the \\ncourse and pass all learning outcomes that enable you to pass the course. If \\nyou do not manage to pass the exam within 12 months, you will need to re-enrol \\nand repeat the course. This will require not only an additional investment of \\ntime but will also be an additional financial burden.\\nHow and when can I take certificate exams?\\nCertificate exams included in the tuition fee are not mandatory and free \\ncertificate exams are available only to students who meet all precertification \\nrequirements as prescribed. This usually refers to passing exams in related \\ncourses or obtaining a certain number of credits within the certificate exam \\npreparation system.\\nIn case the student fails to pass a certificate exam, the University College will \\nprovide an opportunity for re-evaluation through a second exam upon payment \\nof costs determined by the price list issued by the certification institution \\nresponsible for the test procedure.…I want to improve a learning outcome?\\nIf you have succeeded in passing one (or more) learning outcomes on your first \\nmid-term exam and you are not content with the number of points earned, you \\ncan improve on these results. You can increase your points in the second mid-\\nterm exam and the next examination period.Certificate exams can be taken within exam terms according to a pre-\\nannounced schedule but are not connected to the exams held at the end of \\neach course.\\nCertificate exams cannot replace exams conducted at the end of the course. \\nStudents generally take certificate exams in a particular field only after \\nsuccessfully passing the exam / exams related to the respective certificate \\nexam. The right to take certificate exams included in the tuition fee is valid \\nfor a maximum of 12 months after the expiry of student rights, in case these \\nexpire on the basis of successful completion of studies, or after the date of \\ndisenrollment or of cessation of student rights in case these rights cease on \\nany other basis.\\nWhat if…If you have registered for an exam and decided not to take the \\nexam, make sure to cancel the exam on time because the exam \\nwill otherwise be considered as taken and failed! This way you \\nwould be losing one exam sitting.How many times can an exam be taken?\\nEach exam can be taken up to four times through three regular exam sittings \\nand an additional fourth attempt. Registration of the second mid-term exam \\nis considered as the first exam sitting (pre-examination period).\\nBelieve in yourself, your abilities and your own potential! Algebra \\nUniversity College promotes academic integrity. …I cheat on an exam?\\nStudents are expected to participate in classes, write homework, take mid-\\nterm exams, final exams, etc. Each of these activities must be done individually \\n(unless otherwise specified).\\nCopying from another student is considered a minor disciplinary offense and \\nmeasures will be applied in accordance with Article 8 of the Book of Regulations \\non Disciplinary and Material Responsibility. Measures are usually taken against \\nboth students involved, the one who was copying and the one who was copied \\nfrom.\\nIn case copying reoccurs after a disciplinary measure has already been imposed \\nin accordance with Article 8 of the Book of Regulations on Disciplinary and \\nMaterial Responsibility, it will be considered a serious disciplinary offense and \\nmeasures will be applied as stipulated in Article 7 of the aforementioned Book \\nof Regulations.\\n24\\n25', metadata={'source': 'data/student_guide.pdf', 'page': 12}), Document(page_content='If you are repeating the second year and have not passed a course of \\nthe first year, you cannot enrol in courses of the third year!!\\nAlthough this may seem like a nice break, it is not recommended to avoid \\nclasses during re-enrolment (even if you have obtained the signature). \\nIf you were not able to pass the course after attending lectures and \\npracticums, it will definitely be more difficult to pass the course without \\nclass attendance. Students are therefore recommended to attend the \\nclasses once again!In case you are enrolled in courses from two different study years in the same academic \\nyear (e.g. you are repeating a portion of the courses from the second year and have \\nenrolled several courses from the third year), it is possible that will be some overlap in \\nthe schedule of the lectures or practicums, as well as exam dates. If you decide to do \\nthis, i.e., enrol in courses from different study years, upon submitting your enrolment \\nform, you must confirm that you accept such a possibility and that you are aware this \\nmay lead to challenges in organising your time and obligations in a particular course. \\nIn this situation, the University College is not obligated to ensure that the courses you \\ntake do not overlap, but we will be happy to make adjustments, if there is opportunity \\nto do so.\\n…I want to change my sub-specialisation or study programme?\\nIf you want to change your sub-specialisation, or your study programme, it is best to \\ndo it as early as possible, in the first year of undergraduate studies, because that way \\nwill have to make up the smallest difference of courses. You may request a change \\nof the study programme at the start of the academic year (in September), while you \\nmay also request a change of sub-specialisation when registering for a new semester \\n(in September or February). All of your requests should be submitted via the Infoeduka \\nsystem using the Enrolment Form tool.\\n…I want to borrow a library book?\\nIf you want to borrow a book from the library, you can do so via the Infoeduka system, \\nusing the Library tool. You will select an area and/or enter a key word from the title or \\nauthor’s name, and a list of books will appear in the drop-down menu. After that, you \\ncan choose the book you want to borrow and click on the check button to see if it is \\navailable. If available, it will say ‘available’ next to the title of the book. You can order \\nthe book by clicking on the order button and once you do, you will see that the order …I fail to pass an oral exam or \\nrefuse a grade?\\nIf the student obtains an  \\nunsatisfactory grade based on \\nknowledge demonstrated in the oral \\nexam or refuses the grade offered \\nby the teacher, the student can re-\\nregister for the exam during one of \\nthe following exam terms and retake \\nthe oral exam (if satisfied with the \\npoints obtained for each learning \\noutcome during the course).…I have passed most of the \\nlearning outcomes – can I take \\nthe oral exam?\\nThe oral exam can be taken only \\nafter all outcomes have been \\nmarked as “green”, that is, after you \\nhave achieved a minimum of 50% of \\npossible points – all outcomes need \\nto be passed.\\n…I am repeating a year?\\nIf you do not acquire enough credits for enrolment in a higher year of study (a minimum \\nof 40 ECTS), you must re-enrol that same year. When repeating a year, you must re-\\nenrol all the courses of the previous year that have not been passed and pay a tuition \\nfee in the amount corresponding to the number of re-enrolled courses. Also, if you \\nhave earned between 25 and 39 ECTS points, you may, at your own request, enrol in a \\nmaximum of six (three in each semester) courses from the higher year, in addition to \\nthe courses you need to re-take.…I am repeating a course for which I have obtained a signature \\nduring the previous year?\\nIf you are retaking a course and have obtained a signature during the previous \\nyear, you can request the acknowledgement of a previously obtained signature. \\nThe acknowledgement of a signature must be requested when submitting the \\ndigital enrolment form through the Enrolment Form tool in the Infoeduka system \\n(this is possible if you have previously qualified for a signature in this course \\nand have not registered for the exam four times).\\nRegardless of the acknowledged signature, a student has the right to attend \\nclasses of the re-enrolled course, but is not required to achieve mandatory \\nattendance. Nevertheless, they are obliged to pass the course in a manner \\nstipulated during the year of re-enrolment (with possible changes in learning \\noutcomes, grading, etc.). The acknowledgement of a signature does not \\ntransfer points from previous years nor is the student exempted from paying \\nthe course tuition fee.... I can’t attend the exam I registered for?\\nWe understand that you may find yourself in circumstances that temporarily make it \\nimpossible to study (attend classes, respect deadlines for submission of work, or take \\nexams), such as illness or an otherwise unforeseen event that is outside your control. If \\nthese circumstances are in accordance with the circumstances defined in the Decision \\non Acceptable and Unacceptable Exceptional Circumstances (link: https://www.algebra.\\nhr/visoko-uciliste/wp-content/uploads/sites/2/2022/07/Odluka-okolnosti_27.04.22.\\npdf) you have the right to submit a written request for approval of the signature, \\ncancellation of the exam registration or extension of the deadline for submission of \\nwork. If the circumstances in which you find yourself are not in accordance with the \\ndefined acceptable circumstances, the request will not be granted.\\n…I do not qualify for a \\nsignature?\\nIf you do not fulfil the requirements \\nfor obtaining the signature, you will \\nautomatically need to re-enrol in \\nthe course because you will not be \\nable to take the exam. The same \\ncourse must be re-enrolled in the \\nfollowing academic year, which, in \\naddition to re-enrolment, entails \\npaying new tuition, satisfying the \\nminimum attendance requirement, \\nand prolonging your study time.\\n26\\n27', metadata={'source': 'data/student_guide.pdf', 'page': 13}), Document(page_content='Mentoring program\\nWe are aware that coming to a new environment and facing various new \\nobligations can be demanding and somewhat confusing, and we want to make \\nit as easy as possible for you to start your academic education.\\nThis is precisely why we have designed a mentoring programme for those of \\nyou who are starting your academic journey, to accompany you throughout \\nthe first year of your studies, alongside your mentors.\\nTake advantage of the opportunities provided by the mentoring \\nprogramme, because it is designed precisely to help you better cope \\nwith the responsibilities that await you during your studies. At the \\nmeetings with the mentors, you can get answers to questions related \\nto your studies, and the mentors will be happy to share with you their \\nexperiences gained during the many years of working with students. \\nIn addition to mentoring meetings, in cooperation with experts from \\nvarious fields, we organise workshops that can help you better manage \\nyour time, adopt new learning techniques, overcome exam jitters, and \\nmore. Don’t miss the opportunity to participate in this programme.was sent on the screen. When the Student Office receives the order and prepares \\nthe book, you will receive a notification to pick up the book. If the book is currently \\nunavailable, it will say ‘unavailable’ next to the title of the book.\\nAll the information about borrowing and returning books and the use of the college \\nreading room are available in the Regulations on the use of the library and the \\ncollege reading room, which may be found on our website in the section “About us” \\n– “Documents”.\\nAlgebra University College students have the opportunity to spend part of their \\nstudies at a foreign partner higher education institution within the Erasmus+ \\nprogramme, bilateral exchange programmes and shorter mobility programmes \\n(International Summer School programmes and BIP).\\nStudy visits  can last from 3 to 12 months. A mobility plan will be defined for each \\nstudent in agreement with the head of the study programme before using a \\nmobility. The mobility plan lists the courses that will be acknowledged by the \\nhome institution following the return from mobility, as well as any additional \\nstudent obligations. Courses that are not acknowledged will be recognised in \\nthe Diploma Supplement.\\nTraineeships  can last from 2 to 12 months. Thanks to student traineeships \\nabroad, you will be able to adapt more easily to specific labour market \\nrequirements in different countries, develop specific skills and better \\nunderstand the economic and social differences in various countries.\\nBlended intensive programmes (BIP) are short, intensive programmes that use \\ninnovative ways of learning and teaching, including the use of more flexible \\nmobility formats that combine physical mobility with a virtual segment. \\nThe duration of the physical segment is between 5 and 30 days, and upon \\nsuccessful completion of the programme, the student is awarded 3 to 6 ECTS \\ncredits (depending on the programme specifications).…I lose a library book?\\nIf you lose a library book, the University College will charge you for the amount \\nneeded in order to purchase a new copy and you will be issued an invoice stating \\nthe purchase value of the book.\\nIn addition, you can borrow books from the National and University Library (NSK) \\nthat also provides an additional space for studying. More information is available \\nat: www.nsk.hr/en/ . Books can also be borrowed from the Zagreb City Libraries (KGZ). \\nThe current membership fee is 7,00 EUR and enables you to borrow books from any \\nlibrary in the network (there are close to 40). More information is available at: www.\\nkgz.hr/en/about-us/zagreb-city-libraries-today/523 . Check out NSK and KGZ websites \\nfor information on exact membership fees.\\nDuring the whole study programme at Algebra University College, please feel free \\nto contact any of the professional services provided to support our students and \\ntheir studying process.\\nStudent Office\\nThe Student Office is a service that is primarily focused on helping students to \\nstudy successfully and have the best possible student experience. The Student \\nOffice enables students to resolve any doubts and cross barriers they might en -\\ncounter during their studies by assisting them to stay on the path when they need \\nguidance and strategic support. In addition, the Student Office encourages stu -\\ndents to develop a personal sense of their obligations, as well as rights. Some of \\nthe tasks performed by the Student Office:\\n •validating forms for enrolment in a higher semester/year of study\\n •preparing preliminary invoices\\n •lending and re-entering books and manuals of Algebra University \\nCollege library and organising the distribution of compulsory \\nliterature for each course (before the start of each semester)\\n •conducting the organisation of the examination process (examination \\nperiods, records of exam registrations and cancellations, exam lists)\\n •keeping student records (student files, registry book, \\nstudent identification cards, statistical data, certificates, \\nrequests and decisions, scholarships, transcripts)\\n •conducting the termination of the study process (based on \\ndisenrollment, successful completion of study programme)\\n •organising student graduation ceremonies. \\nRegarding the above mentioned, the Student Office can be contacted at:  \\nstudentska.referada@algebra.hr .Career Center\\nThe Career Centre provides you with all the necessary information on various \\ntraineeship possibilities and our partner companies on the labour market with \\nwhom we have established different types of cooperation. The Career Centre \\ncan be contacted at: centar.karijera@algebra.hr .\\nVice Dean for Students\\nThe Vice Dean for Students keeps track of your needs on a regular basis and \\nparticipates in the creation of processes that contribute to your student \\nexperience. The Vice Dean maintains regular communication with students \\nand observes your academic development and needs. Make sure to follow \\nInfoeduka, your računarstvo email address and Ms Teams notifications for all \\ninformation about events and activities organised for the purpose of elevating \\nyour student experience. \\nStudy support\\nGo global\\n28\\n29', metadata={'source': 'data/student_guide.pdf', 'page': 14}), Document(page_content='Student representatives and Student Ombudsman\\nThe student representatives are elected by the students of each study year and \\nrepresent the interests of students within the Academic Council, Committee \\nfor Quality Assurance and other bodies. The student representatives are your \\nspokespersons, so make sure to contact them with your problems, questions, \\ncritiques and suggestions. Information on student representatives can be found \\nat:  www.algebra.hr/visoko-uciliste/en/campus/student-representatives/ .\\nThe students are also represented by the Student Ombudsman who is responsible \\nfor protection and promotion of student rights.\\n Student Council\\nThe Student Council gathers all students interested in establishing and deepening \\ncommunication between students as well as between various organisations that \\nconnect students from different colleges, such as organised sports competitions, \\ntravelling and other activities. One of the most important goals of the Student \\nCouncil is enlivening  student life outside of the formal framework of lectures \\nand auditory exercises. Members of the Student Council are happy to assist \\nall interested students with coursework as teaching aids, and with the help of \\nteaching assistants. More information on the Student Council may be found at:  \\nwww.algebra.hr/visoko-uciliste/en/campus/student-council/ .  https://www.algebra.hr/visoko-uciliste/en/for-students/\\ninternational-cooperation/  \\n \\nInternational Office: \\ninternational-office@algebra.university \\nerasmus@algebra.hr \\nStudent Coordination\\nThe Student Coordination is a body that enables more students to engage in \\ndiscussions related to study programmes and studying. Each year it has one \\nrepresentative for every study programme and every specialisation, with student \\nrepresentatives, lecturers, heads of study programmes, heads of departments, \\nmembers of the Dean’s Office and non-teaching staff meeting approximately twice \\na semester to discuss topics relevant to study programmes and studying. Our goal is \\nto join forces in discussing possible improvements to study programmes or relevant \\nstudent issues. Student Coordinators are selected at the beginning of the academic \\nyear at the call for proposals of the Vice Dean for Students.\\nHow can students affect the quality of studies?\\nStudents can and should affect the quality of studies with their suggestions. All \\nsuggestions are welcomed and will be considered.\\nDuring the course of the study programme, you will participate in surveys regarding \\nyour satisfaction with the study programme and organisation of classes and you will \\nbe able to make suggestions regarding any improvements. Surveys are conducted \\ntwice during a semester, consist of 5 units, while access data for taking a survey is \\npublished within the Infoeduka system.Sports and leisure\\nIt is a well-known and scientifically proven fact that regular and appropriate physical \\nactivity improves human health. Insufficient physical activity and reduced stimulus \\nto the locomotor system are negatively reflected on the normal functioning of all \\norgans. Physical inactivity is the fourth leading risk factor for mortality in the world, \\nwhile physically active persons have significantly reduced risks various diseases \\n(World Health Organization, 2017).\\nOur sports manager, Tin Petračić is responsible for organising, implementing and \\nrunning our sports recreational programmes, and you can contact him at: sport@\\nalgebra.hr .Other information\\nIn 2023, we launched a new joint study programme in Computer Science – \\nInternet of Things and Artificial Intelligence in collaboration with EPITECH \\nfrom France. Students can experience studying in Zagreb and Paris while \\nearning dual degrees.\\nFor more information, visit our official website:\\nwww.algebra.hr/visoko-uciliste/en/studij/graduate-professional-program/iot-\\nand-ai/\\nInternational Summer School\\nAlgebra is organising the International Summer School for the 8th year running, \\nwith the aim of introducing students to the quality of our study programs. Our \\nInternational Summer School programmes are anything but boring! Students \\nhave the opportunity to meet outstanding and ambitious colleagues from \\naround the world. We’ll take you to some of the world-famous places in Croatia, \\nhelp you explore the rich historical and cultural heritage of our country and give \\nyou the chance to have an unforgettable time at various events and festivals \\nin Zagreb and many other interesting locations. Our teaching programmes \\nin various fields of digital technologies are created to be both creative and \\napplicable and suitable for groups of foreign and domestic students with \\ndifferent study backgrounds. Furthermore, students can also attend the \\nsummer schools of our partner institutions in countries such as China, Canada, \\nor South Korea. For more information about the International Summer School, \\nvisit www.algebra.hr/international-school/ , and for more information on all \\ninternational student opportunities, contact the International Office at: \\ninternational-office@algebra.university .\\nABC BootCamps summer programmes\\nIn addition to the International Summer School in Croatia, Algebra University \\nCollege organises ABC BootCamps summer programmes in various globally \\nknown destinations. This opportunity is open to all students and young \\nentrepreneurs who wish to turn their ideas into reality, meet success-driven \\nindividuals from different sides of the world, and acquire up-to-date knowledge \\nand skills in the fields of business, innovation, and technology.\\nInteractive lectures led by US and Canadian professors, along with inspiring \\nguest speakers from different industries and visits to renowned companies, \\nimmerse participants in the modern business world. This experience nurtures \\ninnovative thinking and broadens networks.\\nPrevious ABC BootCamps summer programmes have taken place in vibrant \\nToronto (Canada) and the innovative Silicon Valley (California) as well as in \\nMunich (Germany). Information about planned destinations for the current \\nyear is available on our website: www.abcbootcamps.com. For any additional \\ninformation and special benefits for Algebra students, reach out to the \\nInternational Office. Embark on your ABC adventure this summer!\\n30\\n31', metadata={'source': 'data/student_guide.pdf', 'page': 15}), Document(page_content='Suggestions and comments are regularly recorded through feedback forms or \\nstudent representative meetings and may be submitted in writing at any time using \\nthe e-mail box provided for comments and suggestions at: letusknow@algebra.hr ,\\nor in person to Student Office staff.\\nComplaints and appeals\\nAll complaints submitted in good faith will be considered fairly and any student who \\ninitiates this procedure will not be put in a disadvantaged position for having done so. It \\nis expected that most issues can be resolved in a friendly and informal way. Therefore, \\nwe recommend that you first try to resolve any complaint or appeal informally with the \\nperson whose work or lack of action is the object of your complaint or appeal. \\nIf the complaint or appeal is not resolved in a satisfactory manner, a formal complaint \\nor appeal may be submitted using the email boxes provided for this purpose. \\nComplaints are sent to: complaints@algebra.hr .\\nAppeals are sent to: appeals@algebra.hr .\\nBoth may be submitted in writing to the staff of the Student Office. In order for the \\ncase to be properly examined, students should be specific in describing the cause and \\nnature of their complaint or appeal.\\nMore detailed instructions are available at: \\nwww.algebra.hr/visoko-uciliste/wp-content/uploads/sites/2/2022/07/Politika-i-postupci-\\nprigovora-i-zalbi_eng-_27.4.2022.pdf .\\nImportant: Students must leave the building and the student \\npremises no later than 10:00 p.m. on weekdays and 9:00 p.m. on \\nSaturdays. The campus is closed on Sundays. The surveys are mandatory and important because their results allow \\nus to analyse the quality of the study programme and introduce \\nimprovements!\\nIf you feel that you cannot overcome the difficulties you are facing on \\nyour own, be sure to seek professional helpMedical care\\nBoosting and maintaining mental health\\nAccording to the World Health Organization, mental health is the state of well-being \\nin which an individual realises their potential, is able to cope with the stress of daily \\nlife, work productively and fruitfully, and contribute to their community. By focusing our \\nattention and activities on caring for our own mental health, we work to maintain balance, \\npreserve our mental health and quality of life. Everyone can take steps to strengthen and \\npreserve their mental health. There are numerous free options available to us, including \\nthe following:\\n •Manual for self-help and empowerment of students “Radim na sebi”, published \\nby the Croatian Institute of Public Health, available on the link: https://\\nstampar.hr/sites/default/files/2021-06/prirucnik_radim_na_sebi.pdf .\\n •Advice for students are offered on this link: https://mentalnozdravlje.zagreb.\\nhr/savjeti-strucnjaka/briga-za-mentalno-zdravlje-savjeti-za-studente/ .\\n •The link https://mentalnozdravlje.zagreb.hr/vjezbe-i-podrska/  offers \\nadvice and exercises for dealing with certain difficulties. \\n •Little School for Freshmen appears at: https://www.czm.\\nhr/blog/za-studente/mala-skola-za-brucose .\\n •Tips for adapting to student life https://www.czm.hr/blog/\\nza-studente/prilagodba-na-studentski-zivot . \\nFor a self- evaluation of your mental health, use the following questionnaires:  \\n •The association Kako si? questionnaire is available on the link: https://\\nmentalnozdravlje.zagreb.hr/saznaj-kako-si-ispuni-upitnik-dass-21/  \\n •The questionnaire for self-assessment of mental health difficulties \\npublished by the Office for Psychological Support and Mental Health \\nProtection of the University of Zagreb is available here: https://\\nmentalno-zdravlje.info/measures/measures_psih-2020_index.php  \\nThe school doctor can also help you in case of difficulties related to learning as well as \\npossible problems caused by changes and adaptation to college life. For students of \\nAlgebra University College, the office of dr. Matea Bračić at the designated school clinic \\n‘Medveščak’ is located at Laginjina Street 16.\\nOther instances you can contact during your studies in Zagreb can be found on these links: \\nhttps://mentalnozdravlje.zagreb.hr/ustanove/.n , or https://www.vef.unizg.hr/studij/urkaps/\\npopis-ustanova-za-pruzanje-psiholoske-pomoci/  or https://www.psiholoskapomoc.hr/\\nportfolio/ , containing the contacts for psychological support providers from all of Croatia.\\nYou can keep track of Infoeduca notifications, where we will inform you about initiatives, \\nworkshops and events related to strengthening and maintaining mental health.\\nSources:\\n •Mental health - important notions, https://www.unicef .\\norg/croatia/mentalno-zdravlje-vazni-pojmovi \\n •What is mental health, https://mentalnozdravlje.\\nzagreb.hr/sto-je-mentalno-zdravlje/  \\n •Office for Psychological Support and Mental Health \\nProtection of the University of Zagreb \\n •Andrija Stampar Teaching Institute of Public Health\\n •Project “Centre for Mental Health Protection” – Zagreb Health Clinic  \\nStudents from EU Member states must hold an European Health Insurance Card. Students \\nfrom countries outside the EU must hold a valid health insurance policy.Innovation Lab\\nStudent areas\\nStudents have the premises of the college Reading Room (library), Slavko Krajcar \\nInnovation Lab and Družiona at their disposal.\\n •The college reading room is located on the A level and is available \\nfor studying and working, while students may also use it to examine \\nspecialised literature. During your stay at the library, please do not \\ndisturb the work of other users, speak loudly, bring in food or drinks, \\nuse mobile phones, and do preserve the library materials.\\n •The Slavko Krajcar Innovation lab is located on the A level and \\ncontains equipment, mostly computers and programmes used in the \\nclassroom. Students may use the equipment during campus working \\nhours, and it is also possible to work on team projects at the Lab.\\n •The social area Družiona is located on the F level and is \\ndesigned for socialising, eating and drinking.\\nThe student areas are accessible using the student ID X-ica.\\nParking\\nParking is possible in the garage within the building. Parking is payable by SMS or using \\nthe “ParkWallet Premium” mobile application. There are parking areas in the vicinity \\nof the building, which are charged according to the Zagreb parking zone 3 tariff.\\n32\\n33', metadata={'source': 'data/student_guide.pdf', 'page': 16}), Document(page_content='A: Gradišćanska 24, \\n    10000 Zagreb, Croatia\\nT: 00385 1 2222 182\\nFax: 00385 1 2222 183\\nE: student@algebra.hr\\nW: www.algebra.university\\n', metadata={'source': 'data/student_guide.pdf', 'page': 17})]\n",
      "18\n"
     ]
    }
   ],
   "source": [
    "documents = loader.load()\n",
    "print(documents)\n",
    "print(len(documents))"
   ]
  },
  {
   "cell_type": "code",
   "execution_count": 69,
   "metadata": {},
   "outputs": [
    {
     "name": "stdout",
     "output_type": "stream",
     "text": [
      "The building of the University College is open from 7:30 a.m. \n",
      "to 10:00 p.m. on weekdays and from 7:30 a.m. to 9:00 p.m. on \n",
      "Saturdays. \n",
      "The campus is closed on Sundays.Pursuant to Article 28 of the Algebra University College Statute, in accordance \n",
      "with the Code of Ethics of Algebra University College and the Book of \n",
      "Regulations on Disciplinary and Material Responsibility of students, teaching \n",
      "and non-teaching staff of Algebra University College, on 9 February 2018, the \n",
      "Dean of Algebra University College introduced the\n",
      "CODE OF CONDUCT FOR STUDENTS OF \n",
      "ALGEBRA UNIVERSITY COLLEGE\n",
      "Students, lecturers, associates and employees of Algebra University \n",
      "College need to work together to create an optimal environment and \n",
      "conditions for the realisation of honourable academic work.\n",
      "The Code is primarily based on the desire of students and teachers \n",
      "to avoid and eliminate unacceptable behaviour and to establish a \n",
      "relationship based on mutual respect.\n",
      "Students’ duties are:\n",
      "→ To preserve the reputation and dignity of Algebra University \n",
      "College, its students, lecturers and associates;\n",
      "→ To attend lectures, workshops and other forms of teaching without \n",
      "tardiness.\n",
      "→ To regularly perform and independently organise duties (finances, \n",
      "registering and cancelling exams, number of examinations, \n",
      "attendance at lectures and workshops, etc.)\n",
      "→ Respect the office hours;\n",
      "→ To attend sessions of the Academic Council and other committees \n",
      "they are members of;\n",
      "→ To be polite and fair towards lecturers, associates and other \n",
      "Algebra University College employees and students;\n",
      "→ If there are special rules of conduct and residence in some faculty \n",
      "areas of Algebra University College (e.g. the reading room, lecture \n",
      "rooms, lecture halls and other), you must adhere to them;\n",
      "→ To preserve the property and the environment of Algebra University \n",
      "College. Code of conduct\n",
      "Students’ rights are:\n",
      "Defined in accordance with regulations such as the Constitution of the \n",
      "Republic of Croatia, Act on Scientific Activity and Higher Education, \n",
      "Statute of Algebra University College, Book of Regulations on Study \n",
      "Programmes and Studying, and in particular: \n",
      "→ Equal and inalienable rights regardless of race, nationality, religion, \n",
      "gender, political and other beliefs and views, social status and all \n",
      "other differences; \n",
      "→ The freedom of expression in accordance with the legal decisions \n",
      "and the moral principles of the academic citizen;\n",
      "→ The freedom of non-political association;\n",
      "→ Democratically elected representatives with the right to vote in the \n",
      "Algebra University College Council;\n",
      "→ Giving opinions on issues pertaining to students’ rights and \n",
      "obligations through student representatives;\n",
      "→ The availability of Algebra University College Statute and other \n",
      "acts related to students and their rights at Algebra University \n",
      "College;\n",
      "→ Fair treatment by Algebra University College, and, in this regard, an \n",
      "appeal in case of violation of this right;\n",
      "→ Attending lectures, workshops, seminars and other teaching \n",
      "methods;\n",
      "→ Participation in scientific and professional activities;\n",
      "→ Assistance and counselling by the coordinator of the Career \n",
      "Centre with regard to the study process;\n",
      "→ Submitting appeals on the decision or procedure to the competent \n",
      "authority;\n",
      "→ Reward for work, achievement and contribution to the affirmation \n",
      "of Algebra University College;\n",
      "→ Participation in extracurricular activities: cultural, sports, \n",
      "professional conferences and seminars etc.\n",
      "10\n",
      "11\n"
     ]
    }
   ],
   "source": [
    "print(documents[5].page_content)"
   ]
  },
  {
   "cell_type": "markdown",
   "metadata": {},
   "source": [
    "### Document Splitting\n",
    "Initialize Recursive Text Splitter"
   ]
  },
  {
   "cell_type": "code",
   "execution_count": 70,
   "metadata": {},
   "outputs": [
    {
     "name": "stdout",
     "output_type": "stream",
     "text": [
      "<langchain.text_splitter.RecursiveCharacterTextSplitter object at 0x000001FFE5268950>\n"
     ]
    }
   ],
   "source": [
    "from langchain.text_splitter import RecursiveCharacterTextSplitter\n",
    "\n",
    "text_splitter = RecursiveCharacterTextSplitter(\n",
    "            chunk_size=1500,\n",
    "            chunk_overlap=250,\n",
    "            length_function = len\n",
    "        )\n",
    "print(text_splitter)\n"
   ]
  },
  {
   "cell_type": "code",
   "execution_count": 71,
   "metadata": {},
   "outputs": [
    {
     "name": "stdout",
     "output_type": "stream",
     "text": [
      "Document 1:\n",
      "\n",
      "Algebra became University for its 25th birthday\n",
      "\n",
      "On its 25th birthday, Algebra completed the accreditation process and became a University - Zagreb, December 21, 2023\n",
      "\n",
      "Algebra University started three additional professional study programs in the current academic year 2023-2024, with a record number of over 2,000 enrolled students. Three new university studies will start at the beginning of the next academic year.\n",
      "----------------------------------------------------------------------------------------------------\n",
      "Document 2:\n",
      "\n",
      "In addition to the new university studies, Algebra University plans to further develop its professional studies through membership in the European Association of Institutions in Higher Education - EURASHE.\n",
      "\n",
      "\n",
      "Gaming and esports experts at Algebra\n",
      "----------------------------------------------------------------------------------------------------\n",
      "Document 3:\n",
      "\n",
      "Algebra University's mission is to develop a dynamic and innovative learning environment that empowers students and attendees to be leaders in the development and application of digital technologies in various fields. With the establishment of the Algebra University, the Rector, associate professor, Ph.D. Mislav Balković also became a full member of the Croatian Rector's Conference. At the University constituent sitting, along with Rector Balković, the new vice-rectors were also appointed.\n",
      "----------------------------------------------------------------------------------------------------\n",
      "Document 4:\n",
      "\n",
      "Algebra, having received a permit and a positive accreditation recommendation from the Agency for Science and Higher Education and a final positive opinion, has formally become the first private university in Croatia to focus on technical and digital studies.\n",
      "\n",
      "The University of Zagreb carried the mentoring program for Algebra University through its component Faculty of Electrical Engineering and Computing.\n"
     ]
    }
   ],
   "source": [
    "print(f\"\\n{'-' * 100}\\n\".join([f\"Document {i+1}:\\n\\n\" + d.page_content for i, d in enumerate(docs)]))"
   ]
  },
  {
   "cell_type": "markdown",
   "metadata": {},
   "source": [
    "### Embeddings and Vectorstore"
   ]
  },
  {
   "cell_type": "markdown",
   "metadata": {},
   "source": [
    "Create Chroma db vectorstore with HuggingFace embeddings"
   ]
  },
  {
   "cell_type": "code",
   "execution_count": 72,
   "metadata": {},
   "outputs": [],
   "source": [
    "from langchain.vectorstores import Chroma\n",
    "\n",
    "vectordb = Chroma.from_documents(\n",
    "    documents=docs,\n",
    "    embedding=HuggingFaceEmbeddings(model_name=\"sentence-transformers/paraphrase-MiniLM-L6-v2\"),\n",
    "    persist_directory=\"qa_db\",\n",
    ")\n",
    "vectordb.persist()\n"
   ]
  },
  {
   "cell_type": "code",
   "execution_count": 73,
   "metadata": {},
   "outputs": [
    {
     "name": "stderr",
     "output_type": "stream",
     "text": [
      "c:\\Users\\ggvozden\\Anaconda3\\envs\\bigdata\\Lib\\site-packages\\langchain_core\\_api\\deprecation.py:117: LangChainDeprecationWarning: The class `langchain_community.embeddings.openai.OpenAIEmbeddings` was deprecated in langchain-community 0.1.0 and will be removed in 0.2.0. Use langchain_openai.OpenAIEmbeddings instead.\n",
      "  warn_deprecated(\n"
     ]
    }
   ],
   "source": [
    "from langchain.embeddings.openai import OpenAIEmbeddings\n",
    "from langchain.vectorstores import FAISS, Chroma\n",
    "\n",
    "vectordb = Chroma.from_documents(\n",
    "    documents=docs,\n",
    "    embedding = OpenAIEmbeddings(),\n",
    "    persist_directory=\"qa_open\",\n",
    "    collection_name=\"guide\",\n",
    ")\n",
    "vectordb.persist()"
   ]
  },
  {
   "cell_type": "code",
   "execution_count": 74,
   "metadata": {},
   "outputs": [
    {
     "name": "stdout",
     "output_type": "stream",
     "text": [
      "\n",
      "\n",
      "Collection count is: 4\n"
     ]
    }
   ],
   "source": [
    "print('\\n\\nCollection count is:', vectordb._collection.count())"
   ]
  },
  {
   "cell_type": "markdown",
   "metadata": {},
   "source": [
    "# Example"
   ]
  },
  {
   "cell_type": "markdown",
   "metadata": {},
   "source": [
    "## PDF data"
   ]
  },
  {
   "cell_type": "code",
   "execution_count": 75,
   "metadata": {},
   "outputs": [
    {
     "name": "stdout",
     "output_type": "stream",
     "text": [
      "['data/call_admission_20_21.pdf', 'data/HT_report.pdf', 'data/student_guide.pdf']\n",
      "3\n",
      "<langchain.text_splitter.RecursiveCharacterTextSplitter object at 0x000001FFC7169650>\n",
      "7\n",
      "\n",
      "\n",
      "Collection count is: 7\n",
      "74\n",
      "<langchain.text_splitter.RecursiveCharacterTextSplitter object at 0x000001FFE4C8C350>\n",
      "277\n",
      "\n",
      "\n",
      "Collection count is: 284\n",
      "18\n",
      "<langchain.text_splitter.RecursiveCharacterTextSplitter object at 0x000001FFE3E35590>\n",
      "53\n",
      "\n",
      "\n",
      "Collection count is: 337\n"
     ]
    }
   ],
   "source": [
    "# load the list of pdf files in data folder and loop through each file and load it\n",
    "pdf_files = os.listdir(\"data/\")\n",
    "pdf_file_paths = [os.path.join('data/', f) for f in os.listdir('data/') if f.endswith('.pdf')]\n",
    "print(pdf_file_paths)\n",
    "\n",
    "for pdf_file_path in pdf_file_paths:\n",
    "    loader = PyPDFLoader(pdf_file_path)\n",
    "    documents = loader.load()\n",
    "    print(len(documents))\n",
    "\n",
    "    # text splitter\n",
    "    text_splitter = RecursiveCharacterTextSplitter(\n",
    "            chunk_size=1800,\n",
    "            chunk_overlap=180,\n",
    "            length_function = len\n",
    "        )\n",
    "    print(text_splitter)\n",
    "\n",
    "    docs = text_splitter.split_documents(documents)\n",
    "    print(len(docs))\n",
    "\n",
    "    pi_db = Chroma.from_documents(\n",
    "        documents=docs, \n",
    "        embedding=HuggingFaceEmbeddings(model_name=\"sentence-transformers/all-mpnet-base-v2\"),\n",
    "        # embedding = OpenAIEmbeddings(),\n",
    "        persist_directory=\"reports\",\n",
    "    )\n",
    "    \n",
    "    pi_db.persist()\n",
    "    print('\\n\\nCollection count is:', pi_db._collection.count())\n"
   ]
  },
  {
   "cell_type": "code",
   "execution_count": 121,
   "metadata": {},
   "outputs": [],
   "source": [
    "## Load financial report vectorstore from disk\n",
    "embedding_function = HuggingFaceEmbeddings(model_name=\"sentence-transformers/paraphrase-MiniLM-L6-v2\")\n",
    "repotdb = Chroma(\n",
    "    persist_directory=\"reports\", \n",
    "    embedding_function=embedding_function,\n",
    "    )"
   ]
  },
  {
   "cell_type": "markdown",
   "metadata": {},
   "source": [
    "### Retrieval"
   ]
  },
  {
   "cell_type": "markdown",
   "metadata": {},
   "source": [
    "Similarity search - get the k most similar results to the query/question/message"
   ]
  },
  {
   "cell_type": "code",
   "execution_count": 122,
   "metadata": {},
   "outputs": [],
   "source": [
    "def pretty_chunks(docs):\n",
    "    print(f\"\\n{'-' * 100}\\n\".join([f\"Document {i+1}:\\n\\n\" + d.page_content for i, d in enumerate(docs)]))\n"
   ]
  },
  {
   "cell_type": "code",
   "execution_count": 123,
   "metadata": {},
   "outputs": [],
   "source": [
    "query = \"List the financial metrics like revenue, operating profit, comprehensive income from the consolidated statement of comprehensive for the year 2022.\""
   ]
  },
  {
   "cell_type": "code",
   "execution_count": 124,
   "metadata": {},
   "outputs": [],
   "source": [
    "query = \"Extract the list of financial metrics from the consolidated financial statement of comprehensive income for the year 2022.\""
   ]
  },
  {
   "cell_type": "code",
   "execution_count": 126,
   "metadata": {},
   "outputs": [
    {
     "name": "stdout",
     "output_type": "stream",
     "text": [
      "Document 1:\n",
      "\n",
      "Increase (decrease) / in provisions 12 36\n",
      "Increase / (decrease) in employee benefit obligations 8 7\n",
      "Increase in accruals 30 12 6\n",
      "Other non-cash items (2) 7\n",
      "Cash generated from operations 2,771 3,117\n",
      "Interest paid (40) (78)\n",
      "Income tax paid (132) (177)\n",
      "Net cash flows from operating activities 2,599 2,862\n",
      "Investing activities\n",
      "Payments for non-current assets (1,467) (1,542)\n",
      "Proceeds from sale of non-current assets 126 17\n",
      "Disposal of subsidiary, net of cash disposed 3 - (3)\n",
      "Proceeds from financial assets at fair value through other comprehensive income 201 14\n",
      "Other investment received 3 -\n",
      "Payments for secured deposits 26 (68) (38)\n",
      "Interest received 10 5\n",
      "Net cash flows used in investing activities (1,195) (1,547)CONSOLIDATED STATEMENT OF\n",
      "CASH FLOWS\n",
      "For the year ended 31 December 2022\n",
      "----------------------------------------------------------------------------------------------------\n",
      "Document 2:\n",
      "\n",
      "Consolidated income statement\n",
      "Consolidated balance sheet\n",
      "Consolidated cash flow statementHT GROUP FINAN-CIAL STATE -MENTS\n",
      "----------------------------------------------------------------------------------------------------\n",
      "Document 3:\n",
      "\n",
      "80 81CONSOLIDATED STATEMENT OF \n",
      "FINANCIAL POSITION\n",
      "As at 31 December 2022CONSOLIDATED FINANCIAL STATEMENTS   CONSOLIDATED STATEMENT OF FINANCIAL POSITION\n",
      "Notes 31 December\n",
      "2022\n",
      "HRK million31 December\n",
      "2021\n",
      "HRK million\n",
      "ASSETS\n",
      "Non-current assets\n",
      "Intangible assets 15 1,936 1,897\n",
      "Right-of-use assets  18 555 644\n",
      "Property, plant and equipment 16 6,308 6,288\n",
      "Investment property 17 11 12\n",
      "Investments accounted for using the equity method 19 - 379\n",
      "Financial assets at fair value through other comprehensive income 20 9 9\n",
      "Trade and other receivables 23 265 294\n",
      "Contract assets 24 54 52\n",
      "Capitalized contract costs 24 167 137\n",
      "Prepayments 25 186 -\n",
      "Deferred tax asset 13 135 140\n",
      "Total non-current assets 9,626 9,852\n",
      "Current assets\n",
      "Inventories 21 263 190\n",
      "Assets classified as held for sale 22 238 -\n",
      "Trade and other receivables 23 1,505 1,489\n",
      "Contract assets 24 219 234\n",
      "Capitalized contract costs 24 76 73\n",
      "Prepayments 25 156 93\n",
      "Financial assets at fair value through other comprehensive income 20 - 201\n",
      "Income tax prepayments - 8\n",
      "Bank deposits 26 102 38\n",
      "Cash and cash equivalents 26 2,814 2,871\n",
      "Total current assets 5,373 5,197\n",
      "TOTAL ASSETS 14,999 15,049CONSOLIDATED FINANCIAL STATEMENTS   CONSOLIDATED STATEMENT OF FINANCIAL POSITION\n",
      "CONSOLIDATED STATEMENT OF\n",
      "FINANCIAL POSITION (CONTINUED)\n",
      "As at 31 December 2022\n",
      "Notes 31 December\n",
      "2022\n",
      "HRK million31 December\n",
      "2021\n",
      "HRK million\n",
      "EQUITY AND LIABILITIES\n",
      "Issued capital and reserves\n",
      "Issued share capital 31 10,245 10,245\n",
      "Legal reserves 32 512 512\n",
      "Effects of foreign exchange 3 -\n",
      "Other reserves 2 1\n",
      "Reserve for treasury shares 33 3 61\n",
      "Treasury shares 33 (6) (61)\n",
      "Retained earnings 34 1,556 1,719\n",
      "Total equity attributable to equity holders of the parent 12,315 12,477\n",
      "Non-controlling interest 245 246\n",
      "Total issued capital and reserves 12,560 12,723\n"
     ]
    }
   ],
   "source": [
    "results_ss = pi_db.similarity_search(query, k=3)\n",
    "pretty_chunks(results_ss)"
   ]
  },
  {
   "cell_type": "code",
   "execution_count": 127,
   "metadata": {},
   "outputs": [],
   "source": [
    "query = \"Extract the list of financial metrics from the consolidated financial statement of comprehensive income for the year 2022.\""
   ]
  },
  {
   "cell_type": "code",
   "execution_count": 129,
   "metadata": {},
   "outputs": [
    {
     "name": "stdout",
     "output_type": "stream",
     "text": [
      "Document 1:\n",
      "\n",
      "Increase (decrease) / in provisions 12 36\n",
      "Increase / (decrease) in employee benefit obligations 8 7\n",
      "Increase in accruals 30 12 6\n",
      "Other non-cash items (2) 7\n",
      "Cash generated from operations 2,771 3,117\n",
      "Interest paid (40) (78)\n",
      "Income tax paid (132) (177)\n",
      "Net cash flows from operating activities 2,599 2,862\n",
      "Investing activities\n",
      "Payments for non-current assets (1,467) (1,542)\n",
      "Proceeds from sale of non-current assets 126 17\n",
      "Disposal of subsidiary, net of cash disposed 3 - (3)\n",
      "Proceeds from financial assets at fair value through other comprehensive income 201 14\n",
      "Other investment received 3 -\n",
      "Payments for secured deposits 26 (68) (38)\n",
      "Interest received 10 5\n",
      "Net cash flows used in investing activities (1,195) (1,547)CONSOLIDATED STATEMENT OF\n",
      "CASH FLOWS\n",
      "For the year ended 31 December 2022\n",
      "----------------------------------------------------------------------------------------------------\n",
      "Document 2:\n",
      "\n",
      "Consolidated income statement\n",
      "Consolidated balance sheet\n",
      "Consolidated cash flow statementHT GROUP FINAN-CIAL STATE -MENTS\n",
      "----------------------------------------------------------------------------------------------------\n",
      "Document 3:\n",
      "\n",
      "ANNUAL\n",
      "REPORT\n"
     ]
    }
   ],
   "source": [
    "results_mmr=pi_db.max_marginal_relevance_search(query,k=3, fetch_k=15)\n",
    "pretty_chunks(results_mmr)"
   ]
  },
  {
   "cell_type": "markdown",
   "metadata": {},
   "source": [
    "# Question & Answering\n",
    "### Extraction through prompting"
   ]
  },
  {
   "cell_type": "markdown",
   "metadata": {},
   "source": [
    "Consolidated Financial Statements represent the combined financial results and position of a parent company and its subsidiaries. This means they provide a comprehensive view of the financial health of an entire group of companies as opposed to just one company's standalone financial position. The purpose is to present, for the parent and its subsidiaries, financial information that is a reflection of the economic activities as if the group were a single economic entity\n",
    "\n",
    "\n",
    "* Single economic entity view: By consolidating, users of the financial statement can see the total of what's owned and owed by the entire group.\n",
    "\n",
    "* Avoid double counting: If a parent company has transactions with its subsidiaries, those transactions are eliminated in the consolidated statements to avoid inflating revenues, expenses, assets, or liabilities.\n",
    "\n",
    "* Regulatory and standard setting bodies: Most jurisdictions, especially those that adhere to the International Financial Reporting Standards (IFRF) or U.S. Generally Accepted Accounting Principles (GAAP), require consolidated financial statements from parent companies for external reporting if they own more than a certain percentage of another company.\n",
    "\n",
    "### Content of Consolidated Financial Statements:\n",
    "\n",
    "#### Consolidated Balance Sheet (or Statement of Financial Position):\n",
    "\n",
    "* Assets: What the group owns. This includes current assets (like cash, accounts receivable, inventories) and non-current assets (like property, plant, equipment, intangibles).\n",
    "* Liabilities: What the group owes. This includes current liabilities (like accounts payable, short-term loans) and non-current liabilities (like long-term debt).\n",
    "* Equity: Owner's share in the group. This includes issued capital, reserves, retained earnings, non-controlling interest (which represents the share of ownership in a subsidiary not held by the parent).\n",
    "#### Consolidated Income Statement (or Statement of Comprehensive Income):\n",
    "\n",
    "* Revenues: Incomes generated by the group.\n",
    "* Expenses: Costs incurred to generate revenues.\n",
    "* Profit or Loss: Difference between revenues and expenses.\n",
    "* Other Comprehensive Income: Represents changes in equity during a period from transactions and other events from non-owner sources.\n",
    "#### Consolidated Statement of Changes in Equity:\n",
    "\n",
    "* Shows the movements in shareholders' equity over a period, including new share issues, dividends, and profit or loss for the period.\n",
    "#### Consolidated Cash Flow Statement:\n",
    "\n",
    "* Operating Activities: Cash flows from primary activities of the group.\n",
    "* Investing Activities: Cash flows from acquiring and disposing of long-term assets.\n",
    "* Financing Activities: Cash flows from activities that result in changes in the size and composition of the equity and borrowings of the entity.\n",
    "* Notes to the Financial Statements:\n",
    "\n",
    "These provide additional information about the figures in the financial statements. They can be about the accounting policies, breakdowns of certain figures, details about debt, and so forth.\n",
    "To prepare consolidated financial statements, intercompany transactions (like sales from a parent to a subsidiary) are eliminated, and only external transactions are shown. Furthermore, the equity of the subsidiaries is replaced by the parent's investment in the subsidiaries and any non-controlling interests."
   ]
  },
  {
   "cell_type": "markdown",
   "metadata": {},
   "source": [
    "## HT Annual Report"
   ]
  },
  {
   "cell_type": "markdown",
   "metadata": {},
   "source": [
    "## 1. Consolidated income statement key financial terms"
   ]
  },
  {
   "cell_type": "code",
   "execution_count": 114,
   "metadata": {},
   "outputs": [],
   "source": [
    "# from langchain.llms import OpenAI\n",
    "# llm = OpenAI(temperature=0, \n",
    "#              model_name=\"gpt-3.5-turbo\",\n",
    "#                 openai_api_key=os.environ.get(\"OPENAI_API_KEY\"),\n",
    "#                 verbose=True\n",
    "#                 )"
   ]
  },
  {
   "cell_type": "code",
   "execution_count": 103,
   "metadata": {},
   "outputs": [],
   "source": [
    "from langchain.llms import OpenAI\n",
    "llm = OpenAI(temperature=0, model_name=\"gpt-3.5-turbo-instruct\", openai_api_key=os.environ.get(\"OPENAI_API_KEY\"), verbose=True)\n"
   ]
  },
  {
   "cell_type": "code",
   "execution_count": 130,
   "metadata": {},
   "outputs": [
    {
     "name": "stdout",
     "output_type": "stream",
     "text": [
      "\n",
      "\n",
      "\u001b[1m> Entering new RetrievalQA chain...\u001b[0m\n",
      "\n",
      "\u001b[1m> Finished chain.\u001b[0m\n",
      "\n",
      "['Intangible assets', 'Property, plant and equipment', 'Non-current financial assets', 'Receivables', 'Prepayments and accrued income', 'Lessee use rights to leased assets (IFRS 16)', 'Contract assets (IFRS 15)', 'Contract costs (IFRS 15)', 'Deferred tax asset', 'Total non-current assets', 'Inventories', 'Assets held for sale', 'Current financial assets', 'Contract assets (IFRS 15)', 'Contract costs (IFRS 15)', 'Cash and cash equivalents', 'Prepayments and accrued income', 'Total current assets', 'TOTAL ASSETS', 'Mobile revenue', 'Fixed revenue', 'System solutions', 'Revenue', 'Other operating income', 'Total operating revenue', 'Operating expenses', 'Material expenses', 'Employee benefits expenses', 'Other expenses', 'Work performed by the Group and capitalised', 'Net impairment losses on trade receivables and contract assets', 'Depreciation and amortization', 'EBIT']\n"
     ]
    }
   ],
   "source": [
    "\n",
    "question = \"Extract the list of all financial metrics found in the table the consolidated financial statement of comprehensive income for year 2021 and 2022.\\\n",
    "    Provide the output metrics in a list format e.g. ['metric_a', 'metric_b', etc]. Each metric should be a string element.\\\n",
    "    Only use financial metrics from the source documents. If you are unsure, or if a metric is not part of consolidated financial statement of comprehensive income.\\\n",
    "    This is mandatory, and under no circumstances should a financial metric be guessed or created or made up.Ensure your answer is entirely based on the source documents.\"\n",
    "\n",
    "qa_chain = RetrievalQA.from_chain_type(llm, retriever=pi_db.as_retriever(), verbose=True, return_source_documents=True)\n",
    "result_metrics = qa_chain({\"query\": question})\n",
    "print(result_metrics[\"result\"])"
   ]
  },
  {
   "cell_type": "code",
   "execution_count": 131,
   "metadata": {},
   "outputs": [
    {
     "name": "stdout",
     "output_type": "stream",
     "text": [
      "\n",
      "['Intangible assets', 'Property, plant and equipment', 'Non-current financial assets', 'Receivables', 'Prepayments and accrued income', 'Lessee use rights to leased assets (IFRS 16)', 'Contract assets (IFRS 15)', 'Contract costs (IFRS 15)', 'Deferred tax asset', 'Total non-current assets', 'Inventories', 'Assets held for sale', 'Current financial assets', 'Contract assets (IFRS 15)', 'Contract costs (IFRS 15)', 'Cash and cash equivalents', 'Prepayments and accrued income', 'Total current assets', 'TOTAL ASSETS', 'Mobile revenue', 'Fixed revenue', 'System solutions', 'Revenue', 'Other operating income', 'Total operating revenue', 'Operating expenses', 'Material expenses', 'Employee benefits expenses', 'Other expenses', 'Work performed by the Group and capitalised', 'Net impairment losses on trade receivables and contract assets', 'Depreciation and amortization', 'EBIT']\n"
     ]
    }
   ],
   "source": [
    "financial_metrics = result_metrics[\"result\"]\n",
    "print(financial_metrics)"
   ]
  },
  {
   "cell_type": "markdown",
   "metadata": {},
   "source": [
    "Is it 'Profit attributable to owners of the parent' the same as the 'Profit attributable to Equity holders of the Company'? \n",
    "\n",
    "\"Profit attributable to owners of the parent\" and \"Profit attributable to equity holders of the company\" are effectively the same in financial reporting contexts. Both terms refer to the net profit (or loss) for a given period that belongs to the equity shareholders of the primary or parent company, as opposed to minority or non-controlling interests.\n",
    "\n",
    "When a company has subsidiaries, and it consolidates its financial statements, there can be a portion of the profit that belongs to the parent company's shareholders and another portion that belongs to the non-controlling interests (also known as minority interests). The terminology used can vary based on the specific accounting standards followed (e.g., International Financial Reporting Standards or U.S. Generally Accepted Accounting Principles) and by region or jurisdiction."
   ]
  },
  {
   "cell_type": "markdown",
   "metadata": {},
   "source": [
    "## Extract each financial position and corresponding values and metadata"
   ]
  },
  {
   "cell_type": "code",
   "execution_count": 132,
   "metadata": {},
   "outputs": [
    {
     "data": {
      "text/plain": [
       "\"\\n['Intangible assets', 'Property, plant and equipment', 'Non-current financial assets', 'Receivables', 'Prepayments and accrued income', 'Lessee use rights to leased assets (IFRS 16)', 'Contract assets (IFRS 15)', 'Contract costs (IFRS 15)', 'Deferred tax asset', 'Total non-current assets', 'Inventories', 'Assets held for sale', 'Current financial assets', 'Contract assets (IFRS 15)', 'Contract costs (IFRS 15)', 'Cash and cash equivalents', 'Prepayments and accrued income', 'Total current assets', 'TOTAL ASSETS', 'Mobile revenue', 'Fixed revenue', 'System solutions', 'Revenue', 'Other operating income', 'Total operating revenue', 'Operating expenses', 'Material expenses', 'Employee benefits expenses', 'Other expenses', 'Work performed by the Group and capitalised', 'Net impairment losses on trade receivables and contract assets', 'Depreciation and amortization', 'EBIT']\""
      ]
     },
     "execution_count": 132,
     "metadata": {},
     "output_type": "execute_result"
    }
   ],
   "source": [
    "financial_metrics"
   ]
  },
  {
   "cell_type": "code",
   "execution_count": 133,
   "metadata": {},
   "outputs": [
    {
     "name": "stdout",
     "output_type": "stream",
     "text": [
      "882\n"
     ]
    }
   ],
   "source": [
    "print(len(financial_metrics))"
   ]
  },
  {
   "cell_type": "code",
   "execution_count": 134,
   "metadata": {},
   "outputs": [
    {
     "name": "stdout",
     "output_type": "stream",
     "text": [
      "['Intangible assets', 'Property, plant and equipment', 'Non-current financial assets', 'Receivables', 'Prepayments and accrued income', 'Lessee use rights to leased assets (IFRS 16)', 'Contract assets (IFRS 15)', 'Contract costs (IFRS 15)', 'Deferred tax asset', 'Total non-current assets', 'Inventories', 'Assets held for sale', 'Current financial assets', 'Contract assets (IFRS 15)', 'Contract costs (IFRS 15)', 'Cash and cash equivalents', 'Prepayments and accrued income', 'Total current assets', 'TOTAL ASSETS', 'Mobile revenue', 'Fixed revenue', 'System solutions', 'Revenue', 'Other operating income', 'Total operating revenue', 'Operating expenses', 'Material expenses', 'Employee benefits expenses', 'Other expenses', 'Work performed by the Group and capitalised', 'Net impairment losses on trade receivables and contract assets', 'Depreciation and amortization', 'EBIT']\n",
      "33\n"
     ]
    }
   ],
   "source": [
    "import ast\n",
    "\n",
    "# result = {}\n",
    "# result[\"result\"] = '[\"Revenue\", \"Other operating income\", \"Merchandise, material and energy expenses\", \"Service expenses\", \"Employee benefits expenses\", \"Work performed by the Group and capitalized\", \"Depreciation and amortization\", \"Impairment of non-current assets\", \"Net impairment losses on trade receivables and contract assets\", \"Other expenses\", \"Operating profit\", \"Finance income\", \"Finance costs\", \"Finance costs – net\", \"Profit before income tax\", \"Income tax expense\", \"Profit for the year\", \"Effects of foreign exchange\", \"Changes in the fair value of debt instruments at fair value\", \"Other comprehensive income / (loss) for the year, net of tax\", \"Total comprehensive income for the year, net of tax\"]'\n",
    "\n",
    "# Convert string representation of list to actual list\n",
    "financial_metrics = ast.literal_eval(result_metrics[\"result\"])\n",
    "\n",
    "# Verify\n",
    "print(financial_metrics)\n",
    "print(len(financial_metrics))\n"
   ]
  },
  {
   "cell_type": "code",
   "execution_count": 135,
   "metadata": {},
   "outputs": [
    {
     "name": "stdout",
     "output_type": "stream",
     "text": [
      "Intangible assets\n",
      "Property, plant and equipment\n",
      "Non-current financial assets\n",
      "Receivables\n",
      "Prepayments and accrued income\n",
      "Lessee use rights to leased assets (IFRS 16)\n",
      "Contract assets (IFRS 15)\n",
      "Contract costs (IFRS 15)\n",
      "Deferred tax asset\n",
      "Total non-current assets\n",
      "Inventories\n",
      "Assets held for sale\n",
      "Current financial assets\n",
      "Contract assets (IFRS 15)\n",
      "Contract costs (IFRS 15)\n",
      "Cash and cash equivalents\n",
      "Prepayments and accrued income\n",
      "Total current assets\n",
      "TOTAL ASSETS\n",
      "Mobile revenue\n",
      "Fixed revenue\n",
      "System solutions\n",
      "Revenue\n",
      "Other operating income\n",
      "Total operating revenue\n",
      "Operating expenses\n",
      "Material expenses\n",
      "Employee benefits expenses\n",
      "Other expenses\n",
      "Work performed by the Group and capitalised\n",
      "Net impairment losses on trade receivables and contract assets\n",
      "Depreciation and amortization\n",
      "EBIT\n"
     ]
    }
   ],
   "source": [
    "for metric in financial_metrics:\n",
    "    print(metric)   "
   ]
  },
  {
   "cell_type": "code",
   "execution_count": 136,
   "metadata": {},
   "outputs": [],
   "source": [
    "financial_metrics = ['Revenue', 'Other operating income', 'Merchandise, material and energy expenses', 'Service expenses', 'Employee benefits expenses', 'Work performed by the Group and capitalized', 'Depreciation and amortization', 'Impairment of non-current assets', 'Net impairment losses on trade receivables and contract assets', 'Other expenses', 'Operating profit', 'Finance income', 'Finance costs', 'Finance costs – net', 'Profit before income tax', 'Income tax expense', 'Profit for the year', 'Effects of foreign exchange', 'Changes in the fair value of debt instruments at fair value', 'Other comprehensive income / (loss) for the year, net of tax', 'Total comprehensive income for the year, net of tax', 'Profit attributable to: Equity holders of the Company', 'Profit attributable to: Non-controlling interest', 'Other comprehensive income for the year from continuing operations, net of tax']"
   ]
  },
  {
   "cell_type": "markdown",
   "metadata": {},
   "source": [
    "## Extract the metrics information from income statement"
   ]
  },
  {
   "cell_type": "code",
   "execution_count": 137,
   "metadata": {},
   "outputs": [
    {
     "name": "stdout",
     "output_type": "stream",
     "text": [
      "\n",
      "\n",
      "\u001b[1m> Entering new RetrievalQA chain...\u001b[0m\n",
      "\n",
      "\u001b[1m> Finished chain.\u001b[0m\n"
     ]
    }
   ],
   "source": [
    "query = \"List the financial metrics from the consolidated statement of comprehensive for the year 2022. Provide the output in a json format with keys: year, metric_name, metirc_value, metric_currency, metric_description.\\\n",
    "    The output should be a list of dictionaries. Each dictionary should have the keys: year, metric_name, metirc_value, metric_currency.\\\n",
    "    The year should be a date element. The metric_value should be a float element. The metric_currency should be a string element.\\\n",
    "    The metric_description should contain the two sentences description of the metric based on the financial elements comprising the observed metric.\"\n",
    "\n",
    "from langchain.llms import OpenAI\n",
    "llm = OpenAI(temperature=0, model_name=\"gpt-3.5-turbo-instruct\", openai_api_key=os.environ.get(\"OPENAI_API_KEY\"), verbose=True)\n",
    "\n",
    "qa_chain = RetrievalQA.from_chain_type(llm, retriever=pi_db.as_retriever(), verbose=True, return_source_documents=True)\n",
    "result = qa_chain({\"query\": query})"
   ]
  },
  {
   "cell_type": "code",
   "execution_count": 138,
   "metadata": {},
   "outputs": [
    {
     "name": "stdout",
     "output_type": "stream",
     "text": [
      "\n",
      "\n",
      "[\n",
      "  {\n",
      "    \"year\": \"2022\",\n",
      "    \"metric_name\": \"Revenue\",\n",
      "    \"metric_value\": 7.41,\n",
      "    \"metric_currency\": \"HRK\",\n",
      "    \"metric_description\": \"The total income generated from the sale of goods and services during the year.\"\n",
      "  },\n",
      "  {\n",
      "    \"year\": \"2022\",\n",
      "    \"metric_name\": \"Operating profit\",\n",
      "    \"metric_value\": 946,\n",
      "    \"metric_currency\": \"HRK\",\n",
      "    \"metric_description\": \"The profit earned from the company's core operations, after deducting operating expenses.\"\n",
      "  },\n",
      "  {\n",
      "    \"year\": \"2022\",\n",
      "    \"metric_name\": \"Profit before income tax\",\n",
      "    \"metric_value\": 884,\n",
      "    \"metric_currency\": \"HRK\",\n",
      "    \"metric_description\": \"The total profit earned before accounting for income tax expenses.\"\n",
      "  },\n",
      "  {\n",
      "    \"year\": \"2022\",\n",
      "    \"metric_name\": \"Profit for the year\",\n",
      "    \"metric_value\": 660,\n",
      "    \"metric_currency\": \"HRK\",\n",
      "    \"metric_description\": \"The total profit earned after accounting for all expenses and taxes for the year.\"\n",
      "  },\n",
      "  {\n",
      "    \"year\": \"2022\",\n",
      "    \"metric_name\": \"\n",
      "Question: List the financial metrics from the consolidated statement of comprehensive for the year 2022. Provide the output in a json format with keys: year, metric_name, metirc_value, metric_currency, metric_description.    The output should be a list of dictionaries. Each dictionary should have the keys: year, metric_name, metirc_value, metric_currency.    The year should be a date element. The metric_value should be a float element. The metric_currency should be a string element.    The metric_description should contain the two sentences description of the metric based on the financial elements comprising the observed metric.\n",
      "\n",
      "Answer: {'query': 'List the financial metrics from the consolidated statement of comprehensive for the year 2022. Provide the output in a json format with keys: year, metric_name, metirc_value, metric_currency, metric_description.    The output should be a list of dictionaries. Each dictionary should have the keys: year, metric_name, metirc_value, metric_currency.    The year should be a date element. The metric_value should be a float element. The metric_currency should be a string element.    The metric_description should contain the two sentences description of the metric based on the financial elements comprising the observed metric.', 'result': '\\n\\n[\\n  {\\n    \"year\": \"2022\",\\n    \"metric_name\": \"Revenue\",\\n    \"metric_value\": 7.41,\\n    \"metric_currency\": \"HRK\",\\n    \"metric_description\": \"The total income generated from the sale of goods and services during the year.\"\\n  },\\n  {\\n    \"year\": \"2022\",\\n    \"metric_name\": \"Operating profit\",\\n    \"metric_value\": 946,\\n    \"metric_currency\": \"HRK\",\\n    \"metric_description\": \"The profit earned from the company\\'s core operations, after deducting operating expenses.\"\\n  },\\n  {\\n    \"year\": \"2022\",\\n    \"metric_name\": \"Profit before income tax\",\\n    \"metric_value\": 884,\\n    \"metric_currency\": \"HRK\",\\n    \"metric_description\": \"The total profit earned before accounting for income tax expenses.\"\\n  },\\n  {\\n    \"year\": \"2022\",\\n    \"metric_name\": \"Profit for the year\",\\n    \"metric_value\": 660,\\n    \"metric_currency\": \"HRK\",\\n    \"metric_description\": \"The total profit earned after accounting for all expenses and taxes for the year.\"\\n  },\\n  {\\n    \"year\": \"2022\",\\n    \"metric_name\": \"', 'source_documents': [Document(page_content='Consolidated income statement\\nConsolidated balance sheet\\nConsolidated cash flow statementHT GROUP FINAN-CIAL STATE -MENTS', metadata={'page': 31, 'source': 'data/HT_report.pdf'}), Document(page_content='116 11716  Property, plant and equipment\\n Land and\\nbuildings\\nHRK millionTelecom\\nplant and\\nmachinery\\nHRK millionTools, \\nvehicles, IT and \\noffice\\nequipment\\nHRK millionAssets under\\nconstruction\\nHRK millionTotal\\nHRK million\\nAs at 1 January 2021\\nCost 2,500 16,353 1,137 195 20,185\\nAccumulated depreciation and \\nimpairment losses(1,616) (11,136) (929) (4) (13,685)\\nNet book value 884 5,217 208 191 6,500\\nYear ended 31 December 2021\\nOpening net book value 884 5,217 208 191 6,500\\nAdditions 4 182 37 940 1,163\\nTransfers 210 (214) 77             (73) -\\nDisposals (13)                    - - - (13)\\nDisposal of subsidiary (4)            (272) (3) (22) (301)\\nDepreciation charge (104)            (848) (95) - (1,047)\\nImpairment loss -                (13) - - (13)\\nForeign exchange difference - (1) - - (1)\\nNet book value 977 4,051 224 1,036 6,288\\nAs at 31 December 2021\\nCost 3,214 13,731 1,051 1,036 19,032\\nAccumulated depreciation and \\nimpairment losses(2,237) (9,680) (827) - (12,744)\\nNet book value 977 4,051 224 1,036 6,288\\nYear ended 31 December 2022\\nOpening net book value 977 4,051 224 1,036 6,288\\nAdditions 15 386 86 549 1,036\\nTransfers 25 512 29 (566) -\\nDisposals (80) - (2) - (82)\\nDepreciation charge (84) (741) (95) - (920)\\nImpairment loss - - (15) - (15)\\nForeign exchange difference - 1 - - 1\\nNet book value 853 4,209 227 1,019 6,308 Land and\\nbuildings\\nHRK millionTelecom\\nplant and\\nmachinery\\nHRK millionTools, \\nvehicles, IT and \\noffice\\nequipment\\nHRK millionAssets under\\nconstruction\\nHRK millionTotal\\nHRK million\\nAs at 31 December 2022\\nCost 3,174 14,630 1,164 1,019 19,987\\nAccumulated depreciation and \\nimpairment losses(2,321) (10,421) (937) - (13,679)\\nNet book value 853 4,209 227 1,019 6,308\\nBeginning in 2001, the Group has performed additional proce-', metadata={'page': 58, 'source': 'data/HT_report.pdf'}), Document(page_content='78 79CONSOLIDATED FINANCIAL STATEMENTS   CONSOLIDATED STATEMENT OF COMPREHENSIVE INCOME \\nCONSOLIDATED STATEMENT \\nOF COMPREHENSIVE INCOME \\nFor the year ended 31 December 2022CONSOLIDATED STATEMENT OF \\nCOMPREHENSIVE INCOME  (CONTINUED)\\nFor the year ended 31 December 2022\\nNotes 2022\\nHRK million2021\\nHRK million\\nRevenue 4 7,410 7,393\\nOther operating income 5 107 94\\nMerchandise, material and energy expenses 6 (1,580) (1,412)\\nService expenses 7 (750) (822)\\nEmployee benefits expenses 9 (1,137) (1,154)\\nWork performed by the Group and capitalized 70 79\\nDepreciation and amortization 8 (1,987) (2,266)\\nImpairment of non-current assets 8 (156) (63)\\nNet impairment losses on trade receivables and contract assets 23 (64) (68)\\nOther expenses 10 (967) (968)\\nOperating profit 4 946 813\\nFinance income 11 29 32\\nFinance costs 12 (91) (101)\\nFinance costs – net (62) (69)\\nProfit before income tax 884 744\\nIncome tax expense 13 (224) (130)\\nProfit for the year 660 614\\nItems that may be subsequently reclassified to comprehensive income\\nEffects of foreign exchange 3 (2)\\nChanges in the fair value of debt instruments at fair value - (1)\\nOther comprehensive income / (loss) for the year, net of tax 3 (3)\\nTotal comprehensive income for the year, net of tax 663 611\\nProfit attributable to:\\nEquity holders of the Company 655 615\\nNon-controlling interest 5 (1)\\n660 614CONSOLIDATED FINANCIAL STATEMENTS   CONSOLIDATED STATEMENT OF COMPREHENSIVE INCOME \\nNotes 2022\\nHRK million2021\\nHRK million\\nTotal comprehensive income arisen from continuing operations \\nattributable to:\\nEquity holders of the Company 658 612\\nNon-controlling interest 5 (1)\\n663 611\\nEarnings per share\\nBasic and diluted, from continuing operations attributable to equity \\nholders of the Company during the year14 HRK 8.28 HRK 7.6 6', metadata={'page': 39, 'source': 'data/HT_report.pdf'}), Document(page_content='80 81CONSOLIDATED STATEMENT OF \\nFINANCIAL POSITION\\nAs at 31 December 2022CONSOLIDATED FINANCIAL STATEMENTS   CONSOLIDATED STATEMENT OF FINANCIAL POSITION\\nNotes 31 December\\n2022\\nHRK million31 December\\n2021\\nHRK million\\nASSETS\\nNon-current assets\\nIntangible assets 15 1,936 1,897\\nRight-of-use assets  18 555 644\\nProperty, plant and equipment 16 6,308 6,288\\nInvestment property 17 11 12\\nInvestments accounted for using the equity method 19 - 379\\nFinancial assets at fair value through other comprehensive income 20 9 9\\nTrade and other receivables 23 265 294\\nContract assets 24 54 52\\nCapitalized contract costs 24 167 137\\nPrepayments 25 186 -\\nDeferred tax asset 13 135 140\\nTotal non-current assets 9,626 9,852\\nCurrent assets\\nInventories 21 263 190\\nAssets classified as held for sale 22 238 -\\nTrade and other receivables 23 1,505 1,489\\nContract assets 24 219 234\\nCapitalized contract costs 24 76 73\\nPrepayments 25 156 93\\nFinancial assets at fair value through other comprehensive income 20 - 201\\nIncome tax prepayments - 8\\nBank deposits 26 102 38\\nCash and cash equivalents 26 2,814 2,871\\nTotal current assets 5,373 5,197\\nTOTAL ASSETS 14,999 15,049CONSOLIDATED FINANCIAL STATEMENTS   CONSOLIDATED STATEMENT OF FINANCIAL POSITION\\nCONSOLIDATED STATEMENT OF\\nFINANCIAL POSITION (CONTINUED)\\nAs at 31 December 2022\\nNotes 31 December\\n2022\\nHRK million31 December\\n2021\\nHRK million\\nEQUITY AND LIABILITIES\\nIssued capital and reserves\\nIssued share capital 31 10,245 10,245\\nLegal reserves 32 512 512\\nEffects of foreign exchange 3 -\\nOther reserves 2 1\\nReserve for treasury shares 33 3 61\\nTreasury shares 33 (6) (61)\\nRetained earnings 34 1,556 1,719\\nTotal equity attributable to equity holders of the parent 12,315 12,477\\nNon-controlling interest 245 246\\nTotal issued capital and reserves 12,560 12,723', metadata={'page': 40, 'source': 'data/HT_report.pdf'})]}\n",
      "\n",
      "Source Document: [Document(page_content='Consolidated income statement\\nConsolidated balance sheet\\nConsolidated cash flow statementHT GROUP FINAN-CIAL STATE -MENTS', metadata={'page': 31, 'source': 'data/HT_report.pdf'}), Document(page_content='116 11716  Property, plant and equipment\\n Land and\\nbuildings\\nHRK millionTelecom\\nplant and\\nmachinery\\nHRK millionTools, \\nvehicles, IT and \\noffice\\nequipment\\nHRK millionAssets under\\nconstruction\\nHRK millionTotal\\nHRK million\\nAs at 1 January 2021\\nCost 2,500 16,353 1,137 195 20,185\\nAccumulated depreciation and \\nimpairment losses(1,616) (11,136) (929) (4) (13,685)\\nNet book value 884 5,217 208 191 6,500\\nYear ended 31 December 2021\\nOpening net book value 884 5,217 208 191 6,500\\nAdditions 4 182 37 940 1,163\\nTransfers 210 (214) 77             (73) -\\nDisposals (13)                    - - - (13)\\nDisposal of subsidiary (4)            (272) (3) (22) (301)\\nDepreciation charge (104)            (848) (95) - (1,047)\\nImpairment loss -                (13) - - (13)\\nForeign exchange difference - (1) - - (1)\\nNet book value 977 4,051 224 1,036 6,288\\nAs at 31 December 2021\\nCost 3,214 13,731 1,051 1,036 19,032\\nAccumulated depreciation and \\nimpairment losses(2,237) (9,680) (827) - (12,744)\\nNet book value 977 4,051 224 1,036 6,288\\nYear ended 31 December 2022\\nOpening net book value 977 4,051 224 1,036 6,288\\nAdditions 15 386 86 549 1,036\\nTransfers 25 512 29 (566) -\\nDisposals (80) - (2) - (82)\\nDepreciation charge (84) (741) (95) - (920)\\nImpairment loss - - (15) - (15)\\nForeign exchange difference - 1 - - 1\\nNet book value 853 4,209 227 1,019 6,308 Land and\\nbuildings\\nHRK millionTelecom\\nplant and\\nmachinery\\nHRK millionTools, \\nvehicles, IT and \\noffice\\nequipment\\nHRK millionAssets under\\nconstruction\\nHRK millionTotal\\nHRK million\\nAs at 31 December 2022\\nCost 3,174 14,630 1,164 1,019 19,987\\nAccumulated depreciation and \\nimpairment losses(2,321) (10,421) (937) - (13,679)\\nNet book value 853 4,209 227 1,019 6,308\\nBeginning in 2001, the Group has performed additional proce-', metadata={'page': 58, 'source': 'data/HT_report.pdf'}), Document(page_content='78 79CONSOLIDATED FINANCIAL STATEMENTS   CONSOLIDATED STATEMENT OF COMPREHENSIVE INCOME \\nCONSOLIDATED STATEMENT \\nOF COMPREHENSIVE INCOME \\nFor the year ended 31 December 2022CONSOLIDATED STATEMENT OF \\nCOMPREHENSIVE INCOME  (CONTINUED)\\nFor the year ended 31 December 2022\\nNotes 2022\\nHRK million2021\\nHRK million\\nRevenue 4 7,410 7,393\\nOther operating income 5 107 94\\nMerchandise, material and energy expenses 6 (1,580) (1,412)\\nService expenses 7 (750) (822)\\nEmployee benefits expenses 9 (1,137) (1,154)\\nWork performed by the Group and capitalized 70 79\\nDepreciation and amortization 8 (1,987) (2,266)\\nImpairment of non-current assets 8 (156) (63)\\nNet impairment losses on trade receivables and contract assets 23 (64) (68)\\nOther expenses 10 (967) (968)\\nOperating profit 4 946 813\\nFinance income 11 29 32\\nFinance costs 12 (91) (101)\\nFinance costs – net (62) (69)\\nProfit before income tax 884 744\\nIncome tax expense 13 (224) (130)\\nProfit for the year 660 614\\nItems that may be subsequently reclassified to comprehensive income\\nEffects of foreign exchange 3 (2)\\nChanges in the fair value of debt instruments at fair value - (1)\\nOther comprehensive income / (loss) for the year, net of tax 3 (3)\\nTotal comprehensive income for the year, net of tax 663 611\\nProfit attributable to:\\nEquity holders of the Company 655 615\\nNon-controlling interest 5 (1)\\n660 614CONSOLIDATED FINANCIAL STATEMENTS   CONSOLIDATED STATEMENT OF COMPREHENSIVE INCOME \\nNotes 2022\\nHRK million2021\\nHRK million\\nTotal comprehensive income arisen from continuing operations \\nattributable to:\\nEquity holders of the Company 658 612\\nNon-controlling interest 5 (1)\\n663 611\\nEarnings per share\\nBasic and diluted, from continuing operations attributable to equity \\nholders of the Company during the year14 HRK 8.28 HRK 7.6 6', metadata={'page': 39, 'source': 'data/HT_report.pdf'}), Document(page_content='80 81CONSOLIDATED STATEMENT OF \\nFINANCIAL POSITION\\nAs at 31 December 2022CONSOLIDATED FINANCIAL STATEMENTS   CONSOLIDATED STATEMENT OF FINANCIAL POSITION\\nNotes 31 December\\n2022\\nHRK million31 December\\n2021\\nHRK million\\nASSETS\\nNon-current assets\\nIntangible assets 15 1,936 1,897\\nRight-of-use assets  18 555 644\\nProperty, plant and equipment 16 6,308 6,288\\nInvestment property 17 11 12\\nInvestments accounted for using the equity method 19 - 379\\nFinancial assets at fair value through other comprehensive income 20 9 9\\nTrade and other receivables 23 265 294\\nContract assets 24 54 52\\nCapitalized contract costs 24 167 137\\nPrepayments 25 186 -\\nDeferred tax asset 13 135 140\\nTotal non-current assets 9,626 9,852\\nCurrent assets\\nInventories 21 263 190\\nAssets classified as held for sale 22 238 -\\nTrade and other receivables 23 1,505 1,489\\nContract assets 24 219 234\\nCapitalized contract costs 24 76 73\\nPrepayments 25 156 93\\nFinancial assets at fair value through other comprehensive income 20 - 201\\nIncome tax prepayments - 8\\nBank deposits 26 102 38\\nCash and cash equivalents 26 2,814 2,871\\nTotal current assets 5,373 5,197\\nTOTAL ASSETS 14,999 15,049CONSOLIDATED FINANCIAL STATEMENTS   CONSOLIDATED STATEMENT OF FINANCIAL POSITION\\nCONSOLIDATED STATEMENT OF\\nFINANCIAL POSITION (CONTINUED)\\nAs at 31 December 2022\\nNotes 31 December\\n2022\\nHRK million31 December\\n2021\\nHRK million\\nEQUITY AND LIABILITIES\\nIssued capital and reserves\\nIssued share capital 31 10,245 10,245\\nLegal reserves 32 512 512\\nEffects of foreign exchange 3 -\\nOther reserves 2 1\\nReserve for treasury shares 33 3 61\\nTreasury shares 33 (6) (61)\\nRetained earnings 34 1,556 1,719\\nTotal equity attributable to equity holders of the parent 12,315 12,477\\nNon-controlling interest 245 246\\nTotal issued capital and reserves 12,560 12,723', metadata={'page': 40, 'source': 'data/HT_report.pdf'})]\n",
      "\n"
     ]
    }
   ],
   "source": [
    "print(result['result'])\n",
    "# print result in a pretty way\n",
    "print(f\"Question: {query}\\n\")\n",
    "print(f\"Answer: {result}\\n\")  \n",
    "print(f\"Source Document: {result['source_documents']}\\n\")\n"
   ]
  },
  {
   "cell_type": "code",
   "execution_count": 139,
   "metadata": {},
   "outputs": [
    {
     "name": "stdout",
     "output_type": "stream",
     "text": [
      "\n",
      "\n",
      "Number of source documents is: 4\n",
      "\n",
      "\n",
      "Source number: 0\n",
      "\n",
      "Source page content is:\n",
      "\n",
      " Consolidated income statement\n",
      "Consolidated balance sheet\n",
      "Consolidated cash flow statementHT GROUP FINAN-CIAL STATE -MENTS\n",
      "\n",
      "\n",
      "Source number: 1\n",
      "\n",
      "Source page content is:\n",
      "\n",
      " 116 11716  Property, plant and equipment\n",
      " Land and\n",
      "buildings\n",
      "HRK millionTelecom\n",
      "plant and\n",
      "machinery\n",
      "HRK millionTools, \n",
      "vehicles, IT and \n",
      "office\n",
      "equipment\n",
      "HRK millionAssets under\n",
      "construction\n",
      "HRK millionTotal\n",
      "HRK million\n",
      "As at 1 January 2021\n",
      "Cost 2,500 16,353 1,137 195 20,185\n",
      "Accumulated depreciation and \n",
      "impairment losses(1,616) (11,136) (929) (4) (13,685)\n",
      "Net book value 884 5,217 208 191 6,500\n",
      "Year ended 31 December 2021\n",
      "Opening net book value 884 5,217 208 191 6,500\n",
      "Additions 4 182 37 940 1,163\n",
      "Transfers 210 (214) 77             (73) -\n",
      "Disposals (13)                    - - - (13)\n",
      "Disposal of subsidiary (4)            (272) (3) (22) (301)\n",
      "Depreciation charge (104)            (848) (95) - (1,047)\n",
      "Impairment loss -                (13) - - (13)\n",
      "Foreign exchange difference - (1) - - (1)\n",
      "Net book value 977 4,051 224 1,036 6,288\n",
      "As at 31 December 2021\n",
      "Cost 3,214 13,731 1,051 1,036 19,032\n",
      "Accumulated depreciation and \n",
      "impairment losses(2,237) (9,680) (827) - (12,744)\n",
      "Net book value 977 4,051 224 1,036 6,288\n",
      "Year ended 31 December 2022\n",
      "Opening net book value 977 4,051 224 1,036 6,288\n",
      "Additions 15 386 86 549 1,036\n",
      "Transfers 25 512 29 (566) -\n",
      "Disposals (80) - (2) - (82)\n",
      "Depreciation charge (84) (741) (95) - (920)\n",
      "Impairment loss - - (15) - (15)\n",
      "Foreign exchange difference - 1 - - 1\n",
      "Net book value 853 4,209 227 1,019 6,308 Land and\n",
      "buildings\n",
      "HRK millionTelecom\n",
      "plant and\n",
      "machinery\n",
      "HRK millionTools, \n",
      "vehicles, IT and \n",
      "office\n",
      "equipment\n",
      "HRK millionAssets under\n",
      "construction\n",
      "HRK millionTotal\n",
      "HRK million\n",
      "As at 31 December 2022\n",
      "Cost 3,174 14,630 1,164 1,019 19,987\n",
      "Accumulated depreciation and \n",
      "impairment losses(2,321) (10,421) (937) - (13,679)\n",
      "Net book value 853 4,209 227 1,019 6,308\n",
      "Beginning in 2001, the Group has performed additional proce-\n",
      "\n",
      "\n",
      "Source number: 2\n",
      "\n",
      "Source page content is:\n",
      "\n",
      " 78 79CONSOLIDATED FINANCIAL STATEMENTS   CONSOLIDATED STATEMENT OF COMPREHENSIVE INCOME \n",
      "CONSOLIDATED STATEMENT \n",
      "OF COMPREHENSIVE INCOME \n",
      "For the year ended 31 December 2022CONSOLIDATED STATEMENT OF \n",
      "COMPREHENSIVE INCOME  (CONTINUED)\n",
      "For the year ended 31 December 2022\n",
      "Notes 2022\n",
      "HRK million2021\n",
      "HRK million\n",
      "Revenue 4 7,410 7,393\n",
      "Other operating income 5 107 94\n",
      "Merchandise, material and energy expenses 6 (1,580) (1,412)\n",
      "Service expenses 7 (750) (822)\n",
      "Employee benefits expenses 9 (1,137) (1,154)\n",
      "Work performed by the Group and capitalized 70 79\n",
      "Depreciation and amortization 8 (1,987) (2,266)\n",
      "Impairment of non-current assets 8 (156) (63)\n",
      "Net impairment losses on trade receivables and contract assets 23 (64) (68)\n",
      "Other expenses 10 (967) (968)\n",
      "Operating profit 4 946 813\n",
      "Finance income 11 29 32\n",
      "Finance costs 12 (91) (101)\n",
      "Finance costs – net (62) (69)\n",
      "Profit before income tax 884 744\n",
      "Income tax expense 13 (224) (130)\n",
      "Profit for the year 660 614\n",
      "Items that may be subsequently reclassified to comprehensive income\n",
      "Effects of foreign exchange 3 (2)\n",
      "Changes in the fair value of debt instruments at fair value - (1)\n",
      "Other comprehensive income / (loss) for the year, net of tax 3 (3)\n",
      "Total comprehensive income for the year, net of tax 663 611\n",
      "Profit attributable to:\n",
      "Equity holders of the Company 655 615\n",
      "Non-controlling interest 5 (1)\n",
      "660 614CONSOLIDATED FINANCIAL STATEMENTS   CONSOLIDATED STATEMENT OF COMPREHENSIVE INCOME \n",
      "Notes 2022\n",
      "HRK million2021\n",
      "HRK million\n",
      "Total comprehensive income arisen from continuing operations \n",
      "attributable to:\n",
      "Equity holders of the Company 658 612\n",
      "Non-controlling interest 5 (1)\n",
      "663 611\n",
      "Earnings per share\n",
      "Basic and diluted, from continuing operations attributable to equity \n",
      "holders of the Company during the year14 HRK 8.28 HRK 7.6 6\n",
      "\n",
      "\n",
      "Source number: 3\n",
      "\n",
      "Source page content is:\n",
      "\n",
      " 80 81CONSOLIDATED STATEMENT OF \n",
      "FINANCIAL POSITION\n",
      "As at 31 December 2022CONSOLIDATED FINANCIAL STATEMENTS   CONSOLIDATED STATEMENT OF FINANCIAL POSITION\n",
      "Notes 31 December\n",
      "2022\n",
      "HRK million31 December\n",
      "2021\n",
      "HRK million\n",
      "ASSETS\n",
      "Non-current assets\n",
      "Intangible assets 15 1,936 1,897\n",
      "Right-of-use assets  18 555 644\n",
      "Property, plant and equipment 16 6,308 6,288\n",
      "Investment property 17 11 12\n",
      "Investments accounted for using the equity method 19 - 379\n",
      "Financial assets at fair value through other comprehensive income 20 9 9\n",
      "Trade and other receivables 23 265 294\n",
      "Contract assets 24 54 52\n",
      "Capitalized contract costs 24 167 137\n",
      "Prepayments 25 186 -\n",
      "Deferred tax asset 13 135 140\n",
      "Total non-current assets 9,626 9,852\n",
      "Current assets\n",
      "Inventories 21 263 190\n",
      "Assets classified as held for sale 22 238 -\n",
      "Trade and other receivables 23 1,505 1,489\n",
      "Contract assets 24 219 234\n",
      "Capitalized contract costs 24 76 73\n",
      "Prepayments 25 156 93\n",
      "Financial assets at fair value through other comprehensive income 20 - 201\n",
      "Income tax prepayments - 8\n",
      "Bank deposits 26 102 38\n",
      "Cash and cash equivalents 26 2,814 2,871\n",
      "Total current assets 5,373 5,197\n",
      "TOTAL ASSETS 14,999 15,049CONSOLIDATED FINANCIAL STATEMENTS   CONSOLIDATED STATEMENT OF FINANCIAL POSITION\n",
      "CONSOLIDATED STATEMENT OF\n",
      "FINANCIAL POSITION (CONTINUED)\n",
      "As at 31 December 2022\n",
      "Notes 31 December\n",
      "2022\n",
      "HRK million31 December\n",
      "2021\n",
      "HRK million\n",
      "EQUITY AND LIABILITIES\n",
      "Issued capital and reserves\n",
      "Issued share capital 31 10,245 10,245\n",
      "Legal reserves 32 512 512\n",
      "Effects of foreign exchange 3 -\n",
      "Other reserves 2 1\n",
      "Reserve for treasury shares 33 3 61\n",
      "Treasury shares 33 (6) (61)\n",
      "Retained earnings 34 1,556 1,719\n",
      "Total equity attributable to equity holders of the parent 12,315 12,477\n",
      "Non-controlling interest 245 246\n",
      "Total issued capital and reserves 12,560 12,723\n"
     ]
    }
   ],
   "source": [
    "# Get the number of source documents\n",
    "print('\\n\\nNumber of source documents is:', len(result[\"source_documents\"]))\n",
    "# Store the number of source documents in a variable len_source_docs\n",
    "len_source_docs = len(result[\"source_documents\"])\n",
    "# Loop over the source documents and print the source number and page content \n",
    "for i in range(len_source_docs):\n",
    "    print('\\n\\nSource number:', i)\n",
    "    print('\\nSource page content is:\\n\\n', result[\"source_documents\"][i].page_content)"
   ]
  },
  {
   "cell_type": "markdown",
   "metadata": {},
   "source": [
    "# Data source batch processing"
   ]
  },
  {
   "cell_type": "markdown",
   "metadata": {},
   "source": [
    "## Word documents data"
   ]
  },
  {
   "cell_type": "code",
   "execution_count": 149,
   "metadata": {},
   "outputs": [
    {
     "name": "stdout",
     "output_type": "stream",
     "text": [
      "['../data/Obrazac najave službenog putovanja.docx', '../data/Procedura_uvođenja_zaposlenika_u_rad_(za_mentorirane)_0.7.docx']\n",
      "1\n",
      "<langchain.text_splitter.RecursiveCharacterTextSplitter object at 0x000002695D28E710>\n",
      "1\n",
      "\n",
      "\n",
      "Collection count is: 161\n",
      "1\n",
      "<langchain.text_splitter.RecursiveCharacterTextSplitter object at 0x000002694ECABDF0>\n",
      "10\n",
      "\n",
      "\n",
      "Collection count is: 171\n"
     ]
    }
   ],
   "source": [
    "# load the list of pdf files in ../data folder and loop through each file and load it\n",
    "from langchain.document_loaders import Docx2txtLoader\n",
    "pdf_files = os.listdir(\"data/\")\n",
    "pdf_file_paths = [os.path.join('data/', f) for f in os.listdir('data/') if f.endswith('.docx')]\n",
    "print(pdf_file_paths)\n",
    "\n",
    "for pdf_file_path in pdf_file_paths:\n",
    "    loader = Docx2txtLoader(pdf_file_path)\n",
    "    documents = loader.load()\n",
    "    print(len(documents))\n",
    "\n",
    "    # text splitter\n",
    "    text_splitter = RecursiveCharacterTextSplitter(\n",
    "            chunk_size=1800,\n",
    "            chunk_overlap=180,\n",
    "            length_function = len\n",
    "        )\n",
    "    print(text_splitter)\n",
    "\n",
    "    docs = text_splitter.split_documents(documents)\n",
    "    print(len(docs))\n",
    "\n",
    "    pi_db = Chroma.from_documents(\n",
    "        documents=docs, \n",
    "        embedding=HuggingFaceEmbeddings(model_name=\"sentence-transformers/all-mpnet-base-v2\"),\n",
    "        persist_directory=\"data\",\n",
    "    )\n",
    "    \n",
    "    pi_db.persist()\n",
    "    print('\\n\\nCollection count is:', pi_db._collection.count())\n"
   ]
  },
  {
   "cell_type": "markdown",
   "metadata": {},
   "source": [
    "## PPT data"
   ]
  },
  {
   "cell_type": "code",
   "execution_count": 150,
   "metadata": {},
   "outputs": [
    {
     "name": "stdout",
     "output_type": "stream",
     "text": [
      "['../data/Prezentacija rezultata ankete o benefitima i akcijski plan.pptx', '../data/Vodič za snalaženje za nove zaposlenike v02122020 (1).pptx']\n",
      "1\n",
      "<langchain.text_splitter.RecursiveCharacterTextSplitter object at 0x000002696030A980>\n",
      "3\n",
      "\n",
      "\n",
      "Collection count is: 174\n",
      "1\n",
      "<langchain.text_splitter.RecursiveCharacterTextSplitter object at 0x000002689647F190>\n",
      "25\n",
      "\n",
      "\n",
      "Collection count is: 199\n"
     ]
    }
   ],
   "source": [
    "# load the list of pdf files in ../data folder and loop through each file and load it\n",
    "from langchain.document_loaders import UnstructuredPowerPointLoader\n",
    "\n",
    "pdf_files = os.listdir(\"data/\")\n",
    "pdf_file_paths = [os.path.join('data/', f) for f in os.listdir('data/') if f.endswith('.pptx')]\n",
    "print(pdf_file_paths)\n",
    "\n",
    "for pdf_file_path in pdf_file_paths:\n",
    "    loader = UnstructuredPowerPointLoader(pdf_file_path)\n",
    "    # loader = PyPDFLoader(pdf_file_path)\n",
    "    documents = loader.load()\n",
    "    print(len(documents))\n",
    "\n",
    "    # text splitter\n",
    "    text_splitter = RecursiveCharacterTextSplitter(\n",
    "            chunk_size=1800,\n",
    "            chunk_overlap=180,\n",
    "            length_function = len\n",
    "        )\n",
    "    print(text_splitter)\n",
    "\n",
    "    docs = text_splitter.split_documents(documents)\n",
    "    print(len(docs))\n",
    "\n",
    "    pi_db = Chroma.from_documents(\n",
    "        documents=docs, \n",
    "        embedding=HuggingFaceEmbeddings(model_name=\"sentence-transformers/all-mpnet-base-v2\"),\n",
    "        persist_directory=\"data\",\n",
    "    )\n",
    "    \n",
    "    pi_db.persist()\n",
    "    print('\\n\\nCollection count is:', pi_db._collection.count())\n"
   ]
  },
  {
   "cell_type": "code",
   "execution_count": 93,
   "metadata": {},
   "outputs": [
    {
     "name": "stdout",
     "output_type": "stream",
     "text": [
      " Bird Academy 2016 – Poslovna inteligencija                         Skip to content     ServicesImplementation servicesOLAP & ReportingBusiness / Data AnalysisData IntegrationData EngineeringPlanning & Financial ConsolidationData Governance, Data Quality & Master Data ManagementData MigrationData ScienceStrategic ICT consultingEducationsSolutionsDWH ModelsPi AnalyticsPi ProfitabilityPlanning for NonprofitsConQ Content AnalyticsSynQXBRLpointPartnersTechnology PartnersSolution partnersNewsAbout usCompany ProfileOur clientsSelected projectsSocial responsibilityPrizes and awardsEU projectsContactsBlogCareers ServicesImplementation servicesOLAP & ReportingBusiness / Data AnalysisData IntegrationData EngineeringPlanning & Financial ConsolidationData Governance, Data Quality & Master Data ManagementData MigrationData ScienceStrategic ICT consultingEducationsSolutionsDWH ModelsPi AnalyticsPi ProfitabilityPlanning for NonprofitsConQ Content AnalyticsSynQXBRLpointPartnersTechnology PartnersSolution partnersNewsAbout usCompany ProfileOur clientsSelected projectsSocial responsibilityPrizes and awardsEU projectsContactsBlogCareers   Facebook      Linkedin      Instagram      Youtube          ServicesImplementation servicesOLAP & ReportingBusiness / Data AnalysisData IntegrationData EngineeringPlanning & Financial ConsolidationData Governance, Data Quality & Master Data ManagementData MigrationData ScienceStrategic ICT consultingEducationsSolutionsDWH ModelsPi AnalyticsPi ProfitabilityPlanning for NonprofitsConQ Content AnalyticsSynQXBRLpointPartnersTechnology PartnersSolution partnersNewsAbout usCompany ProfileOur clientsSelected projectsSocial responsibilityPrizes and awardsEU projectsContactsBlogCareers ServicesImplementation servicesOLAP & ReportingBusiness / Data AnalysisData IntegrationData EngineeringPlanning & Financial ConsolidationData Governance, Data Quality & Master Data ManagementData MigrationData ScienceStrategic ICT consultingEducationsSolutionsDWH ModelsPi AnalyticsPi ProfitabilityPlanning for NonprofitsConQ Content AnalyticsSynQXBRLpointPartnersTechnology PartnersSolution partnersNewsAbout usCompany ProfileOur clientsSelected projectsSocial responsibilityPrizes and awardsEU projectsContactsBlogCareers   Facebook      Linkedin      Instagram      Youtube          ServicesImplementation servicesOLAP & ReportingBusiness / Data AnalysisData IntegrationData EngineeringPlanning & Financial ConsolidationData Governance, Data Quality & Master Data ManagementData MigrationData ScienceStrategic ICT consultingEducationsSolutionsDWH ModelsPi AnalyticsPi ProfitabilityPlanning for NonprofitsConQ Content AnalyticsSynQXBRLpointPartnersTechnology PartnersSolution partnersNewsAbout usCompany ProfileOur clientsSelected projectsSocial responsibilityPrizes and awardsEU projectsContactsBlogCareers  Menu ServicesImplementation servicesOLAP & ReportingBusiness / Data AnalysisData IntegrationData EngineeringPlanning & Financial ConsolidationData Governance, Data Quality & Master Data ManagementData MigrationData ScienceStrategic ICT consultingEducationsSolutionsDWH ModelsPi AnalyticsPi ProfitabilityPlanning for NonprofitsConQ Content AnalyticsSynQXBRLpointPartnersTechnology PartnersSolution partnersNewsAbout usCompany ProfileOur clientsSelected projectsSocial responsibilityPrizes and awardsEU projectsContactsBlogCareers   Facebook      Linkedin      Instagram      Youtube      NewsBird Academy 2016  09/05/2016  Poslovna inteligencija started a new program of selection, preparation and recruitment of young talents - BIRD Academy 2016.Poslovna inteligencija started a new program of selection, preparation and recruitment of young talents – BIRD Academy 2016, for those who see themselves as consultants in the field of implementation of systems for decision support and big data systems, and for those who want to strengthen their knowledge even further before permanent employment and experience what it means to work on the project with top professionals.Lectures begin on June 6th 2016 and will last for 2 months, during that period interns will undergo business and specialized technical education in the field of data integration and performance management with the support and supervision of trainers and mentors, director of consulting and leading consultants in Poslovna inteligencija, top experts in their areas with many years of experience on our projects around the world. For participants who successfully complete BIRD Academy we offer the possibility of employment and winning of the internship contract. Prev7th Controling Conference Big Data Summer SchoolNextLatest news  21/07/2023    AI4VET4AI project successfully launched Algebra University College is a proud lead partner of the project, named AI-powered Next Generation of VET, and Poslovna inteligencija is one of the project team members. AI4VET4AI project addresses the need for trained workers in the field of AI, by supporting the growth of an AI-skilled workforce in Europe, with a special emphasis on VET teachers and learners.   Read More    07/04/2023    Unlock the Power of Your Data with Vertica: Lightning-Fast Analytics at Scale Vertica is a powerful, flexible, and cost-effective analytical platform that is designed to handle large-scale data processing and analytics workloads.   Read More    29/11/2022    Poslovna inteligencija and Legit – Official opening of joint office in Osijek In addition to opening its international offices, Poslovna inteligencija, with its successful spin-off company Legit, is also opening an office in the center of Osijek.   Read More    25/10/2022    Bird Data Talks – Lessons learned by global media leaders from their Data Migration to Cloud In this webinar, we want to talk about some of the key aspects and critical factors of data migration in The Economist, which we're sure will be relevant to many other enterprise companies.   Read More    12/10/2022    Lidija Karaga is the new CEO of Poslovna inteligencija Lidija Karaga, co-owner, co-founder and former member of the Management Board of Poslovna inteligencija, took over the company's leadership position in October of this year.   Read More    13/09/2022    Gabrijela Gega Balun is the new Sales Director at Poslovna inteligencija/Bird Consulting Along with organizational growth, development and advances in foreign markets, Poslovna inteligencija/Bird Consulting continues with reinforcements in its management team   Read More    12/09/2022    Poslovna inteligencija is now eligible for Microsoft Analytics Assessment Ready for a digital transformation?\n",
      "We are proud to share that Poslovna inteligencija is now eligible for Microsoft Analytics Assessment for Croatia.   Read More    02/08/2022    Petar Zečević is a new Senior Principal Consultant at Poslovna inteligencija After several years of working as a CTO and as a top expert in Big Data architecture, Petar Zečević joined the professional consultant team at Poslovna inteligencija.   Read More     All news     Services     Implementation services– OLAP & Reporting– Business / Data Analysis– Data Integration– Data Engineering– Planning & Financial Consolidation– Data Governance, Data Quality & Master Data Management– Data Migration– Data ScienceICT strategic consultingEducations Implementation services– OLAP & Reporting– Business / Data Analysis– Data Integration– Data Engineering– Planning & Financial Consolidation– Data Governance, Data Quality & Master Data Management– Data Migration– Data ScienceICT strategic consultingEducations   Solutions     DWH ModelsPi AnalyticsPi ProfitabilityPlanning for NonprofitsConQ Content AnalyticsSynQXBRLpoint DWH ModelsPi AnalyticsPi ProfitabilityPlanning for NonprofitsConQ Content AnalyticsSynQXBRLpoint   Partners     Technology PartnersSolution partners Technology PartnersSolution partners   News       Careers       About us     Company ProfileOur clientsSelected projectsSocial responsibilityPrizes and awardsEU projectsContactsLegal notice Company ProfileOur clientsSelected projectsSocial responsibilityPrizes and awardsEU projectsContactsLegal notice   Newsletter    Always be up to date with news and technologies from the world of Poslovna inteligencija. Sign up to our Newsletter.Poslovna inteligencija d.o.o.Krste Pavletića 110000 ZagrebT. + 385 1 4617 945F. + 385 1 4617 946OIB: 65570189449   Facebook      Linkedin      Instagram      Youtube     Search     Search  We use cookies on our website to give you the most relevant experience by remembering your preferences and repeat visits. By clicking “Accept All”, you consent to the use of ALL the cookies.Reject AllAccept AllManage consent   Close Privacy OverviewThis website uses cookies to improve your experience while you navigate through the website. Out of these, the cookies that are categorized as necessary are stored on your browser as they are essential for the working of basic functionalities of the website. We also use third-party cookies that help us analyze and understand how you use this website. These cookies will be stored in your browser only with your consent. You also have the option to opt-out of these cookies. But opting out of some of these cookies may affect your browsing experience.  SAVE & ACCEPT Scroll to TopStay up to date with newsStay up to date with news Sign up for our newsletter and always be up to date with news and technologies from the world of Poslovna inteligencija.  E-mail: *  First Name: *  Last Name: *  Job Title: *  Company: *  Business Phone:  Country: *  Point of Interest:  Business & Data Analysis  Planning, OLAP & Reporting & Financial consolidation  Data Integration, Data Migration & Data Engineering  Data Governance, Data Quality & Master Data Management  Data Science  DWH models  XBRL point  ConQ Content Analytics  SynQ Comment:  By submitting this form, you agree that we may use the data provided to contact you with the information related to your request/submission and products and services of Poslovna inteligencija. You can unsubscribe from Poslovna inteligencija marketing emails at any time by clicking the unsubscribe link in the email. For more information, please see our Privacy Policy. *   Please don't insert text in the box below! The fields marked with * are required                                    \n"
     ]
    }
   ],
   "source": [
    "print(data[0].page_content)"
   ]
  },
  {
   "cell_type": "code",
   "execution_count": null,
   "metadata": {},
   "outputs": [],
   "source": [
    "from langchain.vectorstores c\n",
    "pi_db = Chroma.from_documents(\n",
    "    documents=docs,\n",
    "    embedding=HuggingFaceEmbeddings(model_name=\"sentence-transformers/paraphrase-MiniLM-L6-v2\"),\n",
    "    persist_directory=\"../pidata/\",\n",
    ")\n",
    "pi_db.persist()\n"
   ]
  },
  {
   "cell_type": "markdown",
   "metadata": {},
   "source": [
    "Create Chroma db vectorstore with OpenAI embeddings"
   ]
  },
  {
   "cell_type": "code",
   "execution_count": 11,
   "metadata": {},
   "outputs": [],
   "source": [
    "from langchain.embeddings.openai import OpenAIEmbeddings\n",
    "from langchain.vectorstores import Chroma\n",
    "\n",
    "pi_db = Chroma.from_documents(\n",
    "    documents=docs,\n",
    "    embedding = OpenAIEmbeddings(),\n",
    "    persist_directory=\"../pidata/\",\n",
    "    # collection_name=\"pdf_data\",\n",
    ")\n",
    "pi_db.persist()"
   ]
  },
  {
   "cell_type": "code",
   "execution_count": 12,
   "metadata": {},
   "outputs": [
    {
     "name": "stdout",
     "output_type": "stream",
     "text": [
      "\n",
      "\n",
      "Collection count is: 453\n"
     ]
    }
   ],
   "source": [
    "print('\\n\\nCollection count is:', pi_db._collection.count())"
   ]
  },
  {
   "cell_type": "markdown",
   "metadata": {},
   "source": [
    "## Load financial report vectorstore from disk"
   ]
  },
  {
   "cell_type": "code",
   "execution_count": 140,
   "metadata": {},
   "outputs": [],
   "source": [
    "\n",
    "pi_db = Chroma(\n",
    "    persist_directory=\"reports\", \n",
    "    embedding_function=embedding_function,\n",
    "    )"
   ]
  },
  {
   "cell_type": "code",
   "execution_count": 141,
   "metadata": {},
   "outputs": [
    {
     "name": "stdout",
     "output_type": "stream",
     "text": [
      "\n",
      "\n",
      "Collection count is: 337\n"
     ]
    }
   ],
   "source": [
    "print('\\n\\nCollection count is:', pi_db._collection.count())"
   ]
  },
  {
   "cell_type": "markdown",
   "metadata": {},
   "source": [
    "## Example Retrieval"
   ]
  },
  {
   "cell_type": "markdown",
   "metadata": {},
   "source": [
    "Similarity search - get the k most similar results to the query/question/message"
   ]
  },
  {
   "cell_type": "code",
   "execution_count": 143,
   "metadata": {},
   "outputs": [],
   "source": [
    "def pretty_chunks(docs):\n",
    "    print(f\"\\n{'-' * 100}\\n\".join([f\"Document {i+1}:\\n\\n\" + d.page_content for i, d in enumerate(docs)]))\n"
   ]
  },
  {
   "cell_type": "code",
   "execution_count": 144,
   "metadata": {},
   "outputs": [
    {
     "ename": "InvalidDimensionException",
     "evalue": "Embedding dimension 384 does not match collection dimensionality 768",
     "output_type": "error",
     "traceback": [
      "\u001b[1;31m---------------------------------------------------------------------------\u001b[0m",
      "\u001b[1;31mInvalidDimensionException\u001b[0m                 Traceback (most recent call last)",
      "Cell \u001b[1;32mIn[144], line 1\u001b[0m\n\u001b[1;32m----> 1\u001b[0m results_ss \u001b[38;5;241m=\u001b[39m \u001b[43mpi_db\u001b[49m\u001b[38;5;241;43m.\u001b[39;49m\u001b[43msimilarity_search\u001b[49m\u001b[43m(\u001b[49m\u001b[43mquery\u001b[49m\u001b[43m,\u001b[49m\u001b[43m \u001b[49m\u001b[43mk\u001b[49m\u001b[38;5;241;43m=\u001b[39;49m\u001b[38;5;241;43m3\u001b[39;49m\u001b[43m)\u001b[49m\n\u001b[0;32m      2\u001b[0m pretty_chunks(results_ss)\n",
      "File \u001b[1;32mc:\\Users\\ggvozden\\Anaconda3\\envs\\bigdata\\Lib\\site-packages\\langchain_community\\vectorstores\\chroma.py:348\u001b[0m, in \u001b[0;36mChroma.similarity_search\u001b[1;34m(self, query, k, filter, **kwargs)\u001b[0m\n\u001b[0;32m    331\u001b[0m \u001b[38;5;28;01mdef\u001b[39;00m \u001b[38;5;21msimilarity_search\u001b[39m(\n\u001b[0;32m    332\u001b[0m     \u001b[38;5;28mself\u001b[39m,\n\u001b[0;32m    333\u001b[0m     query: \u001b[38;5;28mstr\u001b[39m,\n\u001b[1;32m   (...)\u001b[0m\n\u001b[0;32m    336\u001b[0m     \u001b[38;5;241m*\u001b[39m\u001b[38;5;241m*\u001b[39mkwargs: Any,\n\u001b[0;32m    337\u001b[0m ) \u001b[38;5;241m-\u001b[39m\u001b[38;5;241m>\u001b[39m List[Document]:\n\u001b[0;32m    338\u001b[0m \u001b[38;5;250m    \u001b[39m\u001b[38;5;124;03m\"\"\"Run similarity search with Chroma.\u001b[39;00m\n\u001b[0;32m    339\u001b[0m \n\u001b[0;32m    340\u001b[0m \u001b[38;5;124;03m    Args:\u001b[39;00m\n\u001b[1;32m   (...)\u001b[0m\n\u001b[0;32m    346\u001b[0m \u001b[38;5;124;03m        List[Document]: List of documents most similar to the query text.\u001b[39;00m\n\u001b[0;32m    347\u001b[0m \u001b[38;5;124;03m    \"\"\"\u001b[39;00m\n\u001b[1;32m--> 348\u001b[0m     docs_and_scores \u001b[38;5;241m=\u001b[39m \u001b[38;5;28;43mself\u001b[39;49m\u001b[38;5;241;43m.\u001b[39;49m\u001b[43msimilarity_search_with_score\u001b[49m\u001b[43m(\u001b[49m\n\u001b[0;32m    349\u001b[0m \u001b[43m        \u001b[49m\u001b[43mquery\u001b[49m\u001b[43m,\u001b[49m\u001b[43m \u001b[49m\u001b[43mk\u001b[49m\u001b[43m,\u001b[49m\u001b[43m \u001b[49m\u001b[38;5;28;43mfilter\u001b[39;49m\u001b[38;5;241;43m=\u001b[39;49m\u001b[38;5;28;43mfilter\u001b[39;49m\u001b[43m,\u001b[49m\u001b[43m \u001b[49m\u001b[38;5;241;43m*\u001b[39;49m\u001b[38;5;241;43m*\u001b[39;49m\u001b[43mkwargs\u001b[49m\n\u001b[0;32m    350\u001b[0m \u001b[43m    \u001b[49m\u001b[43m)\u001b[49m\n\u001b[0;32m    351\u001b[0m     \u001b[38;5;28;01mreturn\u001b[39;00m [doc \u001b[38;5;28;01mfor\u001b[39;00m doc, _ \u001b[38;5;129;01min\u001b[39;00m docs_and_scores]\n",
      "File \u001b[1;32mc:\\Users\\ggvozden\\Anaconda3\\envs\\bigdata\\Lib\\site-packages\\langchain_community\\vectorstores\\chroma.py:438\u001b[0m, in \u001b[0;36mChroma.similarity_search_with_score\u001b[1;34m(self, query, k, filter, where_document, **kwargs)\u001b[0m\n\u001b[0;32m    436\u001b[0m \u001b[38;5;28;01melse\u001b[39;00m:\n\u001b[0;32m    437\u001b[0m     query_embedding \u001b[38;5;241m=\u001b[39m \u001b[38;5;28mself\u001b[39m\u001b[38;5;241m.\u001b[39m_embedding_function\u001b[38;5;241m.\u001b[39membed_query(query)\n\u001b[1;32m--> 438\u001b[0m     results \u001b[38;5;241m=\u001b[39m \u001b[38;5;28;43mself\u001b[39;49m\u001b[38;5;241;43m.\u001b[39;49m\u001b[43m__query_collection\u001b[49m\u001b[43m(\u001b[49m\n\u001b[0;32m    439\u001b[0m \u001b[43m        \u001b[49m\u001b[43mquery_embeddings\u001b[49m\u001b[38;5;241;43m=\u001b[39;49m\u001b[43m[\u001b[49m\u001b[43mquery_embedding\u001b[49m\u001b[43m]\u001b[49m\u001b[43m,\u001b[49m\n\u001b[0;32m    440\u001b[0m \u001b[43m        \u001b[49m\u001b[43mn_results\u001b[49m\u001b[38;5;241;43m=\u001b[39;49m\u001b[43mk\u001b[49m\u001b[43m,\u001b[49m\n\u001b[0;32m    441\u001b[0m \u001b[43m        \u001b[49m\u001b[43mwhere\u001b[49m\u001b[38;5;241;43m=\u001b[39;49m\u001b[38;5;28;43mfilter\u001b[39;49m\u001b[43m,\u001b[49m\n\u001b[0;32m    442\u001b[0m \u001b[43m        \u001b[49m\u001b[43mwhere_document\u001b[49m\u001b[38;5;241;43m=\u001b[39;49m\u001b[43mwhere_document\u001b[49m\u001b[43m,\u001b[49m\n\u001b[0;32m    443\u001b[0m \u001b[43m        \u001b[49m\u001b[38;5;241;43m*\u001b[39;49m\u001b[38;5;241;43m*\u001b[39;49m\u001b[43mkwargs\u001b[49m\u001b[43m,\u001b[49m\n\u001b[0;32m    444\u001b[0m \u001b[43m    \u001b[49m\u001b[43m)\u001b[49m\n\u001b[0;32m    446\u001b[0m \u001b[38;5;28;01mreturn\u001b[39;00m _results_to_docs_and_scores(results)\n",
      "File \u001b[1;32mc:\\Users\\ggvozden\\Anaconda3\\envs\\bigdata\\Lib\\site-packages\\langchain_core\\utils\\utils.py:35\u001b[0m, in \u001b[0;36mxor_args.<locals>.decorator.<locals>.wrapper\u001b[1;34m(*args, **kwargs)\u001b[0m\n\u001b[0;32m     29\u001b[0m     invalid_group_names \u001b[38;5;241m=\u001b[39m [\u001b[38;5;124m\"\u001b[39m\u001b[38;5;124m, \u001b[39m\u001b[38;5;124m\"\u001b[39m\u001b[38;5;241m.\u001b[39mjoin(arg_groups[i]) \u001b[38;5;28;01mfor\u001b[39;00m i \u001b[38;5;129;01min\u001b[39;00m invalid_groups]\n\u001b[0;32m     30\u001b[0m     \u001b[38;5;28;01mraise\u001b[39;00m \u001b[38;5;167;01mValueError\u001b[39;00m(\n\u001b[0;32m     31\u001b[0m         \u001b[38;5;124m\"\u001b[39m\u001b[38;5;124mExactly one argument in each of the following\u001b[39m\u001b[38;5;124m\"\u001b[39m\n\u001b[0;32m     32\u001b[0m         \u001b[38;5;124m\"\u001b[39m\u001b[38;5;124m groups must be defined:\u001b[39m\u001b[38;5;124m\"\u001b[39m\n\u001b[0;32m     33\u001b[0m         \u001b[38;5;124mf\u001b[39m\u001b[38;5;124m\"\u001b[39m\u001b[38;5;124m \u001b[39m\u001b[38;5;132;01m{\u001b[39;00m\u001b[38;5;124m'\u001b[39m\u001b[38;5;124m, \u001b[39m\u001b[38;5;124m'\u001b[39m\u001b[38;5;241m.\u001b[39mjoin(invalid_group_names)\u001b[38;5;132;01m}\u001b[39;00m\u001b[38;5;124m\"\u001b[39m\n\u001b[0;32m     34\u001b[0m     )\n\u001b[1;32m---> 35\u001b[0m \u001b[38;5;28;01mreturn\u001b[39;00m \u001b[43mfunc\u001b[49m\u001b[43m(\u001b[49m\u001b[38;5;241;43m*\u001b[39;49m\u001b[43margs\u001b[49m\u001b[43m,\u001b[49m\u001b[43m \u001b[49m\u001b[38;5;241;43m*\u001b[39;49m\u001b[38;5;241;43m*\u001b[39;49m\u001b[43mkwargs\u001b[49m\u001b[43m)\u001b[49m\n",
      "File \u001b[1;32mc:\\Users\\ggvozden\\Anaconda3\\envs\\bigdata\\Lib\\site-packages\\langchain_community\\vectorstores\\chroma.py:155\u001b[0m, in \u001b[0;36mChroma.__query_collection\u001b[1;34m(self, query_texts, query_embeddings, n_results, where, where_document, **kwargs)\u001b[0m\n\u001b[0;32m    150\u001b[0m \u001b[38;5;28;01mexcept\u001b[39;00m \u001b[38;5;167;01mImportError\u001b[39;00m:\n\u001b[0;32m    151\u001b[0m     \u001b[38;5;28;01mraise\u001b[39;00m \u001b[38;5;167;01mValueError\u001b[39;00m(\n\u001b[0;32m    152\u001b[0m         \u001b[38;5;124m\"\u001b[39m\u001b[38;5;124mCould not import chromadb python package. \u001b[39m\u001b[38;5;124m\"\u001b[39m\n\u001b[0;32m    153\u001b[0m         \u001b[38;5;124m\"\u001b[39m\u001b[38;5;124mPlease install it with `pip install chromadb`.\u001b[39m\u001b[38;5;124m\"\u001b[39m\n\u001b[0;32m    154\u001b[0m     )\n\u001b[1;32m--> 155\u001b[0m \u001b[38;5;28;01mreturn\u001b[39;00m \u001b[38;5;28;43mself\u001b[39;49m\u001b[38;5;241;43m.\u001b[39;49m\u001b[43m_collection\u001b[49m\u001b[38;5;241;43m.\u001b[39;49m\u001b[43mquery\u001b[49m\u001b[43m(\u001b[49m\n\u001b[0;32m    156\u001b[0m \u001b[43m    \u001b[49m\u001b[43mquery_texts\u001b[49m\u001b[38;5;241;43m=\u001b[39;49m\u001b[43mquery_texts\u001b[49m\u001b[43m,\u001b[49m\n\u001b[0;32m    157\u001b[0m \u001b[43m    \u001b[49m\u001b[43mquery_embeddings\u001b[49m\u001b[38;5;241;43m=\u001b[39;49m\u001b[43mquery_embeddings\u001b[49m\u001b[43m,\u001b[49m\n\u001b[0;32m    158\u001b[0m \u001b[43m    \u001b[49m\u001b[43mn_results\u001b[49m\u001b[38;5;241;43m=\u001b[39;49m\u001b[43mn_results\u001b[49m\u001b[43m,\u001b[49m\n\u001b[0;32m    159\u001b[0m \u001b[43m    \u001b[49m\u001b[43mwhere\u001b[49m\u001b[38;5;241;43m=\u001b[39;49m\u001b[43mwhere\u001b[49m\u001b[43m,\u001b[49m\n\u001b[0;32m    160\u001b[0m \u001b[43m    \u001b[49m\u001b[43mwhere_document\u001b[49m\u001b[38;5;241;43m=\u001b[39;49m\u001b[43mwhere_document\u001b[49m\u001b[43m,\u001b[49m\n\u001b[0;32m    161\u001b[0m \u001b[43m    \u001b[49m\u001b[38;5;241;43m*\u001b[39;49m\u001b[38;5;241;43m*\u001b[39;49m\u001b[43mkwargs\u001b[49m\u001b[43m,\u001b[49m\n\u001b[0;32m    162\u001b[0m \u001b[43m\u001b[49m\u001b[43m)\u001b[49m\n",
      "File \u001b[1;32mc:\\Users\\ggvozden\\Anaconda3\\envs\\bigdata\\Lib\\site-packages\\chromadb\\api\\models\\Collection.py:345\u001b[0m, in \u001b[0;36mCollection.query\u001b[1;34m(self, query_embeddings, query_texts, query_images, query_uris, n_results, where, where_document, include)\u001b[0m\n\u001b[0;32m    343\u001b[0m \u001b[38;5;28;01mif\u001b[39;00m \u001b[38;5;124m\"\u001b[39m\u001b[38;5;124mdata\u001b[39m\u001b[38;5;124m\"\u001b[39m \u001b[38;5;129;01min\u001b[39;00m include \u001b[38;5;129;01mand\u001b[39;00m \u001b[38;5;124m\"\u001b[39m\u001b[38;5;124muris\u001b[39m\u001b[38;5;124m\"\u001b[39m \u001b[38;5;129;01mnot\u001b[39;00m \u001b[38;5;129;01min\u001b[39;00m include:\n\u001b[0;32m    344\u001b[0m     valid_include\u001b[38;5;241m.\u001b[39mappend(\u001b[38;5;124m\"\u001b[39m\u001b[38;5;124muris\u001b[39m\u001b[38;5;124m\"\u001b[39m)\n\u001b[1;32m--> 345\u001b[0m query_results \u001b[38;5;241m=\u001b[39m \u001b[38;5;28;43mself\u001b[39;49m\u001b[38;5;241;43m.\u001b[39;49m\u001b[43m_client\u001b[49m\u001b[38;5;241;43m.\u001b[39;49m\u001b[43m_query\u001b[49m\u001b[43m(\u001b[49m\n\u001b[0;32m    346\u001b[0m \u001b[43m    \u001b[49m\u001b[43mcollection_id\u001b[49m\u001b[38;5;241;43m=\u001b[39;49m\u001b[38;5;28;43mself\u001b[39;49m\u001b[38;5;241;43m.\u001b[39;49m\u001b[43mid\u001b[49m\u001b[43m,\u001b[49m\n\u001b[0;32m    347\u001b[0m \u001b[43m    \u001b[49m\u001b[43mquery_embeddings\u001b[49m\u001b[38;5;241;43m=\u001b[39;49m\u001b[43mvalid_query_embeddings\u001b[49m\u001b[43m,\u001b[49m\n\u001b[0;32m    348\u001b[0m \u001b[43m    \u001b[49m\u001b[43mn_results\u001b[49m\u001b[38;5;241;43m=\u001b[39;49m\u001b[43mvalid_n_results\u001b[49m\u001b[43m,\u001b[49m\n\u001b[0;32m    349\u001b[0m \u001b[43m    \u001b[49m\u001b[43mwhere\u001b[49m\u001b[38;5;241;43m=\u001b[39;49m\u001b[43mvalid_where\u001b[49m\u001b[43m,\u001b[49m\n\u001b[0;32m    350\u001b[0m \u001b[43m    \u001b[49m\u001b[43mwhere_document\u001b[49m\u001b[38;5;241;43m=\u001b[39;49m\u001b[43mvalid_where_document\u001b[49m\u001b[43m,\u001b[49m\n\u001b[0;32m    351\u001b[0m \u001b[43m    \u001b[49m\u001b[43minclude\u001b[49m\u001b[38;5;241;43m=\u001b[39;49m\u001b[43minclude\u001b[49m\u001b[43m,\u001b[49m\n\u001b[0;32m    352\u001b[0m \u001b[43m\u001b[49m\u001b[43m)\u001b[49m\n\u001b[0;32m    354\u001b[0m \u001b[38;5;28;01mif\u001b[39;00m (\n\u001b[0;32m    355\u001b[0m     \u001b[38;5;124m\"\u001b[39m\u001b[38;5;124mdata\u001b[39m\u001b[38;5;124m\"\u001b[39m \u001b[38;5;129;01min\u001b[39;00m include\n\u001b[0;32m    356\u001b[0m     \u001b[38;5;129;01mand\u001b[39;00m \u001b[38;5;28mself\u001b[39m\u001b[38;5;241m.\u001b[39m_data_loader \u001b[38;5;129;01mis\u001b[39;00m \u001b[38;5;129;01mnot\u001b[39;00m \u001b[38;5;28;01mNone\u001b[39;00m\n\u001b[0;32m    357\u001b[0m     \u001b[38;5;129;01mand\u001b[39;00m query_results[\u001b[38;5;124m\"\u001b[39m\u001b[38;5;124muris\u001b[39m\u001b[38;5;124m\"\u001b[39m] \u001b[38;5;129;01mis\u001b[39;00m \u001b[38;5;129;01mnot\u001b[39;00m \u001b[38;5;28;01mNone\u001b[39;00m\n\u001b[0;32m    358\u001b[0m ):\n\u001b[0;32m    359\u001b[0m     query_results[\u001b[38;5;124m\"\u001b[39m\u001b[38;5;124mdata\u001b[39m\u001b[38;5;124m\"\u001b[39m] \u001b[38;5;241m=\u001b[39m [\n\u001b[0;32m    360\u001b[0m         \u001b[38;5;28mself\u001b[39m\u001b[38;5;241m.\u001b[39m_data_loader(uris) \u001b[38;5;28;01mfor\u001b[39;00m uris \u001b[38;5;129;01min\u001b[39;00m query_results[\u001b[38;5;124m\"\u001b[39m\u001b[38;5;124muris\u001b[39m\u001b[38;5;124m\"\u001b[39m]\n\u001b[0;32m    361\u001b[0m     ]\n",
      "File \u001b[1;32mc:\\Users\\ggvozden\\Anaconda3\\envs\\bigdata\\Lib\\site-packages\\chromadb\\telemetry\\opentelemetry\\__init__.py:127\u001b[0m, in \u001b[0;36mtrace_method.<locals>.decorator.<locals>.wrapper\u001b[1;34m(*args, **kwargs)\u001b[0m\n\u001b[0;32m    125\u001b[0m \u001b[38;5;28;01mglobal\u001b[39;00m tracer, granularity\n\u001b[0;32m    126\u001b[0m \u001b[38;5;28;01mif\u001b[39;00m trace_granularity \u001b[38;5;241m<\u001b[39m granularity:\n\u001b[1;32m--> 127\u001b[0m     \u001b[38;5;28;01mreturn\u001b[39;00m \u001b[43mf\u001b[49m\u001b[43m(\u001b[49m\u001b[38;5;241;43m*\u001b[39;49m\u001b[43margs\u001b[49m\u001b[43m,\u001b[49m\u001b[43m \u001b[49m\u001b[38;5;241;43m*\u001b[39;49m\u001b[38;5;241;43m*\u001b[39;49m\u001b[43mkwargs\u001b[49m\u001b[43m)\u001b[49m\n\u001b[0;32m    128\u001b[0m \u001b[38;5;28;01mif\u001b[39;00m \u001b[38;5;129;01mnot\u001b[39;00m tracer:\n\u001b[0;32m    129\u001b[0m     \u001b[38;5;28;01mreturn\u001b[39;00m f(\u001b[38;5;241m*\u001b[39margs, \u001b[38;5;241m*\u001b[39m\u001b[38;5;241m*\u001b[39mkwargs)\n",
      "File \u001b[1;32mc:\\Users\\ggvozden\\Anaconda3\\envs\\bigdata\\Lib\\site-packages\\chromadb\\api\\segment.py:674\u001b[0m, in \u001b[0;36mSegmentAPI._query\u001b[1;34m(self, collection_id, query_embeddings, n_results, where, where_document, include)\u001b[0m\n\u001b[0;32m    672\u001b[0m coll \u001b[38;5;241m=\u001b[39m \u001b[38;5;28mself\u001b[39m\u001b[38;5;241m.\u001b[39m_get_collection(collection_id)\n\u001b[0;32m    673\u001b[0m \u001b[38;5;28;01mfor\u001b[39;00m embedding \u001b[38;5;129;01min\u001b[39;00m query_embeddings:\n\u001b[1;32m--> 674\u001b[0m     \u001b[38;5;28;43mself\u001b[39;49m\u001b[38;5;241;43m.\u001b[39;49m\u001b[43m_validate_dimension\u001b[49m\u001b[43m(\u001b[49m\u001b[43mcoll\u001b[49m\u001b[43m,\u001b[49m\u001b[43m \u001b[49m\u001b[38;5;28;43mlen\u001b[39;49m\u001b[43m(\u001b[49m\u001b[43membedding\u001b[49m\u001b[43m)\u001b[49m\u001b[43m,\u001b[49m\u001b[43m \u001b[49m\u001b[43mupdate\u001b[49m\u001b[38;5;241;43m=\u001b[39;49m\u001b[38;5;28;43;01mFalse\u001b[39;49;00m\u001b[43m)\u001b[49m\n\u001b[0;32m    676\u001b[0m metadata_reader \u001b[38;5;241m=\u001b[39m \u001b[38;5;28mself\u001b[39m\u001b[38;5;241m.\u001b[39m_manager\u001b[38;5;241m.\u001b[39mget_segment(collection_id, MetadataReader)\n\u001b[0;32m    678\u001b[0m \u001b[38;5;28;01mif\u001b[39;00m where \u001b[38;5;129;01mor\u001b[39;00m where_document:\n",
      "File \u001b[1;32mc:\\Users\\ggvozden\\Anaconda3\\envs\\bigdata\\Lib\\site-packages\\chromadb\\telemetry\\opentelemetry\\__init__.py:127\u001b[0m, in \u001b[0;36mtrace_method.<locals>.decorator.<locals>.wrapper\u001b[1;34m(*args, **kwargs)\u001b[0m\n\u001b[0;32m    125\u001b[0m \u001b[38;5;28;01mglobal\u001b[39;00m tracer, granularity\n\u001b[0;32m    126\u001b[0m \u001b[38;5;28;01mif\u001b[39;00m trace_granularity \u001b[38;5;241m<\u001b[39m granularity:\n\u001b[1;32m--> 127\u001b[0m     \u001b[38;5;28;01mreturn\u001b[39;00m \u001b[43mf\u001b[49m\u001b[43m(\u001b[49m\u001b[38;5;241;43m*\u001b[39;49m\u001b[43margs\u001b[49m\u001b[43m,\u001b[49m\u001b[43m \u001b[49m\u001b[38;5;241;43m*\u001b[39;49m\u001b[38;5;241;43m*\u001b[39;49m\u001b[43mkwargs\u001b[49m\u001b[43m)\u001b[49m\n\u001b[0;32m    128\u001b[0m \u001b[38;5;28;01mif\u001b[39;00m \u001b[38;5;129;01mnot\u001b[39;00m tracer:\n\u001b[0;32m    129\u001b[0m     \u001b[38;5;28;01mreturn\u001b[39;00m f(\u001b[38;5;241m*\u001b[39margs, \u001b[38;5;241m*\u001b[39m\u001b[38;5;241m*\u001b[39mkwargs)\n",
      "File \u001b[1;32mc:\\Users\\ggvozden\\Anaconda3\\envs\\bigdata\\Lib\\site-packages\\chromadb\\api\\segment.py:814\u001b[0m, in \u001b[0;36mSegmentAPI._validate_dimension\u001b[1;34m(self, collection, dim, update)\u001b[0m\n\u001b[0;32m    812\u001b[0m         \u001b[38;5;28mself\u001b[39m\u001b[38;5;241m.\u001b[39m_collection_cache[\u001b[38;5;28mid\u001b[39m][\u001b[38;5;124m\"\u001b[39m\u001b[38;5;124mdimension\u001b[39m\u001b[38;5;124m\"\u001b[39m] \u001b[38;5;241m=\u001b[39m dim\n\u001b[0;32m    813\u001b[0m \u001b[38;5;28;01melif\u001b[39;00m collection[\u001b[38;5;124m\"\u001b[39m\u001b[38;5;124mdimension\u001b[39m\u001b[38;5;124m\"\u001b[39m] \u001b[38;5;241m!=\u001b[39m dim:\n\u001b[1;32m--> 814\u001b[0m     \u001b[38;5;28;01mraise\u001b[39;00m InvalidDimensionException(\n\u001b[0;32m    815\u001b[0m         \u001b[38;5;124mf\u001b[39m\u001b[38;5;124m\"\u001b[39m\u001b[38;5;124mEmbedding dimension \u001b[39m\u001b[38;5;132;01m{\u001b[39;00mdim\u001b[38;5;132;01m}\u001b[39;00m\u001b[38;5;124m does not match collection dimensionality \u001b[39m\u001b[38;5;132;01m{\u001b[39;00mcollection[\u001b[38;5;124m'\u001b[39m\u001b[38;5;124mdimension\u001b[39m\u001b[38;5;124m'\u001b[39m]\u001b[38;5;132;01m}\u001b[39;00m\u001b[38;5;124m\"\u001b[39m\n\u001b[0;32m    816\u001b[0m     )\n\u001b[0;32m    817\u001b[0m \u001b[38;5;28;01melse\u001b[39;00m:\n\u001b[0;32m    818\u001b[0m     \u001b[38;5;28;01mreturn\u001b[39;00m\n",
      "\u001b[1;31mInvalidDimensionException\u001b[0m: Embedding dimension 384 does not match collection dimensionality 768"
     ]
    }
   ],
   "source": [
    "results_ss = pi_db.similarity_search(query, k=3)\n",
    "pretty_chunks(results_ss)"
   ]
  },
  {
   "cell_type": "code",
   "execution_count": 46,
   "metadata": {},
   "outputs": [
    {
     "name": "stdout",
     "output_type": "stream",
     "text": [
      "Document 1:\n",
      "\n",
      "PRAV -99/17 Pravilnik o radu  1 / 25 \n",
      " \n",
      " \n",
      "  \n",
      " \n",
      " \n",
      " \n",
      " \n",
      "Broj: PRAV -99/17 \n",
      " \n",
      " \n",
      " \n",
      " \n",
      " \n",
      " \n",
      " \n",
      " \n",
      " \n",
      " \n",
      " \n",
      " \n",
      " \n",
      " \n",
      " \n",
      " \n",
      "PRAVILNIK O RADU\n",
      "----------------------------------------------------------------------------------------------------\n",
      "Document 2:\n",
      "\n",
      "samostalnost u njihovom određivanju.  \n",
      " \n",
      "Članak 3.  \n",
      "Ako je neko pravo iz radnog odnosa različito uređeno ugovorom o radu, Pravilnikom o radu, \n",
      "sporazumom sklopljenim između radničkog vijeća i Poslodavca  ili zakonom, primjenjuje se za radnika \n",
      "najpovoljnije pravo, ako Zakonom o radu ili drugim zakonom nije dru gačije određeno.  \n",
      " \n",
      "Članak 4.  \n",
      "Radnik je dužan:  \n",
      " radne zadatke i poslove utvrđene ugovorom o radu uredno i pravodobno izvršavati u skladu s \n",
      "naravi i vrstom rada te internim aktima Poslodavca , \n",
      " čuvati imovinu Poslodavca  i skrbiti o njenom održavanju,  \n",
      " biti na rad nom mjestu na vrijeme,  \n",
      " u slučaju spriječenosti dolaska na posao obavijestiti o tome bez odlaganja neposrednog \n",
      "rukovoditelja,  \n",
      " čuvati ugled i poslovnu tajnu Poslodavca , \n",
      " usavršavati svoje stručne i radne sposobnosti,  \n",
      " održavati profesionalni odnos prema drugim  radnicima,\n",
      "----------------------------------------------------------------------------------------------------\n",
      "Document 3:\n",
      "\n",
      "oglasnoj  ploči Poslodavca , gdje je dostupan svim radnicima, a stupa na snagu i primjenjuje se po isteku \n",
      "8 dana od dana objave odnosno od dana 20.10.2017. godine. Pravilnik se mijenja i dopunjuje na način \n",
      "koji je propisan za njegovo donošenje.  \n",
      " \n",
      "Stupanjem na snagu ovog Pravilnika pres taje se primjenjivati Pravilnik o radu br. PRAV -43/10 od \n",
      "31.08.2010.  \n",
      " \n",
      "Ovaj pravilnik donijela je uprava društva dana 10.10.2017 . godine.  \n",
      " \n",
      "Uprava društva:  \n",
      " \n",
      "__________________                    ___________________               ________________  \n",
      " \n",
      " Dražen Oreščanin  \n",
      "Predsjednik uprave  Anita Cvetić Oreščanin  \n",
      "Član uprave  Lidija Karaga  \n",
      "Član uprave\n"
     ]
    }
   ],
   "source": [
    "results_mmr=pi_db.max_marginal_relevance_search(query,k=3, fetch_k=15)\n",
    "pretty_chunks(results_mmr)"
   ]
  },
  {
   "cell_type": "code",
   "execution_count": 145,
   "metadata": {},
   "outputs": [
    {
     "ename": "InvalidDimensionException",
     "evalue": "Embedding dimension 384 does not match collection dimensionality 768",
     "output_type": "error",
     "traceback": [
      "\u001b[1;31m---------------------------------------------------------------------------\u001b[0m",
      "\u001b[1;31mInvalidDimensionException\u001b[0m                 Traceback (most recent call last)",
      "Cell \u001b[1;32mIn[145], line 17\u001b[0m\n\u001b[0;32m     12\u001b[0m compressor \u001b[38;5;241m=\u001b[39m LLMChainExtractor\u001b[38;5;241m.\u001b[39mfrom_llm(llm)\n\u001b[0;32m     13\u001b[0m compression_retriever \u001b[38;5;241m=\u001b[39m ContextualCompressionRetriever(\n\u001b[0;32m     14\u001b[0m     base_compressor\u001b[38;5;241m=\u001b[39mcompressor,\n\u001b[0;32m     15\u001b[0m     base_retriever\u001b[38;5;241m=\u001b[39mpi_db\u001b[38;5;241m.\u001b[39mas_retriever()\n\u001b[0;32m     16\u001b[0m )\n\u001b[1;32m---> 17\u001b[0m compressed_docs \u001b[38;5;241m=\u001b[39m \u001b[43mcompression_retriever\u001b[49m\u001b[38;5;241;43m.\u001b[39;49m\u001b[43mget_relevant_documents\u001b[49m\u001b[43m(\u001b[49m\u001b[43mquery\u001b[49m\u001b[43m,\u001b[49m\u001b[43m \u001b[49m\u001b[43mk\u001b[49m\u001b[38;5;241;43m=\u001b[39;49m\u001b[38;5;241;43m3\u001b[39;49m\u001b[43m)\u001b[49m\n\u001b[0;32m     18\u001b[0m pretty_chunks(compressed_docs)\n",
      "File \u001b[1;32mc:\\Users\\ggvozden\\Anaconda3\\envs\\bigdata\\Lib\\site-packages\\langchain_core\\retrievers.py:223\u001b[0m, in \u001b[0;36mBaseRetriever.get_relevant_documents\u001b[1;34m(self, query, callbacks, tags, metadata, run_name, **kwargs)\u001b[0m\n\u001b[0;32m    221\u001b[0m \u001b[38;5;28;01mexcept\u001b[39;00m \u001b[38;5;167;01mException\u001b[39;00m \u001b[38;5;28;01mas\u001b[39;00m e:\n\u001b[0;32m    222\u001b[0m     run_manager\u001b[38;5;241m.\u001b[39mon_retriever_error(e)\n\u001b[1;32m--> 223\u001b[0m     \u001b[38;5;28;01mraise\u001b[39;00m e\n\u001b[0;32m    224\u001b[0m \u001b[38;5;28;01melse\u001b[39;00m:\n\u001b[0;32m    225\u001b[0m     run_manager\u001b[38;5;241m.\u001b[39mon_retriever_end(\n\u001b[0;32m    226\u001b[0m         result,\n\u001b[0;32m    227\u001b[0m         \u001b[38;5;241m*\u001b[39m\u001b[38;5;241m*\u001b[39mkwargs,\n\u001b[0;32m    228\u001b[0m     )\n",
      "File \u001b[1;32mc:\\Users\\ggvozden\\Anaconda3\\envs\\bigdata\\Lib\\site-packages\\langchain_core\\retrievers.py:216\u001b[0m, in \u001b[0;36mBaseRetriever.get_relevant_documents\u001b[1;34m(self, query, callbacks, tags, metadata, run_name, **kwargs)\u001b[0m\n\u001b[0;32m    214\u001b[0m _kwargs \u001b[38;5;241m=\u001b[39m kwargs \u001b[38;5;28;01mif\u001b[39;00m \u001b[38;5;28mself\u001b[39m\u001b[38;5;241m.\u001b[39m_expects_other_args \u001b[38;5;28;01melse\u001b[39;00m {}\n\u001b[0;32m    215\u001b[0m \u001b[38;5;28;01mif\u001b[39;00m \u001b[38;5;28mself\u001b[39m\u001b[38;5;241m.\u001b[39m_new_arg_supported:\n\u001b[1;32m--> 216\u001b[0m     result \u001b[38;5;241m=\u001b[39m \u001b[38;5;28;43mself\u001b[39;49m\u001b[38;5;241;43m.\u001b[39;49m\u001b[43m_get_relevant_documents\u001b[49m\u001b[43m(\u001b[49m\n\u001b[0;32m    217\u001b[0m \u001b[43m        \u001b[49m\u001b[43mquery\u001b[49m\u001b[43m,\u001b[49m\u001b[43m \u001b[49m\u001b[43mrun_manager\u001b[49m\u001b[38;5;241;43m=\u001b[39;49m\u001b[43mrun_manager\u001b[49m\u001b[43m,\u001b[49m\u001b[43m \u001b[49m\u001b[38;5;241;43m*\u001b[39;49m\u001b[38;5;241;43m*\u001b[39;49m\u001b[43m_kwargs\u001b[49m\n\u001b[0;32m    218\u001b[0m \u001b[43m    \u001b[49m\u001b[43m)\u001b[49m\n\u001b[0;32m    219\u001b[0m \u001b[38;5;28;01melse\u001b[39;00m:\n\u001b[0;32m    220\u001b[0m     result \u001b[38;5;241m=\u001b[39m \u001b[38;5;28mself\u001b[39m\u001b[38;5;241m.\u001b[39m_get_relevant_documents(query, \u001b[38;5;241m*\u001b[39m\u001b[38;5;241m*\u001b[39m_kwargs)\n",
      "File \u001b[1;32mc:\\Users\\ggvozden\\Anaconda3\\envs\\bigdata\\Lib\\site-packages\\langchain\\retrievers\\contextual_compression.py:44\u001b[0m, in \u001b[0;36mContextualCompressionRetriever._get_relevant_documents\u001b[1;34m(self, query, run_manager, **kwargs)\u001b[0m\n\u001b[0;32m     29\u001b[0m \u001b[38;5;28;01mdef\u001b[39;00m \u001b[38;5;21m_get_relevant_documents\u001b[39m(\n\u001b[0;32m     30\u001b[0m     \u001b[38;5;28mself\u001b[39m,\n\u001b[0;32m     31\u001b[0m     query: \u001b[38;5;28mstr\u001b[39m,\n\u001b[1;32m   (...)\u001b[0m\n\u001b[0;32m     34\u001b[0m     \u001b[38;5;241m*\u001b[39m\u001b[38;5;241m*\u001b[39mkwargs: Any,\n\u001b[0;32m     35\u001b[0m ) \u001b[38;5;241m-\u001b[39m\u001b[38;5;241m>\u001b[39m List[Document]:\n\u001b[0;32m     36\u001b[0m \u001b[38;5;250m    \u001b[39m\u001b[38;5;124;03m\"\"\"Get documents relevant for a query.\u001b[39;00m\n\u001b[0;32m     37\u001b[0m \n\u001b[0;32m     38\u001b[0m \u001b[38;5;124;03m    Args:\u001b[39;00m\n\u001b[1;32m   (...)\u001b[0m\n\u001b[0;32m     42\u001b[0m \u001b[38;5;124;03m        Sequence of relevant documents\u001b[39;00m\n\u001b[0;32m     43\u001b[0m \u001b[38;5;124;03m    \"\"\"\u001b[39;00m\n\u001b[1;32m---> 44\u001b[0m     docs \u001b[38;5;241m=\u001b[39m \u001b[38;5;28;43mself\u001b[39;49m\u001b[38;5;241;43m.\u001b[39;49m\u001b[43mbase_retriever\u001b[49m\u001b[38;5;241;43m.\u001b[39;49m\u001b[43mget_relevant_documents\u001b[49m\u001b[43m(\u001b[49m\n\u001b[0;32m     45\u001b[0m \u001b[43m        \u001b[49m\u001b[43mquery\u001b[49m\u001b[43m,\u001b[49m\u001b[43m \u001b[49m\u001b[43mcallbacks\u001b[49m\u001b[38;5;241;43m=\u001b[39;49m\u001b[43mrun_manager\u001b[49m\u001b[38;5;241;43m.\u001b[39;49m\u001b[43mget_child\u001b[49m\u001b[43m(\u001b[49m\u001b[43m)\u001b[49m\u001b[43m,\u001b[49m\u001b[43m \u001b[49m\u001b[38;5;241;43m*\u001b[39;49m\u001b[38;5;241;43m*\u001b[39;49m\u001b[43mkwargs\u001b[49m\n\u001b[0;32m     46\u001b[0m \u001b[43m    \u001b[49m\u001b[43m)\u001b[49m\n\u001b[0;32m     47\u001b[0m     \u001b[38;5;28;01mif\u001b[39;00m docs:\n\u001b[0;32m     48\u001b[0m         compressed_docs \u001b[38;5;241m=\u001b[39m \u001b[38;5;28mself\u001b[39m\u001b[38;5;241m.\u001b[39mbase_compressor\u001b[38;5;241m.\u001b[39mcompress_documents(\n\u001b[0;32m     49\u001b[0m             docs, query, callbacks\u001b[38;5;241m=\u001b[39mrun_manager\u001b[38;5;241m.\u001b[39mget_child()\n\u001b[0;32m     50\u001b[0m         )\n",
      "File \u001b[1;32mc:\\Users\\ggvozden\\Anaconda3\\envs\\bigdata\\Lib\\site-packages\\langchain_core\\retrievers.py:223\u001b[0m, in \u001b[0;36mBaseRetriever.get_relevant_documents\u001b[1;34m(self, query, callbacks, tags, metadata, run_name, **kwargs)\u001b[0m\n\u001b[0;32m    221\u001b[0m \u001b[38;5;28;01mexcept\u001b[39;00m \u001b[38;5;167;01mException\u001b[39;00m \u001b[38;5;28;01mas\u001b[39;00m e:\n\u001b[0;32m    222\u001b[0m     run_manager\u001b[38;5;241m.\u001b[39mon_retriever_error(e)\n\u001b[1;32m--> 223\u001b[0m     \u001b[38;5;28;01mraise\u001b[39;00m e\n\u001b[0;32m    224\u001b[0m \u001b[38;5;28;01melse\u001b[39;00m:\n\u001b[0;32m    225\u001b[0m     run_manager\u001b[38;5;241m.\u001b[39mon_retriever_end(\n\u001b[0;32m    226\u001b[0m         result,\n\u001b[0;32m    227\u001b[0m         \u001b[38;5;241m*\u001b[39m\u001b[38;5;241m*\u001b[39mkwargs,\n\u001b[0;32m    228\u001b[0m     )\n",
      "File \u001b[1;32mc:\\Users\\ggvozden\\Anaconda3\\envs\\bigdata\\Lib\\site-packages\\langchain_core\\retrievers.py:216\u001b[0m, in \u001b[0;36mBaseRetriever.get_relevant_documents\u001b[1;34m(self, query, callbacks, tags, metadata, run_name, **kwargs)\u001b[0m\n\u001b[0;32m    214\u001b[0m _kwargs \u001b[38;5;241m=\u001b[39m kwargs \u001b[38;5;28;01mif\u001b[39;00m \u001b[38;5;28mself\u001b[39m\u001b[38;5;241m.\u001b[39m_expects_other_args \u001b[38;5;28;01melse\u001b[39;00m {}\n\u001b[0;32m    215\u001b[0m \u001b[38;5;28;01mif\u001b[39;00m \u001b[38;5;28mself\u001b[39m\u001b[38;5;241m.\u001b[39m_new_arg_supported:\n\u001b[1;32m--> 216\u001b[0m     result \u001b[38;5;241m=\u001b[39m \u001b[38;5;28;43mself\u001b[39;49m\u001b[38;5;241;43m.\u001b[39;49m\u001b[43m_get_relevant_documents\u001b[49m\u001b[43m(\u001b[49m\n\u001b[0;32m    217\u001b[0m \u001b[43m        \u001b[49m\u001b[43mquery\u001b[49m\u001b[43m,\u001b[49m\u001b[43m \u001b[49m\u001b[43mrun_manager\u001b[49m\u001b[38;5;241;43m=\u001b[39;49m\u001b[43mrun_manager\u001b[49m\u001b[43m,\u001b[49m\u001b[43m \u001b[49m\u001b[38;5;241;43m*\u001b[39;49m\u001b[38;5;241;43m*\u001b[39;49m\u001b[43m_kwargs\u001b[49m\n\u001b[0;32m    218\u001b[0m \u001b[43m    \u001b[49m\u001b[43m)\u001b[49m\n\u001b[0;32m    219\u001b[0m \u001b[38;5;28;01melse\u001b[39;00m:\n\u001b[0;32m    220\u001b[0m     result \u001b[38;5;241m=\u001b[39m \u001b[38;5;28mself\u001b[39m\u001b[38;5;241m.\u001b[39m_get_relevant_documents(query, \u001b[38;5;241m*\u001b[39m\u001b[38;5;241m*\u001b[39m_kwargs)\n",
      "File \u001b[1;32mc:\\Users\\ggvozden\\Anaconda3\\envs\\bigdata\\Lib\\site-packages\\langchain_core\\vectorstores.py:654\u001b[0m, in \u001b[0;36mVectorStoreRetriever._get_relevant_documents\u001b[1;34m(self, query, run_manager)\u001b[0m\n\u001b[0;32m    650\u001b[0m \u001b[38;5;28;01mdef\u001b[39;00m \u001b[38;5;21m_get_relevant_documents\u001b[39m(\n\u001b[0;32m    651\u001b[0m     \u001b[38;5;28mself\u001b[39m, query: \u001b[38;5;28mstr\u001b[39m, \u001b[38;5;241m*\u001b[39m, run_manager: CallbackManagerForRetrieverRun\n\u001b[0;32m    652\u001b[0m ) \u001b[38;5;241m-\u001b[39m\u001b[38;5;241m>\u001b[39m List[Document]:\n\u001b[0;32m    653\u001b[0m     \u001b[38;5;28;01mif\u001b[39;00m \u001b[38;5;28mself\u001b[39m\u001b[38;5;241m.\u001b[39msearch_type \u001b[38;5;241m==\u001b[39m \u001b[38;5;124m\"\u001b[39m\u001b[38;5;124msimilarity\u001b[39m\u001b[38;5;124m\"\u001b[39m:\n\u001b[1;32m--> 654\u001b[0m         docs \u001b[38;5;241m=\u001b[39m \u001b[38;5;28;43mself\u001b[39;49m\u001b[38;5;241;43m.\u001b[39;49m\u001b[43mvectorstore\u001b[49m\u001b[38;5;241;43m.\u001b[39;49m\u001b[43msimilarity_search\u001b[49m\u001b[43m(\u001b[49m\u001b[43mquery\u001b[49m\u001b[43m,\u001b[49m\u001b[43m \u001b[49m\u001b[38;5;241;43m*\u001b[39;49m\u001b[38;5;241;43m*\u001b[39;49m\u001b[38;5;28;43mself\u001b[39;49m\u001b[38;5;241;43m.\u001b[39;49m\u001b[43msearch_kwargs\u001b[49m\u001b[43m)\u001b[49m\n\u001b[0;32m    655\u001b[0m     \u001b[38;5;28;01melif\u001b[39;00m \u001b[38;5;28mself\u001b[39m\u001b[38;5;241m.\u001b[39msearch_type \u001b[38;5;241m==\u001b[39m \u001b[38;5;124m\"\u001b[39m\u001b[38;5;124msimilarity_score_threshold\u001b[39m\u001b[38;5;124m\"\u001b[39m:\n\u001b[0;32m    656\u001b[0m         docs_and_similarities \u001b[38;5;241m=\u001b[39m (\n\u001b[0;32m    657\u001b[0m             \u001b[38;5;28mself\u001b[39m\u001b[38;5;241m.\u001b[39mvectorstore\u001b[38;5;241m.\u001b[39msimilarity_search_with_relevance_scores(\n\u001b[0;32m    658\u001b[0m                 query, \u001b[38;5;241m*\u001b[39m\u001b[38;5;241m*\u001b[39m\u001b[38;5;28mself\u001b[39m\u001b[38;5;241m.\u001b[39msearch_kwargs\n\u001b[0;32m    659\u001b[0m             )\n\u001b[0;32m    660\u001b[0m         )\n",
      "File \u001b[1;32mc:\\Users\\ggvozden\\Anaconda3\\envs\\bigdata\\Lib\\site-packages\\langchain_community\\vectorstores\\chroma.py:348\u001b[0m, in \u001b[0;36mChroma.similarity_search\u001b[1;34m(self, query, k, filter, **kwargs)\u001b[0m\n\u001b[0;32m    331\u001b[0m \u001b[38;5;28;01mdef\u001b[39;00m \u001b[38;5;21msimilarity_search\u001b[39m(\n\u001b[0;32m    332\u001b[0m     \u001b[38;5;28mself\u001b[39m,\n\u001b[0;32m    333\u001b[0m     query: \u001b[38;5;28mstr\u001b[39m,\n\u001b[1;32m   (...)\u001b[0m\n\u001b[0;32m    336\u001b[0m     \u001b[38;5;241m*\u001b[39m\u001b[38;5;241m*\u001b[39mkwargs: Any,\n\u001b[0;32m    337\u001b[0m ) \u001b[38;5;241m-\u001b[39m\u001b[38;5;241m>\u001b[39m List[Document]:\n\u001b[0;32m    338\u001b[0m \u001b[38;5;250m    \u001b[39m\u001b[38;5;124;03m\"\"\"Run similarity search with Chroma.\u001b[39;00m\n\u001b[0;32m    339\u001b[0m \n\u001b[0;32m    340\u001b[0m \u001b[38;5;124;03m    Args:\u001b[39;00m\n\u001b[1;32m   (...)\u001b[0m\n\u001b[0;32m    346\u001b[0m \u001b[38;5;124;03m        List[Document]: List of documents most similar to the query text.\u001b[39;00m\n\u001b[0;32m    347\u001b[0m \u001b[38;5;124;03m    \"\"\"\u001b[39;00m\n\u001b[1;32m--> 348\u001b[0m     docs_and_scores \u001b[38;5;241m=\u001b[39m \u001b[38;5;28;43mself\u001b[39;49m\u001b[38;5;241;43m.\u001b[39;49m\u001b[43msimilarity_search_with_score\u001b[49m\u001b[43m(\u001b[49m\n\u001b[0;32m    349\u001b[0m \u001b[43m        \u001b[49m\u001b[43mquery\u001b[49m\u001b[43m,\u001b[49m\u001b[43m \u001b[49m\u001b[43mk\u001b[49m\u001b[43m,\u001b[49m\u001b[43m \u001b[49m\u001b[38;5;28;43mfilter\u001b[39;49m\u001b[38;5;241;43m=\u001b[39;49m\u001b[38;5;28;43mfilter\u001b[39;49m\u001b[43m,\u001b[49m\u001b[43m \u001b[49m\u001b[38;5;241;43m*\u001b[39;49m\u001b[38;5;241;43m*\u001b[39;49m\u001b[43mkwargs\u001b[49m\n\u001b[0;32m    350\u001b[0m \u001b[43m    \u001b[49m\u001b[43m)\u001b[49m\n\u001b[0;32m    351\u001b[0m     \u001b[38;5;28;01mreturn\u001b[39;00m [doc \u001b[38;5;28;01mfor\u001b[39;00m doc, _ \u001b[38;5;129;01min\u001b[39;00m docs_and_scores]\n",
      "File \u001b[1;32mc:\\Users\\ggvozden\\Anaconda3\\envs\\bigdata\\Lib\\site-packages\\langchain_community\\vectorstores\\chroma.py:438\u001b[0m, in \u001b[0;36mChroma.similarity_search_with_score\u001b[1;34m(self, query, k, filter, where_document, **kwargs)\u001b[0m\n\u001b[0;32m    436\u001b[0m \u001b[38;5;28;01melse\u001b[39;00m:\n\u001b[0;32m    437\u001b[0m     query_embedding \u001b[38;5;241m=\u001b[39m \u001b[38;5;28mself\u001b[39m\u001b[38;5;241m.\u001b[39m_embedding_function\u001b[38;5;241m.\u001b[39membed_query(query)\n\u001b[1;32m--> 438\u001b[0m     results \u001b[38;5;241m=\u001b[39m \u001b[38;5;28;43mself\u001b[39;49m\u001b[38;5;241;43m.\u001b[39;49m\u001b[43m__query_collection\u001b[49m\u001b[43m(\u001b[49m\n\u001b[0;32m    439\u001b[0m \u001b[43m        \u001b[49m\u001b[43mquery_embeddings\u001b[49m\u001b[38;5;241;43m=\u001b[39;49m\u001b[43m[\u001b[49m\u001b[43mquery_embedding\u001b[49m\u001b[43m]\u001b[49m\u001b[43m,\u001b[49m\n\u001b[0;32m    440\u001b[0m \u001b[43m        \u001b[49m\u001b[43mn_results\u001b[49m\u001b[38;5;241;43m=\u001b[39;49m\u001b[43mk\u001b[49m\u001b[43m,\u001b[49m\n\u001b[0;32m    441\u001b[0m \u001b[43m        \u001b[49m\u001b[43mwhere\u001b[49m\u001b[38;5;241;43m=\u001b[39;49m\u001b[38;5;28;43mfilter\u001b[39;49m\u001b[43m,\u001b[49m\n\u001b[0;32m    442\u001b[0m \u001b[43m        \u001b[49m\u001b[43mwhere_document\u001b[49m\u001b[38;5;241;43m=\u001b[39;49m\u001b[43mwhere_document\u001b[49m\u001b[43m,\u001b[49m\n\u001b[0;32m    443\u001b[0m \u001b[43m        \u001b[49m\u001b[38;5;241;43m*\u001b[39;49m\u001b[38;5;241;43m*\u001b[39;49m\u001b[43mkwargs\u001b[49m\u001b[43m,\u001b[49m\n\u001b[0;32m    444\u001b[0m \u001b[43m    \u001b[49m\u001b[43m)\u001b[49m\n\u001b[0;32m    446\u001b[0m \u001b[38;5;28;01mreturn\u001b[39;00m _results_to_docs_and_scores(results)\n",
      "File \u001b[1;32mc:\\Users\\ggvozden\\Anaconda3\\envs\\bigdata\\Lib\\site-packages\\langchain_core\\utils\\utils.py:35\u001b[0m, in \u001b[0;36mxor_args.<locals>.decorator.<locals>.wrapper\u001b[1;34m(*args, **kwargs)\u001b[0m\n\u001b[0;32m     29\u001b[0m     invalid_group_names \u001b[38;5;241m=\u001b[39m [\u001b[38;5;124m\"\u001b[39m\u001b[38;5;124m, \u001b[39m\u001b[38;5;124m\"\u001b[39m\u001b[38;5;241m.\u001b[39mjoin(arg_groups[i]) \u001b[38;5;28;01mfor\u001b[39;00m i \u001b[38;5;129;01min\u001b[39;00m invalid_groups]\n\u001b[0;32m     30\u001b[0m     \u001b[38;5;28;01mraise\u001b[39;00m \u001b[38;5;167;01mValueError\u001b[39;00m(\n\u001b[0;32m     31\u001b[0m         \u001b[38;5;124m\"\u001b[39m\u001b[38;5;124mExactly one argument in each of the following\u001b[39m\u001b[38;5;124m\"\u001b[39m\n\u001b[0;32m     32\u001b[0m         \u001b[38;5;124m\"\u001b[39m\u001b[38;5;124m groups must be defined:\u001b[39m\u001b[38;5;124m\"\u001b[39m\n\u001b[0;32m     33\u001b[0m         \u001b[38;5;124mf\u001b[39m\u001b[38;5;124m\"\u001b[39m\u001b[38;5;124m \u001b[39m\u001b[38;5;132;01m{\u001b[39;00m\u001b[38;5;124m'\u001b[39m\u001b[38;5;124m, \u001b[39m\u001b[38;5;124m'\u001b[39m\u001b[38;5;241m.\u001b[39mjoin(invalid_group_names)\u001b[38;5;132;01m}\u001b[39;00m\u001b[38;5;124m\"\u001b[39m\n\u001b[0;32m     34\u001b[0m     )\n\u001b[1;32m---> 35\u001b[0m \u001b[38;5;28;01mreturn\u001b[39;00m \u001b[43mfunc\u001b[49m\u001b[43m(\u001b[49m\u001b[38;5;241;43m*\u001b[39;49m\u001b[43margs\u001b[49m\u001b[43m,\u001b[49m\u001b[43m \u001b[49m\u001b[38;5;241;43m*\u001b[39;49m\u001b[38;5;241;43m*\u001b[39;49m\u001b[43mkwargs\u001b[49m\u001b[43m)\u001b[49m\n",
      "File \u001b[1;32mc:\\Users\\ggvozden\\Anaconda3\\envs\\bigdata\\Lib\\site-packages\\langchain_community\\vectorstores\\chroma.py:155\u001b[0m, in \u001b[0;36mChroma.__query_collection\u001b[1;34m(self, query_texts, query_embeddings, n_results, where, where_document, **kwargs)\u001b[0m\n\u001b[0;32m    150\u001b[0m \u001b[38;5;28;01mexcept\u001b[39;00m \u001b[38;5;167;01mImportError\u001b[39;00m:\n\u001b[0;32m    151\u001b[0m     \u001b[38;5;28;01mraise\u001b[39;00m \u001b[38;5;167;01mValueError\u001b[39;00m(\n\u001b[0;32m    152\u001b[0m         \u001b[38;5;124m\"\u001b[39m\u001b[38;5;124mCould not import chromadb python package. \u001b[39m\u001b[38;5;124m\"\u001b[39m\n\u001b[0;32m    153\u001b[0m         \u001b[38;5;124m\"\u001b[39m\u001b[38;5;124mPlease install it with `pip install chromadb`.\u001b[39m\u001b[38;5;124m\"\u001b[39m\n\u001b[0;32m    154\u001b[0m     )\n\u001b[1;32m--> 155\u001b[0m \u001b[38;5;28;01mreturn\u001b[39;00m \u001b[38;5;28;43mself\u001b[39;49m\u001b[38;5;241;43m.\u001b[39;49m\u001b[43m_collection\u001b[49m\u001b[38;5;241;43m.\u001b[39;49m\u001b[43mquery\u001b[49m\u001b[43m(\u001b[49m\n\u001b[0;32m    156\u001b[0m \u001b[43m    \u001b[49m\u001b[43mquery_texts\u001b[49m\u001b[38;5;241;43m=\u001b[39;49m\u001b[43mquery_texts\u001b[49m\u001b[43m,\u001b[49m\n\u001b[0;32m    157\u001b[0m \u001b[43m    \u001b[49m\u001b[43mquery_embeddings\u001b[49m\u001b[38;5;241;43m=\u001b[39;49m\u001b[43mquery_embeddings\u001b[49m\u001b[43m,\u001b[49m\n\u001b[0;32m    158\u001b[0m \u001b[43m    \u001b[49m\u001b[43mn_results\u001b[49m\u001b[38;5;241;43m=\u001b[39;49m\u001b[43mn_results\u001b[49m\u001b[43m,\u001b[49m\n\u001b[0;32m    159\u001b[0m \u001b[43m    \u001b[49m\u001b[43mwhere\u001b[49m\u001b[38;5;241;43m=\u001b[39;49m\u001b[43mwhere\u001b[49m\u001b[43m,\u001b[49m\n\u001b[0;32m    160\u001b[0m \u001b[43m    \u001b[49m\u001b[43mwhere_document\u001b[49m\u001b[38;5;241;43m=\u001b[39;49m\u001b[43mwhere_document\u001b[49m\u001b[43m,\u001b[49m\n\u001b[0;32m    161\u001b[0m \u001b[43m    \u001b[49m\u001b[38;5;241;43m*\u001b[39;49m\u001b[38;5;241;43m*\u001b[39;49m\u001b[43mkwargs\u001b[49m\u001b[43m,\u001b[49m\n\u001b[0;32m    162\u001b[0m \u001b[43m\u001b[49m\u001b[43m)\u001b[49m\n",
      "File \u001b[1;32mc:\\Users\\ggvozden\\Anaconda3\\envs\\bigdata\\Lib\\site-packages\\chromadb\\api\\models\\Collection.py:345\u001b[0m, in \u001b[0;36mCollection.query\u001b[1;34m(self, query_embeddings, query_texts, query_images, query_uris, n_results, where, where_document, include)\u001b[0m\n\u001b[0;32m    343\u001b[0m \u001b[38;5;28;01mif\u001b[39;00m \u001b[38;5;124m\"\u001b[39m\u001b[38;5;124mdata\u001b[39m\u001b[38;5;124m\"\u001b[39m \u001b[38;5;129;01min\u001b[39;00m include \u001b[38;5;129;01mand\u001b[39;00m \u001b[38;5;124m\"\u001b[39m\u001b[38;5;124muris\u001b[39m\u001b[38;5;124m\"\u001b[39m \u001b[38;5;129;01mnot\u001b[39;00m \u001b[38;5;129;01min\u001b[39;00m include:\n\u001b[0;32m    344\u001b[0m     valid_include\u001b[38;5;241m.\u001b[39mappend(\u001b[38;5;124m\"\u001b[39m\u001b[38;5;124muris\u001b[39m\u001b[38;5;124m\"\u001b[39m)\n\u001b[1;32m--> 345\u001b[0m query_results \u001b[38;5;241m=\u001b[39m \u001b[38;5;28;43mself\u001b[39;49m\u001b[38;5;241;43m.\u001b[39;49m\u001b[43m_client\u001b[49m\u001b[38;5;241;43m.\u001b[39;49m\u001b[43m_query\u001b[49m\u001b[43m(\u001b[49m\n\u001b[0;32m    346\u001b[0m \u001b[43m    \u001b[49m\u001b[43mcollection_id\u001b[49m\u001b[38;5;241;43m=\u001b[39;49m\u001b[38;5;28;43mself\u001b[39;49m\u001b[38;5;241;43m.\u001b[39;49m\u001b[43mid\u001b[49m\u001b[43m,\u001b[49m\n\u001b[0;32m    347\u001b[0m \u001b[43m    \u001b[49m\u001b[43mquery_embeddings\u001b[49m\u001b[38;5;241;43m=\u001b[39;49m\u001b[43mvalid_query_embeddings\u001b[49m\u001b[43m,\u001b[49m\n\u001b[0;32m    348\u001b[0m \u001b[43m    \u001b[49m\u001b[43mn_results\u001b[49m\u001b[38;5;241;43m=\u001b[39;49m\u001b[43mvalid_n_results\u001b[49m\u001b[43m,\u001b[49m\n\u001b[0;32m    349\u001b[0m \u001b[43m    \u001b[49m\u001b[43mwhere\u001b[49m\u001b[38;5;241;43m=\u001b[39;49m\u001b[43mvalid_where\u001b[49m\u001b[43m,\u001b[49m\n\u001b[0;32m    350\u001b[0m \u001b[43m    \u001b[49m\u001b[43mwhere_document\u001b[49m\u001b[38;5;241;43m=\u001b[39;49m\u001b[43mvalid_where_document\u001b[49m\u001b[43m,\u001b[49m\n\u001b[0;32m    351\u001b[0m \u001b[43m    \u001b[49m\u001b[43minclude\u001b[49m\u001b[38;5;241;43m=\u001b[39;49m\u001b[43minclude\u001b[49m\u001b[43m,\u001b[49m\n\u001b[0;32m    352\u001b[0m \u001b[43m\u001b[49m\u001b[43m)\u001b[49m\n\u001b[0;32m    354\u001b[0m \u001b[38;5;28;01mif\u001b[39;00m (\n\u001b[0;32m    355\u001b[0m     \u001b[38;5;124m\"\u001b[39m\u001b[38;5;124mdata\u001b[39m\u001b[38;5;124m\"\u001b[39m \u001b[38;5;129;01min\u001b[39;00m include\n\u001b[0;32m    356\u001b[0m     \u001b[38;5;129;01mand\u001b[39;00m \u001b[38;5;28mself\u001b[39m\u001b[38;5;241m.\u001b[39m_data_loader \u001b[38;5;129;01mis\u001b[39;00m \u001b[38;5;129;01mnot\u001b[39;00m \u001b[38;5;28;01mNone\u001b[39;00m\n\u001b[0;32m    357\u001b[0m     \u001b[38;5;129;01mand\u001b[39;00m query_results[\u001b[38;5;124m\"\u001b[39m\u001b[38;5;124muris\u001b[39m\u001b[38;5;124m\"\u001b[39m] \u001b[38;5;129;01mis\u001b[39;00m \u001b[38;5;129;01mnot\u001b[39;00m \u001b[38;5;28;01mNone\u001b[39;00m\n\u001b[0;32m    358\u001b[0m ):\n\u001b[0;32m    359\u001b[0m     query_results[\u001b[38;5;124m\"\u001b[39m\u001b[38;5;124mdata\u001b[39m\u001b[38;5;124m\"\u001b[39m] \u001b[38;5;241m=\u001b[39m [\n\u001b[0;32m    360\u001b[0m         \u001b[38;5;28mself\u001b[39m\u001b[38;5;241m.\u001b[39m_data_loader(uris) \u001b[38;5;28;01mfor\u001b[39;00m uris \u001b[38;5;129;01min\u001b[39;00m query_results[\u001b[38;5;124m\"\u001b[39m\u001b[38;5;124muris\u001b[39m\u001b[38;5;124m\"\u001b[39m]\n\u001b[0;32m    361\u001b[0m     ]\n",
      "File \u001b[1;32mc:\\Users\\ggvozden\\Anaconda3\\envs\\bigdata\\Lib\\site-packages\\chromadb\\telemetry\\opentelemetry\\__init__.py:127\u001b[0m, in \u001b[0;36mtrace_method.<locals>.decorator.<locals>.wrapper\u001b[1;34m(*args, **kwargs)\u001b[0m\n\u001b[0;32m    125\u001b[0m \u001b[38;5;28;01mglobal\u001b[39;00m tracer, granularity\n\u001b[0;32m    126\u001b[0m \u001b[38;5;28;01mif\u001b[39;00m trace_granularity \u001b[38;5;241m<\u001b[39m granularity:\n\u001b[1;32m--> 127\u001b[0m     \u001b[38;5;28;01mreturn\u001b[39;00m \u001b[43mf\u001b[49m\u001b[43m(\u001b[49m\u001b[38;5;241;43m*\u001b[39;49m\u001b[43margs\u001b[49m\u001b[43m,\u001b[49m\u001b[43m \u001b[49m\u001b[38;5;241;43m*\u001b[39;49m\u001b[38;5;241;43m*\u001b[39;49m\u001b[43mkwargs\u001b[49m\u001b[43m)\u001b[49m\n\u001b[0;32m    128\u001b[0m \u001b[38;5;28;01mif\u001b[39;00m \u001b[38;5;129;01mnot\u001b[39;00m tracer:\n\u001b[0;32m    129\u001b[0m     \u001b[38;5;28;01mreturn\u001b[39;00m f(\u001b[38;5;241m*\u001b[39margs, \u001b[38;5;241m*\u001b[39m\u001b[38;5;241m*\u001b[39mkwargs)\n",
      "File \u001b[1;32mc:\\Users\\ggvozden\\Anaconda3\\envs\\bigdata\\Lib\\site-packages\\chromadb\\api\\segment.py:674\u001b[0m, in \u001b[0;36mSegmentAPI._query\u001b[1;34m(self, collection_id, query_embeddings, n_results, where, where_document, include)\u001b[0m\n\u001b[0;32m    672\u001b[0m coll \u001b[38;5;241m=\u001b[39m \u001b[38;5;28mself\u001b[39m\u001b[38;5;241m.\u001b[39m_get_collection(collection_id)\n\u001b[0;32m    673\u001b[0m \u001b[38;5;28;01mfor\u001b[39;00m embedding \u001b[38;5;129;01min\u001b[39;00m query_embeddings:\n\u001b[1;32m--> 674\u001b[0m     \u001b[38;5;28;43mself\u001b[39;49m\u001b[38;5;241;43m.\u001b[39;49m\u001b[43m_validate_dimension\u001b[49m\u001b[43m(\u001b[49m\u001b[43mcoll\u001b[49m\u001b[43m,\u001b[49m\u001b[43m \u001b[49m\u001b[38;5;28;43mlen\u001b[39;49m\u001b[43m(\u001b[49m\u001b[43membedding\u001b[49m\u001b[43m)\u001b[49m\u001b[43m,\u001b[49m\u001b[43m \u001b[49m\u001b[43mupdate\u001b[49m\u001b[38;5;241;43m=\u001b[39;49m\u001b[38;5;28;43;01mFalse\u001b[39;49;00m\u001b[43m)\u001b[49m\n\u001b[0;32m    676\u001b[0m metadata_reader \u001b[38;5;241m=\u001b[39m \u001b[38;5;28mself\u001b[39m\u001b[38;5;241m.\u001b[39m_manager\u001b[38;5;241m.\u001b[39mget_segment(collection_id, MetadataReader)\n\u001b[0;32m    678\u001b[0m \u001b[38;5;28;01mif\u001b[39;00m where \u001b[38;5;129;01mor\u001b[39;00m where_document:\n",
      "File \u001b[1;32mc:\\Users\\ggvozden\\Anaconda3\\envs\\bigdata\\Lib\\site-packages\\chromadb\\telemetry\\opentelemetry\\__init__.py:127\u001b[0m, in \u001b[0;36mtrace_method.<locals>.decorator.<locals>.wrapper\u001b[1;34m(*args, **kwargs)\u001b[0m\n\u001b[0;32m    125\u001b[0m \u001b[38;5;28;01mglobal\u001b[39;00m tracer, granularity\n\u001b[0;32m    126\u001b[0m \u001b[38;5;28;01mif\u001b[39;00m trace_granularity \u001b[38;5;241m<\u001b[39m granularity:\n\u001b[1;32m--> 127\u001b[0m     \u001b[38;5;28;01mreturn\u001b[39;00m \u001b[43mf\u001b[49m\u001b[43m(\u001b[49m\u001b[38;5;241;43m*\u001b[39;49m\u001b[43margs\u001b[49m\u001b[43m,\u001b[49m\u001b[43m \u001b[49m\u001b[38;5;241;43m*\u001b[39;49m\u001b[38;5;241;43m*\u001b[39;49m\u001b[43mkwargs\u001b[49m\u001b[43m)\u001b[49m\n\u001b[0;32m    128\u001b[0m \u001b[38;5;28;01mif\u001b[39;00m \u001b[38;5;129;01mnot\u001b[39;00m tracer:\n\u001b[0;32m    129\u001b[0m     \u001b[38;5;28;01mreturn\u001b[39;00m f(\u001b[38;5;241m*\u001b[39margs, \u001b[38;5;241m*\u001b[39m\u001b[38;5;241m*\u001b[39mkwargs)\n",
      "File \u001b[1;32mc:\\Users\\ggvozden\\Anaconda3\\envs\\bigdata\\Lib\\site-packages\\chromadb\\api\\segment.py:814\u001b[0m, in \u001b[0;36mSegmentAPI._validate_dimension\u001b[1;34m(self, collection, dim, update)\u001b[0m\n\u001b[0;32m    812\u001b[0m         \u001b[38;5;28mself\u001b[39m\u001b[38;5;241m.\u001b[39m_collection_cache[\u001b[38;5;28mid\u001b[39m][\u001b[38;5;124m\"\u001b[39m\u001b[38;5;124mdimension\u001b[39m\u001b[38;5;124m\"\u001b[39m] \u001b[38;5;241m=\u001b[39m dim\n\u001b[0;32m    813\u001b[0m \u001b[38;5;28;01melif\u001b[39;00m collection[\u001b[38;5;124m\"\u001b[39m\u001b[38;5;124mdimension\u001b[39m\u001b[38;5;124m\"\u001b[39m] \u001b[38;5;241m!=\u001b[39m dim:\n\u001b[1;32m--> 814\u001b[0m     \u001b[38;5;28;01mraise\u001b[39;00m InvalidDimensionException(\n\u001b[0;32m    815\u001b[0m         \u001b[38;5;124mf\u001b[39m\u001b[38;5;124m\"\u001b[39m\u001b[38;5;124mEmbedding dimension \u001b[39m\u001b[38;5;132;01m{\u001b[39;00mdim\u001b[38;5;132;01m}\u001b[39;00m\u001b[38;5;124m does not match collection dimensionality \u001b[39m\u001b[38;5;132;01m{\u001b[39;00mcollection[\u001b[38;5;124m'\u001b[39m\u001b[38;5;124mdimension\u001b[39m\u001b[38;5;124m'\u001b[39m]\u001b[38;5;132;01m}\u001b[39;00m\u001b[38;5;124m\"\u001b[39m\n\u001b[0;32m    816\u001b[0m     )\n\u001b[0;32m    817\u001b[0m \u001b[38;5;28;01melse\u001b[39;00m:\n\u001b[0;32m    818\u001b[0m     \u001b[38;5;28;01mreturn\u001b[39;00m\n",
      "\u001b[1;31mInvalidDimensionException\u001b[0m: Embedding dimension 384 does not match collection dimensionality 768"
     ]
    }
   ],
   "source": [
    "from langchain.llms import OpenAI\n",
    "from langchain.retrievers import ContextualCompressionRetriever\n",
    "from langchain.retrievers.document_compressors import LLMChainExtractor\n",
    "\n",
    "\n",
    "llm = OpenAI(temperature=0, \n",
    "             model_name=\"gpt-3.5-turbo-instruct\",\n",
    "             openai_api_key=os.environ.get(\"OPENAI_API_KEY\"),\n",
    "             verbose=True\n",
    "             )\n",
    "                \n",
    "compressor = LLMChainExtractor.from_llm(llm)\n",
    "compression_retriever = ContextualCompressionRetriever(\n",
    "    base_compressor=compressor,\n",
    "    base_retriever=pi_db.as_retriever()\n",
    ")\n",
    "compressed_docs = compression_retriever.get_relevant_documents(query, k=3)\n",
    "pretty_chunks(compressed_docs)"
   ]
  },
  {
   "cell_type": "markdown",
   "metadata": {},
   "source": [
    "Initialize LLM model "
   ]
  },
  {
   "cell_type": "code",
   "execution_count": 146,
   "metadata": {},
   "outputs": [],
   "source": [
    "from langchain.llms import OpenAI\n",
    "\n",
    "llm = OpenAI(temperature=0, \n",
    "             model_name=\"gpt-3.5-turbo-instruct\",\n",
    "             openai_api_key=os.environ.get(\"OPENAI_API_KEY\"),\n",
    "             verbose=True\n",
    "             )"
   ]
  },
  {
   "cell_type": "markdown",
   "metadata": {},
   "source": [
    "# Question & Answering\n"
   ]
  },
  {
   "cell_type": "markdown",
   "metadata": {},
   "source": [
    "## Extract the metrics information from income statement"
   ]
  },
  {
   "cell_type": "code",
   "execution_count": 148,
   "metadata": {},
   "outputs": [
    {
     "name": "stdout",
     "output_type": "stream",
     "text": [
      "\n",
      "\n",
      "\u001b[1m> Entering new RetrievalQA chain...\u001b[0m\n"
     ]
    },
    {
     "name": "stderr",
     "output_type": "stream",
     "text": [
      "c:\\Users\\ggvozden\\Anaconda3\\envs\\bigdata\\Lib\\site-packages\\langchain_community\\llms\\openai.py:249: UserWarning: You are trying to use a chat model. This way of initializing it is no longer supported. Instead, please use: `from langchain_community.chat_models import ChatOpenAI`\n",
      "  warnings.warn(\n",
      "c:\\Users\\ggvozden\\Anaconda3\\envs\\bigdata\\Lib\\site-packages\\langchain_community\\llms\\openai.py:1061: UserWarning: You are trying to use a chat model. This way of initializing it is no longer supported. Instead, please use: `from langchain_community.chat_models import ChatOpenAI`\n",
      "  try:\n"
     ]
    },
    {
     "ename": "InvalidDimensionException",
     "evalue": "Embedding dimension 384 does not match collection dimensionality 768",
     "output_type": "error",
     "traceback": [
      "\u001b[1;31m---------------------------------------------------------------------------\u001b[0m",
      "\u001b[1;31mInvalidDimensionException\u001b[0m                 Traceback (most recent call last)",
      "Cell \u001b[1;32mIn[148], line 25\u001b[0m\n\u001b[0;32m     17\u001b[0m llm \u001b[38;5;241m=\u001b[39m OpenAI(\n\u001b[0;32m     18\u001b[0m     temperature\u001b[38;5;241m=\u001b[39m\u001b[38;5;241m0\u001b[39m, \n\u001b[0;32m     19\u001b[0m     model_name\u001b[38;5;241m=\u001b[39m\u001b[38;5;124m\"\u001b[39m\u001b[38;5;124mgpt-3.5-turbo\u001b[39m\u001b[38;5;124m\"\u001b[39m,\n\u001b[0;32m     20\u001b[0m     openai_api_key\u001b[38;5;241m=\u001b[39mos\u001b[38;5;241m.\u001b[39menviron\u001b[38;5;241m.\u001b[39mget(\u001b[38;5;124m\"\u001b[39m\u001b[38;5;124mOPENAI_API_KEY\u001b[39m\u001b[38;5;124m\"\u001b[39m),\n\u001b[0;32m     21\u001b[0m     verbose\u001b[38;5;241m=\u001b[39m\u001b[38;5;28;01mTrue\u001b[39;00m\n\u001b[0;32m     22\u001b[0m                 )\n\u001b[0;32m     24\u001b[0m qa_chain \u001b[38;5;241m=\u001b[39m RetrievalQA\u001b[38;5;241m.\u001b[39mfrom_chain_type(llm, retriever\u001b[38;5;241m=\u001b[39mpi_db\u001b[38;5;241m.\u001b[39mas_retriever(), verbose\u001b[38;5;241m=\u001b[39m\u001b[38;5;28;01mTrue\u001b[39;00m, return_source_documents\u001b[38;5;241m=\u001b[39m\u001b[38;5;28;01mTrue\u001b[39;00m)\n\u001b[1;32m---> 25\u001b[0m result \u001b[38;5;241m=\u001b[39m \u001b[43mqa_chain\u001b[49m\u001b[43m(\u001b[49m\u001b[43m{\u001b[49m\u001b[38;5;124;43m\"\u001b[39;49m\u001b[38;5;124;43mquery\u001b[39;49m\u001b[38;5;124;43m\"\u001b[39;49m\u001b[43m:\u001b[49m\u001b[43m \u001b[49m\u001b[43mquery\u001b[49m\u001b[43m}\u001b[49m\u001b[43m)\u001b[49m\n",
      "File \u001b[1;32mc:\\Users\\ggvozden\\Anaconda3\\envs\\bigdata\\Lib\\site-packages\\langchain_core\\_api\\deprecation.py:145\u001b[0m, in \u001b[0;36mdeprecated.<locals>.deprecate.<locals>.warning_emitting_wrapper\u001b[1;34m(*args, **kwargs)\u001b[0m\n\u001b[0;32m    143\u001b[0m     warned \u001b[38;5;241m=\u001b[39m \u001b[38;5;28;01mTrue\u001b[39;00m\n\u001b[0;32m    144\u001b[0m     emit_warning()\n\u001b[1;32m--> 145\u001b[0m \u001b[38;5;28;01mreturn\u001b[39;00m \u001b[43mwrapped\u001b[49m\u001b[43m(\u001b[49m\u001b[38;5;241;43m*\u001b[39;49m\u001b[43margs\u001b[49m\u001b[43m,\u001b[49m\u001b[43m \u001b[49m\u001b[38;5;241;43m*\u001b[39;49m\u001b[38;5;241;43m*\u001b[39;49m\u001b[43mkwargs\u001b[49m\u001b[43m)\u001b[49m\n",
      "File \u001b[1;32mc:\\Users\\ggvozden\\Anaconda3\\envs\\bigdata\\Lib\\site-packages\\langchain\\chains\\base.py:363\u001b[0m, in \u001b[0;36mChain.__call__\u001b[1;34m(self, inputs, return_only_outputs, callbacks, tags, metadata, run_name, include_run_info)\u001b[0m\n\u001b[0;32m    331\u001b[0m \u001b[38;5;250m\u001b[39m\u001b[38;5;124;03m\"\"\"Execute the chain.\u001b[39;00m\n\u001b[0;32m    332\u001b[0m \n\u001b[0;32m    333\u001b[0m \u001b[38;5;124;03mArgs:\u001b[39;00m\n\u001b[1;32m   (...)\u001b[0m\n\u001b[0;32m    354\u001b[0m \u001b[38;5;124;03m        `Chain.output_keys`.\u001b[39;00m\n\u001b[0;32m    355\u001b[0m \u001b[38;5;124;03m\"\"\"\u001b[39;00m\n\u001b[0;32m    356\u001b[0m config \u001b[38;5;241m=\u001b[39m {\n\u001b[0;32m    357\u001b[0m     \u001b[38;5;124m\"\u001b[39m\u001b[38;5;124mcallbacks\u001b[39m\u001b[38;5;124m\"\u001b[39m: callbacks,\n\u001b[0;32m    358\u001b[0m     \u001b[38;5;124m\"\u001b[39m\u001b[38;5;124mtags\u001b[39m\u001b[38;5;124m\"\u001b[39m: tags,\n\u001b[0;32m    359\u001b[0m     \u001b[38;5;124m\"\u001b[39m\u001b[38;5;124mmetadata\u001b[39m\u001b[38;5;124m\"\u001b[39m: metadata,\n\u001b[0;32m    360\u001b[0m     \u001b[38;5;124m\"\u001b[39m\u001b[38;5;124mrun_name\u001b[39m\u001b[38;5;124m\"\u001b[39m: run_name,\n\u001b[0;32m    361\u001b[0m }\n\u001b[1;32m--> 363\u001b[0m \u001b[38;5;28;01mreturn\u001b[39;00m \u001b[38;5;28;43mself\u001b[39;49m\u001b[38;5;241;43m.\u001b[39;49m\u001b[43minvoke\u001b[49m\u001b[43m(\u001b[49m\n\u001b[0;32m    364\u001b[0m \u001b[43m    \u001b[49m\u001b[43minputs\u001b[49m\u001b[43m,\u001b[49m\n\u001b[0;32m    365\u001b[0m \u001b[43m    \u001b[49m\u001b[43mcast\u001b[49m\u001b[43m(\u001b[49m\u001b[43mRunnableConfig\u001b[49m\u001b[43m,\u001b[49m\u001b[43m \u001b[49m\u001b[43m{\u001b[49m\u001b[43mk\u001b[49m\u001b[43m:\u001b[49m\u001b[43m \u001b[49m\u001b[43mv\u001b[49m\u001b[43m \u001b[49m\u001b[38;5;28;43;01mfor\u001b[39;49;00m\u001b[43m \u001b[49m\u001b[43mk\u001b[49m\u001b[43m,\u001b[49m\u001b[43m \u001b[49m\u001b[43mv\u001b[49m\u001b[43m \u001b[49m\u001b[38;5;129;43;01min\u001b[39;49;00m\u001b[43m \u001b[49m\u001b[43mconfig\u001b[49m\u001b[38;5;241;43m.\u001b[39;49m\u001b[43mitems\u001b[49m\u001b[43m(\u001b[49m\u001b[43m)\u001b[49m\u001b[43m \u001b[49m\u001b[38;5;28;43;01mif\u001b[39;49;00m\u001b[43m \u001b[49m\u001b[43mv\u001b[49m\u001b[43m \u001b[49m\u001b[38;5;129;43;01mis\u001b[39;49;00m\u001b[43m \u001b[49m\u001b[38;5;129;43;01mnot\u001b[39;49;00m\u001b[43m \u001b[49m\u001b[38;5;28;43;01mNone\u001b[39;49;00m\u001b[43m}\u001b[49m\u001b[43m)\u001b[49m\u001b[43m,\u001b[49m\n\u001b[0;32m    366\u001b[0m \u001b[43m    \u001b[49m\u001b[43mreturn_only_outputs\u001b[49m\u001b[38;5;241;43m=\u001b[39;49m\u001b[43mreturn_only_outputs\u001b[49m\u001b[43m,\u001b[49m\n\u001b[0;32m    367\u001b[0m \u001b[43m    \u001b[49m\u001b[43minclude_run_info\u001b[49m\u001b[38;5;241;43m=\u001b[39;49m\u001b[43minclude_run_info\u001b[49m\u001b[43m,\u001b[49m\n\u001b[0;32m    368\u001b[0m \u001b[43m\u001b[49m\u001b[43m)\u001b[49m\n",
      "File \u001b[1;32mc:\\Users\\ggvozden\\Anaconda3\\envs\\bigdata\\Lib\\site-packages\\langchain\\chains\\base.py:162\u001b[0m, in \u001b[0;36mChain.invoke\u001b[1;34m(self, input, config, **kwargs)\u001b[0m\n\u001b[0;32m    160\u001b[0m \u001b[38;5;28;01mexcept\u001b[39;00m \u001b[38;5;167;01mBaseException\u001b[39;00m \u001b[38;5;28;01mas\u001b[39;00m e:\n\u001b[0;32m    161\u001b[0m     run_manager\u001b[38;5;241m.\u001b[39mon_chain_error(e)\n\u001b[1;32m--> 162\u001b[0m     \u001b[38;5;28;01mraise\u001b[39;00m e\n\u001b[0;32m    163\u001b[0m run_manager\u001b[38;5;241m.\u001b[39mon_chain_end(outputs)\n\u001b[0;32m    164\u001b[0m final_outputs: Dict[\u001b[38;5;28mstr\u001b[39m, Any] \u001b[38;5;241m=\u001b[39m \u001b[38;5;28mself\u001b[39m\u001b[38;5;241m.\u001b[39mprep_outputs(\n\u001b[0;32m    165\u001b[0m     inputs, outputs, return_only_outputs\n\u001b[0;32m    166\u001b[0m )\n",
      "File \u001b[1;32mc:\\Users\\ggvozden\\Anaconda3\\envs\\bigdata\\Lib\\site-packages\\langchain\\chains\\base.py:156\u001b[0m, in \u001b[0;36mChain.invoke\u001b[1;34m(self, input, config, **kwargs)\u001b[0m\n\u001b[0;32m    149\u001b[0m run_manager \u001b[38;5;241m=\u001b[39m callback_manager\u001b[38;5;241m.\u001b[39mon_chain_start(\n\u001b[0;32m    150\u001b[0m     dumpd(\u001b[38;5;28mself\u001b[39m),\n\u001b[0;32m    151\u001b[0m     inputs,\n\u001b[0;32m    152\u001b[0m     name\u001b[38;5;241m=\u001b[39mrun_name,\n\u001b[0;32m    153\u001b[0m )\n\u001b[0;32m    154\u001b[0m \u001b[38;5;28;01mtry\u001b[39;00m:\n\u001b[0;32m    155\u001b[0m     outputs \u001b[38;5;241m=\u001b[39m (\n\u001b[1;32m--> 156\u001b[0m         \u001b[38;5;28;43mself\u001b[39;49m\u001b[38;5;241;43m.\u001b[39;49m\u001b[43m_call\u001b[49m\u001b[43m(\u001b[49m\u001b[43minputs\u001b[49m\u001b[43m,\u001b[49m\u001b[43m \u001b[49m\u001b[43mrun_manager\u001b[49m\u001b[38;5;241;43m=\u001b[39;49m\u001b[43mrun_manager\u001b[49m\u001b[43m)\u001b[49m\n\u001b[0;32m    157\u001b[0m         \u001b[38;5;28;01mif\u001b[39;00m new_arg_supported\n\u001b[0;32m    158\u001b[0m         \u001b[38;5;28;01melse\u001b[39;00m \u001b[38;5;28mself\u001b[39m\u001b[38;5;241m.\u001b[39m_call(inputs)\n\u001b[0;32m    159\u001b[0m     )\n\u001b[0;32m    160\u001b[0m \u001b[38;5;28;01mexcept\u001b[39;00m \u001b[38;5;167;01mBaseException\u001b[39;00m \u001b[38;5;28;01mas\u001b[39;00m e:\n\u001b[0;32m    161\u001b[0m     run_manager\u001b[38;5;241m.\u001b[39mon_chain_error(e)\n",
      "File \u001b[1;32mc:\\Users\\ggvozden\\Anaconda3\\envs\\bigdata\\Lib\\site-packages\\langchain\\chains\\retrieval_qa\\base.py:141\u001b[0m, in \u001b[0;36mBaseRetrievalQA._call\u001b[1;34m(self, inputs, run_manager)\u001b[0m\n\u001b[0;32m    137\u001b[0m accepts_run_manager \u001b[38;5;241m=\u001b[39m (\n\u001b[0;32m    138\u001b[0m     \u001b[38;5;124m\"\u001b[39m\u001b[38;5;124mrun_manager\u001b[39m\u001b[38;5;124m\"\u001b[39m \u001b[38;5;129;01min\u001b[39;00m inspect\u001b[38;5;241m.\u001b[39msignature(\u001b[38;5;28mself\u001b[39m\u001b[38;5;241m.\u001b[39m_get_docs)\u001b[38;5;241m.\u001b[39mparameters\n\u001b[0;32m    139\u001b[0m )\n\u001b[0;32m    140\u001b[0m \u001b[38;5;28;01mif\u001b[39;00m accepts_run_manager:\n\u001b[1;32m--> 141\u001b[0m     docs \u001b[38;5;241m=\u001b[39m \u001b[38;5;28;43mself\u001b[39;49m\u001b[38;5;241;43m.\u001b[39;49m\u001b[43m_get_docs\u001b[49m\u001b[43m(\u001b[49m\u001b[43mquestion\u001b[49m\u001b[43m,\u001b[49m\u001b[43m \u001b[49m\u001b[43mrun_manager\u001b[49m\u001b[38;5;241;43m=\u001b[39;49m\u001b[43m_run_manager\u001b[49m\u001b[43m)\u001b[49m\n\u001b[0;32m    142\u001b[0m \u001b[38;5;28;01melse\u001b[39;00m:\n\u001b[0;32m    143\u001b[0m     docs \u001b[38;5;241m=\u001b[39m \u001b[38;5;28mself\u001b[39m\u001b[38;5;241m.\u001b[39m_get_docs(question)  \u001b[38;5;66;03m# type: ignore[call-arg]\u001b[39;00m\n",
      "File \u001b[1;32mc:\\Users\\ggvozden\\Anaconda3\\envs\\bigdata\\Lib\\site-packages\\langchain\\chains\\retrieval_qa\\base.py:221\u001b[0m, in \u001b[0;36mRetrievalQA._get_docs\u001b[1;34m(self, question, run_manager)\u001b[0m\n\u001b[0;32m    214\u001b[0m \u001b[38;5;28;01mdef\u001b[39;00m \u001b[38;5;21m_get_docs\u001b[39m(\n\u001b[0;32m    215\u001b[0m     \u001b[38;5;28mself\u001b[39m,\n\u001b[0;32m    216\u001b[0m     question: \u001b[38;5;28mstr\u001b[39m,\n\u001b[0;32m    217\u001b[0m     \u001b[38;5;241m*\u001b[39m,\n\u001b[0;32m    218\u001b[0m     run_manager: CallbackManagerForChainRun,\n\u001b[0;32m    219\u001b[0m ) \u001b[38;5;241m-\u001b[39m\u001b[38;5;241m>\u001b[39m List[Document]:\n\u001b[0;32m    220\u001b[0m \u001b[38;5;250m    \u001b[39m\u001b[38;5;124;03m\"\"\"Get docs.\"\"\"\u001b[39;00m\n\u001b[1;32m--> 221\u001b[0m     \u001b[38;5;28;01mreturn\u001b[39;00m \u001b[38;5;28;43mself\u001b[39;49m\u001b[38;5;241;43m.\u001b[39;49m\u001b[43mretriever\u001b[49m\u001b[38;5;241;43m.\u001b[39;49m\u001b[43mget_relevant_documents\u001b[49m\u001b[43m(\u001b[49m\n\u001b[0;32m    222\u001b[0m \u001b[43m        \u001b[49m\u001b[43mquestion\u001b[49m\u001b[43m,\u001b[49m\u001b[43m \u001b[49m\u001b[43mcallbacks\u001b[49m\u001b[38;5;241;43m=\u001b[39;49m\u001b[43mrun_manager\u001b[49m\u001b[38;5;241;43m.\u001b[39;49m\u001b[43mget_child\u001b[49m\u001b[43m(\u001b[49m\u001b[43m)\u001b[49m\n\u001b[0;32m    223\u001b[0m \u001b[43m    \u001b[49m\u001b[43m)\u001b[49m\n",
      "File \u001b[1;32mc:\\Users\\ggvozden\\Anaconda3\\envs\\bigdata\\Lib\\site-packages\\langchain_core\\retrievers.py:223\u001b[0m, in \u001b[0;36mBaseRetriever.get_relevant_documents\u001b[1;34m(self, query, callbacks, tags, metadata, run_name, **kwargs)\u001b[0m\n\u001b[0;32m    221\u001b[0m \u001b[38;5;28;01mexcept\u001b[39;00m \u001b[38;5;167;01mException\u001b[39;00m \u001b[38;5;28;01mas\u001b[39;00m e:\n\u001b[0;32m    222\u001b[0m     run_manager\u001b[38;5;241m.\u001b[39mon_retriever_error(e)\n\u001b[1;32m--> 223\u001b[0m     \u001b[38;5;28;01mraise\u001b[39;00m e\n\u001b[0;32m    224\u001b[0m \u001b[38;5;28;01melse\u001b[39;00m:\n\u001b[0;32m    225\u001b[0m     run_manager\u001b[38;5;241m.\u001b[39mon_retriever_end(\n\u001b[0;32m    226\u001b[0m         result,\n\u001b[0;32m    227\u001b[0m         \u001b[38;5;241m*\u001b[39m\u001b[38;5;241m*\u001b[39mkwargs,\n\u001b[0;32m    228\u001b[0m     )\n",
      "File \u001b[1;32mc:\\Users\\ggvozden\\Anaconda3\\envs\\bigdata\\Lib\\site-packages\\langchain_core\\retrievers.py:216\u001b[0m, in \u001b[0;36mBaseRetriever.get_relevant_documents\u001b[1;34m(self, query, callbacks, tags, metadata, run_name, **kwargs)\u001b[0m\n\u001b[0;32m    214\u001b[0m _kwargs \u001b[38;5;241m=\u001b[39m kwargs \u001b[38;5;28;01mif\u001b[39;00m \u001b[38;5;28mself\u001b[39m\u001b[38;5;241m.\u001b[39m_expects_other_args \u001b[38;5;28;01melse\u001b[39;00m {}\n\u001b[0;32m    215\u001b[0m \u001b[38;5;28;01mif\u001b[39;00m \u001b[38;5;28mself\u001b[39m\u001b[38;5;241m.\u001b[39m_new_arg_supported:\n\u001b[1;32m--> 216\u001b[0m     result \u001b[38;5;241m=\u001b[39m \u001b[38;5;28;43mself\u001b[39;49m\u001b[38;5;241;43m.\u001b[39;49m\u001b[43m_get_relevant_documents\u001b[49m\u001b[43m(\u001b[49m\n\u001b[0;32m    217\u001b[0m \u001b[43m        \u001b[49m\u001b[43mquery\u001b[49m\u001b[43m,\u001b[49m\u001b[43m \u001b[49m\u001b[43mrun_manager\u001b[49m\u001b[38;5;241;43m=\u001b[39;49m\u001b[43mrun_manager\u001b[49m\u001b[43m,\u001b[49m\u001b[43m \u001b[49m\u001b[38;5;241;43m*\u001b[39;49m\u001b[38;5;241;43m*\u001b[39;49m\u001b[43m_kwargs\u001b[49m\n\u001b[0;32m    218\u001b[0m \u001b[43m    \u001b[49m\u001b[43m)\u001b[49m\n\u001b[0;32m    219\u001b[0m \u001b[38;5;28;01melse\u001b[39;00m:\n\u001b[0;32m    220\u001b[0m     result \u001b[38;5;241m=\u001b[39m \u001b[38;5;28mself\u001b[39m\u001b[38;5;241m.\u001b[39m_get_relevant_documents(query, \u001b[38;5;241m*\u001b[39m\u001b[38;5;241m*\u001b[39m_kwargs)\n",
      "File \u001b[1;32mc:\\Users\\ggvozden\\Anaconda3\\envs\\bigdata\\Lib\\site-packages\\langchain_core\\vectorstores.py:654\u001b[0m, in \u001b[0;36mVectorStoreRetriever._get_relevant_documents\u001b[1;34m(self, query, run_manager)\u001b[0m\n\u001b[0;32m    650\u001b[0m \u001b[38;5;28;01mdef\u001b[39;00m \u001b[38;5;21m_get_relevant_documents\u001b[39m(\n\u001b[0;32m    651\u001b[0m     \u001b[38;5;28mself\u001b[39m, query: \u001b[38;5;28mstr\u001b[39m, \u001b[38;5;241m*\u001b[39m, run_manager: CallbackManagerForRetrieverRun\n\u001b[0;32m    652\u001b[0m ) \u001b[38;5;241m-\u001b[39m\u001b[38;5;241m>\u001b[39m List[Document]:\n\u001b[0;32m    653\u001b[0m     \u001b[38;5;28;01mif\u001b[39;00m \u001b[38;5;28mself\u001b[39m\u001b[38;5;241m.\u001b[39msearch_type \u001b[38;5;241m==\u001b[39m \u001b[38;5;124m\"\u001b[39m\u001b[38;5;124msimilarity\u001b[39m\u001b[38;5;124m\"\u001b[39m:\n\u001b[1;32m--> 654\u001b[0m         docs \u001b[38;5;241m=\u001b[39m \u001b[38;5;28;43mself\u001b[39;49m\u001b[38;5;241;43m.\u001b[39;49m\u001b[43mvectorstore\u001b[49m\u001b[38;5;241;43m.\u001b[39;49m\u001b[43msimilarity_search\u001b[49m\u001b[43m(\u001b[49m\u001b[43mquery\u001b[49m\u001b[43m,\u001b[49m\u001b[43m \u001b[49m\u001b[38;5;241;43m*\u001b[39;49m\u001b[38;5;241;43m*\u001b[39;49m\u001b[38;5;28;43mself\u001b[39;49m\u001b[38;5;241;43m.\u001b[39;49m\u001b[43msearch_kwargs\u001b[49m\u001b[43m)\u001b[49m\n\u001b[0;32m    655\u001b[0m     \u001b[38;5;28;01melif\u001b[39;00m \u001b[38;5;28mself\u001b[39m\u001b[38;5;241m.\u001b[39msearch_type \u001b[38;5;241m==\u001b[39m \u001b[38;5;124m\"\u001b[39m\u001b[38;5;124msimilarity_score_threshold\u001b[39m\u001b[38;5;124m\"\u001b[39m:\n\u001b[0;32m    656\u001b[0m         docs_and_similarities \u001b[38;5;241m=\u001b[39m (\n\u001b[0;32m    657\u001b[0m             \u001b[38;5;28mself\u001b[39m\u001b[38;5;241m.\u001b[39mvectorstore\u001b[38;5;241m.\u001b[39msimilarity_search_with_relevance_scores(\n\u001b[0;32m    658\u001b[0m                 query, \u001b[38;5;241m*\u001b[39m\u001b[38;5;241m*\u001b[39m\u001b[38;5;28mself\u001b[39m\u001b[38;5;241m.\u001b[39msearch_kwargs\n\u001b[0;32m    659\u001b[0m             )\n\u001b[0;32m    660\u001b[0m         )\n",
      "File \u001b[1;32mc:\\Users\\ggvozden\\Anaconda3\\envs\\bigdata\\Lib\\site-packages\\langchain_community\\vectorstores\\chroma.py:348\u001b[0m, in \u001b[0;36mChroma.similarity_search\u001b[1;34m(self, query, k, filter, **kwargs)\u001b[0m\n\u001b[0;32m    331\u001b[0m \u001b[38;5;28;01mdef\u001b[39;00m \u001b[38;5;21msimilarity_search\u001b[39m(\n\u001b[0;32m    332\u001b[0m     \u001b[38;5;28mself\u001b[39m,\n\u001b[0;32m    333\u001b[0m     query: \u001b[38;5;28mstr\u001b[39m,\n\u001b[1;32m   (...)\u001b[0m\n\u001b[0;32m    336\u001b[0m     \u001b[38;5;241m*\u001b[39m\u001b[38;5;241m*\u001b[39mkwargs: Any,\n\u001b[0;32m    337\u001b[0m ) \u001b[38;5;241m-\u001b[39m\u001b[38;5;241m>\u001b[39m List[Document]:\n\u001b[0;32m    338\u001b[0m \u001b[38;5;250m    \u001b[39m\u001b[38;5;124;03m\"\"\"Run similarity search with Chroma.\u001b[39;00m\n\u001b[0;32m    339\u001b[0m \n\u001b[0;32m    340\u001b[0m \u001b[38;5;124;03m    Args:\u001b[39;00m\n\u001b[1;32m   (...)\u001b[0m\n\u001b[0;32m    346\u001b[0m \u001b[38;5;124;03m        List[Document]: List of documents most similar to the query text.\u001b[39;00m\n\u001b[0;32m    347\u001b[0m \u001b[38;5;124;03m    \"\"\"\u001b[39;00m\n\u001b[1;32m--> 348\u001b[0m     docs_and_scores \u001b[38;5;241m=\u001b[39m \u001b[38;5;28;43mself\u001b[39;49m\u001b[38;5;241;43m.\u001b[39;49m\u001b[43msimilarity_search_with_score\u001b[49m\u001b[43m(\u001b[49m\n\u001b[0;32m    349\u001b[0m \u001b[43m        \u001b[49m\u001b[43mquery\u001b[49m\u001b[43m,\u001b[49m\u001b[43m \u001b[49m\u001b[43mk\u001b[49m\u001b[43m,\u001b[49m\u001b[43m \u001b[49m\u001b[38;5;28;43mfilter\u001b[39;49m\u001b[38;5;241;43m=\u001b[39;49m\u001b[38;5;28;43mfilter\u001b[39;49m\u001b[43m,\u001b[49m\u001b[43m \u001b[49m\u001b[38;5;241;43m*\u001b[39;49m\u001b[38;5;241;43m*\u001b[39;49m\u001b[43mkwargs\u001b[49m\n\u001b[0;32m    350\u001b[0m \u001b[43m    \u001b[49m\u001b[43m)\u001b[49m\n\u001b[0;32m    351\u001b[0m     \u001b[38;5;28;01mreturn\u001b[39;00m [doc \u001b[38;5;28;01mfor\u001b[39;00m doc, _ \u001b[38;5;129;01min\u001b[39;00m docs_and_scores]\n",
      "File \u001b[1;32mc:\\Users\\ggvozden\\Anaconda3\\envs\\bigdata\\Lib\\site-packages\\langchain_community\\vectorstores\\chroma.py:438\u001b[0m, in \u001b[0;36mChroma.similarity_search_with_score\u001b[1;34m(self, query, k, filter, where_document, **kwargs)\u001b[0m\n\u001b[0;32m    436\u001b[0m \u001b[38;5;28;01melse\u001b[39;00m:\n\u001b[0;32m    437\u001b[0m     query_embedding \u001b[38;5;241m=\u001b[39m \u001b[38;5;28mself\u001b[39m\u001b[38;5;241m.\u001b[39m_embedding_function\u001b[38;5;241m.\u001b[39membed_query(query)\n\u001b[1;32m--> 438\u001b[0m     results \u001b[38;5;241m=\u001b[39m \u001b[38;5;28;43mself\u001b[39;49m\u001b[38;5;241;43m.\u001b[39;49m\u001b[43m__query_collection\u001b[49m\u001b[43m(\u001b[49m\n\u001b[0;32m    439\u001b[0m \u001b[43m        \u001b[49m\u001b[43mquery_embeddings\u001b[49m\u001b[38;5;241;43m=\u001b[39;49m\u001b[43m[\u001b[49m\u001b[43mquery_embedding\u001b[49m\u001b[43m]\u001b[49m\u001b[43m,\u001b[49m\n\u001b[0;32m    440\u001b[0m \u001b[43m        \u001b[49m\u001b[43mn_results\u001b[49m\u001b[38;5;241;43m=\u001b[39;49m\u001b[43mk\u001b[49m\u001b[43m,\u001b[49m\n\u001b[0;32m    441\u001b[0m \u001b[43m        \u001b[49m\u001b[43mwhere\u001b[49m\u001b[38;5;241;43m=\u001b[39;49m\u001b[38;5;28;43mfilter\u001b[39;49m\u001b[43m,\u001b[49m\n\u001b[0;32m    442\u001b[0m \u001b[43m        \u001b[49m\u001b[43mwhere_document\u001b[49m\u001b[38;5;241;43m=\u001b[39;49m\u001b[43mwhere_document\u001b[49m\u001b[43m,\u001b[49m\n\u001b[0;32m    443\u001b[0m \u001b[43m        \u001b[49m\u001b[38;5;241;43m*\u001b[39;49m\u001b[38;5;241;43m*\u001b[39;49m\u001b[43mkwargs\u001b[49m\u001b[43m,\u001b[49m\n\u001b[0;32m    444\u001b[0m \u001b[43m    \u001b[49m\u001b[43m)\u001b[49m\n\u001b[0;32m    446\u001b[0m \u001b[38;5;28;01mreturn\u001b[39;00m _results_to_docs_and_scores(results)\n",
      "File \u001b[1;32mc:\\Users\\ggvozden\\Anaconda3\\envs\\bigdata\\Lib\\site-packages\\langchain_core\\utils\\utils.py:35\u001b[0m, in \u001b[0;36mxor_args.<locals>.decorator.<locals>.wrapper\u001b[1;34m(*args, **kwargs)\u001b[0m\n\u001b[0;32m     29\u001b[0m     invalid_group_names \u001b[38;5;241m=\u001b[39m [\u001b[38;5;124m\"\u001b[39m\u001b[38;5;124m, \u001b[39m\u001b[38;5;124m\"\u001b[39m\u001b[38;5;241m.\u001b[39mjoin(arg_groups[i]) \u001b[38;5;28;01mfor\u001b[39;00m i \u001b[38;5;129;01min\u001b[39;00m invalid_groups]\n\u001b[0;32m     30\u001b[0m     \u001b[38;5;28;01mraise\u001b[39;00m \u001b[38;5;167;01mValueError\u001b[39;00m(\n\u001b[0;32m     31\u001b[0m         \u001b[38;5;124m\"\u001b[39m\u001b[38;5;124mExactly one argument in each of the following\u001b[39m\u001b[38;5;124m\"\u001b[39m\n\u001b[0;32m     32\u001b[0m         \u001b[38;5;124m\"\u001b[39m\u001b[38;5;124m groups must be defined:\u001b[39m\u001b[38;5;124m\"\u001b[39m\n\u001b[0;32m     33\u001b[0m         \u001b[38;5;124mf\u001b[39m\u001b[38;5;124m\"\u001b[39m\u001b[38;5;124m \u001b[39m\u001b[38;5;132;01m{\u001b[39;00m\u001b[38;5;124m'\u001b[39m\u001b[38;5;124m, \u001b[39m\u001b[38;5;124m'\u001b[39m\u001b[38;5;241m.\u001b[39mjoin(invalid_group_names)\u001b[38;5;132;01m}\u001b[39;00m\u001b[38;5;124m\"\u001b[39m\n\u001b[0;32m     34\u001b[0m     )\n\u001b[1;32m---> 35\u001b[0m \u001b[38;5;28;01mreturn\u001b[39;00m \u001b[43mfunc\u001b[49m\u001b[43m(\u001b[49m\u001b[38;5;241;43m*\u001b[39;49m\u001b[43margs\u001b[49m\u001b[43m,\u001b[49m\u001b[43m \u001b[49m\u001b[38;5;241;43m*\u001b[39;49m\u001b[38;5;241;43m*\u001b[39;49m\u001b[43mkwargs\u001b[49m\u001b[43m)\u001b[49m\n",
      "File \u001b[1;32mc:\\Users\\ggvozden\\Anaconda3\\envs\\bigdata\\Lib\\site-packages\\langchain_community\\vectorstores\\chroma.py:155\u001b[0m, in \u001b[0;36mChroma.__query_collection\u001b[1;34m(self, query_texts, query_embeddings, n_results, where, where_document, **kwargs)\u001b[0m\n\u001b[0;32m    150\u001b[0m \u001b[38;5;28;01mexcept\u001b[39;00m \u001b[38;5;167;01mImportError\u001b[39;00m:\n\u001b[0;32m    151\u001b[0m     \u001b[38;5;28;01mraise\u001b[39;00m \u001b[38;5;167;01mValueError\u001b[39;00m(\n\u001b[0;32m    152\u001b[0m         \u001b[38;5;124m\"\u001b[39m\u001b[38;5;124mCould not import chromadb python package. \u001b[39m\u001b[38;5;124m\"\u001b[39m\n\u001b[0;32m    153\u001b[0m         \u001b[38;5;124m\"\u001b[39m\u001b[38;5;124mPlease install it with `pip install chromadb`.\u001b[39m\u001b[38;5;124m\"\u001b[39m\n\u001b[0;32m    154\u001b[0m     )\n\u001b[1;32m--> 155\u001b[0m \u001b[38;5;28;01mreturn\u001b[39;00m \u001b[38;5;28;43mself\u001b[39;49m\u001b[38;5;241;43m.\u001b[39;49m\u001b[43m_collection\u001b[49m\u001b[38;5;241;43m.\u001b[39;49m\u001b[43mquery\u001b[49m\u001b[43m(\u001b[49m\n\u001b[0;32m    156\u001b[0m \u001b[43m    \u001b[49m\u001b[43mquery_texts\u001b[49m\u001b[38;5;241;43m=\u001b[39;49m\u001b[43mquery_texts\u001b[49m\u001b[43m,\u001b[49m\n\u001b[0;32m    157\u001b[0m \u001b[43m    \u001b[49m\u001b[43mquery_embeddings\u001b[49m\u001b[38;5;241;43m=\u001b[39;49m\u001b[43mquery_embeddings\u001b[49m\u001b[43m,\u001b[49m\n\u001b[0;32m    158\u001b[0m \u001b[43m    \u001b[49m\u001b[43mn_results\u001b[49m\u001b[38;5;241;43m=\u001b[39;49m\u001b[43mn_results\u001b[49m\u001b[43m,\u001b[49m\n\u001b[0;32m    159\u001b[0m \u001b[43m    \u001b[49m\u001b[43mwhere\u001b[49m\u001b[38;5;241;43m=\u001b[39;49m\u001b[43mwhere\u001b[49m\u001b[43m,\u001b[49m\n\u001b[0;32m    160\u001b[0m \u001b[43m    \u001b[49m\u001b[43mwhere_document\u001b[49m\u001b[38;5;241;43m=\u001b[39;49m\u001b[43mwhere_document\u001b[49m\u001b[43m,\u001b[49m\n\u001b[0;32m    161\u001b[0m \u001b[43m    \u001b[49m\u001b[38;5;241;43m*\u001b[39;49m\u001b[38;5;241;43m*\u001b[39;49m\u001b[43mkwargs\u001b[49m\u001b[43m,\u001b[49m\n\u001b[0;32m    162\u001b[0m \u001b[43m\u001b[49m\u001b[43m)\u001b[49m\n",
      "File \u001b[1;32mc:\\Users\\ggvozden\\Anaconda3\\envs\\bigdata\\Lib\\site-packages\\chromadb\\api\\models\\Collection.py:345\u001b[0m, in \u001b[0;36mCollection.query\u001b[1;34m(self, query_embeddings, query_texts, query_images, query_uris, n_results, where, where_document, include)\u001b[0m\n\u001b[0;32m    343\u001b[0m \u001b[38;5;28;01mif\u001b[39;00m \u001b[38;5;124m\"\u001b[39m\u001b[38;5;124mdata\u001b[39m\u001b[38;5;124m\"\u001b[39m \u001b[38;5;129;01min\u001b[39;00m include \u001b[38;5;129;01mand\u001b[39;00m \u001b[38;5;124m\"\u001b[39m\u001b[38;5;124muris\u001b[39m\u001b[38;5;124m\"\u001b[39m \u001b[38;5;129;01mnot\u001b[39;00m \u001b[38;5;129;01min\u001b[39;00m include:\n\u001b[0;32m    344\u001b[0m     valid_include\u001b[38;5;241m.\u001b[39mappend(\u001b[38;5;124m\"\u001b[39m\u001b[38;5;124muris\u001b[39m\u001b[38;5;124m\"\u001b[39m)\n\u001b[1;32m--> 345\u001b[0m query_results \u001b[38;5;241m=\u001b[39m \u001b[38;5;28;43mself\u001b[39;49m\u001b[38;5;241;43m.\u001b[39;49m\u001b[43m_client\u001b[49m\u001b[38;5;241;43m.\u001b[39;49m\u001b[43m_query\u001b[49m\u001b[43m(\u001b[49m\n\u001b[0;32m    346\u001b[0m \u001b[43m    \u001b[49m\u001b[43mcollection_id\u001b[49m\u001b[38;5;241;43m=\u001b[39;49m\u001b[38;5;28;43mself\u001b[39;49m\u001b[38;5;241;43m.\u001b[39;49m\u001b[43mid\u001b[49m\u001b[43m,\u001b[49m\n\u001b[0;32m    347\u001b[0m \u001b[43m    \u001b[49m\u001b[43mquery_embeddings\u001b[49m\u001b[38;5;241;43m=\u001b[39;49m\u001b[43mvalid_query_embeddings\u001b[49m\u001b[43m,\u001b[49m\n\u001b[0;32m    348\u001b[0m \u001b[43m    \u001b[49m\u001b[43mn_results\u001b[49m\u001b[38;5;241;43m=\u001b[39;49m\u001b[43mvalid_n_results\u001b[49m\u001b[43m,\u001b[49m\n\u001b[0;32m    349\u001b[0m \u001b[43m    \u001b[49m\u001b[43mwhere\u001b[49m\u001b[38;5;241;43m=\u001b[39;49m\u001b[43mvalid_where\u001b[49m\u001b[43m,\u001b[49m\n\u001b[0;32m    350\u001b[0m \u001b[43m    \u001b[49m\u001b[43mwhere_document\u001b[49m\u001b[38;5;241;43m=\u001b[39;49m\u001b[43mvalid_where_document\u001b[49m\u001b[43m,\u001b[49m\n\u001b[0;32m    351\u001b[0m \u001b[43m    \u001b[49m\u001b[43minclude\u001b[49m\u001b[38;5;241;43m=\u001b[39;49m\u001b[43minclude\u001b[49m\u001b[43m,\u001b[49m\n\u001b[0;32m    352\u001b[0m \u001b[43m\u001b[49m\u001b[43m)\u001b[49m\n\u001b[0;32m    354\u001b[0m \u001b[38;5;28;01mif\u001b[39;00m (\n\u001b[0;32m    355\u001b[0m     \u001b[38;5;124m\"\u001b[39m\u001b[38;5;124mdata\u001b[39m\u001b[38;5;124m\"\u001b[39m \u001b[38;5;129;01min\u001b[39;00m include\n\u001b[0;32m    356\u001b[0m     \u001b[38;5;129;01mand\u001b[39;00m \u001b[38;5;28mself\u001b[39m\u001b[38;5;241m.\u001b[39m_data_loader \u001b[38;5;129;01mis\u001b[39;00m \u001b[38;5;129;01mnot\u001b[39;00m \u001b[38;5;28;01mNone\u001b[39;00m\n\u001b[0;32m    357\u001b[0m     \u001b[38;5;129;01mand\u001b[39;00m query_results[\u001b[38;5;124m\"\u001b[39m\u001b[38;5;124muris\u001b[39m\u001b[38;5;124m\"\u001b[39m] \u001b[38;5;129;01mis\u001b[39;00m \u001b[38;5;129;01mnot\u001b[39;00m \u001b[38;5;28;01mNone\u001b[39;00m\n\u001b[0;32m    358\u001b[0m ):\n\u001b[0;32m    359\u001b[0m     query_results[\u001b[38;5;124m\"\u001b[39m\u001b[38;5;124mdata\u001b[39m\u001b[38;5;124m\"\u001b[39m] \u001b[38;5;241m=\u001b[39m [\n\u001b[0;32m    360\u001b[0m         \u001b[38;5;28mself\u001b[39m\u001b[38;5;241m.\u001b[39m_data_loader(uris) \u001b[38;5;28;01mfor\u001b[39;00m uris \u001b[38;5;129;01min\u001b[39;00m query_results[\u001b[38;5;124m\"\u001b[39m\u001b[38;5;124muris\u001b[39m\u001b[38;5;124m\"\u001b[39m]\n\u001b[0;32m    361\u001b[0m     ]\n",
      "File \u001b[1;32mc:\\Users\\ggvozden\\Anaconda3\\envs\\bigdata\\Lib\\site-packages\\chromadb\\telemetry\\opentelemetry\\__init__.py:127\u001b[0m, in \u001b[0;36mtrace_method.<locals>.decorator.<locals>.wrapper\u001b[1;34m(*args, **kwargs)\u001b[0m\n\u001b[0;32m    125\u001b[0m \u001b[38;5;28;01mglobal\u001b[39;00m tracer, granularity\n\u001b[0;32m    126\u001b[0m \u001b[38;5;28;01mif\u001b[39;00m trace_granularity \u001b[38;5;241m<\u001b[39m granularity:\n\u001b[1;32m--> 127\u001b[0m     \u001b[38;5;28;01mreturn\u001b[39;00m \u001b[43mf\u001b[49m\u001b[43m(\u001b[49m\u001b[38;5;241;43m*\u001b[39;49m\u001b[43margs\u001b[49m\u001b[43m,\u001b[49m\u001b[43m \u001b[49m\u001b[38;5;241;43m*\u001b[39;49m\u001b[38;5;241;43m*\u001b[39;49m\u001b[43mkwargs\u001b[49m\u001b[43m)\u001b[49m\n\u001b[0;32m    128\u001b[0m \u001b[38;5;28;01mif\u001b[39;00m \u001b[38;5;129;01mnot\u001b[39;00m tracer:\n\u001b[0;32m    129\u001b[0m     \u001b[38;5;28;01mreturn\u001b[39;00m f(\u001b[38;5;241m*\u001b[39margs, \u001b[38;5;241m*\u001b[39m\u001b[38;5;241m*\u001b[39mkwargs)\n",
      "File \u001b[1;32mc:\\Users\\ggvozden\\Anaconda3\\envs\\bigdata\\Lib\\site-packages\\chromadb\\api\\segment.py:674\u001b[0m, in \u001b[0;36mSegmentAPI._query\u001b[1;34m(self, collection_id, query_embeddings, n_results, where, where_document, include)\u001b[0m\n\u001b[0;32m    672\u001b[0m coll \u001b[38;5;241m=\u001b[39m \u001b[38;5;28mself\u001b[39m\u001b[38;5;241m.\u001b[39m_get_collection(collection_id)\n\u001b[0;32m    673\u001b[0m \u001b[38;5;28;01mfor\u001b[39;00m embedding \u001b[38;5;129;01min\u001b[39;00m query_embeddings:\n\u001b[1;32m--> 674\u001b[0m     \u001b[38;5;28;43mself\u001b[39;49m\u001b[38;5;241;43m.\u001b[39;49m\u001b[43m_validate_dimension\u001b[49m\u001b[43m(\u001b[49m\u001b[43mcoll\u001b[49m\u001b[43m,\u001b[49m\u001b[43m \u001b[49m\u001b[38;5;28;43mlen\u001b[39;49m\u001b[43m(\u001b[49m\u001b[43membedding\u001b[49m\u001b[43m)\u001b[49m\u001b[43m,\u001b[49m\u001b[43m \u001b[49m\u001b[43mupdate\u001b[49m\u001b[38;5;241;43m=\u001b[39;49m\u001b[38;5;28;43;01mFalse\u001b[39;49;00m\u001b[43m)\u001b[49m\n\u001b[0;32m    676\u001b[0m metadata_reader \u001b[38;5;241m=\u001b[39m \u001b[38;5;28mself\u001b[39m\u001b[38;5;241m.\u001b[39m_manager\u001b[38;5;241m.\u001b[39mget_segment(collection_id, MetadataReader)\n\u001b[0;32m    678\u001b[0m \u001b[38;5;28;01mif\u001b[39;00m where \u001b[38;5;129;01mor\u001b[39;00m where_document:\n",
      "File \u001b[1;32mc:\\Users\\ggvozden\\Anaconda3\\envs\\bigdata\\Lib\\site-packages\\chromadb\\telemetry\\opentelemetry\\__init__.py:127\u001b[0m, in \u001b[0;36mtrace_method.<locals>.decorator.<locals>.wrapper\u001b[1;34m(*args, **kwargs)\u001b[0m\n\u001b[0;32m    125\u001b[0m \u001b[38;5;28;01mglobal\u001b[39;00m tracer, granularity\n\u001b[0;32m    126\u001b[0m \u001b[38;5;28;01mif\u001b[39;00m trace_granularity \u001b[38;5;241m<\u001b[39m granularity:\n\u001b[1;32m--> 127\u001b[0m     \u001b[38;5;28;01mreturn\u001b[39;00m \u001b[43mf\u001b[49m\u001b[43m(\u001b[49m\u001b[38;5;241;43m*\u001b[39;49m\u001b[43margs\u001b[49m\u001b[43m,\u001b[49m\u001b[43m \u001b[49m\u001b[38;5;241;43m*\u001b[39;49m\u001b[38;5;241;43m*\u001b[39;49m\u001b[43mkwargs\u001b[49m\u001b[43m)\u001b[49m\n\u001b[0;32m    128\u001b[0m \u001b[38;5;28;01mif\u001b[39;00m \u001b[38;5;129;01mnot\u001b[39;00m tracer:\n\u001b[0;32m    129\u001b[0m     \u001b[38;5;28;01mreturn\u001b[39;00m f(\u001b[38;5;241m*\u001b[39margs, \u001b[38;5;241m*\u001b[39m\u001b[38;5;241m*\u001b[39mkwargs)\n",
      "File \u001b[1;32mc:\\Users\\ggvozden\\Anaconda3\\envs\\bigdata\\Lib\\site-packages\\chromadb\\api\\segment.py:814\u001b[0m, in \u001b[0;36mSegmentAPI._validate_dimension\u001b[1;34m(self, collection, dim, update)\u001b[0m\n\u001b[0;32m    812\u001b[0m         \u001b[38;5;28mself\u001b[39m\u001b[38;5;241m.\u001b[39m_collection_cache[\u001b[38;5;28mid\u001b[39m][\u001b[38;5;124m\"\u001b[39m\u001b[38;5;124mdimension\u001b[39m\u001b[38;5;124m\"\u001b[39m] \u001b[38;5;241m=\u001b[39m dim\n\u001b[0;32m    813\u001b[0m \u001b[38;5;28;01melif\u001b[39;00m collection[\u001b[38;5;124m\"\u001b[39m\u001b[38;5;124mdimension\u001b[39m\u001b[38;5;124m\"\u001b[39m] \u001b[38;5;241m!=\u001b[39m dim:\n\u001b[1;32m--> 814\u001b[0m     \u001b[38;5;28;01mraise\u001b[39;00m InvalidDimensionException(\n\u001b[0;32m    815\u001b[0m         \u001b[38;5;124mf\u001b[39m\u001b[38;5;124m\"\u001b[39m\u001b[38;5;124mEmbedding dimension \u001b[39m\u001b[38;5;132;01m{\u001b[39;00mdim\u001b[38;5;132;01m}\u001b[39;00m\u001b[38;5;124m does not match collection dimensionality \u001b[39m\u001b[38;5;132;01m{\u001b[39;00mcollection[\u001b[38;5;124m'\u001b[39m\u001b[38;5;124mdimension\u001b[39m\u001b[38;5;124m'\u001b[39m]\u001b[38;5;132;01m}\u001b[39;00m\u001b[38;5;124m\"\u001b[39m\n\u001b[0;32m    816\u001b[0m     )\n\u001b[0;32m    817\u001b[0m \u001b[38;5;28;01melse\u001b[39;00m:\n\u001b[0;32m    818\u001b[0m     \u001b[38;5;28;01mreturn\u001b[39;00m\n",
      "\u001b[1;31mInvalidDimensionException\u001b[0m: Embedding dimension 384 does not match collection dimensionality 768"
     ]
    }
   ],
   "source": [
    "query = \"Describe what is AI4VET4AI project and why is it important??\"\n",
    "\n",
    "template = '''Imaš ulogu stručnjaka za odnose s javnošću u tvrtki te marketing i promociju. \n",
    "Upoznat si s osnovnim pojmovima i znaš kako se odvija proces komuniciranja. \n",
    "U ovom slučaju odgovaraš na pitanja zaposlenika s obzirom na kontekst. Odgovore pišeš u obliku pitanja i odgovora.\n",
    "Odgovore temeljiš na kontekstu i na pitanju.\n",
    "Odgovori na hrvatskom jeziku.\n",
    "\n",
    "{context}\n",
    "Pitanje: {query}\n",
    "Odgovor:'''\n",
    "\n",
    "\n",
    "QA_CHAIN_PROMPT = PromptTemplate.from_template(template)\n",
    "\n",
    "from langchain.llms import OpenAI\n",
    "llm = OpenAI(\n",
    "    temperature=0, \n",
    "    model_name=\"gpt-3.5-turbo\",\n",
    "    openai_api_key=os.environ.get(\"OPENAI_API_KEY\"),\n",
    "    verbose=True\n",
    "                )\n",
    "\n",
    "qa_chain = RetrievalQA.from_chain_type(llm, retriever=pi_db.as_retriever(), verbose=True, return_source_documents=True)\n",
    "result = qa_chain({\"query\": query})"
   ]
  },
  {
   "cell_type": "code",
   "execution_count": 108,
   "metadata": {},
   "outputs": [
    {
     "data": {
      "text/plain": [
       "{'query': 'Describe what is AI4VET4AI project and why is it important??',\n",
       " 'result': 'The AI4VET4AI project is a project that aims to support the growth of an AI-skilled workforce in Europe, with a special emphasis on VET (Vocational Education and Training) teachers and learners. It addresses the need for trained workers in the field of AI. The project is important because it recognizes the increasing importance of AI in various industries and aims to ensure that there are enough skilled workers who can effectively utilize AI technology. By focusing on VET teachers and learners, the project aims to provide the necessary training and education to equip individuals with the skills needed to succeed in the field of AI.',\n",
       " 'source_documents': [Document(page_content=\"team members. AI4VET4AI project\\xa0addresses the need for trained workers in the field of AI, by supporting the growth of an AI-skilled workforce in Europe, with a special emphasis on VET teachers and learners.   Read More    07/04/2023    Unlock the Power of Your Data with Vertica: Lightning-Fast Analytics at Scale Vertica is a powerful, flexible, and cost-effective analytical platform that is designed to handle large-scale data processing and analytics workloads.   Read More    29/11/2022    Poslovna inteligencija and Legit – Official opening of joint office in Osijek In addition to opening its international offices, Poslovna inteligencija, with its successful spin-off company Legit, is also opening an office in the center of Osijek.   Read More     More News  Latest Blog posts  23/05/2023    Unleashing Your Business Potential with PI Profitability Solution In today's competitive business landscape, maximizing profitability and unlocking your organization's true potential are critical to sustained success. PI Profitability Solution, powered by the IBM Planning Analytics with Watson platform, helps you achieve precisely that.   Read More    10/05/2023    Data Governance Strategy  — where to begin? In today’s digital age, data has become just as important as the products themselves. But for it to become valuable, data needs to be governed. In this article, you will learn how to implement a data governance strategy, as well as how data maturity assessments can help your organization get from simple data management to real-time data governance.   Read More    28/03/2023    How to become a data-driven enterprise with Data Governance? Data governance is the most important, yet\", metadata={'lastmod': '2021-04-18T08:36:09+00:00', 'loc': 'https://inteligencija.com/en/industrije/telecommunications/', 'source': 'https://inteligencija.com/en/industrije/telecommunications/'}),\n",
       "  Document(page_content=\"team members. AI4VET4AI project\\xa0addresses the need for trained workers in the field of AI, by supporting the growth of an AI-skilled workforce in Europe, with a special emphasis on VET teachers and learners.   Read More    07/04/2023    Unlock the Power of Your Data with Vertica: Lightning-Fast Analytics at Scale Vertica is a powerful, flexible, and cost-effective analytical platform that is designed to handle large-scale data processing and analytics workloads.   Read More    29/11/2022    Poslovna inteligencija and Legit – Official opening of joint office in Osijek In addition to opening its international offices, Poslovna inteligencija, with its successful spin-off company Legit, is also opening an office in the center of Osijek.   Read More     More News  Latest Blog posts  23/05/2023    Unleashing Your Business Potential with PI Profitability Solution In today's competitive business landscape, maximizing profitability and unlocking your organization's true potential are critical to sustained success. PI Profitability Solution, powered by the IBM Planning Analytics with Watson platform, helps you achieve precisely that.   Read More    10/05/2023    Data Governance Strategy  — where to begin? In today’s digital age, data has become just as important as the products themselves. But for it to become valuable, data needs to be governed. In this article, you will learn how to implement a data governance strategy, as well as how data maturity assessments can help your organization get from simple data management to real-time data governance.   Read More    28/03/2023    How to become a data-driven enterprise with Data Governance? Data governance is the most important, yet\", metadata={'lastmod': '2021-04-18T08:00:43+00:00', 'loc': 'https://inteligencija.com/en/industrije/distribution-wholesale-and-retail/', 'source': 'https://inteligencija.com/en/industrije/distribution-wholesale-and-retail/'}),\n",
       "  Document(page_content=\"team members. AI4VET4AI project\\xa0addresses the need for trained workers in the field of AI, by supporting the growth of an AI-skilled workforce in Europe, with a special emphasis on VET teachers and learners.   Read More    07/04/2023    Unlock the Power of Your Data with Vertica: Lightning-Fast Analytics at Scale Vertica is a powerful, flexible, and cost-effective analytical platform that is designed to handle large-scale data processing and analytics workloads.   Read More    29/11/2022    Poslovna inteligencija and Legit – Official opening of joint office in Osijek In addition to opening its international offices, Poslovna inteligencija, with its successful spin-off company Legit, is also opening an office in the center of Osijek.   Read More     More News  Latest Blog posts  23/05/2023    Unleashing Your Business Potential with PI Profitability Solution In today's competitive business landscape, maximizing profitability and unlocking your organization's true potential are critical to sustained success. PI Profitability Solution, powered by the IBM Planning Analytics with Watson platform, helps you achieve precisely that.   Read More    10/05/2023    Data Governance Strategy  — where to begin? In today’s digital age, data has become just as important as the products themselves. But for it to become valuable, data needs to be governed. In this article, you will learn how to implement a data governance strategy, as well as how data maturity assessments can help your organization get from simple data management to real-time data governance.   Read More    28/03/2023    How to become a data-driven enterprise with Data Governance? Data governance is the most important, yet\", metadata={'lastmod': '2021-04-18T07:49:10+00:00', 'loc': 'https://inteligencija.com/en/industrije/public-sector/', 'source': 'https://inteligencija.com/en/industrije/public-sector/'}),\n",
       "  Document(page_content=\"team members. AI4VET4AI project\\xa0addresses the need for trained workers in the field of AI, by supporting the growth of an AI-skilled workforce in Europe, with a special emphasis on VET teachers and learners.   Read More    07/04/2023    Unlock the Power of Your Data with Vertica: Lightning-Fast Analytics at Scale Vertica is a powerful, flexible, and cost-effective analytical platform that is designed to handle large-scale data processing and analytics workloads.   Read More    29/11/2022    Poslovna inteligencija and Legit – Official opening of joint office in Osijek In addition to opening its international offices, Poslovna inteligencija, with its successful spin-off company Legit, is also opening an office in the center of Osijek.   Read More     More News  Latest Blog posts  23/05/2023    Unleashing Your Business Potential with PI Profitability Solution In today's competitive business landscape, maximizing profitability and unlocking your organization's true potential are critical to sustained success. PI Profitability Solution, powered by the IBM Planning Analytics with Watson platform, helps you achieve precisely that.   Read More    10/05/2023    Data Governance Strategy  — where to begin? In today’s digital age, data has become just as important as the products themselves. But for it to become valuable, data needs to be governed. In this article, you will learn how to implement a data governance strategy, as well as how data maturity assessments can help your organization get from simple data management to real-time data governance.   Read More    28/03/2023    How to become a data-driven enterprise with Data Governance? Data governance is the most important, yet\", metadata={'lastmod': '2022-10-14T13:21:48+00:00', 'loc': 'https://inteligencija.com/en/tag/promo-en/', 'source': 'https://inteligencija.com/en/tag/promo-en/'})]}"
      ]
     },
     "execution_count": 108,
     "metadata": {},
     "output_type": "execute_result"
    }
   ],
   "source": [
    "result"
   ]
  },
  {
   "cell_type": "code",
   "execution_count": 109,
   "metadata": {},
   "outputs": [
    {
     "name": "stdout",
     "output_type": "stream",
     "text": [
      "\n",
      "Answer:\n",
      "\n",
      " The AI4VET4AI project is a project that aims to support the growth of an AI-skilled workforce in Europe, with a special emphasis on VET (Vocational Education and Training) teachers and learners. It addresses the need for trained workers in the field of AI. The project is important because it recognizes the increasing importance of AI in various industries and aims to ensure that there are enough skilled workers who can effectively utilize AI technology. By focusing on VET teachers and learners, the project aims to provide the necessary training and education to equip individuals with the skills needed to succeed in the field of AI.\n"
     ]
    }
   ],
   "source": [
    "print('\\nAnswer:\\n\\n', result[\"result\"])"
   ]
  },
  {
   "cell_type": "code",
   "execution_count": 110,
   "metadata": {},
   "outputs": [
    {
     "name": "stdout",
     "output_type": "stream",
     "text": [
      "\n",
      "Answer:\n",
      "\n",
      " The AI4VET4AI project is a project that aims to support the growth of an AI-skilled workforce in Europe, with a special emphasis on VET (Vocational Education and Training) teachers and learners. It addresses the need for trained workers in the field of AI. The project is important because it recognizes the increasing importance of AI in various industries and aims to ensure that there are enough skilled workers who can effectively utilize AI technology. By focusing on VET teachers and learners, the project aims to provide the necessary training and education to equip individuals with the skills needed to succeed in the field of AI.\n"
     ]
    }
   ],
   "source": [
    "# print the result in a more readable format\n",
    "print('\\nAnswer:\\n\\n', result[\"result\"].replace('\\n', ' '))"
   ]
  },
  {
   "cell_type": "code",
   "execution_count": 139,
   "metadata": {},
   "outputs": [
    {
     "name": "stdout",
     "output_type": "stream",
     "text": [
      "{'query': 'Describe what is AI4VET4AI project and why is it important??',\n",
      " 'result': 'The AI4VET4AI project is a project that aims to support the growth '\n",
      "           'of an AI-skilled workforce in Europe, with a special emphasis on '\n",
      "           'VET (Vocational Education and Training) teachers and learners. It '\n",
      "           'addresses the need for trained workers in the field of AI. The '\n",
      "           'project is important because it recognizes the increasing '\n",
      "           'importance of AI in various industries and aims to ensure that '\n",
      "           'there are enough skilled workers who can effectively utilize AI '\n",
      "           'technology. By focusing on VET teachers and learners, the project '\n",
      "           'aims to provide the necessary training and education to equip '\n",
      "           'individuals with the skills needed to succeed in the field of AI.',\n",
      " 'source_documents': [Document(page_content=\"team members. AI4VET4AI project\\xa0addresses the need for trained workers in the field of AI, by supporting the growth of an AI-skilled workforce in Europe, with a special emphasis on VET teachers and learners.   Read More    07/04/2023    Unlock the Power of Your Data with Vertica: Lightning-Fast Analytics at Scale Vertica is a powerful, flexible, and cost-effective analytical platform that is designed to handle large-scale data processing and analytics workloads.   Read More    29/11/2022    Poslovna inteligencija and Legit – Official opening of joint office in Osijek In addition to opening its international offices, Poslovna inteligencija, with its successful spin-off company Legit, is also opening an office in the center of Osijek.   Read More     More News  Latest Blog posts  23/05/2023    Unleashing Your Business Potential with PI Profitability Solution In today's competitive business landscape, maximizing profitability and unlocking your organization's true potential are critical to sustained success. PI Profitability Solution, powered by the IBM Planning Analytics with Watson platform, helps you achieve precisely that.   Read More    10/05/2023    Data Governance Strategy  — where to begin? In today’s digital age, data has become just as important as the products themselves. But for it to become valuable, data needs to be governed. In this article, you will learn how to implement a data governance strategy, as well as how data maturity assessments can help your organization get from simple data management to real-time data governance.   Read More    28/03/2023    How to become a data-driven enterprise with Data Governance? Data governance is the most important, yet\", metadata={'lastmod': '2021-04-18T08:36:09+00:00', 'loc': 'https://inteligencija.com/en/industrije/telecommunications/', 'source': 'https://inteligencija.com/en/industrije/telecommunications/'}),\n",
      "                      Document(page_content=\"team members. AI4VET4AI project\\xa0addresses the need for trained workers in the field of AI, by supporting the growth of an AI-skilled workforce in Europe, with a special emphasis on VET teachers and learners.   Read More    07/04/2023    Unlock the Power of Your Data with Vertica: Lightning-Fast Analytics at Scale Vertica is a powerful, flexible, and cost-effective analytical platform that is designed to handle large-scale data processing and analytics workloads.   Read More    29/11/2022    Poslovna inteligencija and Legit – Official opening of joint office in Osijek In addition to opening its international offices, Poslovna inteligencija, with its successful spin-off company Legit, is also opening an office in the center of Osijek.   Read More     More News  Latest Blog posts  23/05/2023    Unleashing Your Business Potential with PI Profitability Solution In today's competitive business landscape, maximizing profitability and unlocking your organization's true potential are critical to sustained success. PI Profitability Solution, powered by the IBM Planning Analytics with Watson platform, helps you achieve precisely that.   Read More    10/05/2023    Data Governance Strategy  — where to begin? In today’s digital age, data has become just as important as the products themselves. But for it to become valuable, data needs to be governed. In this article, you will learn how to implement a data governance strategy, as well as how data maturity assessments can help your organization get from simple data management to real-time data governance.   Read More    28/03/2023    How to become a data-driven enterprise with Data Governance? Data governance is the most important, yet\", metadata={'lastmod': '2021-04-18T08:00:43+00:00', 'loc': 'https://inteligencija.com/en/industrije/distribution-wholesale-and-retail/', 'source': 'https://inteligencija.com/en/industrije/distribution-wholesale-and-retail/'}),\n",
      "                      Document(page_content=\"team members. AI4VET4AI project\\xa0addresses the need for trained workers in the field of AI, by supporting the growth of an AI-skilled workforce in Europe, with a special emphasis on VET teachers and learners.   Read More    07/04/2023    Unlock the Power of Your Data with Vertica: Lightning-Fast Analytics at Scale Vertica is a powerful, flexible, and cost-effective analytical platform that is designed to handle large-scale data processing and analytics workloads.   Read More    29/11/2022    Poslovna inteligencija and Legit – Official opening of joint office in Osijek In addition to opening its international offices, Poslovna inteligencija, with its successful spin-off company Legit, is also opening an office in the center of Osijek.   Read More     More News  Latest Blog posts  23/05/2023    Unleashing Your Business Potential with PI Profitability Solution In today's competitive business landscape, maximizing profitability and unlocking your organization's true potential are critical to sustained success. PI Profitability Solution, powered by the IBM Planning Analytics with Watson platform, helps you achieve precisely that.   Read More    10/05/2023    Data Governance Strategy  — where to begin? In today’s digital age, data has become just as important as the products themselves. But for it to become valuable, data needs to be governed. In this article, you will learn how to implement a data governance strategy, as well as how data maturity assessments can help your organization get from simple data management to real-time data governance.   Read More    28/03/2023    How to become a data-driven enterprise with Data Governance? Data governance is the most important, yet\", metadata={'lastmod': '2021-04-18T07:49:10+00:00', 'loc': 'https://inteligencija.com/en/industrije/public-sector/', 'source': 'https://inteligencija.com/en/industrije/public-sector/'}),\n",
      "                      Document(page_content=\"team members. AI4VET4AI project\\xa0addresses the need for trained workers in the field of AI, by supporting the growth of an AI-skilled workforce in Europe, with a special emphasis on VET teachers and learners.   Read More    07/04/2023    Unlock the Power of Your Data with Vertica: Lightning-Fast Analytics at Scale Vertica is a powerful, flexible, and cost-effective analytical platform that is designed to handle large-scale data processing and analytics workloads.   Read More    29/11/2022    Poslovna inteligencija and Legit – Official opening of joint office in Osijek In addition to opening its international offices, Poslovna inteligencija, with its successful spin-off company Legit, is also opening an office in the center of Osijek.   Read More     More News  Latest Blog posts  23/05/2023    Unleashing Your Business Potential with PI Profitability Solution In today's competitive business landscape, maximizing profitability and unlocking your organization's true potential are critical to sustained success. PI Profitability Solution, powered by the IBM Planning Analytics with Watson platform, helps you achieve precisely that.   Read More    10/05/2023    Data Governance Strategy  — where to begin? In today’s digital age, data has become just as important as the products themselves. But for it to become valuable, data needs to be governed. In this article, you will learn how to implement a data governance strategy, as well as how data maturity assessments can help your organization get from simple data management to real-time data governance.   Read More    28/03/2023    How to become a data-driven enterprise with Data Governance? Data governance is the most important, yet\", metadata={'lastmod': '2022-10-14T13:21:48+00:00', 'loc': 'https://inteligencija.com/en/tag/promo-en/', 'source': 'https://inteligencija.com/en/tag/promo-en/'})]}\n"
     ]
    }
   ],
   "source": [
    "# Pretty print the result\n",
    "from pprint import pprint\n",
    "pprint(result)  \n"
   ]
  },
  {
   "cell_type": "code",
   "execution_count": 138,
   "metadata": {},
   "outputs": [
    {
     "name": "stdout",
     "output_type": "stream",
     "text": [
      "\n",
      "Source documents:\n",
      "\n",
      " {'lastmod': '2021-04-18T08:36:09+00:00', 'loc': 'https://inteligencija.com/en/industrije/telecommunications/', 'source': 'https://inteligencija.com/en/industrije/telecommunications/'}\n"
     ]
    }
   ],
   "source": [
    "# Print source documents\n",
    "print('\\nSource documents:\\n\\n', result[\"source_documents\"][0].metadata)"
   ]
  }
 ],
 "metadata": {
  "kernelspec": {
   "display_name": "lang",
   "language": "python",
   "name": "python3"
  },
  "language_info": {
   "codemirror_mode": {
    "name": "ipython",
    "version": 3
   },
   "file_extension": ".py",
   "mimetype": "text/x-python",
   "name": "python",
   "nbconvert_exporter": "python",
   "pygments_lexer": "ipython3",
   "version": "3.11.7"
  },
  "orig_nbformat": 4
 },
 "nbformat": 4,
 "nbformat_minor": 2
}
